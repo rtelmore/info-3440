{
 "cells": [
  {
   "cell_type": "markdown",
   "metadata": {},
   "source": [
    "# Week 9 Class 1 - NonLinear Programming"
   ]
  },
  {
   "cell_type": "markdown",
   "metadata": {},
   "source": [
    "We we begin our pyomo solving of nonlinear programs with the nonlinear solver called `ipopt`. You can think of it like GRG Nonlinear in Excel.  You will call it instead of the linear solver `glpk` that we have been using."
   ]
  },
  {
   "cell_type": "markdown",
   "metadata": {},
   "source": [
    "### Example 8.1 - Crowley Foods "
   ]
  },
  {
   "cell_type": "markdown",
   "metadata": {},
   "source": [
    "In this example, we have a straightforward formula for the objective function and a single constraint. We will just build this model in pyomo (won't read in data from Excel)."
   ]
  },
  {
   "cell_type": "code",
   "execution_count": null,
   "metadata": {},
   "outputs": [],
   "source": [
    "import pyomo.environ as pe\n",
    "import pandas as pd\n",
    "import matplotlib.pyplot as plt\n",
    "import numpy as np\n",
    "import seaborn as sns"
   ]
  },
  {
   "cell_type": "code",
   "execution_count": null,
   "metadata": {},
   "outputs": [],
   "source": [
    "#Define the model parameters - makes it easy to understand the objective function formula\n",
    "fixed_cost = 35\n",
    "unit_cost = 30\n",
    "carrying = .1\n",
    "carrying_cost = 3\n",
    "annual_demand = 5000"
   ]
  },
  {
   "cell_type": "code",
   "execution_count": null,
   "metadata": {},
   "outputs": [],
   "source": [
    "df = pd.DataFrame()\n",
    "df['lot_size'] = np.arange(250, 500, 5)\n",
    "df['total_cost'] = fixed_cost*annual_demand/df['lot_size'] + carrying_cost * df['lot_size']/2"
   ]
  },
  {
   "cell_type": "code",
   "execution_count": null,
   "metadata": {},
   "outputs": [],
   "source": [
    "plt.figure(figsize = (8,5))\n",
    "sns.lineplot(x = 'lot_size', y = 'total_cost', data = df)\n",
    "plt.title('Annual Cost (y) versus Lot Size (x)')\n",
    "plt.ylabel('total cost')\n",
    "plt.xlabel('lot size')\n",
    "plt.grid()\n",
    "plt.show()"
   ]
  },
  {
   "cell_type": "code",
   "execution_count": null,
   "metadata": {},
   "outputs": [],
   "source": [
    "model = pe.ConcreteModel()\n",
    "\n",
    "model.lot_size = pe.Var(domain = pe.NonNegativeReals)\n",
    "\n",
    "#Define the Objective Function\n",
    "model.obj = pe.Objective(expr = fixed_cost*annual_demand/model.lot_size +\n",
    "                         carrying_cost * model.lot_size/2,\n",
    "                         sense = pe.minimize)\n",
    "model.obj.pprint()"
   ]
  },
  {
   "cell_type": "code",
   "execution_count": null,
   "metadata": {},
   "outputs": [],
   "source": [
    "model.const = pe.Constraint(expr = model.lot_size >= 1)\n",
    "model.const.pprint()"
   ]
  },
  {
   "cell_type": "code",
   "execution_count": null,
   "metadata": {},
   "outputs": [],
   "source": [
    "opt = pe.SolverFactory('ipopt')\n",
    "result = opt.solve(model)\n",
    "print(result.solver.status, result.solver.termination_condition)"
   ]
  },
  {
   "cell_type": "code",
   "execution_count": null,
   "metadata": {},
   "outputs": [],
   "source": [
    "obj_val = model.obj.expr()\n",
    "print(f'optimal objective value = {obj_val:.2f}')"
   ]
  },
  {
   "cell_type": "code",
   "execution_count": null,
   "metadata": {},
   "outputs": [],
   "source": [
    "opt_lot_size = model.lot_size.value\n",
    "print(f'optimal lotsize = {opt_lot_size:.2f}')"
   ]
  },
  {
   "cell_type": "code",
   "execution_count": null,
   "metadata": {},
   "outputs": [],
   "source": []
  }
 ],
 "metadata": {
  "kernelspec": {
   "display_name": "info-3440",
   "language": "python",
   "name": "info-3440"
  },
  "language_info": {
   "codemirror_mode": {
    "name": "ipython",
    "version": 3
   },
   "file_extension": ".py",
   "mimetype": "text/x-python",
   "name": "python",
   "nbconvert_exporter": "python",
   "pygments_lexer": "ipython3",
   "version": "3.8.12"
  }
 },
 "nbformat": 4,
 "nbformat_minor": 4
}
