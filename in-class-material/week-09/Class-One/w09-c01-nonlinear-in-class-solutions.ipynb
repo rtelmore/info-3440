{
 "cells": [
  {
   "cell_type": "markdown",
   "metadata": {},
   "source": [
    "# Week 9 Class 1: Example 8.3"
   ]
  },
  {
   "cell_type": "markdown",
   "metadata": {},
   "source": [
    "Read in the data from the Excel file `w09-c01-nonlinear-models.xlsx` sheet `Linear 8.3`. Now how we were able to just pull in the columns we wanted and skip the extra rows at the top. Note in our example, we are given historical data where x=degree days (how many days below “comfortable” 68° where heating is generally needed) and y=gas consumption. We want to predict consumption from degree days."
   ]
  },
  {
   "cell_type": "markdown",
   "metadata": {},
   "source": [
    "## Load Needed Packages"
   ]
  },
  {
   "cell_type": "code",
   "execution_count": 1,
   "metadata": {},
   "outputs": [],
   "source": [
    "import pyomo.environ as pe\n",
    "import pandas as pd\n",
    "import matplotlib.pyplot as plt\n",
    "import seaborn as sns\n",
    "import numpy as np"
   ]
  },
  {
   "cell_type": "code",
   "execution_count": 2,
   "metadata": {},
   "outputs": [
    {
     "data": {
      "text/html": [
       "<div>\n",
       "<style scoped>\n",
       "    .dataframe tbody tr th:only-of-type {\n",
       "        vertical-align: middle;\n",
       "    }\n",
       "\n",
       "    .dataframe tbody tr th {\n",
       "        vertical-align: top;\n",
       "    }\n",
       "\n",
       "    .dataframe thead th {\n",
       "        text-align: right;\n",
       "    }\n",
       "</style>\n",
       "<table border=\"1\" class=\"dataframe\">\n",
       "  <thead>\n",
       "    <tr style=\"text-align: right;\">\n",
       "      <th></th>\n",
       "      <th>Days</th>\n",
       "      <th>Consumed</th>\n",
       "    </tr>\n",
       "  </thead>\n",
       "  <tbody>\n",
       "    <tr>\n",
       "      <th>0</th>\n",
       "      <td>10</td>\n",
       "      <td>51</td>\n",
       "    </tr>\n",
       "    <tr>\n",
       "      <th>1</th>\n",
       "      <td>11</td>\n",
       "      <td>63</td>\n",
       "    </tr>\n",
       "    <tr>\n",
       "      <th>2</th>\n",
       "      <td>13</td>\n",
       "      <td>89</td>\n",
       "    </tr>\n",
       "    <tr>\n",
       "      <th>3</th>\n",
       "      <td>15</td>\n",
       "      <td>123</td>\n",
       "    </tr>\n",
       "    <tr>\n",
       "      <th>4</th>\n",
       "      <td>19</td>\n",
       "      <td>146</td>\n",
       "    </tr>\n",
       "    <tr>\n",
       "      <th>5</th>\n",
       "      <td>22</td>\n",
       "      <td>157</td>\n",
       "    </tr>\n",
       "    <tr>\n",
       "      <th>6</th>\n",
       "      <td>24</td>\n",
       "      <td>141</td>\n",
       "    </tr>\n",
       "    <tr>\n",
       "      <th>7</th>\n",
       "      <td>25</td>\n",
       "      <td>169</td>\n",
       "    </tr>\n",
       "    <tr>\n",
       "      <th>8</th>\n",
       "      <td>25</td>\n",
       "      <td>172</td>\n",
       "    </tr>\n",
       "    <tr>\n",
       "      <th>9</th>\n",
       "      <td>28</td>\n",
       "      <td>163</td>\n",
       "    </tr>\n",
       "    <tr>\n",
       "      <th>10</th>\n",
       "      <td>30</td>\n",
       "      <td>178</td>\n",
       "    </tr>\n",
       "    <tr>\n",
       "      <th>11</th>\n",
       "      <td>32</td>\n",
       "      <td>176</td>\n",
       "    </tr>\n",
       "  </tbody>\n",
       "</table>\n",
       "</div>"
      ],
      "text/plain": [
       "    Days  Consumed\n",
       "0     10        51\n",
       "1     11        63\n",
       "2     13        89\n",
       "3     15       123\n",
       "4     19       146\n",
       "5     22       157\n",
       "6     24       141\n",
       "7     25       169\n",
       "8     25       172\n",
       "9     28       163\n",
       "10    30       178\n",
       "11    32       176"
      ]
     },
     "execution_count": 2,
     "metadata": {},
     "output_type": "execute_result"
    }
   ],
   "source": [
    "# Read in the data first - note focusing just on columns and rows we want\n",
    "df = pd.read_excel('w09-c01-nonlinear-models.xlsx', sheet_name = 'Linear 8.3', \n",
    "                     skiprows = 8, usecols = 'B:C')\n",
    "df"
   ]
  },
  {
   "cell_type": "markdown",
   "metadata": {},
   "source": [
    "Suppose we want to fit this model using 2 equations:\n",
    "* Linear Model: y = a + bx\n",
    "* Power Model: y = (ax)^b \n",
    "\n",
    "**NOTE** they both have two decision variables `a` and `b` and their specific objective functions (above). We will build the models separately."
   ]
  },
  {
   "cell_type": "markdown",
   "metadata": {},
   "source": [
    "## 1. Create a scatterplot\n",
    "Plot Days (x) versus Consumed (y) using `seaborn`. "
   ]
  },
  {
   "cell_type": "code",
   "execution_count": 3,
   "metadata": {},
   "outputs": [
    {
     "data": {
      "image/png": "[encoded data removed]",
      "text/plain": [
       "<Figure size 576x360 with 1 Axes>"
      ]
     },
     "metadata": {
      "needs_background": "light"
     },
     "output_type": "display_data"
    }
   ],
   "source": [
    "plt.figure(figsize = (8,5))\n",
    "sns.scatterplot(x = 'Days', y = 'Consumed', data = df)\n",
    "plt.grid()\n",
    "plt.show()\n",
    "plt.show()"
   ]
  },
  {
   "cell_type": "markdown",
   "metadata": {},
   "source": [
    "## 2. Solve with a linear model \n",
    "For the linear model we will minimize the sum of the squared differences (y - predy)^2. We will sum across all the rows.\n",
    "\n",
    "* **y** = original Gas Consumption\n",
    "* **predy** = a + bx\n",
    "\n",
    "**NOTE** in python `**` is how you raise to a power `^`."
   ]
  },
  {
   "cell_type": "markdown",
   "metadata": {},
   "source": [
    "### Define the model"
   ]
  },
  {
   "cell_type": "code",
   "execution_count": 4,
   "metadata": {},
   "outputs": [],
   "source": [
    "model_lin = pe.ConcreteModel()\n",
    "\n",
    "# variables\n",
    "model_lin.a = pe.Var(domain = pe.NonNegativeReals)\n",
    "model_lin.b = pe.Var(domain = pe.NonNegativeReals)\n",
    "                \n",
    "# Objective function: (y - (a + bx))^2 where predy = a + bx\n",
    "data_rows = range(12) #create the index row names 0 to 11\n",
    "model_lin.obj = pe.Objective(expr = sum((df.loc[row,'Consumed'] - \n",
    "                                         (model_lin.a + model_lin.b * df.loc[row,'Days']))**2\n",
    "                                        for row in data_rows), sense = pe.minimize)"
   ]
  },
  {
   "cell_type": "code",
   "execution_count": 5,
   "metadata": {},
   "outputs": [
    {
     "name": "stdout",
     "output_type": "stream",
     "text": [
      "2 Var Declarations\n",
      "    a : Size=1, Index=None\n",
      "        Key  : Lower : Value : Upper : Fixed : Stale : Domain\n",
      "        None :     0 :  None :  None : False :  True : NonNegativeReals\n",
      "    b : Size=1, Index=None\n",
      "        Key  : Lower : Value : Upper : Fixed : Stale : Domain\n",
      "        None :     0 :  None :  None : False :  True : NonNegativeReals\n",
      "\n",
      "1 Objective Declarations\n",
      "    obj : Size=1, Index=None, Active=True\n",
      "        Key  : Active : Sense    : Expression\n",
      "        None :   True : minimize : (51 - (a + 10*b))**2 + (63 - (a + 11*b))**2 + (89 - (a + 13*b))**2 + (123 - (a + 15*b))**2 + (146 - (a + 19*b))**2 + (157 - (a + 22*b))**2 + (141 - (a + 24*b))**2 + (169 - (a + 25*b))**2 + (172 - (a + 25*b))**2 + (163 - (a + 28*b))**2 + (178 - (a + 30*b))**2 + (176 - (a + 32*b))**2\n",
      "\n",
      "3 Declarations: a b obj\n"
     ]
    }
   ],
   "source": [
    "model_lin.pprint() "
   ]
  },
  {
   "cell_type": "markdown",
   "metadata": {},
   "source": [
    "### Solve the model"
   ]
  },
  {
   "cell_type": "code",
   "execution_count": 6,
   "metadata": {},
   "outputs": [
    {
     "name": "stdout",
     "output_type": "stream",
     "text": [
      "ok optimal\n"
     ]
    }
   ],
   "source": [
    "opt = pe.SolverFactory('ipopt')\n",
    "result = opt.solve(model_lin)\n",
    "print(result.solver.status, result.solver.termination_condition)"
   ]
  },
  {
   "cell_type": "markdown",
   "metadata": {},
   "source": [
    "### View optimal a, b, and minimized squared error (optimal obj function)"
   ]
  },
  {
   "cell_type": "code",
   "execution_count": 7,
   "metadata": {},
   "outputs": [
    {
     "name": "stdout",
     "output_type": "stream",
     "text": [
      "The Optimal Values\n",
      "optimal objective value = 3053.0\n",
      "\n",
      "The optimal a value is 18.5\n",
      "The optimal b value is 5.5\n"
     ]
    }
   ],
   "source": [
    "print('The Optimal Values')\n",
    "obj_val = model_lin.obj.expr()\n",
    "print(f'optimal objective value = {obj_val:.1f}')\n",
    "print()\n",
    "print(f'The optimal a value is {model_lin.a.value:.1f}')\n",
    "print(f'The optimal b value is {model_lin.b.value:.1f}')"
   ]
  },
  {
   "cell_type": "markdown",
   "metadata": {},
   "source": [
    "### Add the predicted values to the `data` table."
   ]
  },
  {
   "cell_type": "markdown",
   "metadata": {},
   "source": [
    "Now, let's add calculated the predicted values with our equation with our optimal `a` and `b` values so we can add them to the scatterplot.\n",
    "\n",
    "Put the values in a column called \"Linear\"."
   ]
  },
  {
   "cell_type": "code",
   "execution_count": 8,
   "metadata": {},
   "outputs": [
    {
     "data": {
      "text/html": [
       "<div>\n",
       "<style scoped>\n",
       "    .dataframe tbody tr th:only-of-type {\n",
       "        vertical-align: middle;\n",
       "    }\n",
       "\n",
       "    .dataframe tbody tr th {\n",
       "        vertical-align: top;\n",
       "    }\n",
       "\n",
       "    .dataframe thead th {\n",
       "        text-align: right;\n",
       "    }\n",
       "</style>\n",
       "<table border=\"1\" class=\"dataframe\">\n",
       "  <thead>\n",
       "    <tr style=\"text-align: right;\">\n",
       "      <th></th>\n",
       "      <th>Days</th>\n",
       "      <th>Consumed</th>\n",
       "      <th>Linear</th>\n",
       "    </tr>\n",
       "  </thead>\n",
       "  <tbody>\n",
       "    <tr>\n",
       "      <th>0</th>\n",
       "      <td>10</td>\n",
       "      <td>51</td>\n",
       "      <td>73.861306</td>\n",
       "    </tr>\n",
       "    <tr>\n",
       "      <th>1</th>\n",
       "      <td>11</td>\n",
       "      <td>63</td>\n",
       "      <td>79.396114</td>\n",
       "    </tr>\n",
       "    <tr>\n",
       "      <th>2</th>\n",
       "      <td>13</td>\n",
       "      <td>89</td>\n",
       "      <td>90.465731</td>\n",
       "    </tr>\n",
       "    <tr>\n",
       "      <th>3</th>\n",
       "      <td>15</td>\n",
       "      <td>123</td>\n",
       "      <td>101.535348</td>\n",
       "    </tr>\n",
       "    <tr>\n",
       "      <th>4</th>\n",
       "      <td>19</td>\n",
       "      <td>146</td>\n",
       "      <td>123.674582</td>\n",
       "    </tr>\n",
       "    <tr>\n",
       "      <th>5</th>\n",
       "      <td>22</td>\n",
       "      <td>157</td>\n",
       "      <td>140.279007</td>\n",
       "    </tr>\n",
       "    <tr>\n",
       "      <th>6</th>\n",
       "      <td>24</td>\n",
       "      <td>141</td>\n",
       "      <td>151.348624</td>\n",
       "    </tr>\n",
       "    <tr>\n",
       "      <th>7</th>\n",
       "      <td>25</td>\n",
       "      <td>169</td>\n",
       "      <td>156.883432</td>\n",
       "    </tr>\n",
       "    <tr>\n",
       "      <th>8</th>\n",
       "      <td>25</td>\n",
       "      <td>172</td>\n",
       "      <td>156.883432</td>\n",
       "    </tr>\n",
       "    <tr>\n",
       "      <th>9</th>\n",
       "      <td>28</td>\n",
       "      <td>163</td>\n",
       "      <td>173.487858</td>\n",
       "    </tr>\n",
       "    <tr>\n",
       "      <th>10</th>\n",
       "      <td>30</td>\n",
       "      <td>178</td>\n",
       "      <td>184.557474</td>\n",
       "    </tr>\n",
       "    <tr>\n",
       "      <th>11</th>\n",
       "      <td>32</td>\n",
       "      <td>176</td>\n",
       "      <td>195.627091</td>\n",
       "    </tr>\n",
       "  </tbody>\n",
       "</table>\n",
       "</div>"
      ],
      "text/plain": [
       "    Days  Consumed      Linear\n",
       "0     10        51   73.861306\n",
       "1     11        63   79.396114\n",
       "2     13        89   90.465731\n",
       "3     15       123  101.535348\n",
       "4     19       146  123.674582\n",
       "5     22       157  140.279007\n",
       "6     24       141  151.348624\n",
       "7     25       169  156.883432\n",
       "8     25       172  156.883432\n",
       "9     28       163  173.487858\n",
       "10    30       178  184.557474\n",
       "11    32       176  195.627091"
      ]
     },
     "execution_count": 8,
     "metadata": {},
     "output_type": "execute_result"
    }
   ],
   "source": [
    "df['Linear'] = model_lin.a.value + model_lin.b.value*df['Days']\n",
    "df"
   ]
  },
  {
   "cell_type": "markdown",
   "metadata": {},
   "source": [
    "### Add the new values to the scatterplot"
   ]
  },
  {
   "cell_type": "markdown",
   "metadata": {},
   "source": [
    "Redo the scatterplot and add the new data points in red. HINT: Copy your previous code and now add a new `plt.scatter` function below your previous. And this time put in your Days and predicted Linear values. Make the new points red and add the label `'Linear'`."
   ]
  },
  {
   "cell_type": "code",
   "execution_count": 9,
   "metadata": {},
   "outputs": [
    {
     "data": {
      "image/png": "[encoded data removed]",
      "text/plain": [
       "<Figure size 576x360 with 1 Axes>"
      ]
     },
     "metadata": {
      "needs_background": "light"
     },
     "output_type": "display_data"
    }
   ],
   "source": [
    "plt.figure(figsize = (8,5))\n",
    "sns.scatterplot(x = 'Days', y = 'Consumed', data = df, color = 'black')\n",
    "sns.scatterplot(x = 'Days', y = 'Linear', data = df, color = 'red')\n",
    "sns.lineplot(x = 'Days', y = 'Linear', data = df, color = 'red')\n",
    "plt.grid()\n",
    "plt.show()"
   ]
  },
  {
   "cell_type": "markdown",
   "metadata": {},
   "source": [
    "## 3. Solve with a power model\n",
    "\n",
    "For the power model we will still minimize the sum of the squared differences (y - predy)^2. We will sum across all the rows.\n",
    "\n",
    "* **y** = original Gas Consumption\n",
    "* **predy** = (ax)^b\n",
    "\n",
    "**NOTE** in python `**` is how you raise to a power `^`."
   ]
  },
  {
   "cell_type": "markdown",
   "metadata": {},
   "source": [
    "Now, create a new model `model_pow` that fits `a` and `b` using the power equation. \n",
    "* Solve the model\n",
    "* Output the optimal objective function and decision variables\n",
    "* Add the new predicted points to the `data` table and a scatterplot. Color them blue and add the label `'power'`."
   ]
  },
  {
   "cell_type": "markdown",
   "metadata": {},
   "source": [
    "### Solve the model"
   ]
  },
  {
   "cell_type": "code",
   "execution_count": 10,
   "metadata": {},
   "outputs": [],
   "source": [
    "model_pow = pe.ConcreteModel()\n",
    "\n",
    "# Decision variables\n",
    "model_pow.a = pe.Var(domain = pe.NonNegativeReals)\n",
    "model_pow.b = pe.Var(domain = pe.NonNegativeReals)\n",
    "                \n",
    "# Objective function: (y - predy)^2 where predy = ax^b\n",
    "data_rows = range(12) #create the index row names 0 to 11\n",
    "\n",
    "model_pow.obj = pe.Objective(expr = sum((df.loc[row, 'Consumed'] - \n",
    "                                         model_pow.a*(df.loc[row, 'Days'])**model_pow.b)**2\n",
    "                                        for row in data_rows), \n",
    "                             sense = pe.minimize)"
   ]
  },
  {
   "cell_type": "code",
   "execution_count": 11,
   "metadata": {},
   "outputs": [
    {
     "name": "stdout",
     "output_type": "stream",
     "text": [
      "2 Var Declarations\n",
      "    a : Size=1, Index=None\n",
      "        Key  : Lower : Value : Upper : Fixed : Stale : Domain\n",
      "        None :     0 :  None :  None : False :  True : NonNegativeReals\n",
      "    b : Size=1, Index=None\n",
      "        Key  : Lower : Value : Upper : Fixed : Stale : Domain\n",
      "        None :     0 :  None :  None : False :  True : NonNegativeReals\n",
      "\n",
      "1 Objective Declarations\n",
      "    obj : Size=1, Index=None, Active=True\n",
      "        Key  : Active : Sense    : Expression\n",
      "        None :   True : minimize : (51 - a*10**b)**2 + (63 - a*11**b)**2 + (89 - a*13**b)**2 + (123 - a*15**b)**2 + (146 - a*19**b)**2 + (157 - a*22**b)**2 + (141 - a*24**b)**2 + (169 - a*25**b)**2 + (172 - a*25**b)**2 + (163 - a*28**b)**2 + (178 - a*30**b)**2 + (176 - a*32**b)**2\n",
      "\n",
      "3 Declarations: a b obj\n"
     ]
    }
   ],
   "source": [
    "model_pow.pprint()"
   ]
  },
  {
   "cell_type": "code",
   "execution_count": 12,
   "metadata": {},
   "outputs": [
    {
     "name": "stdout",
     "output_type": "stream",
     "text": [
      "ok optimal\n"
     ]
    }
   ],
   "source": [
    "result = opt.solve(model_pow)\n",
    "print(result.solver.status, result.solver.termination_condition)"
   ]
  },
  {
   "cell_type": "markdown",
   "metadata": {},
   "source": [
    "### Output the optimal objective function and decision variables"
   ]
  },
  {
   "cell_type": "code",
   "execution_count": 13,
   "metadata": {},
   "outputs": [
    {
     "name": "stdout",
     "output_type": "stream",
     "text": [
      "The Optimal Values\n",
      "optimal objective value = 2742.5370\n",
      "\n",
      "The optimal a value is 11.52\n",
      "The optimal b value is 0.81\n"
     ]
    }
   ],
   "source": [
    "print('The Optimal Values')\n",
    "obj_val = model_pow.obj.expr()\n",
    "print(f'optimal objective value = {obj_val:.4f}')\n",
    "print()\n",
    "print(f'The optimal a value is {model_pow.a.value:.2f}')\n",
    "#print(f'The optimal a value is {model_pow.a.value}')\n",
    "print(f'The optimal b value is {model_pow.b.value:.2f}')"
   ]
  },
  {
   "cell_type": "markdown",
   "metadata": {},
   "source": [
    "### Add the new predicted points to the data table and a scatterplot."
   ]
  },
  {
   "cell_type": "code",
   "execution_count": 14,
   "metadata": {},
   "outputs": [
    {
     "data": {
      "text/html": [
       "<div>\n",
       "<style scoped>\n",
       "    .dataframe tbody tr th:only-of-type {\n",
       "        vertical-align: middle;\n",
       "    }\n",
       "\n",
       "    .dataframe tbody tr th {\n",
       "        vertical-align: top;\n",
       "    }\n",
       "\n",
       "    .dataframe thead th {\n",
       "        text-align: right;\n",
       "    }\n",
       "</style>\n",
       "<table border=\"1\" class=\"dataframe\">\n",
       "  <thead>\n",
       "    <tr style=\"text-align: right;\">\n",
       "      <th></th>\n",
       "      <th>Days</th>\n",
       "      <th>Consumed</th>\n",
       "      <th>Linear</th>\n",
       "      <th>Power</th>\n",
       "    </tr>\n",
       "  </thead>\n",
       "  <tbody>\n",
       "    <tr>\n",
       "      <th>0</th>\n",
       "      <td>10</td>\n",
       "      <td>51</td>\n",
       "      <td>73.861306</td>\n",
       "      <td>74.756706</td>\n",
       "    </tr>\n",
       "    <tr>\n",
       "      <th>1</th>\n",
       "      <td>11</td>\n",
       "      <td>63</td>\n",
       "      <td>79.396114</td>\n",
       "      <td>80.772640</td>\n",
       "    </tr>\n",
       "    <tr>\n",
       "      <th>2</th>\n",
       "      <td>13</td>\n",
       "      <td>89</td>\n",
       "      <td>90.465731</td>\n",
       "      <td>92.508392</td>\n",
       "    </tr>\n",
       "    <tr>\n",
       "      <th>3</th>\n",
       "      <td>15</td>\n",
       "      <td>123</td>\n",
       "      <td>101.535348</td>\n",
       "      <td>103.908274</td>\n",
       "    </tr>\n",
       "    <tr>\n",
       "      <th>4</th>\n",
       "      <td>19</td>\n",
       "      <td>146</td>\n",
       "      <td>123.674582</td>\n",
       "      <td>125.898350</td>\n",
       "    </tr>\n",
       "    <tr>\n",
       "      <th>5</th>\n",
       "      <td>22</td>\n",
       "      <td>157</td>\n",
       "      <td>140.279007</td>\n",
       "      <td>141.815711</td>\n",
       "    </tr>\n",
       "    <tr>\n",
       "      <th>6</th>\n",
       "      <td>24</td>\n",
       "      <td>141</td>\n",
       "      <td>151.348624</td>\n",
       "      <td>152.198942</td>\n",
       "    </tr>\n",
       "    <tr>\n",
       "      <th>7</th>\n",
       "      <td>25</td>\n",
       "      <td>169</td>\n",
       "      <td>156.883432</td>\n",
       "      <td>157.329003</td>\n",
       "    </tr>\n",
       "    <tr>\n",
       "      <th>8</th>\n",
       "      <td>25</td>\n",
       "      <td>172</td>\n",
       "      <td>156.883432</td>\n",
       "      <td>157.329003</td>\n",
       "    </tr>\n",
       "    <tr>\n",
       "      <th>9</th>\n",
       "      <td>28</td>\n",
       "      <td>163</td>\n",
       "      <td>173.487858</td>\n",
       "      <td>172.495473</td>\n",
       "    </tr>\n",
       "    <tr>\n",
       "      <th>10</th>\n",
       "      <td>30</td>\n",
       "      <td>178</td>\n",
       "      <td>184.557474</td>\n",
       "      <td>182.435856</td>\n",
       "    </tr>\n",
       "    <tr>\n",
       "      <th>11</th>\n",
       "      <td>32</td>\n",
       "      <td>176</td>\n",
       "      <td>195.627091</td>\n",
       "      <td>192.252382</td>\n",
       "    </tr>\n",
       "  </tbody>\n",
       "</table>\n",
       "</div>"
      ],
      "text/plain": [
       "    Days  Consumed      Linear       Power\n",
       "0     10        51   73.861306   74.756706\n",
       "1     11        63   79.396114   80.772640\n",
       "2     13        89   90.465731   92.508392\n",
       "3     15       123  101.535348  103.908274\n",
       "4     19       146  123.674582  125.898350\n",
       "5     22       157  140.279007  141.815711\n",
       "6     24       141  151.348624  152.198942\n",
       "7     25       169  156.883432  157.329003\n",
       "8     25       172  156.883432  157.329003\n",
       "9     28       163  173.487858  172.495473\n",
       "10    30       178  184.557474  182.435856\n",
       "11    32       176  195.627091  192.252382"
      ]
     },
     "execution_count": 14,
     "metadata": {},
     "output_type": "execute_result"
    }
   ],
   "source": [
    "df['Power'] = model_pow.a.value * df['Days']**model_pow.b.value\n",
    "df"
   ]
  },
  {
   "cell_type": "code",
   "execution_count": 15,
   "metadata": {},
   "outputs": [
    {
     "data": {
      "image/png": "[encoded data removed]",
      "text/plain": [
       "<Figure size 576x360 with 1 Axes>"
      ]
     },
     "metadata": {
      "needs_background": "light"
     },
     "output_type": "display_data"
    }
   ],
   "source": [
    "plt.figure(figsize = (8, 5))\n",
    "sns.scatterplot(x = 'Days', y = 'Consumed', data = df, color = 'black')\n",
    "sns.scatterplot(x = 'Days', y = 'Linear', data = df, color = 'red')\n",
    "sns.scatterplot(x = 'Days', y = 'Power', data = df, color = 'blue')\n",
    "sns.lineplot(x = 'Days', y = 'Linear', data = df, color = 'red')\n",
    "sns.lineplot(x = 'Days', y = 'Power', data = df, color = 'blue')\n",
    "plt.grid()\n",
    "plt.show()"
   ]
  },
  {
   "cell_type": "markdown",
   "metadata": {},
   "source": [
    "Try doing the same thing as above by `melt`ing the dataframe."
   ]
  },
  {
   "cell_type": "code",
   "execution_count": 16,
   "metadata": {},
   "outputs": [
    {
     "data": {
      "text/html": [
       "<div>\n",
       "<style scoped>\n",
       "    .dataframe tbody tr th:only-of-type {\n",
       "        vertical-align: middle;\n",
       "    }\n",
       "\n",
       "    .dataframe tbody tr th {\n",
       "        vertical-align: top;\n",
       "    }\n",
       "\n",
       "    .dataframe thead th {\n",
       "        text-align: right;\n",
       "    }\n",
       "</style>\n",
       "<table border=\"1\" class=\"dataframe\">\n",
       "  <thead>\n",
       "    <tr style=\"text-align: right;\">\n",
       "      <th></th>\n",
       "      <th>Days</th>\n",
       "      <th>variable</th>\n",
       "      <th>value</th>\n",
       "    </tr>\n",
       "  </thead>\n",
       "  <tbody>\n",
       "    <tr>\n",
       "      <th>0</th>\n",
       "      <td>10</td>\n",
       "      <td>Consumed</td>\n",
       "      <td>51.000000</td>\n",
       "    </tr>\n",
       "    <tr>\n",
       "      <th>1</th>\n",
       "      <td>11</td>\n",
       "      <td>Consumed</td>\n",
       "      <td>63.000000</td>\n",
       "    </tr>\n",
       "    <tr>\n",
       "      <th>2</th>\n",
       "      <td>13</td>\n",
       "      <td>Consumed</td>\n",
       "      <td>89.000000</td>\n",
       "    </tr>\n",
       "    <tr>\n",
       "      <th>3</th>\n",
       "      <td>15</td>\n",
       "      <td>Consumed</td>\n",
       "      <td>123.000000</td>\n",
       "    </tr>\n",
       "    <tr>\n",
       "      <th>4</th>\n",
       "      <td>19</td>\n",
       "      <td>Consumed</td>\n",
       "      <td>146.000000</td>\n",
       "    </tr>\n",
       "    <tr>\n",
       "      <th>5</th>\n",
       "      <td>22</td>\n",
       "      <td>Consumed</td>\n",
       "      <td>157.000000</td>\n",
       "    </tr>\n",
       "    <tr>\n",
       "      <th>6</th>\n",
       "      <td>24</td>\n",
       "      <td>Consumed</td>\n",
       "      <td>141.000000</td>\n",
       "    </tr>\n",
       "    <tr>\n",
       "      <th>7</th>\n",
       "      <td>25</td>\n",
       "      <td>Consumed</td>\n",
       "      <td>169.000000</td>\n",
       "    </tr>\n",
       "    <tr>\n",
       "      <th>8</th>\n",
       "      <td>25</td>\n",
       "      <td>Consumed</td>\n",
       "      <td>172.000000</td>\n",
       "    </tr>\n",
       "    <tr>\n",
       "      <th>9</th>\n",
       "      <td>28</td>\n",
       "      <td>Consumed</td>\n",
       "      <td>163.000000</td>\n",
       "    </tr>\n",
       "    <tr>\n",
       "      <th>10</th>\n",
       "      <td>30</td>\n",
       "      <td>Consumed</td>\n",
       "      <td>178.000000</td>\n",
       "    </tr>\n",
       "    <tr>\n",
       "      <th>11</th>\n",
       "      <td>32</td>\n",
       "      <td>Consumed</td>\n",
       "      <td>176.000000</td>\n",
       "    </tr>\n",
       "    <tr>\n",
       "      <th>12</th>\n",
       "      <td>10</td>\n",
       "      <td>Linear</td>\n",
       "      <td>73.861306</td>\n",
       "    </tr>\n",
       "    <tr>\n",
       "      <th>13</th>\n",
       "      <td>11</td>\n",
       "      <td>Linear</td>\n",
       "      <td>79.396114</td>\n",
       "    </tr>\n",
       "    <tr>\n",
       "      <th>14</th>\n",
       "      <td>13</td>\n",
       "      <td>Linear</td>\n",
       "      <td>90.465731</td>\n",
       "    </tr>\n",
       "    <tr>\n",
       "      <th>15</th>\n",
       "      <td>15</td>\n",
       "      <td>Linear</td>\n",
       "      <td>101.535348</td>\n",
       "    </tr>\n",
       "    <tr>\n",
       "      <th>16</th>\n",
       "      <td>19</td>\n",
       "      <td>Linear</td>\n",
       "      <td>123.674582</td>\n",
       "    </tr>\n",
       "    <tr>\n",
       "      <th>17</th>\n",
       "      <td>22</td>\n",
       "      <td>Linear</td>\n",
       "      <td>140.279007</td>\n",
       "    </tr>\n",
       "    <tr>\n",
       "      <th>18</th>\n",
       "      <td>24</td>\n",
       "      <td>Linear</td>\n",
       "      <td>151.348624</td>\n",
       "    </tr>\n",
       "    <tr>\n",
       "      <th>19</th>\n",
       "      <td>25</td>\n",
       "      <td>Linear</td>\n",
       "      <td>156.883432</td>\n",
       "    </tr>\n",
       "    <tr>\n",
       "      <th>20</th>\n",
       "      <td>25</td>\n",
       "      <td>Linear</td>\n",
       "      <td>156.883432</td>\n",
       "    </tr>\n",
       "    <tr>\n",
       "      <th>21</th>\n",
       "      <td>28</td>\n",
       "      <td>Linear</td>\n",
       "      <td>173.487858</td>\n",
       "    </tr>\n",
       "    <tr>\n",
       "      <th>22</th>\n",
       "      <td>30</td>\n",
       "      <td>Linear</td>\n",
       "      <td>184.557474</td>\n",
       "    </tr>\n",
       "    <tr>\n",
       "      <th>23</th>\n",
       "      <td>32</td>\n",
       "      <td>Linear</td>\n",
       "      <td>195.627091</td>\n",
       "    </tr>\n",
       "    <tr>\n",
       "      <th>24</th>\n",
       "      <td>10</td>\n",
       "      <td>Power</td>\n",
       "      <td>74.756706</td>\n",
       "    </tr>\n",
       "    <tr>\n",
       "      <th>25</th>\n",
       "      <td>11</td>\n",
       "      <td>Power</td>\n",
       "      <td>80.772640</td>\n",
       "    </tr>\n",
       "    <tr>\n",
       "      <th>26</th>\n",
       "      <td>13</td>\n",
       "      <td>Power</td>\n",
       "      <td>92.508392</td>\n",
       "    </tr>\n",
       "    <tr>\n",
       "      <th>27</th>\n",
       "      <td>15</td>\n",
       "      <td>Power</td>\n",
       "      <td>103.908274</td>\n",
       "    </tr>\n",
       "    <tr>\n",
       "      <th>28</th>\n",
       "      <td>19</td>\n",
       "      <td>Power</td>\n",
       "      <td>125.898350</td>\n",
       "    </tr>\n",
       "    <tr>\n",
       "      <th>29</th>\n",
       "      <td>22</td>\n",
       "      <td>Power</td>\n",
       "      <td>141.815711</td>\n",
       "    </tr>\n",
       "    <tr>\n",
       "      <th>30</th>\n",
       "      <td>24</td>\n",
       "      <td>Power</td>\n",
       "      <td>152.198942</td>\n",
       "    </tr>\n",
       "    <tr>\n",
       "      <th>31</th>\n",
       "      <td>25</td>\n",
       "      <td>Power</td>\n",
       "      <td>157.329003</td>\n",
       "    </tr>\n",
       "    <tr>\n",
       "      <th>32</th>\n",
       "      <td>25</td>\n",
       "      <td>Power</td>\n",
       "      <td>157.329003</td>\n",
       "    </tr>\n",
       "    <tr>\n",
       "      <th>33</th>\n",
       "      <td>28</td>\n",
       "      <td>Power</td>\n",
       "      <td>172.495473</td>\n",
       "    </tr>\n",
       "    <tr>\n",
       "      <th>34</th>\n",
       "      <td>30</td>\n",
       "      <td>Power</td>\n",
       "      <td>182.435856</td>\n",
       "    </tr>\n",
       "    <tr>\n",
       "      <th>35</th>\n",
       "      <td>32</td>\n",
       "      <td>Power</td>\n",
       "      <td>192.252382</td>\n",
       "    </tr>\n",
       "  </tbody>\n",
       "</table>\n",
       "</div>"
      ],
      "text/plain": [
       "    Days  variable       value\n",
       "0     10  Consumed   51.000000\n",
       "1     11  Consumed   63.000000\n",
       "2     13  Consumed   89.000000\n",
       "3     15  Consumed  123.000000\n",
       "4     19  Consumed  146.000000\n",
       "5     22  Consumed  157.000000\n",
       "6     24  Consumed  141.000000\n",
       "7     25  Consumed  169.000000\n",
       "8     25  Consumed  172.000000\n",
       "9     28  Consumed  163.000000\n",
       "10    30  Consumed  178.000000\n",
       "11    32  Consumed  176.000000\n",
       "12    10    Linear   73.861306\n",
       "13    11    Linear   79.396114\n",
       "14    13    Linear   90.465731\n",
       "15    15    Linear  101.535348\n",
       "16    19    Linear  123.674582\n",
       "17    22    Linear  140.279007\n",
       "18    24    Linear  151.348624\n",
       "19    25    Linear  156.883432\n",
       "20    25    Linear  156.883432\n",
       "21    28    Linear  173.487858\n",
       "22    30    Linear  184.557474\n",
       "23    32    Linear  195.627091\n",
       "24    10     Power   74.756706\n",
       "25    11     Power   80.772640\n",
       "26    13     Power   92.508392\n",
       "27    15     Power  103.908274\n",
       "28    19     Power  125.898350\n",
       "29    22     Power  141.815711\n",
       "30    24     Power  152.198942\n",
       "31    25     Power  157.329003\n",
       "32    25     Power  157.329003\n",
       "33    28     Power  172.495473\n",
       "34    30     Power  182.435856\n",
       "35    32     Power  192.252382"
      ]
     },
     "execution_count": 16,
     "metadata": {},
     "output_type": "execute_result"
    }
   ],
   "source": [
    "df_new = pd.melt(df, 'Days')\n",
    "df_new"
   ]
  },
  {
   "cell_type": "code",
   "execution_count": 17,
   "metadata": {},
   "outputs": [
    {
     "data": {
      "image/png": "[encoded data removed]",
      "text/plain": [
       "<Figure size 576x360 with 1 Axes>"
      ]
     },
     "metadata": {
      "needs_background": "light"
     },
     "output_type": "display_data"
    }
   ],
   "source": [
    "plt.figure(figsize = (8, 5))\n",
    "sns.scatterplot(x = 'Days', y = 'value', hue = 'variable', data = df_new)\n",
    "plt.grid()\n",
    "plt.xlabel(\"Days\")\n",
    "plt.ylabel(\"Consumed\")\n",
    "plt.show()\n"
   ]
  }
 ],
 "metadata": {
  "kernelspec": {
   "display_name": "info-3440",
   "language": "python",
   "name": "info-3440"
  },
  "language_info": {
   "codemirror_mode": {
    "name": "ipython",
    "version": 3
   },
   "file_extension": ".py",
   "mimetype": "text/x-python",
   "name": "python",
   "nbconvert_exporter": "python",
   "pygments_lexer": "ipython3",
   "version": "3.8.12"
  }
 },
 "nbformat": 4,
 "nbformat_minor": 4
}
