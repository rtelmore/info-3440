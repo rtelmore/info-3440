{
 "cells": [
  {
   "cell_type": "markdown",
   "metadata": {},
   "source": [
    "# Week 9 Class 2 EOQ - Exercise 8.5 "
   ]
  },
  {
   "cell_type": "markdown",
   "metadata": {},
   "source": [
    "Solve as real-valued decision variable and then an integer-valued solutions\n",
    "\n",
    "# Table of Contents<a id=\"Top\"></a>\n",
    "\n",
    "1. [Original Model](#1)<br>\n",
    "2. [Trying to solve with integer constraints - see how doesn't work with ipopt](#2) <br>"
   ]
  },
  {
   "cell_type": "code",
   "execution_count": 3,
   "metadata": {},
   "outputs": [],
   "source": [
    "import pyomo.environ as pe\n",
    "import pandas as pd"
   ]
  },
  {
   "cell_type": "markdown",
   "metadata": {},
   "source": [
    "Minimize annual replenishment cost where cost has 3 parts:\n",
    "\n",
    "* fixed cost * demand/order quantity\n",
    "* holding cost * purchase cost * order quantity/2\n",
    "* demand * purchase cost!\n",
    "\n",
    "Demand: 1,000<br>\n",
    "Fixed cost: 500<br>\n",
    "Holding cost: 20%<br>\n",
    "Purchase cost: 200<br>\n",
    "\n",
    "Constraints:\n",
    "Want order quantity to be >=1<br>\n",
    "Do want to be integer? Problem with the `ipopt`"
   ]
  },
  {
   "cell_type": "code",
   "execution_count": 4,
   "metadata": {},
   "outputs": [],
   "source": [
    "demand = 1000\n",
    "fixed_cost = 500\n",
    "holding_cost = .20\n",
    "purchase_cost = 200"
   ]
  },
  {
   "cell_type": "markdown",
   "metadata": {},
   "source": [
    "##### [Back to Top](#Top)"
   ]
  },
  {
   "cell_type": "markdown",
   "metadata": {},
   "source": [
    "## 1. Solve without integer restriction<a id=1></a>"
   ]
  },
  {
   "cell_type": "code",
   "execution_count": null,
   "metadata": {},
   "outputs": [],
   "source": []
  },
  {
   "cell_type": "markdown",
   "metadata": {},
   "source": [
    "##### [Back to Top](#Top)"
   ]
  },
  {
   "cell_type": "markdown",
   "metadata": {},
   "source": [
    "## 2. Trying to solve as integer problem<a id=3></a>"
   ]
  },
  {
   "cell_type": "markdown",
   "metadata": {},
   "source": [
    "Note - if we try to solve as an integer problem - the solver reverts to excluding the restriction \"Warning: Treating 0 binary and 1 integer variables as continous.\" The `ipopt` solver doesn't perform mixed integer programming with nonlinear - see link at the end with some other solvers you could install."
   ]
  }
 ],
 "metadata": {
  "kernelspec": {
   "display_name": "info-3440",
   "language": "python",
   "name": "info-3440"
  },
  "language_info": {
   "codemirror_mode": {
    "name": "ipython",
    "version": 3
   },
   "file_extension": ".py",
   "mimetype": "text/x-python",
   "name": "python",
   "nbconvert_exporter": "python",
   "pygments_lexer": "ipython3",
   "version": "3.8.12"
  }
 },
 "nbformat": 4,
 "nbformat_minor": 4
}
