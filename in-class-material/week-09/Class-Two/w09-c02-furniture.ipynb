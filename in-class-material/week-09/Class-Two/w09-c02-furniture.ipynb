{
 "cells": [
  {
   "cell_type": "markdown",
   "metadata": {},
   "source": [
    "# Week 9 Class 2 NLP Furniture Demand, Example 8.5 "
   ]
  },
  {
   "cell_type": "code",
   "execution_count": null,
   "metadata": {},
   "outputs": [],
   "source": [
    "import pyomo.environ as pe\n",
    "import pandas as pd\n",
    "import matplotlib.pyplot as plt\n",
    "import seaborn as sns\n",
    "import numpy as np"
   ]
  },
  {
   "cell_type": "markdown",
   "metadata": {},
   "source": [
    "Maximize profit where profit is price minus cost:\n",
    "\n",
    "$𝑧=(𝑝_S−60) 𝑥_S+(𝑝_T−45) 𝑥_T$\n",
    "\n",
    "$𝑝_𝑆=220−0.4𝑥_𝑆$\n",
    "\n",
    "$𝑝_𝑇=180−0.2𝑥_𝑇$"
   ]
  },
  {
   "cell_type": "markdown",
   "metadata": {},
   "source": [
    "subject to\n",
    "\n",
    "$2𝑥_S+𝑥_T≤500$     (inspection) \n",
    "\n",
    "$2𝑥_S+3𝑥_T≤800$       (assembly)\n",
    "     \n",
    "We can also constrain $𝑥_S,𝑥_T$ to be integers."
   ]
  },
  {
   "cell_type": "code",
   "execution_count": null,
   "metadata": {},
   "outputs": [],
   "source": [
    "model = pe.ConcreteModel()\n",
    "\n",
    "# Decision variables\n",
    "DV_indexes = ['Sofa', 'Table']\n",
    "model.x = pe.Var(DV_indexes, domain = pe.NonNegativeReals)\n",
    "                 \n",
    "# Objective function (𝑝1−60)𝑥1+(𝑝2−45)𝑥2\n",
    "model.obj = pe.Objective(expr = ((220 - 0.4*model.x['Sofa']) - 60) * model.x['Sofa'] +\n",
    "                         ((180 - 0.2*model.x['Table']) - 45) * model.x['Table'],\n",
    "                         sense = pe.maximize)\n",
    "\n",
    "# Constraints\n",
    "# inspection 2𝑥_S+𝑥_T≤500\n",
    "model.cons_inspect = pe.Constraint(expr = 2*model.x['Sofa'] + model.x['Table'] <= 500)\n",
    "\n",
    "# assembly 2𝑥_S+3𝑥_T≤800\n",
    "model.cons_assem = pe.Constraint(expr = 2*model.x['Sofa'] + 3*model.x['Table'] <= 800)\n",
    "\n",
    "model.pprint()"
   ]
  },
  {
   "cell_type": "code",
   "execution_count": null,
   "metadata": {},
   "outputs": [],
   "source": [
    "opt = pe.SolverFactory('ipopt')\n",
    "result = opt.solve(model)\n",
    "print(result.solver.status, result.solver.termination_condition)"
   ]
  },
  {
   "cell_type": "code",
   "execution_count": null,
   "metadata": {},
   "outputs": [],
   "source": [
    "print('The Optimal Values')\n",
    "obj_val = model.obj.expr()\n",
    "print(f'optimal objective value = {obj_val:.2f}')"
   ]
  },
  {
   "cell_type": "code",
   "execution_count": null,
   "metadata": {},
   "outputs": [],
   "source": [
    "DV_solution = pd.DataFrame()\n",
    "for DV in model.component_objects(pe.Var):\n",
    "    for c in DV:\n",
    "        DV_solution.loc[DV.name,c] = round(DV[c].value,1)\n",
    "DV_solution"
   ]
  },
  {
   "cell_type": "markdown",
   "metadata": {},
   "source": [
    "## Sensitivity Analysis\n",
    "Let's do some sensitivity analysis by varying the RHS of the assembly constraint from 750 to 860 and see the effects on the Decision Variables and the objective function."
   ]
  },
  {
   "cell_type": "code",
   "execution_count": null,
   "metadata": {},
   "outputs": [],
   "source": [
    "def run_model(rhs):\n",
    "    \n",
    "    model = pe.ConcreteModel()\n",
    "\n",
    "    # Decision variables\n",
    "    DV_indexes = ['Sofa', 'Table']\n",
    "    model.x = pe.Var(DV_indexes, domain = pe.NonNegativeReals)\n",
    "                 \n",
    "    # Objective function (𝑝1−60)𝑥1+(𝑝2−45)𝑥2\n",
    "    model.obj = pe.Objective(expr = ((220 - 0.4*model.x['Sofa']) - 60) * model.x['Sofa'] +\n",
    "                             ((180 - 0.2*model.x['Table']) - 45) * model.x['Table'],\n",
    "                             sense = pe.maximize)\n",
    "\n",
    "    # Constraints\n",
    "    # inspection 2𝑥_S+𝑥_T≤500\n",
    "    model.cons_inspect = pe.Constraint(expr = 2*model.x['Sofa'] + model.x['Table'] <= 500)\n",
    "    \n",
    "    # assembly 2𝑥_S+3𝑥_T≤800\n",
    "    model.cons_assem = pe.Constraint(expr = 2*model.x['Sofa'] + 3*model.x['Table'] <= rhs)\n",
    "\n",
    "    opt.solve(model)\n",
    "    return model"
   ]
  },
  {
   "cell_type": "code",
   "execution_count": null,
   "metadata": {},
   "outputs": [],
   "source": [
    "rng = np.arange(750, 870, 10)"
   ]
  },
  {
   "cell_type": "code",
   "execution_count": null,
   "metadata": {},
   "outputs": [],
   "source": [
    "solution = pd.DataFrame()\n",
    "for con in rng:\n",
    "    model = run_model(con)\n",
    "    for DV in model.component_objects(pe.Var):\n",
    "         for var in DV:\n",
    "            solution.loc[con, var] = round(DV[var].value, 1)\n",
    "    solution.loc[con,'opt_profit'] = round(model.obj.expr(), 2)\n",
    "    # if con != 750:\n",
    "    #     solution.loc[con, 'Obj Change/Unit'] = (solution.loc[con, 'opt_profit']- \n",
    "    #                                             solution.loc[con - 10,'opt_profit'])/10"
   ]
  },
  {
   "cell_type": "code",
   "execution_count": null,
   "metadata": {},
   "outputs": [],
   "source": [
    "solution"
   ]
  },
  {
   "cell_type": "code",
   "execution_count": null,
   "metadata": {},
   "outputs": [],
   "source": [
    "solution['RHS'] = solution.index"
   ]
  },
  {
   "cell_type": "code",
   "execution_count": null,
   "metadata": {},
   "outputs": [],
   "source": [
    "df = pd.melt(solution, 'RHS')\n",
    "df"
   ]
  },
  {
   "cell_type": "code",
   "execution_count": null,
   "metadata": {},
   "outputs": [],
   "source": [
    "plt.figure(figsize = (8,5))\n",
    "sns.lineplot(x = 'RHS', y = 'value', hue = 'variable', data = df[df['variable'] != 'opt_profit'])\n",
    "plt.grid()\n",
    "plt.show()"
   ]
  },
  {
   "cell_type": "code",
   "execution_count": null,
   "metadata": {},
   "outputs": [],
   "source": [
    "plt.figure(figsize = (8,5))\n",
    "sns.lineplot(x = 'RHS', y = 'value', data = df[df['variable'] == 'opt_profit'])\n",
    "plt.ylabel('profit')\n",
    "plt.grid()\n",
    "plt.show()"
   ]
  },
  {
   "cell_type": "code",
   "execution_count": null,
   "metadata": {},
   "outputs": [],
   "source": []
  }
 ],
 "metadata": {
  "kernelspec": {
   "display_name": "info-3440",
   "language": "python",
   "name": "info-3440"
  },
  "language_info": {
   "codemirror_mode": {
    "name": "ipython",
    "version": 3
   },
   "file_extension": ".py",
   "mimetype": "text/x-python",
   "name": "python",
   "nbconvert_exporter": "python",
   "pygments_lexer": "ipython3",
   "version": "3.8.12"
  }
 },
 "nbformat": 4,
 "nbformat_minor": 4
}
