{
 "cells": [
  {
   "cell_type": "markdown",
   "metadata": {},
   "source": [
    "# Concrete vs Abstract Models - Pizza LP"
   ]
  },
  {
   "cell_type": "markdown",
   "metadata": {},
   "source": [
    "In this notebook we'll examine the differences between concrete and abstract models.  The Pyomo documentation also discusses this but does not provide very good code examples to illustrate the differences: https://pyomo.readthedocs.io/en/latest/pyomo_overview/abstract_concrete.html"
   ]
  },
  {
   "cell_type": "code",
   "execution_count": null,
   "metadata": {},
   "outputs": [],
   "source": [
    "import pandas as pd\n",
    "import numpy as np\n",
    "import pyomo.environ as pe"
   ]
  },
  {
   "cell_type": "markdown",
   "metadata": {},
   "source": [
    "# Pizza LP as a Concrete Model<a id=1></a>"
   ]
  },
  {
   "cell_type": "markdown",
   "metadata": {},
   "source": [
    "Concrete models in Pyomo are ones where the __data (parameters) are hard-coded into the model__.  This is the kind of model we have been building so far.  First, let's read in the data (parameters) that will be used in the objective function and constraints."
   ]
  },
  {
   "cell_type": "markdown",
   "metadata": {},
   "source": [
    "## Load in the Data"
   ]
  },
  {
   "cell_type": "markdown",
   "metadata": {},
   "source": [
    "First, let's manually re-organize the data from the original spreadsheet model so that it's easy to read into pandas. This new workbook is `pizza-lp.xlsx`. Look at the 3 sheets first in Excel. We are spitting our previous `coef` table into `profit` and `resource`."
   ]
  },
  {
   "cell_type": "code",
   "execution_count": null,
   "metadata": {},
   "outputs": [],
   "source": [
    "file = pd.ExcelFile('pizza.xlsx')\n",
    "profit = pd.read_excel(file, sheet_name = 'profit', index_col = 0)\n",
    "resource = pd.read_excel(file, sheet_name = 'resource', index_col = 0)\n",
    "rhs = pd.read_excel(file, sheet_name = 'rhs', index_col = 0)\n",
    "\n",
    "print(profit)\n",
    "print(resource)\n",
    "print(rhs)"
   ]
  },
  {
   "cell_type": "markdown",
   "metadata": {},
   "source": [
    "Here is the concrete model we built for the pizza problem in Week 5.  Notice that the parameters in the `coef` and `rhs` dataframes are written directly into the constraints, and we have to have one line per constraint.  In a way, this is silly, because the constraints all have the same form (sumproduct <= rhs).  If we had 10's or 100's or more constraints, this gets pretty inefficient!"
   ]
  },
  {
   "cell_type": "code",
   "execution_count": null,
   "metadata": {},
   "outputs": [],
   "source": [
    "model = pe.ConcreteModel()\n",
    "\n",
    "DV_indexes = ['plain', 'meat', 'veggie', 'supreme']\n",
    "model.x = pe.Var(DV_indexes, domain = pe.NonNegativeReals)\n",
    "\n",
    "# Objective function\n",
    "model.obj = pe.Objective(expr = sum([profit.loc[i, 'profit']*model.x[i] for i in DV_indexes]), \n",
    "                         sense = pe.maximize)\n",
    "# Constraints\n",
    "model.cons_dough = pe.Constraint(expr = sum([resource.loc['dough', i]*model.x[i]\n",
    "                                             for i in DV_indexes]) <= rhs.loc['dough', 'rhs'])\n",
    "model.cons_sauce = pe.Constraint(expr = sum([resource.loc['sauce', i]*model.x[i] \n",
    "                                             for i in DV_indexes]) <= rhs.loc['sauce', 'rhs'])\n",
    "model.cons_cheese = pe.Constraint(expr = sum([resource.loc['cheese', i]*model.x[i] \n",
    "                                              for i in DV_indexes]) <= rhs.loc['cheese', 'rhs'])\n",
    "model.cons_meat = pe.Constraint(expr = sum([resource.loc['meat', i]*model.x[i] \n",
    "                                            for i in DV_indexes]) <= rhs.loc['meat', 'rhs'])\n",
    "model.cons_veggie = pe.Constraint(expr = sum([resource.loc['veggies', i]*model.x[i] \n",
    "                                              for i in DV_indexes]) <= rhs.loc['veggies', 'rhs'])\n",
    "\n",
    "model.pprint() "
   ]
  },
  {
   "cell_type": "code",
   "execution_count": null,
   "metadata": {},
   "outputs": [],
   "source": [
    "opt = pe.SolverFactory('glpk')\n",
    "result = opt.solve(model)\n",
    "print(result.solver.status, result.solver.termination_condition)"
   ]
  },
  {
   "cell_type": "code",
   "execution_count": null,
   "metadata": {},
   "outputs": [],
   "source": [
    "obj_val = model.obj.expr()\n",
    "print(f'optimal objective value maximum profit = ${obj_val:.2f}')\n",
    "\n",
    "DV_solution = pd.DataFrame()\n",
    "for DV in model.component_objects(pe.Var):\n",
    "    for var in DV:\n",
    "        DV_solution.loc[DV.name, var] = DV[var].value\n",
    "DV_solution"
   ]
  },
  {
   "cell_type": "markdown",
   "metadata": {},
   "source": [
    "##### [Back to Top](#Top)"
   ]
  },
  {
   "cell_type": "markdown",
   "metadata": {},
   "source": [
    "# Pizza LP (Functions)"
   ]
  },
  {
   "cell_type": "code",
   "execution_count": null,
   "metadata": {},
   "outputs": [],
   "source": [
    "model = pe.ConcreteModel()"
   ]
  },
  {
   "cell_type": "code",
   "execution_count": null,
   "metadata": {},
   "outputs": [],
   "source": [
    "# Decision variables definition\n",
    "model.x = pe.Var(DV_indexes, domain = pe.NonNegativeReals)\n",
    "model.pprint()"
   ]
  },
  {
   "cell_type": "code",
   "execution_count": null,
   "metadata": {},
   "outputs": [],
   "source": [
    "# We are going to construct a few constraints based on the resources that are used to make \n",
    "#  the pizzas. \n",
    "model.resource_set = pe.Set(initialize = ['dough', 'sauce', 'cheese', 'meat', 'veggies'])"
   ]
  },
  {
   "cell_type": "code",
   "execution_count": null,
   "metadata": {},
   "outputs": [],
   "source": [
    "# Objective function\n",
    "model.obj = pe.Objective(expr = sum([profit.loc[i, 'profit']*model.x[i] for i in DV_indexes]), \n",
    "                         sense = pe.maximize)"
   ]
  },
  {
   "cell_type": "markdown",
   "metadata": {},
   "source": [
    "Now everything (constraints, decisions, and objective) are defined in terms of these.  We cannot make reference to DataFrames or other non-Pyomo objects.  Instead, we need to use the pyomo `Param` object to store our parameters.  We can use the helper function `df_to_dict` defined below to convert our dataframes to specially structured dictionaries."
   ]
  },
  {
   "cell_type": "markdown",
   "metadata": {},
   "source": [
    "Now everything is defined w.r.t. these `Param` objects, no reference to specific data values!  The trade-off is that now constraints and objectives use the `rule=` argument which is a function that defines the value of that model component."
   ]
  },
  {
   "cell_type": "code",
   "execution_count": null,
   "metadata": {},
   "outputs": [],
   "source": [
    "# Unlike the objective, there are multiple resource constraints that are naturally indexed by the\n",
    "# resource index.  The function signature for `resource_rule`, therefore, should take one index\n",
    "# (the resource_i index) as an argument.\n",
    "# model.cons_dough = pe.Constraint(expr = sum([resource.loc['dough', i]*model.x[i]\n",
    "#                                              for i in DV_indexes]) <= rhs.loc['dough', 'rhs'])\n",
    "def resource_rule(model, ing):\n",
    "    return sum([resource.loc[ing, idx]*model.x[idx] for idx in DV_indexes]) <= rhs.loc[ing, 'rhs'] \n",
    "model.resource_cons = pe.Constraint(model.resource_set, rule = resource_rule)\n",
    "model.pprint()"
   ]
  },
  {
   "cell_type": "markdown",
   "metadata": {},
   "source": [
    "## 2.1 Solving Normally<a id=2.1></a>"
   ]
  },
  {
   "cell_type": "code",
   "execution_count": null,
   "metadata": {},
   "outputs": [],
   "source": [
    "result = opt.solve(model)\n",
    "print(result.solver.status, result.solver.termination_condition)"
   ]
  },
  {
   "cell_type": "code",
   "execution_count": null,
   "metadata": {},
   "outputs": [],
   "source": [
    "model.display()"
   ]
  },
  {
   "cell_type": "code",
   "execution_count": null,
   "metadata": {},
   "outputs": [],
   "source": [
    "print('The Optimal Values')\n",
    "obj_val = model.obj.expr()\n",
    "print(f'optimal objective value = {obj_val}')"
   ]
  },
  {
   "cell_type": "code",
   "execution_count": null,
   "metadata": {},
   "outputs": [],
   "source": [
    "DV = []  # create an empty list to store decision variables\n",
    "for index in DV_indexes:\n",
    "    DV.append(round(model.x[index].value, 3))\n",
    "pd.DataFrame({'DV':DV_indexes,\n",
    "             'Value':DV})"
   ]
  }
 ],
 "metadata": {
  "kernelspec": {
   "display_name": "info-3440",
   "language": "python",
   "name": "info-3440"
  },
  "language_info": {
   "codemirror_mode": {
    "name": "ipython",
    "version": 3
   },
   "file_extension": ".py",
   "mimetype": "text/x-python",
   "name": "python",
   "nbconvert_exporter": "python",
   "pygments_lexer": "ipython3",
   "version": "3.8.12"
  }
 },
 "nbformat": 4,
 "nbformat_minor": 4
}
