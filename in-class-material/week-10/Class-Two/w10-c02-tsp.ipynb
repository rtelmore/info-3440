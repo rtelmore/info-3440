{
 "cells": [
  {
   "cell_type": "markdown",
   "metadata": {},
   "source": [
    "## Traveling Salesperson (TSP) pyomo formulation"
   ]
  },
  {
   "cell_type": "markdown",
   "metadata": {},
   "source": [
    "Example modifed from:https://medium.com/analytics-vidhya/model-and-solution-of-the-traveling-salesman-problem-with-python-and-pyomo-db45f2631e8c\n"
   ]
  },
  {
   "cell_type": "markdown",
   "metadata": {},
   "source": [
    "Assume there are n cities with distance/cost from city i to j of $c_{ij}$. $x_{ij}$ is the path from city i to city j. And we define dummy variable to be $u_i$. The problem can be written as follows:"
   ]
  },
  {
   "cell_type": "markdown",
   "metadata": {},
   "source": [
    "![TSP Formulas](TSPFormulation.png)"
   ]
  },
  {
   "cell_type": "markdown",
   "metadata": {},
   "source": [
    "The first set of equalities requires that each city is arrived at from exactly one other city, and the second set of equalities requires that from each city there is a departure to exactly one other city. The last constraints enforce that there is only a single tour covering all cities, and not two or more disjointed tours that only collectively cover all cities"
   ]
  },
  {
   "cell_type": "code",
   "execution_count": null,
   "metadata": {},
   "outputs": [],
   "source": [
    "import pandas as pd\n",
    "import pyomo.environ as pe"
   ]
  },
  {
   "cell_type": "markdown",
   "metadata": {},
   "source": [
    "Now we will create the pyomo model by first reading in the cost matrix."
   ]
  },
  {
   "cell_type": "code",
   "execution_count": null,
   "metadata": {},
   "outputs": [],
   "source": [
    "cost_matrix = pd.read_excel('tsp-data.xlsx', header = None)\n",
    "N_cities = len(cost_matrix)\n",
    "cost_matrix"
   ]
  },
  {
   "cell_type": "markdown",
   "metadata": {},
   "source": [
    "Next we will define the indexes for the cities and the dummy variable U."
   ]
  },
  {
   "cell_type": "code",
   "execution_count": null,
   "metadata": {},
   "outputs": [],
   "source": [
    "model = pe.ConcreteModel()\n",
    "\n",
    "#Indexes for the cities\n",
    "model.M = pe.RangeSet(N_cities)                \n",
    "model.N = pe.RangeSet(N_cities)\n",
    "\n",
    "#Index for the dummy variable U\n",
    "model.U = pe.RangeSet(2, N_cities)"
   ]
  },
  {
   "cell_type": "markdown",
   "metadata": {},
   "source": [
    "Next we will create our decision variables which will hold our grid of cities to visit and our dummy variable."
   ]
  },
  {
   "cell_type": "code",
   "execution_count": null,
   "metadata": {},
   "outputs": [],
   "source": [
    "#Decision variables xij\n",
    "#Note this creates a grid of N x M decision variables\n",
    "model.x = pe.Var(model.N, model.M, domain = pe.Binary)\n",
    "\n",
    "#Dummy variable ui\n",
    "model.u = pe.Var(model.N, domain = pe.NonNegativeIntegers, bounds =(0, N_cities - 1))"
   ]
  },
  {
   "cell_type": "markdown",
   "metadata": {},
   "source": [
    "We next define a parameter to hold the cost matrix."
   ]
  },
  {
   "cell_type": "code",
   "execution_count": null,
   "metadata": {},
   "outputs": [],
   "source": [
    "#Cost Matrix cij\n",
    "model.c = pe.Param(model.N, model.M, initialize = lambda model, i, j: cost_matrix[i - 1][j - 1])"
   ]
  },
  {
   "cell_type": "markdown",
   "metadata": {},
   "source": [
    "Then we define the objective function. Notice how we can loop through the n x m cost values."
   ]
  },
  {
   "cell_type": "code",
   "execution_count": null,
   "metadata": {},
   "outputs": [],
   "source": [
    "def obj_func(model):\n",
    "    return sum(model.x[i, j] * model.c[i, j] for i in model.N for j in model.M)\n",
    "model.obj = pe.Objective(rule = obj_func, sense = pe.minimize)"
   ]
  },
  {
   "cell_type": "markdown",
   "metadata": {},
   "source": [
    "The first constraint ensures that only 1 leaves each city can be formulated in the following way:"
   ]
  },
  {
   "cell_type": "code",
   "execution_count": null,
   "metadata": {},
   "outputs": [],
   "source": [
    "def rule_const1(model, M):\n",
    "    return sum(model.x[i, M] for i in model.N if i != M ) == 1\n",
    "model.const1 = pe.Constraint(model.M, rule = rule_const1)"
   ]
  },
  {
   "cell_type": "markdown",
   "metadata": {},
   "source": [
    "The second constraint ensures that each city receives only 1: "
   ]
  },
  {
   "cell_type": "code",
   "execution_count": null,
   "metadata": {},
   "outputs": [],
   "source": [
    "def rule_const2(model, N):\n",
    "    return sum(model.x[N, j] for j in model.M if j != N) == 1\n",
    "model.rest2 = pe.Constraint(model.N, rule = rule_const2)"
   ]
  },
  {
   "cell_type": "markdown",
   "metadata": {},
   "source": [
    "The third and last constraint is the one that enforces that there is only a single tour covering all cities, and not two or more disjointed tours that only collectively cover all cities.\n"
   ]
  },
  {
   "cell_type": "code",
   "execution_count": null,
   "metadata": {},
   "outputs": [],
   "source": [
    "def rule_const3(model, i, j):\n",
    "    if i!=j: \n",
    "        return model.u[i] - model.u[j] + model.x[i,j] * N_cities <= N_cities-1\n",
    "    else:\n",
    "        #A rule type function must provide a Pyomo Object, so that’s why I had to write this else\n",
    "        return model.u[i] - model.u[i] == 0 \n",
    "    \n",
    "model.rest3 = pe.Constraint(model.U, model.N, rule = rule_const3)"
   ]
  },
  {
   "cell_type": "code",
   "execution_count": null,
   "metadata": {},
   "outputs": [],
   "source": [
    "#Prints the entire model\n",
    "model.pprint()"
   ]
  },
  {
   "cell_type": "markdown",
   "metadata": {},
   "source": [
    "Now we are ready to solve the model."
   ]
  },
  {
   "cell_type": "code",
   "execution_count": null,
   "metadata": {},
   "outputs": [],
   "source": [
    "opt = pe.SolverFactory('glpk')\n",
    "result = opt.solve(model)\n",
    "print(result.solver.status, result.solver.termination_condition)"
   ]
  },
  {
   "cell_type": "code",
   "execution_count": null,
   "metadata": {},
   "outputs": [],
   "source": [
    "# optimal objective value\n",
    "print()\n",
    "obj_val = model.obj.expr()\n",
    "print(f'optimal objective value = {obj_val:.2f}')\n",
    "\n",
    "dv_keys = list(model.x.keys())\n",
    "for key in dv_keys:\n",
    "    if model.x[key]() != 0:\n",
    "        print(key,'--', model.x[key]())"
   ]
  },
  {
   "cell_type": "code",
   "execution_count": null,
   "metadata": {},
   "outputs": [],
   "source": [
    "print(f'Therefore, the optimal tour is: 1  5  6  4  3  2  1 with a distance of {obj_val}')"
   ]
  }
 ],
 "metadata": {
  "kernelspec": {
   "display_name": "info-3440",
   "language": "python",
   "name": "info-3440"
  },
  "language_info": {
   "codemirror_mode": {
    "name": "ipython",
    "version": 3
   },
   "file_extension": ".py",
   "mimetype": "text/x-python",
   "name": "python",
   "nbconvert_exporter": "python",
   "pygments_lexer": "ipython3",
   "version": "3.8.12"
  }
 },
 "nbformat": 4,
 "nbformat_minor": 4
}
