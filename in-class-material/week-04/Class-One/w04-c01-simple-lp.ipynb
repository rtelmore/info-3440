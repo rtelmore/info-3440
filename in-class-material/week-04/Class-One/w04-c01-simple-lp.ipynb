{
 "cells": [
  {
   "cell_type": "markdown",
   "metadata": {},
   "source": [
    "# Week 4 Class 1: Python Coding Tips and Simple pyomo LP Model"
   ]
  },
  {
   "cell_type": "markdown",
   "metadata": {},
   "source": [
    "## Table of Contents<a id=\"Top\"></a>\n",
    "\n",
    "1. [Install Packages](#1) <br>\n",
    "2. [Python Coding Tips](#2) <br>\n",
    "    [2.1 Slicing](#2.1)<br>\n",
    "    [2.2 range command](#2.2)<br>\n",
    "    [2.3 Print Formatted String](#2.3)<br>\n",
    "    [2.4 Formatting Numbers](#2.4)<br>\n",
    "    [2.5 List Appending](#2.5)<br>\n",
    "3. [Simple Linear Program with pyomo](#3) <br>\n",
    "     [3.1 Instantiate (Create) the pyomo model](#3.1)<br>\n",
    "     [3.2 Define the Decision Variables](#3.2)<br>\n",
    "     [3.3 Define the Objective Fuction](#3.3)<br>\n",
    "     [3.4 Define the Constraints](#3.4)<br>\n",
    "     [3.5 Solve the Model](#3.5)<br>\n",
    "     [3.6 View the Final Model Obj Function and Dec Variables](#3.6)<br>\n",
    "4. [ERRORS](#4) <br>"
   ]
  },
  {
   "cell_type": "markdown",
   "metadata": {},
   "source": [
    "## 1. Install Packages<a id=1></a>"
   ]
  },
  {
   "cell_type": "markdown",
   "metadata": {},
   "source": [
    "We will always import our packages at the top of the notebook. "
   ]
  },
  {
   "cell_type": "code",
   "execution_count": 1,
   "metadata": {},
   "outputs": [],
   "source": [
    "import pandas as pd\n",
    "import pyomo.environ as pe"
   ]
  },
  {
   "cell_type": "markdown",
   "metadata": {},
   "source": [
    "##### [Back to Top](#Top)"
   ]
  },
  {
   "cell_type": "markdown",
   "metadata": {},
   "source": [
    "## 2. Python Coding Tips<a id=2></a>"
   ]
  },
  {
   "cell_type": "markdown",
   "metadata": {},
   "source": [
    "### 2.1 Slicing<a id=2.1></a>"
   ]
  },
  {
   "cell_type": "markdown",
   "metadata": {},
   "source": [
    "**List[:]** extract all numbers in the list<br>\n",
    "**List[start:]**  extract from a specified starting number to the end of the list.<br>\n",
    "**List[:end]** extract from beginning up to (*but not including*) the end of the list.  <br>\n",
    "**List[start:end]**  extract items from a specific starting point up to (*but not including*) the end of the list. <br>"
   ]
  },
  {
   "cell_type": "markdown",
   "metadata": {},
   "source": [
    "Slicing a text object"
   ]
  },
  {
   "cell_type": "code",
   "execution_count": 2,
   "metadata": {},
   "outputs": [
    {
     "name": "stdout",
     "output_type": "stream",
     "text": [
      "Py\n"
     ]
    }
   ],
   "source": [
    "word = \"Python\"\n",
    "print(word[:2])"
   ]
  },
  {
   "cell_type": "code",
   "execution_count": 3,
   "metadata": {},
   "outputs": [
    {
     "name": "stdout",
     "output_type": "stream",
     "text": [
      "on\n"
     ]
    }
   ],
   "source": [
    "print(word[4:])"
   ]
  },
  {
   "cell_type": "code",
   "execution_count": 4,
   "metadata": {},
   "outputs": [
    {
     "name": "stdout",
     "output_type": "stream",
     "text": [
      "on\n"
     ]
    }
   ],
   "source": [
    "print(word[-2:])"
   ]
  },
  {
   "cell_type": "markdown",
   "metadata": {},
   "source": [
    "Slicing a list"
   ]
  },
  {
   "cell_type": "code",
   "execution_count": 5,
   "metadata": {},
   "outputs": [
    {
     "name": "stdout",
     "output_type": "stream",
     "text": [
      "[3, 4, 5]\n"
     ]
    }
   ],
   "source": [
    "list6 = [1, 2, 3, 4, 5, 6, 7, 8]\n",
    "myslice = list6[2:5]\n",
    "print(myslice)"
   ]
  },
  {
   "cell_type": "markdown",
   "metadata": {},
   "source": [
    "Slicing a Pandas Data Frame"
   ]
  },
  {
   "cell_type": "code",
   "execution_count": 6,
   "metadata": {},
   "outputs": [
    {
     "data": {
      "text/html": [
       "<div>\n",
       "<style scoped>\n",
       "    .dataframe tbody tr th:only-of-type {\n",
       "        vertical-align: middle;\n",
       "    }\n",
       "\n",
       "    .dataframe tbody tr th {\n",
       "        vertical-align: top;\n",
       "    }\n",
       "\n",
       "    .dataframe thead th {\n",
       "        text-align: right;\n",
       "    }\n",
       "</style>\n",
       "<table border=\"1\" class=\"dataframe\">\n",
       "  <thead>\n",
       "    <tr style=\"text-align: right;\">\n",
       "      <th></th>\n",
       "      <th>DV</th>\n",
       "      <th>Value</th>\n",
       "      <th>Count</th>\n",
       "    </tr>\n",
       "  </thead>\n",
       "  <tbody>\n",
       "    <tr>\n",
       "      <th>0</th>\n",
       "      <td>chocolate</td>\n",
       "      <td>1</td>\n",
       "      <td>4.444330</td>\n",
       "    </tr>\n",
       "    <tr>\n",
       "      <th>1</th>\n",
       "      <td>vanilla</td>\n",
       "      <td>4</td>\n",
       "      <td>2.123345</td>\n",
       "    </tr>\n",
       "    <tr>\n",
       "      <th>2</th>\n",
       "      <td>strawberry</td>\n",
       "      <td>5</td>\n",
       "      <td>1.435340</td>\n",
       "    </tr>\n",
       "    <tr>\n",
       "      <th>3</th>\n",
       "      <td>mintCC</td>\n",
       "      <td>2</td>\n",
       "      <td>3.300000</td>\n",
       "    </tr>\n",
       "  </tbody>\n",
       "</table>\n",
       "</div>"
      ],
      "text/plain": [
       "           DV  Value     Count\n",
       "0   chocolate      1  4.444330\n",
       "1     vanilla      4  2.123345\n",
       "2  strawberry      5  1.435340\n",
       "3      mintCC      2  3.300000"
      ]
     },
     "execution_count": 6,
     "metadata": {},
     "output_type": "execute_result"
    }
   ],
   "source": [
    "#Create a dataframe to use\n",
    "df = pd.DataFrame({'DV':['chocolate','vanilla','strawberry','mintCC'],\n",
    "             'Value':[1,4,5,2],\n",
    "             'Count':[4.44433,2.123345,1.43534,3.3]})\n",
    "df"
   ]
  },
  {
   "cell_type": "markdown",
   "metadata": {},
   "source": [
    "The `.loc` command is using the actual row names, not the indexes\n"
   ]
  },
  {
   "cell_type": "code",
   "execution_count": 7,
   "metadata": {},
   "outputs": [
    {
     "data": {
      "text/html": [
       "<div>\n",
       "<style scoped>\n",
       "    .dataframe tbody tr th:only-of-type {\n",
       "        vertical-align: middle;\n",
       "    }\n",
       "\n",
       "    .dataframe tbody tr th {\n",
       "        vertical-align: top;\n",
       "    }\n",
       "\n",
       "    .dataframe thead th {\n",
       "        text-align: right;\n",
       "    }\n",
       "</style>\n",
       "<table border=\"1\" class=\"dataframe\">\n",
       "  <thead>\n",
       "    <tr style=\"text-align: right;\">\n",
       "      <th></th>\n",
       "      <th>DV</th>\n",
       "      <th>Value</th>\n",
       "      <th>Count</th>\n",
       "    </tr>\n",
       "  </thead>\n",
       "  <tbody>\n",
       "    <tr>\n",
       "      <th>0</th>\n",
       "      <td>chocolate</td>\n",
       "      <td>1</td>\n",
       "      <td>4.444330</td>\n",
       "    </tr>\n",
       "    <tr>\n",
       "      <th>1</th>\n",
       "      <td>vanilla</td>\n",
       "      <td>4</td>\n",
       "      <td>2.123345</td>\n",
       "    </tr>\n",
       "    <tr>\n",
       "      <th>2</th>\n",
       "      <td>strawberry</td>\n",
       "      <td>5</td>\n",
       "      <td>1.435340</td>\n",
       "    </tr>\n",
       "  </tbody>\n",
       "</table>\n",
       "</div>"
      ],
      "text/plain": [
       "           DV  Value     Count\n",
       "0   chocolate      1  4.444330\n",
       "1     vanilla      4  2.123345\n",
       "2  strawberry      5  1.435340"
      ]
     },
     "execution_count": 7,
     "metadata": {},
     "output_type": "execute_result"
    }
   ],
   "source": [
    "df.loc[:2]"
   ]
  },
  {
   "cell_type": "markdown",
   "metadata": {},
   "source": [
    "The `.iloc` command is using the indexes so the \"slicing\" rules of the upper bound being \"up to but not including\" are used."
   ]
  },
  {
   "cell_type": "code",
   "execution_count": 8,
   "metadata": {},
   "outputs": [
    {
     "data": {
      "text/html": [
       "<div>\n",
       "<style scoped>\n",
       "    .dataframe tbody tr th:only-of-type {\n",
       "        vertical-align: middle;\n",
       "    }\n",
       "\n",
       "    .dataframe tbody tr th {\n",
       "        vertical-align: top;\n",
       "    }\n",
       "\n",
       "    .dataframe thead th {\n",
       "        text-align: right;\n",
       "    }\n",
       "</style>\n",
       "<table border=\"1\" class=\"dataframe\">\n",
       "  <thead>\n",
       "    <tr style=\"text-align: right;\">\n",
       "      <th></th>\n",
       "      <th>DV</th>\n",
       "      <th>Value</th>\n",
       "      <th>Count</th>\n",
       "    </tr>\n",
       "  </thead>\n",
       "  <tbody>\n",
       "    <tr>\n",
       "      <th>0</th>\n",
       "      <td>chocolate</td>\n",
       "      <td>1</td>\n",
       "      <td>4.444330</td>\n",
       "    </tr>\n",
       "    <tr>\n",
       "      <th>1</th>\n",
       "      <td>vanilla</td>\n",
       "      <td>4</td>\n",
       "      <td>2.123345</td>\n",
       "    </tr>\n",
       "  </tbody>\n",
       "</table>\n",
       "</div>"
      ],
      "text/plain": [
       "          DV  Value     Count\n",
       "0  chocolate      1  4.444330\n",
       "1    vanilla      4  2.123345"
      ]
     },
     "execution_count": 8,
     "metadata": {},
     "output_type": "execute_result"
    }
   ],
   "source": [
    "df.iloc[:2]"
   ]
  },
  {
   "cell_type": "code",
   "execution_count": 9,
   "metadata": {},
   "outputs": [
    {
     "data": {
      "text/plain": [
       "0    1\n",
       "1    4\n",
       "Name: Value, dtype: int64"
      ]
     },
     "execution_count": 9,
     "metadata": {},
     "output_type": "execute_result"
    }
   ],
   "source": [
    "#the following gives you rows 0 and 1 and column index 1 which is Value\n",
    "df.iloc[:2,1]"
   ]
  },
  {
   "cell_type": "markdown",
   "metadata": {},
   "source": [
    "### 2.2 range command<a id=2.2></a>"
   ]
  },
  {
   "cell_type": "markdown",
   "metadata": {},
   "source": [
    "The `range([start],stop before)` command has an optional start value which defaults to 0. The second input is **stop before** so make sure you remember not to include this value. It is an open upper bound. Use the `list()` command to be able to view what is in the range object."
   ]
  },
  {
   "cell_type": "code",
   "execution_count": 10,
   "metadata": {},
   "outputs": [
    {
     "data": {
      "text/plain": [
       "[0, 1, 2, 3, 4]"
      ]
     },
     "execution_count": 10,
     "metadata": {},
     "output_type": "execute_result"
    }
   ],
   "source": [
    "list(range(0,5))"
   ]
  },
  {
   "cell_type": "code",
   "execution_count": 11,
   "metadata": {},
   "outputs": [
    {
     "data": {
      "text/plain": [
       "[0, 1, 2, 3, 4]"
      ]
     },
     "execution_count": 11,
     "metadata": {},
     "output_type": "execute_result"
    }
   ],
   "source": [
    "#same as above because default start value is 0\n",
    "list(range(5))"
   ]
  },
  {
   "cell_type": "code",
   "execution_count": 12,
   "metadata": {},
   "outputs": [
    {
     "data": {
      "text/plain": [
       "[2, 3, 4]"
      ]
     },
     "execution_count": 12,
     "metadata": {},
     "output_type": "execute_result"
    }
   ],
   "source": [
    "#Note starting value is closed and is included in the range\n",
    "list(range(2,5))"
   ]
  },
  {
   "cell_type": "markdown",
   "metadata": {},
   "source": [
    "##### [Back to Top](#Top)"
   ]
  },
  {
   "cell_type": "markdown",
   "metadata": {},
   "source": [
    "### 2.3 Print Formatted String<a id=2.3></a>"
   ]
  },
  {
   "cell_type": "markdown",
   "metadata": {},
   "source": [
    "The formatted string `f''` output allows you to put text and output together in a single string output. The `{}` allow you to embed objects/variables in the text."
   ]
  },
  {
   "cell_type": "code",
   "execution_count": 13,
   "metadata": {},
   "outputs": [],
   "source": [
    "val = 3.234\n",
    "name = 'Vanilla'"
   ]
  },
  {
   "cell_type": "code",
   "execution_count": 14,
   "metadata": {},
   "outputs": [
    {
     "name": "stdout",
     "output_type": "stream",
     "text": [
      "The flavor is:Vanilla with a value of 3.234\n"
     ]
    }
   ],
   "source": [
    "print(f'The flavor is:{name} with a value of {val}')"
   ]
  },
  {
   "cell_type": "markdown",
   "metadata": {},
   "source": [
    "##### [Back to Top](#Top)"
   ]
  },
  {
   "cell_type": "markdown",
   "metadata": {},
   "source": [
    "### 2.4 Formatting Numbers<a id=2.4></a>"
   ]
  },
  {
   "cell_type": "markdown",
   "metadata": {},
   "source": [
    "The two main ways we can format numbers now is to use the `round(?,2)` function or the formatted string option `:.2f`. The `f` stands for float and the 2 is the number of decimal places. Notice the difference where we want to include 10 decimal places. Round will not display ending 0s but the formatted string will keep them."
   ]
  },
  {
   "cell_type": "code",
   "execution_count": 15,
   "metadata": {},
   "outputs": [
    {
     "name": "stdout",
     "output_type": "stream",
     "text": [
      "The value is 3.23\n"
     ]
    }
   ],
   "source": [
    "print(f'The value is {val:.2f}')"
   ]
  },
  {
   "cell_type": "code",
   "execution_count": 16,
   "metadata": {},
   "outputs": [
    {
     "name": "stdout",
     "output_type": "stream",
     "text": [
      "The value is 3.2340000000\n"
     ]
    }
   ],
   "source": [
    "print(f'The value is {val:.10f}')"
   ]
  },
  {
   "cell_type": "code",
   "execution_count": 17,
   "metadata": {},
   "outputs": [
    {
     "name": "stdout",
     "output_type": "stream",
     "text": [
      "The value is 3.23\n"
     ]
    }
   ],
   "source": [
    "print(f'The value is {round(val,2)}')"
   ]
  },
  {
   "cell_type": "code",
   "execution_count": 18,
   "metadata": {},
   "outputs": [
    {
     "name": "stdout",
     "output_type": "stream",
     "text": [
      "The value is 3.234\n"
     ]
    }
   ],
   "source": [
    "print(f'The value is {round(val,10)}')"
   ]
  },
  {
   "cell_type": "markdown",
   "metadata": {},
   "source": [
    "##### [Back to Top](#Top)\n"
   ]
  },
  {
   "cell_type": "markdown",
   "metadata": {},
   "source": [
    "### 2.5 List Appending<a id=2.5></a>"
   ]
  },
  {
   "cell_type": "markdown",
   "metadata": {},
   "source": [
    "Our final python coding tip is how to add values to a list.  This is often used to collect output/results from something and store them so that we can display them or use them later."
   ]
  },
  {
   "cell_type": "code",
   "execution_count": 19,
   "metadata": {},
   "outputs": [
    {
     "data": {
      "text/plain": [
       "[2]"
      ]
     },
     "execution_count": 19,
     "metadata": {},
     "output_type": "execute_result"
    }
   ],
   "source": [
    "cost = []  #creates an empty list\n",
    "cost.append(2)\n",
    "cost"
   ]
  },
  {
   "cell_type": "code",
   "execution_count": 20,
   "metadata": {},
   "outputs": [
    {
     "data": {
      "text/plain": [
       "[2, 3]"
      ]
     },
     "execution_count": 20,
     "metadata": {},
     "output_type": "execute_result"
    }
   ],
   "source": [
    "cost.append(3)\n",
    "cost"
   ]
  },
  {
   "cell_type": "markdown",
   "metadata": {},
   "source": [
    "##### [Back to Top](#Top)"
   ]
  },
  {
   "cell_type": "markdown",
   "metadata": {},
   "source": [
    "## 3. Simple Linear Program with pyomo<a id=3></a>"
   ]
  },
  {
   "cell_type": "markdown",
   "metadata": {},
   "source": [
    "Let's solve the following linear program. Wait a minute, what's this math font doing in here? This is latex code. Yup, you can add latex to markdown/jupyter notebooks. Yee haw!"
   ]
  },
  {
   "cell_type": "markdown",
   "metadata": {},
   "source": [
    "\\begin{array}{ll}\n",
    "  \\min          & 2 x_a + 3 x_b\\\\\n",
    "  \\mathrm{s.t.} & 3 x_a + 4 x_b \\geq 1\\\\\n",
    "                & x_a, x_b \\geq 0\n",
    "\\end{array}"
   ]
  },
  {
   "cell_type": "markdown",
   "metadata": {},
   "source": [
    "Before we start, what are the model \"parameters\"? Let's solve in Excel so we can verify our Pyomo model. See the Excel document in the Week 4 module for the setup (w04-c01-simple-lp.xlsx or something like that)."
   ]
  },
  {
   "cell_type": "markdown",
   "metadata": {},
   "source": [
    "### 3.1 Instantiate (Create) the pyomo model<a id=3.1></a>"
   ]
  },
  {
   "cell_type": "markdown",
   "metadata": {},
   "source": [
    "**Note:  If you try to re-run certain cells you might get an error.  If so, start evaluating cells from the beginning (here).**"
   ]
  },
  {
   "cell_type": "markdown",
   "metadata": {},
   "source": [
    "We can now reference functions and methods from the `pyomo.environ` with `pe` such as `pe.Var()`, `pe.NonNegativeReals` and `pe.CreateModel` .\n",
    "Next we create a new (and empty) pyomo model.  The \"concrete\" means we will hard-code parameter values."
   ]
  },
  {
   "cell_type": "code",
   "execution_count": 3,
   "metadata": {},
   "outputs": [],
   "source": [
    "model = pe.ConcreteModel()"
   ]
  },
  {
   "cell_type": "markdown",
   "metadata": {},
   "source": [
    "### 3.2 Define the Decision Variables<a id=3.2></a>"
   ]
  },
  {
   "cell_type": "markdown",
   "metadata": {},
   "source": [
    "First let's define the decision variables.  We'll give the decisions specific indexes and specify that they be nonnegative."
   ]
  },
  {
   "cell_type": "markdown",
   "metadata": {},
   "source": [
    "We have to tell pyomo how many DV's we have using indexes.  This is a step you will have to\n",
    "do yourself most times!  Indexes can be numbers or strings. It is nice for them to be descriptive\n",
    "though many problems will just use numbered index ($x_1$, $x_2$, etc). Here we use $x_a$ and $x_b$."
   ]
  },
  {
   "cell_type": "code",
   "execution_count": 4,
   "metadata": {},
   "outputs": [],
   "source": [
    "DV_indexes = ['a', 'b']"
   ]
  },
  {
   "cell_type": "code",
   "execution_count": 5,
   "metadata": {},
   "outputs": [
    {
     "name": "stdout",
     "output_type": "stream",
     "text": [
      "x : Size=2, Index=x_index\n",
      "    Key : Lower : Value : Upper : Fixed : Stale : Domain\n",
      "      a :     0 :  None :  None : False :  True : NonNegativeReals\n",
      "      b :     0 :  None :  None : False :  True : NonNegativeReals\n"
     ]
    }
   ],
   "source": [
    "# Create a variable using the indexes and specifying the type of variable, here nonnegative real numbers, x >= 0.\n",
    "# The model.x says to attach the variable to the model and call it \"x\".\n",
    "model.x = pe.Var(DV_indexes, domain=pe.NonNegativeReals)\n",
    "# To Double check what you entered, use 'pprint'. \n",
    "model.x.pprint()"
   ]
  },
  {
   "cell_type": "markdown",
   "metadata": {},
   "source": [
    "### 3.3 Define the Objective Function<a id=3.3></a>"
   ]
  },
  {
   "cell_type": "code",
   "execution_count": 6,
   "metadata": {},
   "outputs": [
    {
     "name": "stdout",
     "output_type": "stream",
     "text": [
      "obj : Size=1, Index=None, Active=True\n",
      "    Key  : Active : Sense    : Expression\n",
      "    None :   True : minimize : 2*x[a] + 3*x[b]\n"
     ]
    }
   ],
   "source": [
    "# Define the objective function value as z = 2x1 + 3x2 and attach it to the model as an attribute obj.\n",
    "# Note the default is a minimization problem (labeled 'Sense')\n",
    "model.obj = pe.Objective(expr = 2*model.x['a'] + 3*model.x['b'])\n",
    "model.obj.pprint()"
   ]
  },
  {
   "cell_type": "markdown",
   "metadata": {},
   "source": [
    "### 3.4 Define the Constraints<a id=3.4></a>"
   ]
  },
  {
   "cell_type": "code",
   "execution_count": 7,
   "metadata": {},
   "outputs": [
    {
     "name": "stdout",
     "output_type": "stream",
     "text": [
      "constraint : Size=1, Index=None, Active=True\n",
      "    Key  : Lower : Body            : Upper : Active\n",
      "    None :   1.0 : 3*x[a] + 4*x[b] :  +Inf :   True\n"
     ]
    }
   ],
   "source": [
    "# Create a constraint \"3x1 + 4x2 >= 1\" and store attach it to the model as Constraint1.\n",
    "model.constraint = pe.Constraint(expr = 3*model.x['a'] + 4*model.x['b'] >= 1)\n",
    "model.constraint.pprint()"
   ]
  },
  {
   "cell_type": "code",
   "execution_count": 8,
   "metadata": {},
   "outputs": [
    {
     "name": "stdout",
     "output_type": "stream",
     "text": [
      "1 Set Declarations\n",
      "    x_index : Size=1, Index=None, Ordered=Insertion\n",
      "        Key  : Dimen : Domain : Size : Members\n",
      "        None :     1 :    Any :    2 : {'a', 'b'}\n",
      "\n",
      "1 Var Declarations\n",
      "    x : Size=2, Index=x_index\n",
      "        Key : Lower : Value : Upper : Fixed : Stale : Domain\n",
      "          a :     0 :  None :  None : False :  True : NonNegativeReals\n",
      "          b :     0 :  None :  None : False :  True : NonNegativeReals\n",
      "\n",
      "1 Objective Declarations\n",
      "    obj : Size=1, Index=None, Active=True\n",
      "        Key  : Active : Sense    : Expression\n",
      "        None :   True : minimize : 2*x[a] + 3*x[b]\n",
      "\n",
      "1 Constraint Declarations\n",
      "    constraint : Size=1, Index=None, Active=True\n",
      "        Key  : Lower : Body            : Upper : Active\n",
      "        None :   1.0 : 3*x[a] + 4*x[b] :  +Inf :   True\n",
      "\n",
      "4 Declarations: x_index x obj constraint\n"
     ]
    }
   ],
   "source": [
    "#print the entire model (rather than each separate part obj, decision variables, constraints)\n",
    "model.pprint()"
   ]
  },
  {
   "cell_type": "markdown",
   "metadata": {},
   "source": [
    "### 3.5 Solve the Model<a id=3.5></a>"
   ]
  },
  {
   "cell_type": "markdown",
   "metadata": {},
   "source": [
    "Instantiate the model instance and run the solver.   You want to see \"OPTIMAL LP Solution Found\""
   ]
  },
  {
   "cell_type": "code",
   "execution_count": 9,
   "metadata": {},
   "outputs": [
    {
     "name": "stdout",
     "output_type": "stream",
     "text": [
      "GLPSOL: GLPK LP/MIP Solver, v4.65\n",
      "Parameter(s) specified in the command line:\n",
      " --write /var/folders/p8/y_pk7h153tld8fgnq6fz274r0000gn/T/tmp2dcxj3ha.glpk.raw\n",
      " --wglp /var/folders/p8/y_pk7h153tld8fgnq6fz274r0000gn/T/tmpk2vov20_.glpk.glp\n",
      " --cpxlp /var/folders/p8/y_pk7h153tld8fgnq6fz274r0000gn/T/tmp4aedc7em.pyomo.lp\n",
      "Reading problem data from '/var/folders/p8/y_pk7h153tld8fgnq6fz274r0000gn/T/tmp4aedc7em.pyomo.lp'...\n",
      "2 rows, 3 columns, 3 non-zeros\n",
      "21 lines were read\n",
      "Writing problem data to '/var/folders/p8/y_pk7h153tld8fgnq6fz274r0000gn/T/tmpk2vov20_.glpk.glp'...\n",
      "15 lines were written\n",
      "GLPK Simplex Optimizer, v4.65\n",
      "2 rows, 3 columns, 3 non-zeros\n",
      "Preprocessing...\n",
      "1 row, 2 columns, 2 non-zeros\n",
      "Scaling...\n",
      " A: min|aij| =  3.000e+00  max|aij| =  4.000e+00  ratio =  1.333e+00\n",
      "Problem data seem to be well scaled\n",
      "Constructing initial basis...\n",
      "Size of triangular part is 1\n",
      "      0: obj =   0.000000000e+00 inf =   1.000e+00 (1)\n",
      "      1: obj =   7.500000000e-01 inf =   0.000e+00 (0)\n",
      "*     2: obj =   6.666666667e-01 inf =   0.000e+00 (0)\n",
      "OPTIMAL LP SOLUTION FOUND\n",
      "Time used:   0.0 secs\n",
      "Memory used: 0.0 Mb (40400 bytes)\n",
      "Writing basic solution to '/var/folders/p8/y_pk7h153tld8fgnq6fz274r0000gn/T/tmp2dcxj3ha.glpk.raw'...\n",
      "14 lines were written\n"
     ]
    }
   ],
   "source": [
    "#This will basically always be the same\n",
    "# for all models that you run!  You can set tee=False to suppress the output.\n",
    "# If you get an error - see message at the end\n",
    "opt = pe.SolverFactory('glpk')\n",
    "success = opt.solve(model, tee=True)"
   ]
  },
  {
   "cell_type": "code",
   "execution_count": 10,
   "metadata": {},
   "outputs": [
    {
     "name": "stdout",
     "output_type": "stream",
     "text": [
      "Model unknown\n",
      "\n",
      "  Variables:\n",
      "    x : Size=2, Index=x_index\n",
      "        Key : Lower : Value             : Upper : Fixed : Stale : Domain\n",
      "          a :     0 : 0.333333333333333 :  None : False : False : NonNegativeReals\n",
      "          b :     0 :               0.0 :  None : False : False : NonNegativeReals\n",
      "\n",
      "  Objectives:\n",
      "    obj : Size=1, Index=None, Active=True\n",
      "        Key  : Active : Value\n",
      "        None :   True : 0.666666666666666\n",
      "\n",
      "  Constraints:\n",
      "    constraint : Size=1\n",
      "        Key  : Lower : Body               : Upper\n",
      "        None :   1.0 : 0.9999999999999989 :  None\n"
     ]
    }
   ],
   "source": [
    "# Use `.display()` to view the final values of the decision variables, \n",
    "#the objective function, and the constraints\n",
    "# Note \"body\" is the final value of the LHS\n",
    "model.display()"
   ]
  },
  {
   "cell_type": "markdown",
   "metadata": {},
   "source": [
    "### 3.6 View the Final Model Obj Function and Dec Variables<a id=3.6></a>"
   ]
  },
  {
   "cell_type": "code",
   "execution_count": 11,
   "metadata": {},
   "outputs": [
    {
     "name": "stdout",
     "output_type": "stream",
     "text": [
      "optimal objective value = 0.67\n"
     ]
    }
   ],
   "source": [
    "# Get the objective function value from the optimal solution and print it.\n",
    "obj_val = model.obj.expr()\n",
    "print(f'optimal objective value = {obj_val:.2f}')"
   ]
  },
  {
   "cell_type": "code",
   "execution_count": 12,
   "metadata": {},
   "outputs": [
    {
     "name": "stdout",
     "output_type": "stream",
     "text": [
      "optimal DV a: 0.33 and DV b: 0.0\n"
     ]
    }
   ],
   "source": [
    "# print the final decision variable values\n",
    "print('optimal DV a:',round(model.x['a'].value,2),'and DV b:',model.x['b'].value)"
   ]
  },
  {
   "cell_type": "markdown",
   "metadata": {},
   "source": [
    "Below is an alternate way to view the decision variables with a loop. This will be easier if we have a lot of values."
   ]
  },
  {
   "cell_type": "code",
   "execution_count": 13,
   "metadata": {},
   "outputs": [
    {
     "name": "stdout",
     "output_type": "stream",
     "text": [
      "optimal DV\n",
      "a 0.33\n",
      "b 0.0\n"
     ]
    }
   ],
   "source": [
    "# Get a list of optimal decision variable values.\n",
    "print('optimal DV')\n",
    "for index in DV_indexes:\n",
    "    print(index,round(model.x[index].value,2))"
   ]
  },
  {
   "cell_type": "code",
   "execution_count": 14,
   "metadata": {},
   "outputs": [
    {
     "name": "stdout",
     "output_type": "stream",
     "text": [
      "constraint : Size=1, Index=None, Active=True\n",
      "    Key  : Lower : Body            : Upper : Active\n",
      "    None :   1.0 : 3*x[a] + 4*x[b] :  +Inf :   True\n",
      "constraint : Size=1\n",
      "    Key  : Lower : Body               : Upper\n",
      "    None :   1.0 : 0.9999999999999989 :  None\n"
     ]
    }
   ],
   "source": [
    "# Let's print the constraint\n",
    "model.constraint.pprint()       # prints the mathematical constraint\n",
    "model.constraint.display()      # prints the value of the Lower and Body (think, RHS and LHS)"
   ]
  },
  {
   "cell_type": "markdown",
   "metadata": {},
   "source": [
    "#### Find the Slack\n",
    "Here the -1.11E-15 is basically 0.  Here we end up with the final LHS at .99999 above which is basically 0 so we have a binding constraint because LHS = RHD."
   ]
  },
  {
   "cell_type": "code",
   "execution_count": 15,
   "metadata": {},
   "outputs": [
    {
     "name": "stdout",
     "output_type": "stream",
     "text": [
      "constraint slack = -1.1102230246251565e-15\n"
     ]
    }
   ],
   "source": [
    "# Get the slack in the constraint\n",
    "print('constraint slack =',model.constraint.slack())"
   ]
  },
  {
   "cell_type": "markdown",
   "metadata": {},
   "source": [
    "##### [Back to Top](#Top)"
   ]
  },
  {
   "cell_type": "markdown",
   "metadata": {},
   "source": [
    "## 4. ERRORS <a id=4></a>"
   ]
  },
  {
   "cell_type": "markdown",
   "metadata": {},
   "source": [
    "These are some common errors that Professor Kellie Keeling identified when she was teaching this course. \n",
    "\n",
    "```\n",
    "ERROR 1:\n",
    "#if you get an error WARNING: Could not locate the 'glpsol' executable, which is required for solver 'glpk'\n",
    "#find where glpsol executable is located and copy path\n",
    "#To find, search for ipopt or glpsol and find the .exe files on windows or just the names on Mac which are executable\n",
    "\n",
    "#On my mac, it is the following - copy your path and run the following line\n",
    "solverpath_glpsol = r\"/Users/Kellie/opt/anaconda3/bin/glpsol\"\n",
    "\n",
    "#On my windows machine, it is the following – copy your path and run the following\n",
    "solverpath_glpsol = r\"C:\\Users\\kelli\\anaconda3\\Library\\bin\\glpsol\"\n",
    "\n",
    "# Run the solver.  \n",
    "#opt = SolverFactory('glpk')\n",
    "#if you had trouble finding glpsol executable, run the following instead of above\n",
    "opt = SolverFactory('glpk', executable=solverpath_glpsol)\n",
    "\n",
    "```"
   ]
  },
  {
   "cell_type": "markdown",
   "metadata": {},
   "source": [
    "```\n",
    "ERROR 2:\n",
    "If you get an error about Implicitly replacing the Component attribute - this means you are rerunning code to define decision variables, constraints or an objective that you have already defined (already run). You have to run the code \"from the top\" starting with the model = pe.ConcreteModel()\n",
    "```"
   ]
  },
  {
   "cell_type": "markdown",
   "metadata": {},
   "source": [
    "##### [Back to Top](#Top)"
   ]
  }
 ],
 "metadata": {
  "kernelspec": {
   "display_name": "info-3440",
   "language": "python",
   "name": "info-3440"
  },
  "language_info": {
   "codemirror_mode": {
    "name": "ipython",
    "version": 3
   },
   "file_extension": ".py",
   "mimetype": "text/x-python",
   "name": "python",
   "nbconvert_exporter": "python",
   "pygments_lexer": "ipython3",
   "version": "3.8.12"
  }
 },
 "nbformat": 4,
 "nbformat_minor": 4
}
