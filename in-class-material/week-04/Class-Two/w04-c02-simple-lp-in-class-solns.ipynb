{
 "cells": [
  {
   "cell_type": "markdown",
   "metadata": {},
   "source": [
    "# Week 4 Class 2: In-Class Simple Linear Programming Exercise (Solutions)"
   ]
  },
  {
   "cell_type": "markdown",
   "metadata": {},
   "source": [
    "## Install Packages"
   ]
  },
  {
   "cell_type": "markdown",
   "metadata": {},
   "source": [
    "We will always import our packages at the top of the notebook. "
   ]
  },
  {
   "cell_type": "code",
   "execution_count": 1,
   "metadata": {},
   "outputs": [],
   "source": [
    "import pandas as pd\n",
    "import pyomo.environ as pe"
   ]
  },
  {
   "cell_type": "markdown",
   "metadata": {},
   "source": [
    "## Simple Linear Program"
   ]
  },
  {
   "cell_type": "markdown",
   "metadata": {},
   "source": [
    "Solve the following linear programming problem using python and pyomo. "
   ]
  },
  {
   "cell_type": "markdown",
   "metadata": {},
   "source": [
    "\\begin{array}{ll}\n",
    "  \\max          & a + 5b + 1.5 c \\\\\n",
    "  \\mathrm{s.t.} & a + b + 4 c & \\leq 10\\\\\n",
    "                & 2a + 3 b & \\leq 9 \\\\\n",
    "                & a + 2b + c & \\leq 8\n",
    "\\end{array}"
   ]
  },
  {
   "cell_type": "markdown",
   "metadata": {},
   "source": [
    "We solved this problem in Excel (Week One, Class One), so you can check your answer with that solution."
   ]
  },
  {
   "cell_type": "markdown",
   "metadata": {},
   "source": [
    "### Instantiate (Create) the pyomo model"
   ]
  },
  {
   "cell_type": "code",
   "execution_count": 2,
   "metadata": {},
   "outputs": [],
   "source": [
    "model = pe.ConcreteModel()"
   ]
  },
  {
   "cell_type": "markdown",
   "metadata": {},
   "source": [
    "### Define the Decision Variables"
   ]
  },
  {
   "cell_type": "code",
   "execution_count": 3,
   "metadata": {},
   "outputs": [],
   "source": [
    "indexes = ['a', 'b', 'c']"
   ]
  },
  {
   "cell_type": "code",
   "execution_count": 4,
   "metadata": {},
   "outputs": [
    {
     "name": "stdout",
     "output_type": "stream",
     "text": [
      "x : Size=3, Index=x_index\n",
      "    Key : Lower : Value : Upper : Fixed : Stale : Domain\n",
      "      a :     0 :  None :  None : False :  True : NonNegativeReals\n",
      "      b :     0 :  None :  None : False :  True : NonNegativeReals\n",
      "      c :     0 :  None :  None : False :  True : NonNegativeReals\n"
     ]
    }
   ],
   "source": [
    "model.x = pe.Var(indexes, domain = pe.NonNegativeReals)\n",
    "model.x.pprint()"
   ]
  },
  {
   "cell_type": "markdown",
   "metadata": {},
   "source": [
    "### Define the Objective Function\n",
    "\n",
    "This is a maximization problem and you'll have to set the `sense` argument to `pe.maximize` when defining `model.obj`."
   ]
  },
  {
   "cell_type": "code",
   "execution_count": 5,
   "metadata": {},
   "outputs": [
    {
     "name": "stdout",
     "output_type": "stream",
     "text": [
      "obj : Size=1, Index=None, Active=True\n",
      "    Key  : Active : Sense    : Expression\n",
      "    None :   True : maximize : x[a] + 5*x[b] + 1.5*x[c]\n"
     ]
    }
   ],
   "source": [
    "model.obj = pe.Objective(expr = model.x['a'] + 5*model.x['b'] + 1.5*model.x['c'], sense = pe.maximize)\n",
    "model.obj.pprint()"
   ]
  },
  {
   "cell_type": "markdown",
   "metadata": {},
   "source": [
    "### Define the Constraints\n",
    "\n",
    "Note you will have to define the constraints individually, e.g. `model.constraint_1 = pe.Constraint(blah_1)`, `model.constraint_2 = pe.Constraint(blah_2)`, etc. "
   ]
  },
  {
   "cell_type": "code",
   "execution_count": 6,
   "metadata": {},
   "outputs": [
    {
     "name": "stdout",
     "output_type": "stream",
     "text": [
      "constraint_1 : Size=1, Index=None, Active=True\n",
      "    Key  : Lower : Body                 : Upper : Active\n",
      "    None :  -Inf : x[a] + x[b] + 4*x[c] :  10.0 :   True\n"
     ]
    }
   ],
   "source": [
    "model.constraint_1 = pe.Constraint(expr = model.x['a'] + model.x['b'] + 4*model.x['c'] <= 10)\n",
    "model.constraint_1.pprint()"
   ]
  },
  {
   "cell_type": "code",
   "execution_count": 7,
   "metadata": {},
   "outputs": [
    {
     "name": "stdout",
     "output_type": "stream",
     "text": [
      "constraint_2 : Size=1, Index=None, Active=True\n",
      "    Key  : Lower : Body            : Upper : Active\n",
      "    None :  -Inf : 2*x[a] + 3*x[b] :   9.0 :   True\n"
     ]
    }
   ],
   "source": [
    "model.constraint_2 = pe.Constraint(expr = 2*model.x['a'] + 3*model.x['b'] <= 9)\n",
    "model.constraint_2.pprint()"
   ]
  },
  {
   "cell_type": "code",
   "execution_count": 8,
   "metadata": {},
   "outputs": [
    {
     "name": "stdout",
     "output_type": "stream",
     "text": [
      "constraint_3 : Size=1, Index=None, Active=True\n",
      "    Key  : Lower : Body                 : Upper : Active\n",
      "    None :  -Inf : x[a] + 2*x[b] + x[c] :   8.0 :   True\n"
     ]
    }
   ],
   "source": [
    "model.constraint_3 = pe.Constraint(expr = model.x['a'] + 2*model.x['b'] + model.x['c'] <= 8)\n",
    "model.constraint_3.pprint()"
   ]
  },
  {
   "cell_type": "code",
   "execution_count": 9,
   "metadata": {},
   "outputs": [
    {
     "name": "stdout",
     "output_type": "stream",
     "text": [
      "1 Set Declarations\n",
      "    x_index : Size=1, Index=None, Ordered=Insertion\n",
      "        Key  : Dimen : Domain : Size : Members\n",
      "        None :     1 :    Any :    3 : {'a', 'b', 'c'}\n",
      "\n",
      "1 Var Declarations\n",
      "    x : Size=3, Index=x_index\n",
      "        Key : Lower : Value : Upper : Fixed : Stale : Domain\n",
      "          a :     0 :  None :  None : False :  True : NonNegativeReals\n",
      "          b :     0 :  None :  None : False :  True : NonNegativeReals\n",
      "          c :     0 :  None :  None : False :  True : NonNegativeReals\n",
      "\n",
      "1 Objective Declarations\n",
      "    obj : Size=1, Index=None, Active=True\n",
      "        Key  : Active : Sense    : Expression\n",
      "        None :   True : maximize : x[a] + 5*x[b] + 1.5*x[c]\n",
      "\n",
      "3 Constraint Declarations\n",
      "    constraint_1 : Size=1, Index=None, Active=True\n",
      "        Key  : Lower : Body                 : Upper : Active\n",
      "        None :  -Inf : x[a] + x[b] + 4*x[c] :  10.0 :   True\n",
      "    constraint_2 : Size=1, Index=None, Active=True\n",
      "        Key  : Lower : Body            : Upper : Active\n",
      "        None :  -Inf : 2*x[a] + 3*x[b] :   9.0 :   True\n",
      "    constraint_3 : Size=1, Index=None, Active=True\n",
      "        Key  : Lower : Body                 : Upper : Active\n",
      "        None :  -Inf : x[a] + 2*x[b] + x[c] :   8.0 :   True\n",
      "\n",
      "6 Declarations: x_index x obj constraint_1 constraint_2 constraint_3\n"
     ]
    }
   ],
   "source": [
    "model.pprint()"
   ]
  },
  {
   "cell_type": "markdown",
   "metadata": {},
   "source": [
    "### Solve the Model"
   ]
  },
  {
   "cell_type": "code",
   "execution_count": 10,
   "metadata": {},
   "outputs": [],
   "source": [
    "opt = pe.SolverFactory('glpk')\n",
    "success = opt.solve(model)"
   ]
  },
  {
   "cell_type": "code",
   "execution_count": 11,
   "metadata": {},
   "outputs": [
    {
     "name": "stdout",
     "output_type": "stream",
     "text": [
      "Model unknown\n",
      "\n",
      "  Variables:\n",
      "    x : Size=3, Index=x_index\n",
      "        Key : Lower : Value : Upper : Fixed : Stale : Domain\n",
      "          a :     0 :   0.0 :  None : False : False : NonNegativeReals\n",
      "          b :     0 :   3.0 :  None : False : False : NonNegativeReals\n",
      "          c :     0 :  1.75 :  None : False : False : NonNegativeReals\n",
      "\n",
      "  Objectives:\n",
      "    obj : Size=1, Index=None, Active=True\n",
      "        Key  : Active : Value\n",
      "        None :   True : 17.625\n",
      "\n",
      "  Constraints:\n",
      "    constraint_1 : Size=1\n",
      "        Key  : Lower : Body : Upper\n",
      "        None :  None : 10.0 :  10.0\n",
      "    constraint_2 : Size=1\n",
      "        Key  : Lower : Body : Upper\n",
      "        None :  None :  9.0 :   9.0\n",
      "    constraint_3 : Size=1\n",
      "        Key  : Lower : Body : Upper\n",
      "        None :  None : 7.75 :   8.0\n"
     ]
    }
   ],
   "source": [
    "model.display()"
   ]
  },
  {
   "cell_type": "markdown",
   "metadata": {},
   "source": [
    "### View the Final Model Obj Function and Dec Variables"
   ]
  },
  {
   "cell_type": "code",
   "execution_count": 12,
   "metadata": {},
   "outputs": [
    {
     "name": "stdout",
     "output_type": "stream",
     "text": [
      "optimal objective value = 17.625\n"
     ]
    }
   ],
   "source": [
    "obj_val = model.obj.expr()\n",
    "print(f'optimal objective value = {obj_val:.3f}')"
   ]
  },
  {
   "cell_type": "code",
   "execution_count": 13,
   "metadata": {},
   "outputs": [
    {
     "name": "stdout",
     "output_type": "stream",
     "text": [
      "optimal DV a: 0.0 and DV b: 3.0 and DV c: 1.75\n"
     ]
    }
   ],
   "source": [
    "print('optimal DV a:', round(model.x['a'].value, 2), 'and DV b:', model.x['b'].value, 'and DV c:', model.x['c'].value)"
   ]
  },
  {
   "cell_type": "markdown",
   "metadata": {},
   "source": [
    "Write a loop to view the decision variables. "
   ]
  },
  {
   "cell_type": "code",
   "execution_count": 14,
   "metadata": {},
   "outputs": [
    {
     "name": "stdout",
     "output_type": "stream",
     "text": [
      "optimal DV\n",
      "a 0.0\n",
      "b 3.0\n",
      "c 1.75\n"
     ]
    }
   ],
   "source": [
    "print('optimal DV')\n",
    "for index in indexes:\n",
    "    print(index,round(model.x[index].value,2))"
   ]
  },
  {
   "cell_type": "markdown",
   "metadata": {},
   "source": [
    "Examine the slack in the third constraint."
   ]
  },
  {
   "cell_type": "code",
   "execution_count": 15,
   "metadata": {},
   "outputs": [
    {
     "name": "stdout",
     "output_type": "stream",
     "text": [
      "constraint_3 : Size=1, Index=None, Active=True\n",
      "    Key  : Lower : Body                 : Upper : Active\n",
      "    None :  -Inf : x[a] + 2*x[b] + x[c] :   8.0 :   True\n",
      "constraint_3 : Size=1\n",
      "    Key  : Lower : Body : Upper\n",
      "    None :  None : 7.75 :   8.0\n"
     ]
    }
   ],
   "source": [
    "model.constraint_3.pprint()       # prints the mathematical constraint\n",
    "model.constraint_3.display()      # prints the value of the Lower and Body (think, RHS and LHS)"
   ]
  },
  {
   "cell_type": "code",
   "execution_count": 16,
   "metadata": {},
   "outputs": [
    {
     "name": "stdout",
     "output_type": "stream",
     "text": [
      "constraint slack = 0.25\n"
     ]
    }
   ],
   "source": [
    "print('constraint slack =', model.constraint_3.slack())"
   ]
  }
 ],
 "metadata": {
  "kernelspec": {
   "display_name": "info-3440",
   "language": "python",
   "name": "info-3440"
  },
  "language_info": {
   "codemirror_mode": {
    "name": "ipython",
    "version": 3
   },
   "file_extension": ".py",
   "mimetype": "text/x-python",
   "name": "python",
   "nbconvert_exporter": "python",
   "pygments_lexer": "ipython3",
   "version": "3.8.12"
  }
 },
 "nbformat": 4,
 "nbformat_minor": 4
}
