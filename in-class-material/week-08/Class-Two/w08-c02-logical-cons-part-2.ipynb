{
 "cells": [
  {
   "cell_type": "markdown",
   "metadata": {},
   "source": [
    "## Week 8 Class 2: IP - Facililty Location Example 7.3"
   ]
  },
  {
   "cell_type": "markdown",
   "metadata": {},
   "source": [
    "# Table of Contents<a id=\"Top\"></a>\n",
    "\n",
    "1. [Problem Statement](#1)<br>\n",
    "2. [Data](#2) <br>\n",
    "3. [Original Model Definition](#3)<br>\n",
    "4. [Original Model Solution](#4)<br>\n",
    "5. [Additional Constraints (Logical/Disjunctive) Model Definition](#5)<br>\n",
    "6. [Additional Constraints (Logical/Disjunctive) Model Solution](#6)<br>"
   ]
  },
  {
   "cell_type": "markdown",
   "metadata": {},
   "source": [
    "## 1. Problem Statement<a id=1></a>"
   ]
  },
  {
   "cell_type": "markdown",
   "metadata": {},
   "source": [
    "A Facility Location problem is a blend of a transportation model with fixed costs. That is, we have a problem of moving products from up to four cities (New York, Atlanta, Chicago and Los Angeles) to the distribution centers in the East, South, Midwest and West."
   ]
  },
  {
   "cell_type": "markdown",
   "metadata": {},
   "source": [
    "##### [Back to Top](#Top)"
   ]
  },
  {
   "cell_type": "markdown",
   "metadata": {},
   "source": [
    "## 2. Data<a id=2></a>"
   ]
  },
  {
   "cell_type": "code",
   "execution_count": 1,
   "metadata": {},
   "outputs": [],
   "source": [
    "import pandas as pd\n",
    "import pyomo.environ as pe\n",
    "import matplotlib.pyplot as plt"
   ]
  },
  {
   "cell_type": "markdown",
   "metadata": {},
   "source": [
    "You will have to change the path (below) to point to the file on your computer!"
   ]
  },
  {
   "cell_type": "code",
   "execution_count": 3,
   "metadata": {},
   "outputs": [
    {
     "data": {
      "text/html": [
       "<div>\n",
       "<style scoped>\n",
       "    .dataframe tbody tr th:only-of-type {\n",
       "        vertical-align: middle;\n",
       "    }\n",
       "\n",
       "    .dataframe tbody tr th {\n",
       "        vertical-align: top;\n",
       "    }\n",
       "\n",
       "    .dataframe thead th {\n",
       "        text-align: right;\n",
       "    }\n",
       "</style>\n",
       "<table border=\"1\" class=\"dataframe\">\n",
       "  <thead>\n",
       "    <tr style=\"text-align: right;\">\n",
       "      <th></th>\n",
       "      <th>Data</th>\n",
       "      <th>Unnamed: 1</th>\n",
       "      <th>Unnamed: 2</th>\n",
       "      <th>Unnamed: 3</th>\n",
       "      <th>Unnamed: 4</th>\n",
       "      <th>Unnamed: 5</th>\n",
       "      <th>Unnamed: 6</th>\n",
       "      <th>Unnamed: 7</th>\n",
       "      <th>Unnamed: 8</th>\n",
       "      <th>Unnamed: 9</th>\n",
       "    </tr>\n",
       "  </thead>\n",
       "  <tbody>\n",
       "    <tr>\n",
       "      <th>0</th>\n",
       "      <td>NaN</td>\n",
       "      <td>NaN</td>\n",
       "      <td>To</td>\n",
       "      <td>NaN</td>\n",
       "      <td>NaN</td>\n",
       "      <td>NaN</td>\n",
       "      <td>NaN</td>\n",
       "      <td>NaN</td>\n",
       "      <td>NaN</td>\n",
       "      <td>NaN</td>\n",
       "    </tr>\n",
       "    <tr>\n",
       "      <th>1</th>\n",
       "      <td>NaN</td>\n",
       "      <td>NaN</td>\n",
       "      <td>East</td>\n",
       "      <td>South</td>\n",
       "      <td>Midwest</td>\n",
       "      <td>West</td>\n",
       "      <td>Capacity</td>\n",
       "      <td>Annual cost ($000s)</td>\n",
       "      <td>NaN</td>\n",
       "      <td>NaN</td>\n",
       "    </tr>\n",
       "    <tr>\n",
       "      <th>2</th>\n",
       "      <td>From</td>\n",
       "      <td>New York</td>\n",
       "      <td>206</td>\n",
       "      <td>225</td>\n",
       "      <td>230</td>\n",
       "      <td>290</td>\n",
       "      <td>150</td>\n",
       "      <td>6000</td>\n",
       "      <td>NaN</td>\n",
       "      <td>NaN</td>\n",
       "    </tr>\n",
       "    <tr>\n",
       "      <th>3</th>\n",
       "      <td>NaN</td>\n",
       "      <td>Atlanta</td>\n",
       "      <td>225</td>\n",
       "      <td>206</td>\n",
       "      <td>221</td>\n",
       "      <td>270</td>\n",
       "      <td>150</td>\n",
       "      <td>5500</td>\n",
       "      <td>NaN</td>\n",
       "      <td>NaN</td>\n",
       "    </tr>\n",
       "    <tr>\n",
       "      <th>4</th>\n",
       "      <td>NaN</td>\n",
       "      <td>Chicago</td>\n",
       "      <td>230</td>\n",
       "      <td>221</td>\n",
       "      <td>208</td>\n",
       "      <td>262</td>\n",
       "      <td>150</td>\n",
       "      <td>5800</td>\n",
       "      <td>NaN</td>\n",
       "      <td>NaN</td>\n",
       "    </tr>\n",
       "    <tr>\n",
       "      <th>5</th>\n",
       "      <td>NaN</td>\n",
       "      <td>Los Angeles</td>\n",
       "      <td>290</td>\n",
       "      <td>270</td>\n",
       "      <td>262</td>\n",
       "      <td>215</td>\n",
       "      <td>150</td>\n",
       "      <td>6200</td>\n",
       "      <td>NaN</td>\n",
       "      <td>NaN</td>\n",
       "    </tr>\n",
       "    <tr>\n",
       "      <th>6</th>\n",
       "      <td>NaN</td>\n",
       "      <td>Demand</td>\n",
       "      <td>100</td>\n",
       "      <td>150</td>\n",
       "      <td>110</td>\n",
       "      <td>90</td>\n",
       "      <td>NaN</td>\n",
       "      <td>NaN</td>\n",
       "      <td>NaN</td>\n",
       "      <td>NaN</td>\n",
       "    </tr>\n",
       "    <tr>\n",
       "      <th>7</th>\n",
       "      <td>NaN</td>\n",
       "      <td>NaN</td>\n",
       "      <td>NaN</td>\n",
       "      <td>NaN</td>\n",
       "      <td>NaN</td>\n",
       "      <td>NaN</td>\n",
       "      <td>NaN</td>\n",
       "      <td>NaN</td>\n",
       "      <td>NaN</td>\n",
       "      <td>NaN</td>\n",
       "    </tr>\n",
       "    <tr>\n",
       "      <th>8</th>\n",
       "      <td>NaN</td>\n",
       "      <td>NaN</td>\n",
       "      <td>NaN</td>\n",
       "      <td>NaN</td>\n",
       "      <td>NaN</td>\n",
       "      <td>NaN</td>\n",
       "      <td>NaN</td>\n",
       "      <td>NaN</td>\n",
       "      <td>NaN</td>\n",
       "      <td>NaN</td>\n",
       "    </tr>\n",
       "    <tr>\n",
       "      <th>9</th>\n",
       "      <td>Decisions</td>\n",
       "      <td>NaN</td>\n",
       "      <td>NaN</td>\n",
       "      <td>NaN</td>\n",
       "      <td>NaN</td>\n",
       "      <td>NaN</td>\n",
       "      <td>NaN</td>\n",
       "      <td>NaN</td>\n",
       "      <td>NaN</td>\n",
       "      <td>NaN</td>\n",
       "    </tr>\n",
       "    <tr>\n",
       "      <th>10</th>\n",
       "      <td>NaN</td>\n",
       "      <td>NaN</td>\n",
       "      <td>E</td>\n",
       "      <td>S</td>\n",
       "      <td>M</td>\n",
       "      <td>W</td>\n",
       "      <td>Sent</td>\n",
       "      <td>NaN</td>\n",
       "      <td>RHS</td>\n",
       "      <td>y (utliize?)</td>\n",
       "    </tr>\n",
       "    <tr>\n",
       "      <th>11</th>\n",
       "      <td>NaN</td>\n",
       "      <td>N</td>\n",
       "      <td>1</td>\n",
       "      <td>1</td>\n",
       "      <td>1</td>\n",
       "      <td>1</td>\n",
       "      <td>4</td>\n",
       "      <td>&lt;=</td>\n",
       "      <td>150</td>\n",
       "      <td>1</td>\n",
       "    </tr>\n",
       "    <tr>\n",
       "      <th>12</th>\n",
       "      <td>NaN</td>\n",
       "      <td>A</td>\n",
       "      <td>1</td>\n",
       "      <td>1</td>\n",
       "      <td>1</td>\n",
       "      <td>1</td>\n",
       "      <td>4</td>\n",
       "      <td>&lt;=</td>\n",
       "      <td>150</td>\n",
       "      <td>1</td>\n",
       "    </tr>\n",
       "    <tr>\n",
       "      <th>13</th>\n",
       "      <td>NaN</td>\n",
       "      <td>C</td>\n",
       "      <td>1</td>\n",
       "      <td>1</td>\n",
       "      <td>1</td>\n",
       "      <td>1</td>\n",
       "      <td>4</td>\n",
       "      <td>&lt;=</td>\n",
       "      <td>150</td>\n",
       "      <td>1</td>\n",
       "    </tr>\n",
       "    <tr>\n",
       "      <th>14</th>\n",
       "      <td>NaN</td>\n",
       "      <td>L</td>\n",
       "      <td>1</td>\n",
       "      <td>1</td>\n",
       "      <td>1</td>\n",
       "      <td>1</td>\n",
       "      <td>4</td>\n",
       "      <td>&lt;=</td>\n",
       "      <td>150</td>\n",
       "      <td>1</td>\n",
       "    </tr>\n",
       "    <tr>\n",
       "      <th>15</th>\n",
       "      <td>NaN</td>\n",
       "      <td>Rec'd</td>\n",
       "      <td>4</td>\n",
       "      <td>4</td>\n",
       "      <td>4</td>\n",
       "      <td>4</td>\n",
       "      <td>NaN</td>\n",
       "      <td>NaN</td>\n",
       "      <td>NaN</td>\n",
       "      <td>NaN</td>\n",
       "    </tr>\n",
       "    <tr>\n",
       "      <th>16</th>\n",
       "      <td>NaN</td>\n",
       "      <td>NaN</td>\n",
       "      <td>&gt;=</td>\n",
       "      <td>&gt;=</td>\n",
       "      <td>&gt;=</td>\n",
       "      <td>&gt;=</td>\n",
       "      <td>NaN</td>\n",
       "      <td>NaN</td>\n",
       "      <td>NaN</td>\n",
       "      <td>NaN</td>\n",
       "    </tr>\n",
       "    <tr>\n",
       "      <th>17</th>\n",
       "      <td>NaN</td>\n",
       "      <td>NaN</td>\n",
       "      <td>100</td>\n",
       "      <td>150</td>\n",
       "      <td>110</td>\n",
       "      <td>90</td>\n",
       "      <td>NaN</td>\n",
       "      <td>NaN</td>\n",
       "      <td>NaN</td>\n",
       "      <td>NaN</td>\n",
       "    </tr>\n",
       "    <tr>\n",
       "      <th>18</th>\n",
       "      <td>NaN</td>\n",
       "      <td>NaN</td>\n",
       "      <td>NaN</td>\n",
       "      <td>NaN</td>\n",
       "      <td>NaN</td>\n",
       "      <td>NaN</td>\n",
       "      <td>NaN</td>\n",
       "      <td>NaN</td>\n",
       "      <td>NaN</td>\n",
       "      <td>NaN</td>\n",
       "    </tr>\n",
       "    <tr>\n",
       "      <th>19</th>\n",
       "      <td>Objective</td>\n",
       "      <td>NaN</td>\n",
       "      <td>Fixed Cost</td>\n",
       "      <td>23500</td>\n",
       "      <td>NaN</td>\n",
       "      <td>NaN</td>\n",
       "      <td>NaN</td>\n",
       "      <td>NaN</td>\n",
       "      <td>NaN</td>\n",
       "      <td>NaN</td>\n",
       "    </tr>\n",
       "    <tr>\n",
       "      <th>20</th>\n",
       "      <td>NaN</td>\n",
       "      <td>NaN</td>\n",
       "      <td>Variable Cost</td>\n",
       "      <td>3831</td>\n",
       "      <td>NaN</td>\n",
       "      <td>NaN</td>\n",
       "      <td>NaN</td>\n",
       "      <td>NaN</td>\n",
       "      <td>NaN</td>\n",
       "      <td>NaN</td>\n",
       "    </tr>\n",
       "    <tr>\n",
       "      <th>21</th>\n",
       "      <td>NaN</td>\n",
       "      <td>NaN</td>\n",
       "      <td>Total Cost</td>\n",
       "      <td>27331</td>\n",
       "      <td>NaN</td>\n",
       "      <td>NaN</td>\n",
       "      <td>NaN</td>\n",
       "      <td>NaN</td>\n",
       "      <td>NaN</td>\n",
       "      <td>NaN</td>\n",
       "    </tr>\n",
       "  </tbody>\n",
       "</table>\n",
       "</div>"
      ],
      "text/plain": [
       "         Data   Unnamed: 1     Unnamed: 2 Unnamed: 3 Unnamed: 4 Unnamed: 5  \\\n",
       "0         NaN          NaN             To        NaN        NaN        NaN   \n",
       "1         NaN          NaN           East      South    Midwest       West   \n",
       "2        From     New York            206        225        230        290   \n",
       "3         NaN      Atlanta            225        206        221        270   \n",
       "4         NaN      Chicago            230        221        208        262   \n",
       "5         NaN  Los Angeles            290        270        262        215   \n",
       "6         NaN       Demand            100        150        110         90   \n",
       "7         NaN          NaN            NaN        NaN        NaN        NaN   \n",
       "8         NaN          NaN            NaN        NaN        NaN        NaN   \n",
       "9   Decisions          NaN            NaN        NaN        NaN        NaN   \n",
       "10        NaN          NaN              E          S          M          W   \n",
       "11        NaN            N              1          1          1          1   \n",
       "12        NaN            A              1          1          1          1   \n",
       "13        NaN            C              1          1          1          1   \n",
       "14        NaN            L              1          1          1          1   \n",
       "15        NaN        Rec'd              4          4          4          4   \n",
       "16        NaN          NaN             >=         >=         >=         >=   \n",
       "17        NaN          NaN            100        150        110         90   \n",
       "18        NaN          NaN            NaN        NaN        NaN        NaN   \n",
       "19  Objective          NaN     Fixed Cost      23500        NaN        NaN   \n",
       "20        NaN          NaN  Variable Cost       3831        NaN        NaN   \n",
       "21        NaN          NaN     Total Cost      27331        NaN        NaN   \n",
       "\n",
       "   Unnamed: 6           Unnamed: 7 Unnamed: 8    Unnamed: 9  \n",
       "0         NaN                  NaN        NaN           NaN  \n",
       "1    Capacity  Annual cost ($000s)        NaN           NaN  \n",
       "2         150                 6000        NaN           NaN  \n",
       "3         150                 5500        NaN           NaN  \n",
       "4         150                 5800        NaN           NaN  \n",
       "5         150                 6200        NaN           NaN  \n",
       "6         NaN                  NaN        NaN           NaN  \n",
       "7         NaN                  NaN        NaN           NaN  \n",
       "8         NaN                  NaN        NaN           NaN  \n",
       "9         NaN                  NaN        NaN           NaN  \n",
       "10       Sent                  NaN        RHS  y (utliize?)  \n",
       "11          4                   <=        150             1  \n",
       "12          4                   <=        150             1  \n",
       "13          4                   <=        150             1  \n",
       "14          4                   <=        150             1  \n",
       "15        NaN                  NaN        NaN           NaN  \n",
       "16        NaN                  NaN        NaN           NaN  \n",
       "17        NaN                  NaN        NaN           NaN  \n",
       "18        NaN                  NaN        NaN           NaN  \n",
       "19        NaN                  NaN        NaN           NaN  \n",
       "20        NaN                  NaN        NaN           NaN  \n",
       "21        NaN                  NaN        NaN           NaN  "
      ]
     },
     "execution_count": 3,
     "metadata": {},
     "output_type": "execute_result"
    }
   ],
   "source": [
    "raw_data = pd.read_excel('../Class-One/w08-c01-logical-part-2.xlsx', \n",
    "                         sheet_name = 'Example 7.3 - Location')\n",
    "raw_data"
   ]
  },
  {
   "cell_type": "code",
   "execution_count": 4,
   "metadata": {},
   "outputs": [
    {
     "data": {
      "text/html": [
       "<div>\n",
       "<style scoped>\n",
       "    .dataframe tbody tr th:only-of-type {\n",
       "        vertical-align: middle;\n",
       "    }\n",
       "\n",
       "    .dataframe tbody tr th {\n",
       "        vertical-align: top;\n",
       "    }\n",
       "\n",
       "    .dataframe thead th {\n",
       "        text-align: right;\n",
       "    }\n",
       "</style>\n",
       "<table border=\"1\" class=\"dataframe\">\n",
       "  <thead>\n",
       "    <tr style=\"text-align: right;\">\n",
       "      <th></th>\n",
       "      <th>E</th>\n",
       "      <th>S</th>\n",
       "      <th>M</th>\n",
       "      <th>W</th>\n",
       "    </tr>\n",
       "  </thead>\n",
       "  <tbody>\n",
       "    <tr>\n",
       "      <th>N</th>\n",
       "      <td>206</td>\n",
       "      <td>225</td>\n",
       "      <td>230</td>\n",
       "      <td>290</td>\n",
       "    </tr>\n",
       "    <tr>\n",
       "      <th>A</th>\n",
       "      <td>225</td>\n",
       "      <td>206</td>\n",
       "      <td>221</td>\n",
       "      <td>270</td>\n",
       "    </tr>\n",
       "    <tr>\n",
       "      <th>C</th>\n",
       "      <td>230</td>\n",
       "      <td>221</td>\n",
       "      <td>208</td>\n",
       "      <td>262</td>\n",
       "    </tr>\n",
       "    <tr>\n",
       "      <th>L</th>\n",
       "      <td>290</td>\n",
       "      <td>270</td>\n",
       "      <td>262</td>\n",
       "      <td>215</td>\n",
       "    </tr>\n",
       "  </tbody>\n",
       "</table>\n",
       "</div>"
      ],
      "text/plain": [
       "     E    S    M    W\n",
       "N  206  225  230  290\n",
       "A  225  206  221  270\n",
       "C  230  221  208  262\n",
       "L  290  270  262  215"
      ]
     },
     "execution_count": 4,
     "metadata": {},
     "output_type": "execute_result"
    }
   ],
   "source": [
    "DV_indexes = ['E', 'S', 'M', 'W']\n",
    "coef = pd.DataFrame(raw_data.iloc[range(2, 6), range(2, 6)])\n",
    "coef.index = ['N', 'A', 'C','L']\n",
    "coef.columns = DV_indexes\n",
    "coef"
   ]
  },
  {
   "cell_type": "code",
   "execution_count": 5,
   "metadata": {},
   "outputs": [
    {
     "data": {
      "text/html": [
       "<div>\n",
       "<style scoped>\n",
       "    .dataframe tbody tr th:only-of-type {\n",
       "        vertical-align: middle;\n",
       "    }\n",
       "\n",
       "    .dataframe tbody tr th {\n",
       "        vertical-align: top;\n",
       "    }\n",
       "\n",
       "    .dataframe thead th {\n",
       "        text-align: right;\n",
       "    }\n",
       "</style>\n",
       "<table border=\"1\" class=\"dataframe\">\n",
       "  <thead>\n",
       "    <tr style=\"text-align: right;\">\n",
       "      <th></th>\n",
       "      <th>capacity</th>\n",
       "      <th>annualcost</th>\n",
       "    </tr>\n",
       "  </thead>\n",
       "  <tbody>\n",
       "    <tr>\n",
       "      <th>N</th>\n",
       "      <td>150</td>\n",
       "      <td>6000</td>\n",
       "    </tr>\n",
       "    <tr>\n",
       "      <th>A</th>\n",
       "      <td>150</td>\n",
       "      <td>5500</td>\n",
       "    </tr>\n",
       "    <tr>\n",
       "      <th>C</th>\n",
       "      <td>150</td>\n",
       "      <td>5800</td>\n",
       "    </tr>\n",
       "    <tr>\n",
       "      <th>L</th>\n",
       "      <td>150</td>\n",
       "      <td>6200</td>\n",
       "    </tr>\n",
       "  </tbody>\n",
       "</table>\n",
       "</div>"
      ],
      "text/plain": [
       "  capacity annualcost\n",
       "N      150       6000\n",
       "A      150       5500\n",
       "C      150       5800\n",
       "L      150       6200"
      ]
     },
     "execution_count": 5,
     "metadata": {},
     "output_type": "execute_result"
    }
   ],
   "source": [
    "capcost = raw_data.iloc[range(2, 6), [6, 7]]\n",
    "capcost.columns = ['capacity', 'annualcost']\n",
    "capcost.index = coef.index\n",
    "capcost"
   ]
  },
  {
   "cell_type": "code",
   "execution_count": 6,
   "metadata": {},
   "outputs": [
    {
     "data": {
      "text/html": [
       "<div>\n",
       "<style scoped>\n",
       "    .dataframe tbody tr th:only-of-type {\n",
       "        vertical-align: middle;\n",
       "    }\n",
       "\n",
       "    .dataframe tbody tr th {\n",
       "        vertical-align: top;\n",
       "    }\n",
       "\n",
       "    .dataframe thead th {\n",
       "        text-align: right;\n",
       "    }\n",
       "</style>\n",
       "<table border=\"1\" class=\"dataframe\">\n",
       "  <thead>\n",
       "    <tr style=\"text-align: right;\">\n",
       "      <th></th>\n",
       "      <th>demand</th>\n",
       "    </tr>\n",
       "  </thead>\n",
       "  <tbody>\n",
       "    <tr>\n",
       "      <th>E</th>\n",
       "      <td>100.0</td>\n",
       "    </tr>\n",
       "    <tr>\n",
       "      <th>S</th>\n",
       "      <td>150.0</td>\n",
       "    </tr>\n",
       "    <tr>\n",
       "      <th>M</th>\n",
       "      <td>110.0</td>\n",
       "    </tr>\n",
       "    <tr>\n",
       "      <th>W</th>\n",
       "      <td>90.0</td>\n",
       "    </tr>\n",
       "  </tbody>\n",
       "</table>\n",
       "</div>"
      ],
      "text/plain": [
       "   demand\n",
       "E   100.0\n",
       "S   150.0\n",
       "M   110.0\n",
       "W    90.0"
      ]
     },
     "execution_count": 6,
     "metadata": {},
     "output_type": "execute_result"
    }
   ],
   "source": [
    "demand = pd.DataFrame()\n",
    "demand.loc['E', 'demand'] = 100\n",
    "demand.loc['S', 'demand'] = 150\n",
    "demand.loc['M', 'demand'] = 110\n",
    "demand.loc['W', 'demand'] = 90\n",
    "demand"
   ]
  },
  {
   "cell_type": "markdown",
   "metadata": {},
   "source": [
    "##### [Back to Top](#Top)"
   ]
  },
  {
   "cell_type": "markdown",
   "metadata": {},
   "source": [
    "### 3. Original Model Definition<a id=3></a>"
   ]
  },
  {
   "cell_type": "code",
   "execution_count": 7,
   "metadata": {},
   "outputs": [],
   "source": [
    "model = pe.ConcreteModel()"
   ]
  },
  {
   "cell_type": "markdown",
   "metadata": {},
   "source": [
    "## Define Decision Variables"
   ]
  },
  {
   "cell_type": "markdown",
   "metadata": {},
   "source": [
    "Define your decision variables. __NOTE:__ In this first problem, we have two sets of decision variables in our model. The `x` variables defined the quantities being shipped between each potential origin and the destination (E, M, S, and W). The `y` variables are the individual binary variables that define whether or not we use a particular facility. The variable `y` is indexed by the facility cities."
   ]
  },
  {
   "cell_type": "code",
   "execution_count": 8,
   "metadata": {},
   "outputs": [
    {
     "name": "stdout",
     "output_type": "stream",
     "text": [
      "N : Size=4, Index=N_index\n",
      "    Key : Lower : Value : Upper : Fixed : Stale : Domain\n",
      "      E :     0 :  None :  None : False :  True : NonNegativeReals\n",
      "      M :     0 :  None :  None : False :  True : NonNegativeReals\n",
      "      S :     0 :  None :  None : False :  True : NonNegativeReals\n",
      "      W :     0 :  None :  None : False :  True : NonNegativeReals\n",
      "A : Size=4, Index=A_index\n",
      "    Key : Lower : Value : Upper : Fixed : Stale : Domain\n",
      "      E :     0 :  None :  None : False :  True : NonNegativeReals\n",
      "      M :     0 :  None :  None : False :  True : NonNegativeReals\n",
      "      S :     0 :  None :  None : False :  True : NonNegativeReals\n",
      "      W :     0 :  None :  None : False :  True : NonNegativeReals\n",
      "C : Size=4, Index=C_index\n",
      "    Key : Lower : Value : Upper : Fixed : Stale : Domain\n",
      "      E :     0 :  None :  None : False :  True : NonNegativeReals\n",
      "      M :     0 :  None :  None : False :  True : NonNegativeReals\n",
      "      S :     0 :  None :  None : False :  True : NonNegativeReals\n",
      "      W :     0 :  None :  None : False :  True : NonNegativeReals\n",
      "L : Size=4, Index=L_index\n",
      "    Key : Lower : Value : Upper : Fixed : Stale : Domain\n",
      "      E :     0 :  None :  None : False :  True : NonNegativeReals\n",
      "      M :     0 :  None :  None : False :  True : NonNegativeReals\n",
      "      S :     0 :  None :  None : False :  True : NonNegativeReals\n",
      "      W :     0 :  None :  None : False :  True : NonNegativeReals\n",
      "y : Size=4, Index=y_index\n",
      "    Key : Lower : Value : Upper : Fixed : Stale : Domain\n",
      "      A :     0 :  None :     1 : False :  True : Binary\n",
      "      C :     0 :  None :     1 : False :  True : Binary\n",
      "      L :     0 :  None :     1 : False :  True : Binary\n",
      "      N :     0 :  None :     1 : False :  True : Binary\n"
     ]
    }
   ],
   "source": [
    "model.N = pe.Var(DV_indexes, domain = pe.NonNegativeReals)\n",
    "model.A = pe.Var(DV_indexes, domain = pe.NonNegativeReals)\n",
    "model.C = pe.Var(DV_indexes, domain = pe.NonNegativeReals)\n",
    "model.L = pe.Var(DV_indexes, domain = pe.NonNegativeReals)\n",
    "model.y = pe.Var(coef.index, domain = pe.Binary)\n",
    "\n",
    "for DV in model.component_objects(pe.Var):\n",
    "    DV.pprint()"
   ]
  },
  {
   "cell_type": "markdown",
   "metadata": {},
   "source": [
    "### Define Objective Function"
   ]
  },
  {
   "cell_type": "markdown",
   "metadata": {},
   "source": [
    "Define your model objective function. Note that this will be the total costs which is calculated from the fixed costs and variable sales costs. This objective function represents but `sumproduct` function calls in the Excel worksheet. "
   ]
  },
  {
   "cell_type": "code",
   "execution_count": 9,
   "metadata": {},
   "outputs": [
    {
     "name": "stdout",
     "output_type": "stream",
     "text": [
      "obj : Size=1, Index=None, Active=True\n",
      "    Key  : Active : Sense    : Expression\n",
      "    None :   True : minimize : 206*N[E] + 225*N[S] + 230*N[M] + 290*N[W] + 225*A[E] + 206*A[S] + 221*A[M] + 270*A[W] + 230*C[E] + 221*C[S] + 208*C[M] + 262*C[W] + 290*L[E] + 270*L[S] + 262*L[M] + 215*L[W] + 6000*y[N] + 5500*y[A] + 5800*y[C] + 6200*y[L]\n"
     ]
    }
   ],
   "source": [
    "#obj funct minimize cost * (N A C L) + annual cost * y\n",
    "model.obj = pe.Objective(expr = sum(coef.loc['N', index]*model.N[index] for index in DV_indexes)\n",
    "                                    + sum(coef.loc['A', index]*model.A[index] for index in DV_indexes)\n",
    "                                    + sum(coef.loc['C', index]*model.C[index] for index in DV_indexes)\n",
    "                                    + sum(coef.loc['L', index]*model.L[index] for index in DV_indexes)\n",
    "                                    + sum(capcost.loc[index,'annualcost']*model.y[index] \n",
    "                                          for index in coef.index),\n",
    "                         sense = pe.minimize)\n",
    "model.obj.pprint()"
   ]
  },
  {
   "cell_type": "markdown",
   "metadata": {},
   "source": [
    "### Define constraints"
   ]
  },
  {
   "cell_type": "code",
   "execution_count": 10,
   "metadata": {},
   "outputs": [
    {
     "name": "stdout",
     "output_type": "stream",
     "text": [
      "constE : Size=1, Index=None, Active=True\n",
      "    Key  : Lower : Body                      : Upper : Active\n",
      "    None : 100.0 : N[E] + A[E] + C[E] + L[E] :  +Inf :   True\n",
      "constE None\n",
      "constS : Size=1, Index=None, Active=True\n",
      "    Key  : Lower : Body                      : Upper : Active\n",
      "    None : 150.0 : N[S] + A[S] + C[S] + L[S] :  +Inf :   True\n",
      "constS None\n",
      "constM : Size=1, Index=None, Active=True\n",
      "    Key  : Lower : Body                      : Upper : Active\n",
      "    None : 110.0 : N[M] + A[M] + C[M] + L[M] :  +Inf :   True\n",
      "constM None\n",
      "constW : Size=1, Index=None, Active=True\n",
      "    Key  : Lower : Body                      : Upper : Active\n",
      "    None :  90.0 : N[W] + A[W] + C[W] + L[W] :  +Inf :   True\n",
      "constW None\n",
      "constlinkN : Size=1, Index=None, Active=True\n",
      "    Key  : Lower : Body                                 : Upper : Active\n",
      "    None :  -Inf : N[E] + N[S] + N[M] + N[W] - 150*y[N] :   0.0 :   True\n",
      "constlinkN None\n",
      "constlinkA : Size=1, Index=None, Active=True\n",
      "    Key  : Lower : Body                                 : Upper : Active\n",
      "    None :  -Inf : A[E] + A[S] + A[M] + A[W] - 150*y[A] :   0.0 :   True\n",
      "constlinkA None\n",
      "constlinkC : Size=1, Index=None, Active=True\n",
      "    Key  : Lower : Body                                 : Upper : Active\n",
      "    None :  -Inf : C[E] + C[S] + C[M] + C[W] - 150*y[C] :   0.0 :   True\n",
      "constlinkC None\n",
      "constlinkL : Size=1, Index=None, Active=True\n",
      "    Key  : Lower : Body                                 : Upper : Active\n",
      "    None :  -Inf : L[E] + L[S] + L[M] + L[W] - 150*y[L] :   0.0 :   True\n",
      "constlinkL None\n"
     ]
    }
   ],
   "source": [
    "#Demand Constraints\n",
    "model.constE = pe.Constraint(expr=model.N['E'] + model.A['E']+model.C['E'] + model.L['E'] \n",
    "                             >= demand.loc['E','demand'])\n",
    "model.constS = pe.Constraint(expr=model.N['S'] + model.A['S']+model.C['S'] + model.L['S']\n",
    "                             >= demand.loc['S', 'demand'])\n",
    "model.constM = pe.Constraint(expr=model.N['M'] + model.A['M']+model.C['M'] + model.L['M']\n",
    "                             >= demand.loc['M', 'demand'])\n",
    "model.constW = pe.Constraint(expr=model.N['W'] + model.A['W']+model.C['W'] + model.L['W']\n",
    "                             >= demand.loc['W', 'demand'])\n",
    "\n",
    "# Capacity and Linking Constraints DV <= M*y\n",
    "model.constlinkN = pe.Constraint(expr=sum(model.N[index] for index in DV_indexes) \n",
    "                                 <= capcost.loc['N','capacity'] * model.y['N'])\n",
    "model.constlinkA = pe.Constraint(expr=sum(model.A[index] for index in DV_indexes) \n",
    "                                 <= capcost.loc['A','capacity']* model.y['A'])\n",
    "model.constlinkC = pe.Constraint(expr=sum(model.C[index] for index in DV_indexes) \n",
    "                                 <= capcost.loc['C','capacity'] * model.y['C'])\n",
    "model.constlinkL = pe.Constraint(expr=sum(model.L[index] for index in DV_indexes) \n",
    "                                 <= capcost.loc['L','capacity'] * model.y['L'])\n",
    "\n",
    "for con in model.component_objects(pe.Constraint):\n",
    "    print(con,con.pprint())"
   ]
  },
  {
   "cell_type": "markdown",
   "metadata": {},
   "source": [
    "##### [Back to Top](#Top)"
   ]
  },
  {
   "cell_type": "markdown",
   "metadata": {},
   "source": [
    "### 4. Original Model Solution<a id=4></a>"
   ]
  },
  {
   "cell_type": "markdown",
   "metadata": {},
   "source": [
    "One thing that I always fail to mention is that you absolutely do not need to redefine the `opt` object each time you run `opt.solve` on a model. The `opt` definition will take care of specifying to use `glpk` throughout the entire python session."
   ]
  },
  {
   "cell_type": "code",
   "execution_count": 11,
   "metadata": {},
   "outputs": [
    {
     "name": "stdout",
     "output_type": "stream",
     "text": [
      "ok optimal\n"
     ]
    }
   ],
   "source": [
    "opt = pe.SolverFactory('glpk')\n",
    "result = opt.solve(model)\n",
    "print(result.solver.status, result.solver.termination_condition)"
   ]
  },
  {
   "cell_type": "markdown",
   "metadata": {},
   "source": [
    "### Optimal Objective Value"
   ]
  },
  {
   "cell_type": "code",
   "execution_count": 12,
   "metadata": {},
   "outputs": [
    {
     "name": "stdout",
     "output_type": "stream",
     "text": [
      "optimal objective value minimum cost = $115770.00\n"
     ]
    }
   ],
   "source": [
    "obj_val = model.obj.expr()\n",
    "print(f'optimal objective value minimum cost = ${obj_val:.2f}')"
   ]
  },
  {
   "cell_type": "markdown",
   "metadata": {},
   "source": [
    "### Optimal Decision Variables"
   ]
  },
  {
   "cell_type": "code",
   "execution_count": 13,
   "metadata": {},
   "outputs": [
    {
     "data": {
      "text/html": [
       "<div>\n",
       "<style scoped>\n",
       "    .dataframe tbody tr th:only-of-type {\n",
       "        vertical-align: middle;\n",
       "    }\n",
       "\n",
       "    .dataframe tbody tr th {\n",
       "        vertical-align: top;\n",
       "    }\n",
       "\n",
       "    .dataframe thead th {\n",
       "        text-align: right;\n",
       "    }\n",
       "</style>\n",
       "<table border=\"1\" class=\"dataframe\">\n",
       "  <thead>\n",
       "    <tr style=\"text-align: right;\">\n",
       "      <th></th>\n",
       "      <th>E</th>\n",
       "      <th>S</th>\n",
       "      <th>M</th>\n",
       "      <th>W</th>\n",
       "    </tr>\n",
       "  </thead>\n",
       "  <tbody>\n",
       "    <tr>\n",
       "      <th>N</th>\n",
       "      <td>100.0</td>\n",
       "      <td>0.0</td>\n",
       "      <td>50.0</td>\n",
       "      <td>0.0</td>\n",
       "    </tr>\n",
       "    <tr>\n",
       "      <th>A</th>\n",
       "      <td>0.0</td>\n",
       "      <td>150.0</td>\n",
       "      <td>0.0</td>\n",
       "      <td>0.0</td>\n",
       "    </tr>\n",
       "    <tr>\n",
       "      <th>C</th>\n",
       "      <td>0.0</td>\n",
       "      <td>0.0</td>\n",
       "      <td>0.0</td>\n",
       "      <td>0.0</td>\n",
       "    </tr>\n",
       "    <tr>\n",
       "      <th>L</th>\n",
       "      <td>0.0</td>\n",
       "      <td>0.0</td>\n",
       "      <td>60.0</td>\n",
       "      <td>90.0</td>\n",
       "    </tr>\n",
       "  </tbody>\n",
       "</table>\n",
       "</div>"
      ],
      "text/plain": [
       "       E      S     M     W\n",
       "N  100.0    0.0  50.0   0.0\n",
       "A    0.0  150.0   0.0   0.0\n",
       "C    0.0    0.0   0.0   0.0\n",
       "L    0.0    0.0  60.0  90.0"
      ]
     },
     "execution_count": 13,
     "metadata": {},
     "output_type": "execute_result"
    }
   ],
   "source": [
    "DV_solution = pd.DataFrame()\n",
    "for index in DV_indexes:\n",
    "    DV_solution.loc['N', index] = model.N[index].value\n",
    "    DV_solution.loc['A', index] = model.A[index].value\n",
    "    DV_solution.loc['C', index] = model.C[index].value\n",
    "    DV_solution.loc['L', index] = model.L[index].value\n",
    "DV_solution"
   ]
  },
  {
   "cell_type": "markdown",
   "metadata": {},
   "source": [
    "The following shows which facilities are being utilized."
   ]
  },
  {
   "cell_type": "code",
   "execution_count": 14,
   "metadata": {},
   "outputs": [
    {
     "name": "stdout",
     "output_type": "stream",
     "text": [
      "yN: 1.0\n",
      "yA: 1.0\n",
      "yC: 0.0\n",
      "yL: 1.0\n"
     ]
    }
   ],
   "source": [
    "for index in coef.index:\n",
    "    print(f'y{index}:',model.y[index].value)"
   ]
  },
  {
   "cell_type": "markdown",
   "metadata": {},
   "source": [
    "##### [Back to Top](#Top)"
   ]
  },
  {
   "cell_type": "markdown",
   "metadata": {},
   "source": [
    "### 5. Additional Constraints (Logical/Disjunctive) Model Definition<a id=5></a>"
   ]
  },
  {
   "cell_type": "markdown",
   "metadata": {},
   "source": [
    "In each subsequent problem, we will just add constraints to the problem. We don't need to redefine the model, objective function, etc. if they aren't changing (and they aren't here). We are just adding constraints to the problems and this will **might** require adding new variables and we have to in this case."
   ]
  },
  {
   "cell_type": "markdown",
   "metadata": {},
   "source": [
    "Let's look at the coefficients associated with our objective functions and constraint equations again. "
   ]
  },
  {
   "cell_type": "code",
   "execution_count": 15,
   "metadata": {},
   "outputs": [
    {
     "data": {
      "text/html": [
       "<div>\n",
       "<style scoped>\n",
       "    .dataframe tbody tr th:only-of-type {\n",
       "        vertical-align: middle;\n",
       "    }\n",
       "\n",
       "    .dataframe tbody tr th {\n",
       "        vertical-align: top;\n",
       "    }\n",
       "\n",
       "    .dataframe thead th {\n",
       "        text-align: right;\n",
       "    }\n",
       "</style>\n",
       "<table border=\"1\" class=\"dataframe\">\n",
       "  <thead>\n",
       "    <tr style=\"text-align: right;\">\n",
       "      <th></th>\n",
       "      <th>E</th>\n",
       "      <th>S</th>\n",
       "      <th>M</th>\n",
       "      <th>W</th>\n",
       "    </tr>\n",
       "  </thead>\n",
       "  <tbody>\n",
       "    <tr>\n",
       "      <th>N</th>\n",
       "      <td>206</td>\n",
       "      <td>225</td>\n",
       "      <td>230</td>\n",
       "      <td>290</td>\n",
       "    </tr>\n",
       "    <tr>\n",
       "      <th>A</th>\n",
       "      <td>225</td>\n",
       "      <td>206</td>\n",
       "      <td>221</td>\n",
       "      <td>270</td>\n",
       "    </tr>\n",
       "    <tr>\n",
       "      <th>C</th>\n",
       "      <td>230</td>\n",
       "      <td>221</td>\n",
       "      <td>208</td>\n",
       "      <td>262</td>\n",
       "    </tr>\n",
       "    <tr>\n",
       "      <th>L</th>\n",
       "      <td>290</td>\n",
       "      <td>270</td>\n",
       "      <td>262</td>\n",
       "      <td>215</td>\n",
       "    </tr>\n",
       "  </tbody>\n",
       "</table>\n",
       "</div>"
      ],
      "text/plain": [
       "     E    S    M    W\n",
       "N  206  225  230  290\n",
       "A  225  206  221  270\n",
       "C  230  221  208  262\n",
       "L  290  270  262  215"
      ]
     },
     "execution_count": 15,
     "metadata": {},
     "output_type": "execute_result"
    }
   ],
   "source": [
    "coef"
   ]
  },
  {
   "cell_type": "code",
   "execution_count": 16,
   "metadata": {},
   "outputs": [
    {
     "data": {
      "text/html": [
       "<div>\n",
       "<style scoped>\n",
       "    .dataframe tbody tr th:only-of-type {\n",
       "        vertical-align: middle;\n",
       "    }\n",
       "\n",
       "    .dataframe tbody tr th {\n",
       "        vertical-align: top;\n",
       "    }\n",
       "\n",
       "    .dataframe thead th {\n",
       "        text-align: right;\n",
       "    }\n",
       "</style>\n",
       "<table border=\"1\" class=\"dataframe\">\n",
       "  <thead>\n",
       "    <tr style=\"text-align: right;\">\n",
       "      <th></th>\n",
       "      <th>capacity</th>\n",
       "      <th>annualcost</th>\n",
       "    </tr>\n",
       "  </thead>\n",
       "  <tbody>\n",
       "    <tr>\n",
       "      <th>N</th>\n",
       "      <td>150</td>\n",
       "      <td>6000</td>\n",
       "    </tr>\n",
       "    <tr>\n",
       "      <th>A</th>\n",
       "      <td>150</td>\n",
       "      <td>5500</td>\n",
       "    </tr>\n",
       "    <tr>\n",
       "      <th>C</th>\n",
       "      <td>150</td>\n",
       "      <td>5800</td>\n",
       "    </tr>\n",
       "    <tr>\n",
       "      <th>L</th>\n",
       "      <td>150</td>\n",
       "      <td>6200</td>\n",
       "    </tr>\n",
       "  </tbody>\n",
       "</table>\n",
       "</div>"
      ],
      "text/plain": [
       "  capacity annualcost\n",
       "N      150       6000\n",
       "A      150       5500\n",
       "C      150       5800\n",
       "L      150       6200"
      ]
     },
     "execution_count": 16,
     "metadata": {},
     "output_type": "execute_result"
    }
   ],
   "source": [
    "capcost"
   ]
  },
  {
   "cell_type": "code",
   "execution_count": 17,
   "metadata": {},
   "outputs": [
    {
     "data": {
      "text/html": [
       "<div>\n",
       "<style scoped>\n",
       "    .dataframe tbody tr th:only-of-type {\n",
       "        vertical-align: middle;\n",
       "    }\n",
       "\n",
       "    .dataframe tbody tr th {\n",
       "        vertical-align: top;\n",
       "    }\n",
       "\n",
       "    .dataframe thead th {\n",
       "        text-align: right;\n",
       "    }\n",
       "</style>\n",
       "<table border=\"1\" class=\"dataframe\">\n",
       "  <thead>\n",
       "    <tr style=\"text-align: right;\">\n",
       "      <th></th>\n",
       "      <th>demand</th>\n",
       "    </tr>\n",
       "  </thead>\n",
       "  <tbody>\n",
       "    <tr>\n",
       "      <th>E</th>\n",
       "      <td>100.0</td>\n",
       "    </tr>\n",
       "    <tr>\n",
       "      <th>S</th>\n",
       "      <td>150.0</td>\n",
       "    </tr>\n",
       "    <tr>\n",
       "      <th>M</th>\n",
       "      <td>110.0</td>\n",
       "    </tr>\n",
       "    <tr>\n",
       "      <th>W</th>\n",
       "      <td>90.0</td>\n",
       "    </tr>\n",
       "  </tbody>\n",
       "</table>\n",
       "</div>"
      ],
      "text/plain": [
       "   demand\n",
       "E   100.0\n",
       "S   150.0\n",
       "M   110.0\n",
       "W    90.0"
      ]
     },
     "execution_count": 17,
     "metadata": {},
     "output_type": "execute_result"
    }
   ],
   "source": [
    "demand"
   ]
  },
  {
   "cell_type": "markdown",
   "metadata": {},
   "source": [
    "### 5.2 Threshold Problem"
   ]
  },
  {
   "cell_type": "markdown",
   "metadata": {},
   "source": [
    "#### Define Decision Variables"
   ]
  },
  {
   "cell_type": "code",
   "execution_count": 18,
   "metadata": {},
   "outputs": [],
   "source": [
    "#BINARY Threshold NM > 60 or 0 Indicator\n",
    "model.yNM60 = pe.Var(domain=pe.Binary)"
   ]
  },
  {
   "cell_type": "code",
   "execution_count": 19,
   "metadata": {},
   "outputs": [],
   "source": [
    "#New constraints\n",
    "big_M = 150\n",
    "#Threshold NM >=60 or must be 0: NM >= 60 * yNM and NM <= 150 * yNM\n",
    "model.constNM601 = pe.Constraint(expr = model.N['M'] >= 60 * model.yNM60)\n",
    "model.constNM602 = pe.Constraint(expr = model.N['M'] <= 150 * model.yNM60)"
   ]
  },
  {
   "cell_type": "code",
   "execution_count": 20,
   "metadata": {},
   "outputs": [
    {
     "name": "stdout",
     "output_type": "stream",
     "text": [
      "ok optimal\n",
      "optimal objective value minimum cost = $116270.00\n"
     ]
    }
   ],
   "source": [
    "result = opt.solve(model)\n",
    "print(result.solver.status, result.solver.termination_condition)\n",
    "obj_val = model.obj.expr()\n",
    "print(f'optimal objective value minimum cost = ${obj_val:.2f}')"
   ]
  },
  {
   "cell_type": "code",
   "execution_count": 21,
   "metadata": {},
   "outputs": [
    {
     "data": {
      "text/html": [
       "<div>\n",
       "<style scoped>\n",
       "    .dataframe tbody tr th:only-of-type {\n",
       "        vertical-align: middle;\n",
       "    }\n",
       "\n",
       "    .dataframe tbody tr th {\n",
       "        vertical-align: top;\n",
       "    }\n",
       "\n",
       "    .dataframe thead th {\n",
       "        text-align: right;\n",
       "    }\n",
       "</style>\n",
       "<table border=\"1\" class=\"dataframe\">\n",
       "  <thead>\n",
       "    <tr style=\"text-align: right;\">\n",
       "      <th></th>\n",
       "      <th>E</th>\n",
       "      <th>S</th>\n",
       "      <th>M</th>\n",
       "      <th>W</th>\n",
       "    </tr>\n",
       "  </thead>\n",
       "  <tbody>\n",
       "    <tr>\n",
       "      <th>N</th>\n",
       "      <td>100.0</td>\n",
       "      <td>50.0</td>\n",
       "      <td>0.0</td>\n",
       "      <td>0.0</td>\n",
       "    </tr>\n",
       "    <tr>\n",
       "      <th>A</th>\n",
       "      <td>0.0</td>\n",
       "      <td>100.0</td>\n",
       "      <td>50.0</td>\n",
       "      <td>0.0</td>\n",
       "    </tr>\n",
       "    <tr>\n",
       "      <th>C</th>\n",
       "      <td>0.0</td>\n",
       "      <td>0.0</td>\n",
       "      <td>0.0</td>\n",
       "      <td>0.0</td>\n",
       "    </tr>\n",
       "    <tr>\n",
       "      <th>L</th>\n",
       "      <td>0.0</td>\n",
       "      <td>0.0</td>\n",
       "      <td>60.0</td>\n",
       "      <td>90.0</td>\n",
       "    </tr>\n",
       "  </tbody>\n",
       "</table>\n",
       "</div>"
      ],
      "text/plain": [
       "       E      S     M     W\n",
       "N  100.0   50.0   0.0   0.0\n",
       "A    0.0  100.0  50.0   0.0\n",
       "C    0.0    0.0   0.0   0.0\n",
       "L    0.0    0.0  60.0  90.0"
      ]
     },
     "execution_count": 21,
     "metadata": {},
     "output_type": "execute_result"
    }
   ],
   "source": [
    "DV_solution = pd.DataFrame()\n",
    "for index in DV_indexes:\n",
    "    DV_solution.loc['N', index] = model.N[index].value\n",
    "    DV_solution.loc['A', index] = model.A[index].value\n",
    "    DV_solution.loc['C', index] = model.C[index].value\n",
    "    DV_solution.loc['L', index] = model.L[index].value\n",
    "DV_solution"
   ]
  },
  {
   "cell_type": "code",
   "execution_count": 22,
   "metadata": {},
   "outputs": [
    {
     "name": "stdout",
     "output_type": "stream",
     "text": [
      "yN: 1.0\n",
      "yA: 1.0\n",
      "yC: 0.0\n",
      "yL: 1.0\n"
     ]
    }
   ],
   "source": [
    "for index in coef.index:\n",
    "    print(f'y{index}:', model.y[index].value)"
   ]
  },
  {
   "cell_type": "code",
   "execution_count": 24,
   "metadata": {},
   "outputs": [
    {
     "name": "stdout",
     "output_type": "stream",
     "text": [
      "yNM60: 0.0\n"
     ]
    }
   ],
   "source": [
    "print(f'yNM60:', model.yNM60.value)"
   ]
  },
  {
   "cell_type": "markdown",
   "metadata": {
    "tags": []
   },
   "source": [
    "#### Define Decision Variables"
   ]
  },
  {
   "cell_type": "markdown",
   "metadata": {},
   "source": [
    "Now we already have the DV for each path quantitiy `model.x` and the Fixed Cost binary indicator `y`. We need to add two more variables to the model. "
   ]
  },
  {
   "cell_type": "code",
   "execution_count": 25,
   "metadata": {},
   "outputs": [],
   "source": [
    "#BINARY Constraint LE >= 50\n",
    "model.yLE50 = pe.Var(domain=pe.Binary)\n",
    "#BINARY Constraint NE <= 75\n",
    "model.yNE75 = pe.Var(domain=pe.Binary)"
   ]
  },
  {
   "cell_type": "markdown",
   "metadata": {},
   "source": [
    "Now define the additional constraints."
   ]
  },
  {
   "cell_type": "code",
   "execution_count": 26,
   "metadata": {},
   "outputs": [],
   "source": [
    "#Disjunctive LE >= 50: LE−𝑀*yLE≤50 and LE+𝑀(1−𝑦LE)≥50\n",
    "\n",
    "model.constLE501 = pe.Constraint(expr = model.L['E'] - big_M*model.yLE50 <= 50)\n",
    "model.constLE502 = pe.Constraint(expr = model.L['E'] + big_M*(1 - model.yLE50) >= 50)\n",
    "\n",
    "#Disjunctive NE <=75: NE+𝑀*yNE≥75 and NE−𝑀(1−𝑦NE)≤75\n",
    "model.constNE751 = pe.Constraint(expr = model.N['E'] + big_M*model.yNE75 >= 75)\n",
    "model.constNE752 = pe.Constraint(expr = model.N['E'] - big_M*(1 - model.yNE75) <= 75)\n",
    "\n",
    "#Disjunctive Linking yLE + yNE >= 1\n",
    "model.constLink = pe.Constraint(expr = model.yLE50 + model.yNE75 >= 1)"
   ]
  },
  {
   "cell_type": "code",
   "execution_count": 27,
   "metadata": {},
   "outputs": [
    {
     "name": "stdout",
     "output_type": "stream",
     "text": [
      "ok optimal\n"
     ]
    }
   ],
   "source": [
    "result = opt.solve(model)\n",
    "print(result.solver.status, result.solver.termination_condition)"
   ]
  },
  {
   "cell_type": "code",
   "execution_count": 28,
   "metadata": {},
   "outputs": [
    {
     "name": "stdout",
     "output_type": "stream",
     "text": [
      "optimal objective value minimum cost = $116850.00\n"
     ]
    }
   ],
   "source": [
    "obj_val = model.obj.expr()\n",
    "print(f'optimal objective value minimum cost = ${obj_val:.2f}')"
   ]
  },
  {
   "cell_type": "code",
   "execution_count": 29,
   "metadata": {},
   "outputs": [
    {
     "data": {
      "text/html": [
       "<div>\n",
       "<style scoped>\n",
       "    .dataframe tbody tr th:only-of-type {\n",
       "        vertical-align: middle;\n",
       "    }\n",
       "\n",
       "    .dataframe tbody tr th {\n",
       "        vertical-align: top;\n",
       "    }\n",
       "\n",
       "    .dataframe thead th {\n",
       "        text-align: right;\n",
       "    }\n",
       "</style>\n",
       "<table border=\"1\" class=\"dataframe\">\n",
       "  <thead>\n",
       "    <tr style=\"text-align: right;\">\n",
       "      <th></th>\n",
       "      <th>E</th>\n",
       "      <th>S</th>\n",
       "      <th>M</th>\n",
       "      <th>W</th>\n",
       "    </tr>\n",
       "  </thead>\n",
       "  <tbody>\n",
       "    <tr>\n",
       "      <th>N</th>\n",
       "      <td>75.0</td>\n",
       "      <td>15.0</td>\n",
       "      <td>60.0</td>\n",
       "      <td>0.0</td>\n",
       "    </tr>\n",
       "    <tr>\n",
       "      <th>A</th>\n",
       "      <td>25.0</td>\n",
       "      <td>125.0</td>\n",
       "      <td>0.0</td>\n",
       "      <td>0.0</td>\n",
       "    </tr>\n",
       "    <tr>\n",
       "      <th>C</th>\n",
       "      <td>0.0</td>\n",
       "      <td>0.0</td>\n",
       "      <td>0.0</td>\n",
       "      <td>0.0</td>\n",
       "    </tr>\n",
       "    <tr>\n",
       "      <th>L</th>\n",
       "      <td>0.0</td>\n",
       "      <td>10.0</td>\n",
       "      <td>50.0</td>\n",
       "      <td>90.0</td>\n",
       "    </tr>\n",
       "  </tbody>\n",
       "</table>\n",
       "</div>"
      ],
      "text/plain": [
       "      E      S     M     W\n",
       "N  75.0   15.0  60.0   0.0\n",
       "A  25.0  125.0   0.0   0.0\n",
       "C   0.0    0.0   0.0   0.0\n",
       "L   0.0   10.0  50.0  90.0"
      ]
     },
     "execution_count": 29,
     "metadata": {},
     "output_type": "execute_result"
    }
   ],
   "source": [
    "DV_solution = pd.DataFrame()\n",
    "for index in DV_indexes:\n",
    "    DV_solution.loc['N', index] = model.N[index].value\n",
    "    DV_solution.loc['A', index] = model.A[index].value\n",
    "    DV_solution.loc['C', index] = model.C[index].value\n",
    "    DV_solution.loc['L', index] = model.L[index].value\n",
    "DV_solution"
   ]
  },
  {
   "cell_type": "code",
   "execution_count": 30,
   "metadata": {},
   "outputs": [
    {
     "name": "stdout",
     "output_type": "stream",
     "text": [
      "yN: 1.0\n",
      "yA: 1.0\n",
      "yC: 0.0\n",
      "yL: 1.0\n"
     ]
    }
   ],
   "source": [
    "for index in coef.index:\n",
    "    print(f'y{index}:', model.y[index].value)"
   ]
  },
  {
   "cell_type": "markdown",
   "metadata": {
    "tags": []
   },
   "source": [
    "We should check that the linking variables seem to be working.\n",
    "* The `y` variables check usage for each set of City paths. Here we see `y` is 0 because we did not use the Chicago paths.\n",
    "* The `yLE50` checks if LE >= 50. Above we see LE final count is 0 which means it was not met which matches the y of 0\n",
    "* the `yNE75` checks if NE <= 75. Above we see NE final count is 75 which means it did meet which matches the y of 1."
   ]
  },
  {
   "cell_type": "code",
   "execution_count": 33,
   "metadata": {},
   "outputs": [
    {
     "name": "stdout",
     "output_type": "stream",
     "text": [
      "yLE50: 0.0\n",
      "yNE75: 1.0\n"
     ]
    }
   ],
   "source": [
    "print(f'yLE50:', model.yLE50.value)\n",
    "print(f'yNE75:', model.yNE75.value)"
   ]
  },
  {
   "cell_type": "code",
   "execution_count": 35,
   "metadata": {},
   "outputs": [
    {
     "name": "stdout",
     "output_type": "stream",
     "text": [
      "yN: 1.0\n",
      "yA: 1.0\n",
      "yC: 0.0\n",
      "yL: 1.0\n"
     ]
    }
   ],
   "source": [
    "for index in coef.index:\n",
    "    print(f'y{index}:', model.y[index].value)"
   ]
  },
  {
   "cell_type": "code",
   "execution_count": 36,
   "metadata": {},
   "outputs": [
    {
     "name": "stdout",
     "output_type": "stream",
     "text": [
      "100.0 0.0 None\n",
      "150.0 0.0 None\n",
      "110.0 0.0 None\n",
      "90.0 0.0 None\n",
      "None 0.0 0.0\n",
      "None 0.0 0.0\n",
      "None 0.0 0.0\n",
      "None 0.0 0.0\n",
      "None 0.0 0.0\n",
      "None 90.0 0.0\n",
      "None 50.0 50.0\n",
      "50.0 100.0 None\n",
      "75.0 150.0 None\n",
      "None 0.0 75.0\n",
      "1.0 0.0 None\n"
     ]
    }
   ],
   "source": [
    "for con in model.component_objects(pe.Constraint):\n",
    "    print(con.lower, con.slack(), con.upper)"
   ]
  },
  {
   "cell_type": "code",
   "execution_count": null,
   "metadata": {},
   "outputs": [],
   "source": []
  }
 ],
 "metadata": {
  "kernelspec": {
   "display_name": "info-3440",
   "language": "python",
   "name": "info-3440"
  },
  "language_info": {
   "codemirror_mode": {
    "name": "ipython",
    "version": 3
   },
   "file_extension": ".py",
   "mimetype": "text/x-python",
   "name": "python",
   "nbconvert_exporter": "python",
   "pygments_lexer": "ipython3",
   "version": "3.8.12"
  }
 },
 "nbformat": 4,
 "nbformat_minor": 4
}
