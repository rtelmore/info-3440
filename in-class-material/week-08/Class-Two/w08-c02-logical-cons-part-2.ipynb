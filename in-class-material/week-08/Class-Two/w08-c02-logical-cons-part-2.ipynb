{
 "cells": [
  {
   "cell_type": "markdown",
   "metadata": {},
   "source": [
    "## W7L2 IP - Facililty Location OM 7.3"
   ]
  },
  {
   "cell_type": "markdown",
   "metadata": {},
   "source": [
    "# Table of Contents<a id=\"Top\"></a>\n",
    "\n",
    "1. [Problem Statement](#1)<br>\n",
    "2. [Data](#2) <br>\n",
    "3. [Original Model Definition](#3)<br>\n",
    "4. [Original Model Solution](#4)<br>\n",
    "5. [Additional Constraints (Logical/Disjunctive) Model Definition](#5)<br>\n",
    "6. [Additional Constraints (Logical/Disjunctive) Model Solution](#6)<br>"
   ]
  },
  {
   "cell_type": "markdown",
   "metadata": {},
   "source": [
    "## 1. Problem Statement<a id=1></a>"
   ]
  },
  {
   "cell_type": "markdown",
   "metadata": {},
   "source": [
    "A Facility Location problem is a blend of a transportation model with fixed costs. So we have to design the model to include rows of flow decision variables. In this example we are moving products from the 4 cities New York, Atlanta, Chicago and Los Angeles to the distribution centers in the East, South, Midwest and West. The data is givein in the Excel file `W7L1IP Logical Const Fixed Cost Disjunct.xlsx` and sheet `OM 7.3 Facility Location`."
   ]
  },
  {
   "cell_type": "markdown",
   "metadata": {},
   "source": [
    "##### [Back to Top](#Top)"
   ]
  },
  {
   "cell_type": "markdown",
   "metadata": {},
   "source": [
    "## 2. Data<a id=2></a>"
   ]
  },
  {
   "cell_type": "code",
   "execution_count": 1,
   "metadata": {},
   "outputs": [],
   "source": [
    "#Note you can view versions with the code !pip show matplotlib\n",
    "import pandas as pd #ver 1.1.3\n",
    "import pyomo.environ as pe #ver 5.7\n",
    "import matplotlib.pyplot as plt #ver 3.3.2\n",
    "#needed to see graphs in notebook\n",
    "%matplotlib inline "
   ]
  },
  {
   "cell_type": "code",
   "execution_count": 2,
   "metadata": {},
   "outputs": [
    {
     "data": {
      "text/html": [
       "<div>\n",
       "<style scoped>\n",
       "    .dataframe tbody tr th:only-of-type {\n",
       "        vertical-align: middle;\n",
       "    }\n",
       "\n",
       "    .dataframe tbody tr th {\n",
       "        vertical-align: top;\n",
       "    }\n",
       "\n",
       "    .dataframe thead th {\n",
       "        text-align: right;\n",
       "    }\n",
       "</style>\n",
       "<table border=\"1\" class=\"dataframe\">\n",
       "  <thead>\n",
       "    <tr style=\"text-align: right;\">\n",
       "      <th></th>\n",
       "      <th>Data</th>\n",
       "      <th>Unnamed: 1</th>\n",
       "      <th>Unnamed: 2</th>\n",
       "      <th>Unnamed: 3</th>\n",
       "      <th>Unnamed: 4</th>\n",
       "      <th>Unnamed: 5</th>\n",
       "      <th>Unnamed: 6</th>\n",
       "      <th>Unnamed: 7</th>\n",
       "      <th>Unnamed: 8</th>\n",
       "      <th>Unnamed: 9</th>\n",
       "    </tr>\n",
       "  </thead>\n",
       "  <tbody>\n",
       "    <tr>\n",
       "      <th>0</th>\n",
       "      <td>NaN</td>\n",
       "      <td>NaN</td>\n",
       "      <td>To</td>\n",
       "      <td>NaN</td>\n",
       "      <td>NaN</td>\n",
       "      <td>NaN</td>\n",
       "      <td>NaN</td>\n",
       "      <td>NaN</td>\n",
       "      <td>NaN</td>\n",
       "      <td>NaN</td>\n",
       "    </tr>\n",
       "    <tr>\n",
       "      <th>1</th>\n",
       "      <td>NaN</td>\n",
       "      <td>NaN</td>\n",
       "      <td>East</td>\n",
       "      <td>South</td>\n",
       "      <td>Midwest</td>\n",
       "      <td>West</td>\n",
       "      <td>Capacity</td>\n",
       "      <td>Annual cost ($000s)</td>\n",
       "      <td>NaN</td>\n",
       "      <td>NaN</td>\n",
       "    </tr>\n",
       "    <tr>\n",
       "      <th>2</th>\n",
       "      <td>From</td>\n",
       "      <td>New York</td>\n",
       "      <td>206</td>\n",
       "      <td>225</td>\n",
       "      <td>230</td>\n",
       "      <td>290</td>\n",
       "      <td>150</td>\n",
       "      <td>6000</td>\n",
       "      <td>NaN</td>\n",
       "      <td>NaN</td>\n",
       "    </tr>\n",
       "    <tr>\n",
       "      <th>3</th>\n",
       "      <td>NaN</td>\n",
       "      <td>Atlanta</td>\n",
       "      <td>225</td>\n",
       "      <td>206</td>\n",
       "      <td>221</td>\n",
       "      <td>270</td>\n",
       "      <td>150</td>\n",
       "      <td>5500</td>\n",
       "      <td>NaN</td>\n",
       "      <td>NaN</td>\n",
       "    </tr>\n",
       "    <tr>\n",
       "      <th>4</th>\n",
       "      <td>NaN</td>\n",
       "      <td>Chicago</td>\n",
       "      <td>230</td>\n",
       "      <td>221</td>\n",
       "      <td>208</td>\n",
       "      <td>262</td>\n",
       "      <td>150</td>\n",
       "      <td>5800</td>\n",
       "      <td>NaN</td>\n",
       "      <td>NaN</td>\n",
       "    </tr>\n",
       "    <tr>\n",
       "      <th>5</th>\n",
       "      <td>NaN</td>\n",
       "      <td>Los Angeles</td>\n",
       "      <td>290</td>\n",
       "      <td>270</td>\n",
       "      <td>262</td>\n",
       "      <td>215</td>\n",
       "      <td>150</td>\n",
       "      <td>6200</td>\n",
       "      <td>NaN</td>\n",
       "      <td>NaN</td>\n",
       "    </tr>\n",
       "    <tr>\n",
       "      <th>6</th>\n",
       "      <td>NaN</td>\n",
       "      <td>Demand</td>\n",
       "      <td>100</td>\n",
       "      <td>150</td>\n",
       "      <td>110</td>\n",
       "      <td>90</td>\n",
       "      <td>NaN</td>\n",
       "      <td>NaN</td>\n",
       "      <td>NaN</td>\n",
       "      <td>NaN</td>\n",
       "    </tr>\n",
       "    <tr>\n",
       "      <th>7</th>\n",
       "      <td>NaN</td>\n",
       "      <td>NaN</td>\n",
       "      <td>NaN</td>\n",
       "      <td>NaN</td>\n",
       "      <td>NaN</td>\n",
       "      <td>NaN</td>\n",
       "      <td>NaN</td>\n",
       "      <td>NaN</td>\n",
       "      <td>NaN</td>\n",
       "      <td>NaN</td>\n",
       "    </tr>\n",
       "    <tr>\n",
       "      <th>8</th>\n",
       "      <td>NaN</td>\n",
       "      <td>NaN</td>\n",
       "      <td>NaN</td>\n",
       "      <td>NaN</td>\n",
       "      <td>NaN</td>\n",
       "      <td>NaN</td>\n",
       "      <td>NaN</td>\n",
       "      <td>NaN</td>\n",
       "      <td>NaN</td>\n",
       "      <td>NaN</td>\n",
       "    </tr>\n",
       "    <tr>\n",
       "      <th>9</th>\n",
       "      <td>Decisions</td>\n",
       "      <td>NaN</td>\n",
       "      <td>NaN</td>\n",
       "      <td>NaN</td>\n",
       "      <td>NaN</td>\n",
       "      <td>NaN</td>\n",
       "      <td>=SUM(C16:F16)</td>\n",
       "      <td>NaN</td>\n",
       "      <td>=G7*J16</td>\n",
       "      <td>NaN</td>\n",
       "    </tr>\n",
       "    <tr>\n",
       "      <th>10</th>\n",
       "      <td>NaN</td>\n",
       "      <td>NaN</td>\n",
       "      <td>E</td>\n",
       "      <td>S</td>\n",
       "      <td>M</td>\n",
       "      <td>W</td>\n",
       "      <td>Sent</td>\n",
       "      <td>NaN</td>\n",
       "      <td>RHS</td>\n",
       "      <td>y (utliize?)</td>\n",
       "    </tr>\n",
       "    <tr>\n",
       "      <th>11</th>\n",
       "      <td>NaN</td>\n",
       "      <td>N</td>\n",
       "      <td>100</td>\n",
       "      <td>0</td>\n",
       "      <td>50</td>\n",
       "      <td>0</td>\n",
       "      <td>150</td>\n",
       "      <td>&lt;=</td>\n",
       "      <td>150</td>\n",
       "      <td>1</td>\n",
       "    </tr>\n",
       "    <tr>\n",
       "      <th>12</th>\n",
       "      <td>NaN</td>\n",
       "      <td>A</td>\n",
       "      <td>0</td>\n",
       "      <td>150</td>\n",
       "      <td>0</td>\n",
       "      <td>0</td>\n",
       "      <td>150</td>\n",
       "      <td>&lt;=</td>\n",
       "      <td>150</td>\n",
       "      <td>1</td>\n",
       "    </tr>\n",
       "    <tr>\n",
       "      <th>13</th>\n",
       "      <td>NaN</td>\n",
       "      <td>C</td>\n",
       "      <td>0</td>\n",
       "      <td>0</td>\n",
       "      <td>0</td>\n",
       "      <td>0</td>\n",
       "      <td>0</td>\n",
       "      <td>&lt;=</td>\n",
       "      <td>0</td>\n",
       "      <td>0</td>\n",
       "    </tr>\n",
       "    <tr>\n",
       "      <th>14</th>\n",
       "      <td>NaN</td>\n",
       "      <td>L</td>\n",
       "      <td>0</td>\n",
       "      <td>0</td>\n",
       "      <td>60</td>\n",
       "      <td>90</td>\n",
       "      <td>150</td>\n",
       "      <td>&lt;=</td>\n",
       "      <td>150</td>\n",
       "      <td>1</td>\n",
       "    </tr>\n",
       "    <tr>\n",
       "      <th>15</th>\n",
       "      <td>NaN</td>\n",
       "      <td>Rec'd</td>\n",
       "      <td>100</td>\n",
       "      <td>150</td>\n",
       "      <td>110</td>\n",
       "      <td>90</td>\n",
       "      <td>=SUM(F13:F16)</td>\n",
       "      <td>NaN</td>\n",
       "      <td>NaN</td>\n",
       "      <td>NaN</td>\n",
       "    </tr>\n",
       "    <tr>\n",
       "      <th>16</th>\n",
       "      <td>NaN</td>\n",
       "      <td>NaN</td>\n",
       "      <td>&gt;=</td>\n",
       "      <td>&gt;=</td>\n",
       "      <td>&gt;=</td>\n",
       "      <td>&gt;=</td>\n",
       "      <td>NaN</td>\n",
       "      <td>NaN</td>\n",
       "      <td>NaN</td>\n",
       "      <td>NaN</td>\n",
       "    </tr>\n",
       "    <tr>\n",
       "      <th>17</th>\n",
       "      <td>NaN</td>\n",
       "      <td>RHS</td>\n",
       "      <td>100</td>\n",
       "      <td>150</td>\n",
       "      <td>110</td>\n",
       "      <td>90</td>\n",
       "      <td>NaN</td>\n",
       "      <td>NaN</td>\n",
       "      <td>NaN</td>\n",
       "      <td>NaN</td>\n",
       "    </tr>\n",
       "    <tr>\n",
       "      <th>18</th>\n",
       "      <td>NaN</td>\n",
       "      <td>NaN</td>\n",
       "      <td>NaN</td>\n",
       "      <td>NaN</td>\n",
       "      <td>NaN</td>\n",
       "      <td>NaN</td>\n",
       "      <td>NaN</td>\n",
       "      <td>NaN</td>\n",
       "      <td>NaN</td>\n",
       "      <td>NaN</td>\n",
       "    </tr>\n",
       "    <tr>\n",
       "      <th>19</th>\n",
       "      <td>Objective</td>\n",
       "      <td>NaN</td>\n",
       "      <td>Fixed Cost</td>\n",
       "      <td>17700</td>\n",
       "      <td>=SUMPRODUCT(J13:J16,H4:H7)</td>\n",
       "      <td>NaN</td>\n",
       "      <td>NaN</td>\n",
       "      <td>NaN</td>\n",
       "      <td>NaN</td>\n",
       "      <td>NaN</td>\n",
       "    </tr>\n",
       "    <tr>\n",
       "      <th>20</th>\n",
       "      <td>NaN</td>\n",
       "      <td>NaN</td>\n",
       "      <td>Variable Cost</td>\n",
       "      <td>98070</td>\n",
       "      <td>=SUMPRODUCT(C13:F16,C4:F7)</td>\n",
       "      <td>NaN</td>\n",
       "      <td>NaN</td>\n",
       "      <td>NaN</td>\n",
       "      <td>NaN</td>\n",
       "      <td>NaN</td>\n",
       "    </tr>\n",
       "    <tr>\n",
       "      <th>21</th>\n",
       "      <td>NaN</td>\n",
       "      <td>NaN</td>\n",
       "      <td>Total Cost</td>\n",
       "      <td>115770</td>\n",
       "      <td>=D22+D21</td>\n",
       "      <td>NaN</td>\n",
       "      <td>NaN</td>\n",
       "      <td>NaN</td>\n",
       "      <td>NaN</td>\n",
       "      <td>NaN</td>\n",
       "    </tr>\n",
       "  </tbody>\n",
       "</table>\n",
       "</div>"
      ],
      "text/plain": [
       "         Data   Unnamed: 1     Unnamed: 2 Unnamed: 3  \\\n",
       "0         NaN          NaN             To        NaN   \n",
       "1         NaN          NaN           East      South   \n",
       "2        From     New York            206        225   \n",
       "3         NaN      Atlanta            225        206   \n",
       "4         NaN      Chicago            230        221   \n",
       "5         NaN  Los Angeles            290        270   \n",
       "6         NaN       Demand            100        150   \n",
       "7         NaN          NaN            NaN        NaN   \n",
       "8         NaN          NaN            NaN        NaN   \n",
       "9   Decisions          NaN            NaN        NaN   \n",
       "10        NaN          NaN              E          S   \n",
       "11        NaN            N            100          0   \n",
       "12        NaN            A              0        150   \n",
       "13        NaN            C              0          0   \n",
       "14        NaN            L              0          0   \n",
       "15        NaN        Rec'd            100        150   \n",
       "16        NaN          NaN             >=         >=   \n",
       "17        NaN          RHS            100        150   \n",
       "18        NaN          NaN            NaN        NaN   \n",
       "19  Objective          NaN     Fixed Cost      17700   \n",
       "20        NaN          NaN  Variable Cost      98070   \n",
       "21        NaN          NaN     Total Cost     115770   \n",
       "\n",
       "                    Unnamed: 4 Unnamed: 5     Unnamed: 6           Unnamed: 7  \\\n",
       "0                          NaN        NaN            NaN                  NaN   \n",
       "1                      Midwest       West       Capacity  Annual cost ($000s)   \n",
       "2                          230        290            150                 6000   \n",
       "3                          221        270            150                 5500   \n",
       "4                          208        262            150                 5800   \n",
       "5                          262        215            150                 6200   \n",
       "6                          110         90            NaN                  NaN   \n",
       "7                          NaN        NaN            NaN                  NaN   \n",
       "8                          NaN        NaN            NaN                  NaN   \n",
       "9                          NaN        NaN  =SUM(C16:F16)                  NaN   \n",
       "10                           M          W           Sent                  NaN   \n",
       "11                          50          0            150                   <=   \n",
       "12                           0          0            150                   <=   \n",
       "13                           0          0              0                   <=   \n",
       "14                          60         90            150                   <=   \n",
       "15                         110         90  =SUM(F13:F16)                  NaN   \n",
       "16                          >=         >=            NaN                  NaN   \n",
       "17                         110         90            NaN                  NaN   \n",
       "18                         NaN        NaN            NaN                  NaN   \n",
       "19  =SUMPRODUCT(J13:J16,H4:H7)        NaN            NaN                  NaN   \n",
       "20  =SUMPRODUCT(C13:F16,C4:F7)        NaN            NaN                  NaN   \n",
       "21                    =D22+D21        NaN            NaN                  NaN   \n",
       "\n",
       "   Unnamed: 8    Unnamed: 9  \n",
       "0         NaN           NaN  \n",
       "1         NaN           NaN  \n",
       "2         NaN           NaN  \n",
       "3         NaN           NaN  \n",
       "4         NaN           NaN  \n",
       "5         NaN           NaN  \n",
       "6         NaN           NaN  \n",
       "7         NaN           NaN  \n",
       "8         NaN           NaN  \n",
       "9     =G7*J16           NaN  \n",
       "10        RHS  y (utliize?)  \n",
       "11        150             1  \n",
       "12        150             1  \n",
       "13          0             0  \n",
       "14        150             1  \n",
       "15        NaN           NaN  \n",
       "16        NaN           NaN  \n",
       "17        NaN           NaN  \n",
       "18        NaN           NaN  \n",
       "19        NaN           NaN  \n",
       "20        NaN           NaN  \n",
       "21        NaN           NaN  "
      ]
     },
     "execution_count": 2,
     "metadata": {},
     "output_type": "execute_result"
    }
   ],
   "source": [
    "raw_data = pd.read_excel('W7L1IP Logical Const Fixed Cost Disjunct.xlsx', sheet_name='OM 7.3 Facility Location')\n",
    "raw_data"
   ]
  },
  {
   "cell_type": "code",
   "execution_count": 3,
   "metadata": {},
   "outputs": [
    {
     "data": {
      "text/html": [
       "<div>\n",
       "<style scoped>\n",
       "    .dataframe tbody tr th:only-of-type {\n",
       "        vertical-align: middle;\n",
       "    }\n",
       "\n",
       "    .dataframe tbody tr th {\n",
       "        vertical-align: top;\n",
       "    }\n",
       "\n",
       "    .dataframe thead th {\n",
       "        text-align: right;\n",
       "    }\n",
       "</style>\n",
       "<table border=\"1\" class=\"dataframe\">\n",
       "  <thead>\n",
       "    <tr style=\"text-align: right;\">\n",
       "      <th></th>\n",
       "      <th>E</th>\n",
       "      <th>S</th>\n",
       "      <th>M</th>\n",
       "      <th>W</th>\n",
       "    </tr>\n",
       "  </thead>\n",
       "  <tbody>\n",
       "    <tr>\n",
       "      <th>N</th>\n",
       "      <td>206</td>\n",
       "      <td>225</td>\n",
       "      <td>230</td>\n",
       "      <td>290</td>\n",
       "    </tr>\n",
       "    <tr>\n",
       "      <th>A</th>\n",
       "      <td>225</td>\n",
       "      <td>206</td>\n",
       "      <td>221</td>\n",
       "      <td>270</td>\n",
       "    </tr>\n",
       "    <tr>\n",
       "      <th>C</th>\n",
       "      <td>230</td>\n",
       "      <td>221</td>\n",
       "      <td>208</td>\n",
       "      <td>262</td>\n",
       "    </tr>\n",
       "    <tr>\n",
       "      <th>L</th>\n",
       "      <td>290</td>\n",
       "      <td>270</td>\n",
       "      <td>262</td>\n",
       "      <td>215</td>\n",
       "    </tr>\n",
       "  </tbody>\n",
       "</table>\n",
       "</div>"
      ],
      "text/plain": [
       "     E    S    M    W\n",
       "N  206  225  230  290\n",
       "A  225  206  221  270\n",
       "C  230  221  208  262\n",
       "L  290  270  262  215"
      ]
     },
     "execution_count": 3,
     "metadata": {},
     "output_type": "execute_result"
    }
   ],
   "source": [
    "DV_indexes = ['E','S','M','W']\n",
    "coef = pd.DataFrame(raw_data.iloc[[2,3,4,5], [2,3,4,5]])\n",
    "coef.index = ['N', 'A', 'C','L']\n",
    "coef.columns = DV_indexes\n",
    "coef"
   ]
  },
  {
   "cell_type": "code",
   "execution_count": 4,
   "metadata": {},
   "outputs": [
    {
     "data": {
      "text/html": [
       "<div>\n",
       "<style scoped>\n",
       "    .dataframe tbody tr th:only-of-type {\n",
       "        vertical-align: middle;\n",
       "    }\n",
       "\n",
       "    .dataframe tbody tr th {\n",
       "        vertical-align: top;\n",
       "    }\n",
       "\n",
       "    .dataframe thead th {\n",
       "        text-align: right;\n",
       "    }\n",
       "</style>\n",
       "<table border=\"1\" class=\"dataframe\">\n",
       "  <thead>\n",
       "    <tr style=\"text-align: right;\">\n",
       "      <th></th>\n",
       "      <th>capacity</th>\n",
       "      <th>annualcost</th>\n",
       "    </tr>\n",
       "  </thead>\n",
       "  <tbody>\n",
       "    <tr>\n",
       "      <th>N</th>\n",
       "      <td>150</td>\n",
       "      <td>6000</td>\n",
       "    </tr>\n",
       "    <tr>\n",
       "      <th>A</th>\n",
       "      <td>150</td>\n",
       "      <td>5500</td>\n",
       "    </tr>\n",
       "    <tr>\n",
       "      <th>C</th>\n",
       "      <td>150</td>\n",
       "      <td>5800</td>\n",
       "    </tr>\n",
       "    <tr>\n",
       "      <th>L</th>\n",
       "      <td>150</td>\n",
       "      <td>6200</td>\n",
       "    </tr>\n",
       "  </tbody>\n",
       "</table>\n",
       "</div>"
      ],
      "text/plain": [
       "  capacity annualcost\n",
       "N      150       6000\n",
       "A      150       5500\n",
       "C      150       5800\n",
       "L      150       6200"
      ]
     },
     "execution_count": 4,
     "metadata": {},
     "output_type": "execute_result"
    }
   ],
   "source": [
    "capcost = raw_data.iloc[[2,3,4,5], [6,7]]\n",
    "capcost.columns = ['capacity','annualcost']\n",
    "capcost.index = coef.index\n",
    "capcost"
   ]
  },
  {
   "cell_type": "code",
   "execution_count": 5,
   "metadata": {},
   "outputs": [
    {
     "data": {
      "text/html": [
       "<div>\n",
       "<style scoped>\n",
       "    .dataframe tbody tr th:only-of-type {\n",
       "        vertical-align: middle;\n",
       "    }\n",
       "\n",
       "    .dataframe tbody tr th {\n",
       "        vertical-align: top;\n",
       "    }\n",
       "\n",
       "    .dataframe thead th {\n",
       "        text-align: right;\n",
       "    }\n",
       "</style>\n",
       "<table border=\"1\" class=\"dataframe\">\n",
       "  <thead>\n",
       "    <tr style=\"text-align: right;\">\n",
       "      <th></th>\n",
       "      <th>demand</th>\n",
       "    </tr>\n",
       "  </thead>\n",
       "  <tbody>\n",
       "    <tr>\n",
       "      <th>E</th>\n",
       "      <td>100.0</td>\n",
       "    </tr>\n",
       "    <tr>\n",
       "      <th>S</th>\n",
       "      <td>150.0</td>\n",
       "    </tr>\n",
       "    <tr>\n",
       "      <th>M</th>\n",
       "      <td>110.0</td>\n",
       "    </tr>\n",
       "    <tr>\n",
       "      <th>W</th>\n",
       "      <td>90.0</td>\n",
       "    </tr>\n",
       "  </tbody>\n",
       "</table>\n",
       "</div>"
      ],
      "text/plain": [
       "   demand\n",
       "E   100.0\n",
       "S   150.0\n",
       "M   110.0\n",
       "W    90.0"
      ]
     },
     "execution_count": 5,
     "metadata": {},
     "output_type": "execute_result"
    }
   ],
   "source": [
    "demand = pd.DataFrame()\n",
    "demand.loc['E','demand']=100\n",
    "demand.loc['S','demand']=150\n",
    "demand.loc['M','demand']=110\n",
    "demand.loc['W','demand']=90\n",
    "demand"
   ]
  },
  {
   "cell_type": "markdown",
   "metadata": {},
   "source": [
    "##### [Back to Top](#Top)"
   ]
  },
  {
   "cell_type": "markdown",
   "metadata": {},
   "source": [
    "### 3. Original Model Definition<a id=3></a>"
   ]
  },
  {
   "cell_type": "code",
   "execution_count": 6,
   "metadata": {},
   "outputs": [],
   "source": [
    "model = pe.ConcreteModel()"
   ]
  },
  {
   "cell_type": "markdown",
   "metadata": {},
   "source": [
    "## Define Decision Variables"
   ]
  },
  {
   "cell_type": "markdown",
   "metadata": {},
   "source": [
    "Define your decision variables. __NOTE:__ for this model you have 2 sets of changing cells that you want the solver to determine - the `x` values with quantities for each path and the utilize `yU` values. Note the indexes for the `y` variables are the 4 \"row\" city variables."
   ]
  },
  {
   "cell_type": "code",
   "execution_count": 7,
   "metadata": {},
   "outputs": [
    {
     "name": "stdout",
     "output_type": "stream",
     "text": [
      "N : Size=4, Index=N_index\n",
      "    Key : Lower : Value : Upper : Fixed : Stale : Domain\n",
      "      E :     0 :  None :  None : False :  True : NonNegativeReals\n",
      "      M :     0 :  None :  None : False :  True : NonNegativeReals\n",
      "      S :     0 :  None :  None : False :  True : NonNegativeReals\n",
      "      W :     0 :  None :  None : False :  True : NonNegativeReals\n",
      "A : Size=4, Index=A_index\n",
      "    Key : Lower : Value : Upper : Fixed : Stale : Domain\n",
      "      E :     0 :  None :  None : False :  True : NonNegativeReals\n",
      "      M :     0 :  None :  None : False :  True : NonNegativeReals\n",
      "      S :     0 :  None :  None : False :  True : NonNegativeReals\n",
      "      W :     0 :  None :  None : False :  True : NonNegativeReals\n",
      "C : Size=4, Index=C_index\n",
      "    Key : Lower : Value : Upper : Fixed : Stale : Domain\n",
      "      E :     0 :  None :  None : False :  True : NonNegativeReals\n",
      "      M :     0 :  None :  None : False :  True : NonNegativeReals\n",
      "      S :     0 :  None :  None : False :  True : NonNegativeReals\n",
      "      W :     0 :  None :  None : False :  True : NonNegativeReals\n",
      "L : Size=4, Index=L_index\n",
      "    Key : Lower : Value : Upper : Fixed : Stale : Domain\n",
      "      E :     0 :  None :  None : False :  True : NonNegativeReals\n",
      "      M :     0 :  None :  None : False :  True : NonNegativeReals\n",
      "      S :     0 :  None :  None : False :  True : NonNegativeReals\n",
      "      W :     0 :  None :  None : False :  True : NonNegativeReals\n",
      "yU : Size=4, Index=yU_index\n",
      "    Key : Lower : Value : Upper : Fixed : Stale : Domain\n",
      "      A :     0 :  None :     1 : False :  True : Binary\n",
      "      C :     0 :  None :     1 : False :  True : Binary\n",
      "      L :     0 :  None :     1 : False :  True : Binary\n",
      "      N :     0 :  None :     1 : False :  True : Binary\n"
     ]
    }
   ],
   "source": [
    "model.N = pe.Var(DV_indexes, domain=pe.NonNegativeReals)\n",
    "model.A = pe.Var(DV_indexes, domain=pe.NonNegativeReals)\n",
    "model.C = pe.Var(DV_indexes, domain=pe.NonNegativeReals)\n",
    "model.L = pe.Var(DV_indexes, domain=pe.NonNegativeReals)\n",
    "model.yU = pe.Var(coef.index, domain=pe.Binary)\n",
    "\n",
    "for DV in model.component_objects(pe.Var):\n",
    "    DV.pprint()"
   ]
  },
  {
   "cell_type": "markdown",
   "metadata": {},
   "source": [
    "### Define Objective Function"
   ]
  },
  {
   "cell_type": "markdown",
   "metadata": {},
   "source": [
    "Define your model objective function. Note that this will be the total costs which is calculated from the fixed costs and variable sales costs. Make sure you see how these are calculated in the Excel sheet before you try to implement here."
   ]
  },
  {
   "cell_type": "code",
   "execution_count": 8,
   "metadata": {},
   "outputs": [
    {
     "name": "stdout",
     "output_type": "stream",
     "text": [
      "obj : Size=1, Index=None, Active=True\n",
      "    Key  : Active : Sense    : Expression\n",
      "    None :   True : minimize : 206*N[E] + 225*N[S] + 230*N[M] + 290*N[W] + 225*A[E] + 206*A[S] + 221*A[M] + 270*A[W] + 230*C[E] + 221*C[S] + 208*C[M] + 262*C[W] + 290*L[E] + 270*L[S] + 262*L[M] + 215*L[W] + 6000*yU[N] + 5500*yU[A] + 5800*yU[C] + 6200*yU[L]\n"
     ]
    }
   ],
   "source": [
    "#obj funct minimize cost * (N A C L) + annual cost * yU\n",
    "model.obj = pe.Objective(expr=sum(coef.loc['N',c]*model.N[c] for c in DV_indexes)\n",
    "                                 + sum(coef.loc['A',c]*model.A[c] for c in DV_indexes)\n",
    "                                 + sum(coef.loc['C',c]*model.C[c] for c in DV_indexes)\n",
    "                                 + sum(coef.loc['L',c]*model.L[c] for c in DV_indexes)\n",
    "                                 + sum(capcost.loc[c,'annualcost'] * model.yU[c] for c in coef.index),\n",
    "                         sense=pe.minimize)\n",
    "model.obj.pprint()"
   ]
  },
  {
   "cell_type": "markdown",
   "metadata": {},
   "source": [
    "### Define constraints"
   ]
  },
  {
   "cell_type": "code",
   "execution_count": 9,
   "metadata": {},
   "outputs": [
    {
     "name": "stdout",
     "output_type": "stream",
     "text": [
      "constE : Size=1, Index=None, Active=True\n",
      "    Key  : Lower : Body                      : Upper : Active\n",
      "    None : 100.0 : N[E] + A[E] + C[E] + L[E] :  +Inf :   True\n",
      "constE None\n",
      "constS : Size=1, Index=None, Active=True\n",
      "    Key  : Lower : Body                      : Upper : Active\n",
      "    None : 150.0 : N[S] + A[S] + C[S] + L[S] :  +Inf :   True\n",
      "constS None\n",
      "constM : Size=1, Index=None, Active=True\n",
      "    Key  : Lower : Body                      : Upper : Active\n",
      "    None : 110.0 : N[M] + A[M] + C[M] + L[M] :  +Inf :   True\n",
      "constM None\n",
      "constW : Size=1, Index=None, Active=True\n",
      "    Key  : Lower : Body                      : Upper : Active\n",
      "    None :  90.0 : N[W] + A[W] + C[W] + L[W] :  +Inf :   True\n",
      "constW None\n",
      "constlinkN : Size=1, Index=None, Active=True\n",
      "    Key  : Lower : Body                                  : Upper : Active\n",
      "    None :  -Inf : N[E] + N[S] + N[M] + N[W] - 150*yU[N] :   0.0 :   True\n",
      "constlinkN None\n",
      "constlinkA : Size=1, Index=None, Active=True\n",
      "    Key  : Lower : Body                                  : Upper : Active\n",
      "    None :  -Inf : A[E] + A[S] + A[M] + A[W] - 150*yU[A] :   0.0 :   True\n",
      "constlinkA None\n",
      "constlinkC : Size=1, Index=None, Active=True\n",
      "    Key  : Lower : Body                                  : Upper : Active\n",
      "    None :  -Inf : C[E] + C[S] + C[M] + C[W] - 150*yU[C] :   0.0 :   True\n",
      "constlinkC None\n",
      "constlinkL : Size=1, Index=None, Active=True\n",
      "    Key  : Lower : Body                                  : Upper : Active\n",
      "    None :  -Inf : L[E] + L[S] + L[M] + L[W] - 150*yU[L] :   0.0 :   True\n",
      "constlinkL None\n"
     ]
    }
   ],
   "source": [
    "#Demand Constraints\n",
    "model.constE = pe.Constraint(expr=model.N['E'] + model.A['E']+model.C['E'] + model.L['E'] \n",
    "                             >= demand.loc['E','demand'])\n",
    "model.constS = pe.Constraint(expr=model.N['S'] + model.A['S']+model.C['S'] + model.L['S']\n",
    "                             >= demand.loc['S', 'demand'])\n",
    "model.constM = pe.Constraint(expr=model.N['M'] + model.A['M']+model.C['M'] + model.L['M']\n",
    "                             >= demand.loc['M', 'demand'])\n",
    "model.constW = pe.Constraint(expr=model.N['W'] + model.A['W']+model.C['W'] + model.L['W']\n",
    "                             >= demand.loc['W', 'demand'])\n",
    "\n",
    "# Capacity and Linking Constraints DV <= M*yU\n",
    "model.constlinkN = pe.Constraint(expr=sum(model.N[c] for c in DV_indexes) \n",
    "                                 <= capcost.loc['N','capacity'] * model.yU['N'])\n",
    "model.constlinkA = pe.Constraint(expr=sum(model.A[c] for c in DV_indexes) \n",
    "                                 <= capcost.loc['A','capacity']* model.yU['A'])\n",
    "model.constlinkC = pe.Constraint(expr=sum(model.C[c] for c in DV_indexes) \n",
    "                                 <= capcost.loc['C','capacity'] * model.yU['C'])\n",
    "model.constlinkL = pe.Constraint(expr=sum(model.L[c] for c in DV_indexes) \n",
    "                                 <= capcost.loc['L','capacity'] * model.yU['L'])\n",
    "\n",
    "for con in model.component_objects(pe.Constraint):\n",
    "    print(con,con.pprint())"
   ]
  },
  {
   "cell_type": "markdown",
   "metadata": {},
   "source": [
    "##### [Back to Top](#Top)"
   ]
  },
  {
   "cell_type": "markdown",
   "metadata": {},
   "source": [
    "### 4. Original Model Solution<a id=4></a>"
   ]
  },
  {
   "cell_type": "code",
   "execution_count": 10,
   "metadata": {},
   "outputs": [
    {
     "name": "stdout",
     "output_type": "stream",
     "text": [
      "ok optimal\n"
     ]
    }
   ],
   "source": [
    "opt = pe.SolverFactory('glpk')\n",
    "#opt.solve(model,tee=True) \n",
    "success=opt.solve(model)\n",
    "print(success.solver.status,success.solver.termination_condition)"
   ]
  },
  {
   "cell_type": "markdown",
   "metadata": {},
   "source": [
    "### Optimal Objective Value"
   ]
  },
  {
   "cell_type": "code",
   "execution_count": 11,
   "metadata": {},
   "outputs": [
    {
     "name": "stdout",
     "output_type": "stream",
     "text": [
      "optimal objective value minimum cost = $115770.00\n"
     ]
    }
   ],
   "source": [
    "obj_val = model.obj.expr()\n",
    "print(f'optimal objective value minimum cost = ${obj_val:.2f}')"
   ]
  },
  {
   "cell_type": "markdown",
   "metadata": {},
   "source": [
    "### Optimal Decision Variables"
   ]
  },
  {
   "cell_type": "code",
   "execution_count": 12,
   "metadata": {},
   "outputs": [
    {
     "data": {
      "text/html": [
       "<div>\n",
       "<style scoped>\n",
       "    .dataframe tbody tr th:only-of-type {\n",
       "        vertical-align: middle;\n",
       "    }\n",
       "\n",
       "    .dataframe tbody tr th {\n",
       "        vertical-align: top;\n",
       "    }\n",
       "\n",
       "    .dataframe thead th {\n",
       "        text-align: right;\n",
       "    }\n",
       "</style>\n",
       "<table border=\"1\" class=\"dataframe\">\n",
       "  <thead>\n",
       "    <tr style=\"text-align: right;\">\n",
       "      <th></th>\n",
       "      <th>E</th>\n",
       "      <th>S</th>\n",
       "      <th>M</th>\n",
       "      <th>W</th>\n",
       "    </tr>\n",
       "  </thead>\n",
       "  <tbody>\n",
       "    <tr>\n",
       "      <th>N</th>\n",
       "      <td>100.0</td>\n",
       "      <td>0.0</td>\n",
       "      <td>50.0</td>\n",
       "      <td>0.0</td>\n",
       "    </tr>\n",
       "    <tr>\n",
       "      <th>A</th>\n",
       "      <td>0.0</td>\n",
       "      <td>150.0</td>\n",
       "      <td>0.0</td>\n",
       "      <td>0.0</td>\n",
       "    </tr>\n",
       "    <tr>\n",
       "      <th>C</th>\n",
       "      <td>0.0</td>\n",
       "      <td>0.0</td>\n",
       "      <td>0.0</td>\n",
       "      <td>0.0</td>\n",
       "    </tr>\n",
       "    <tr>\n",
       "      <th>L</th>\n",
       "      <td>0.0</td>\n",
       "      <td>0.0</td>\n",
       "      <td>60.0</td>\n",
       "      <td>90.0</td>\n",
       "    </tr>\n",
       "  </tbody>\n",
       "</table>\n",
       "</div>"
      ],
      "text/plain": [
       "       E      S     M     W\n",
       "N  100.0    0.0  50.0   0.0\n",
       "A    0.0  150.0   0.0   0.0\n",
       "C    0.0    0.0   0.0   0.0\n",
       "L    0.0    0.0  60.0  90.0"
      ]
     },
     "execution_count": 12,
     "metadata": {},
     "output_type": "execute_result"
    }
   ],
   "source": [
    "DV_solution = pd.DataFrame()\n",
    "for c in DV_indexes:\n",
    "    DV_solution.loc['N',c] = model.N[c].value\n",
    "    DV_solution.loc['A',c] = model.A[c].value\n",
    "    DV_solution.loc['C',c] = model.C[c].value\n",
    "    DV_solution.loc['L',c] = model.L[c].value\n",
    "DV_solution"
   ]
  },
  {
   "cell_type": "markdown",
   "metadata": {},
   "source": [
    "We don't really care about these values - but we can do a double check that the linking variables seem to be working - here `yUC` is - which it should be because we did not use the Chicago paths."
   ]
  },
  {
   "cell_type": "code",
   "execution_count": 13,
   "metadata": {},
   "outputs": [
    {
     "name": "stdout",
     "output_type": "stream",
     "text": [
      "yUN: 1.0\n",
      "yUA: 1.0\n",
      "yUC: 0.0\n",
      "yUL: 1.0\n"
     ]
    }
   ],
   "source": [
    "for c in coef.index:\n",
    "    print(f'yU{c}:',model.yU[c].value)"
   ]
  },
  {
   "cell_type": "markdown",
   "metadata": {},
   "source": [
    "##### [Back to Top](#Top)"
   ]
  },
  {
   "cell_type": "markdown",
   "metadata": {},
   "source": [
    "### 5. Additional Constraints (Logical/Disjunctive) Model Definition<a id=5></a>"
   ]
  },
  {
   "cell_type": "markdown",
   "metadata": {},
   "source": [
    "We have already defined the needed data - so we will use these again. I am going to output them just so I can see them closer to this new model solution to remove me of their names, rows, and columns. "
   ]
  },
  {
   "cell_type": "code",
   "execution_count": 14,
   "metadata": {},
   "outputs": [
    {
     "data": {
      "text/html": [
       "<div>\n",
       "<style scoped>\n",
       "    .dataframe tbody tr th:only-of-type {\n",
       "        vertical-align: middle;\n",
       "    }\n",
       "\n",
       "    .dataframe tbody tr th {\n",
       "        vertical-align: top;\n",
       "    }\n",
       "\n",
       "    .dataframe thead th {\n",
       "        text-align: right;\n",
       "    }\n",
       "</style>\n",
       "<table border=\"1\" class=\"dataframe\">\n",
       "  <thead>\n",
       "    <tr style=\"text-align: right;\">\n",
       "      <th></th>\n",
       "      <th>E</th>\n",
       "      <th>S</th>\n",
       "      <th>M</th>\n",
       "      <th>W</th>\n",
       "    </tr>\n",
       "  </thead>\n",
       "  <tbody>\n",
       "    <tr>\n",
       "      <th>N</th>\n",
       "      <td>206</td>\n",
       "      <td>225</td>\n",
       "      <td>230</td>\n",
       "      <td>290</td>\n",
       "    </tr>\n",
       "    <tr>\n",
       "      <th>A</th>\n",
       "      <td>225</td>\n",
       "      <td>206</td>\n",
       "      <td>221</td>\n",
       "      <td>270</td>\n",
       "    </tr>\n",
       "    <tr>\n",
       "      <th>C</th>\n",
       "      <td>230</td>\n",
       "      <td>221</td>\n",
       "      <td>208</td>\n",
       "      <td>262</td>\n",
       "    </tr>\n",
       "    <tr>\n",
       "      <th>L</th>\n",
       "      <td>290</td>\n",
       "      <td>270</td>\n",
       "      <td>262</td>\n",
       "      <td>215</td>\n",
       "    </tr>\n",
       "  </tbody>\n",
       "</table>\n",
       "</div>"
      ],
      "text/plain": [
       "     E    S    M    W\n",
       "N  206  225  230  290\n",
       "A  225  206  221  270\n",
       "C  230  221  208  262\n",
       "L  290  270  262  215"
      ]
     },
     "execution_count": 14,
     "metadata": {},
     "output_type": "execute_result"
    }
   ],
   "source": [
    "coef"
   ]
  },
  {
   "cell_type": "code",
   "execution_count": 15,
   "metadata": {},
   "outputs": [
    {
     "data": {
      "text/html": [
       "<div>\n",
       "<style scoped>\n",
       "    .dataframe tbody tr th:only-of-type {\n",
       "        vertical-align: middle;\n",
       "    }\n",
       "\n",
       "    .dataframe tbody tr th {\n",
       "        vertical-align: top;\n",
       "    }\n",
       "\n",
       "    .dataframe thead th {\n",
       "        text-align: right;\n",
       "    }\n",
       "</style>\n",
       "<table border=\"1\" class=\"dataframe\">\n",
       "  <thead>\n",
       "    <tr style=\"text-align: right;\">\n",
       "      <th></th>\n",
       "      <th>capacity</th>\n",
       "      <th>annualcost</th>\n",
       "    </tr>\n",
       "  </thead>\n",
       "  <tbody>\n",
       "    <tr>\n",
       "      <th>N</th>\n",
       "      <td>150</td>\n",
       "      <td>6000</td>\n",
       "    </tr>\n",
       "    <tr>\n",
       "      <th>A</th>\n",
       "      <td>150</td>\n",
       "      <td>5500</td>\n",
       "    </tr>\n",
       "    <tr>\n",
       "      <th>C</th>\n",
       "      <td>150</td>\n",
       "      <td>5800</td>\n",
       "    </tr>\n",
       "    <tr>\n",
       "      <th>L</th>\n",
       "      <td>150</td>\n",
       "      <td>6200</td>\n",
       "    </tr>\n",
       "  </tbody>\n",
       "</table>\n",
       "</div>"
      ],
      "text/plain": [
       "  capacity annualcost\n",
       "N      150       6000\n",
       "A      150       5500\n",
       "C      150       5800\n",
       "L      150       6200"
      ]
     },
     "execution_count": 15,
     "metadata": {},
     "output_type": "execute_result"
    }
   ],
   "source": [
    "capcost"
   ]
  },
  {
   "cell_type": "code",
   "execution_count": 16,
   "metadata": {},
   "outputs": [
    {
     "data": {
      "text/html": [
       "<div>\n",
       "<style scoped>\n",
       "    .dataframe tbody tr th:only-of-type {\n",
       "        vertical-align: middle;\n",
       "    }\n",
       "\n",
       "    .dataframe tbody tr th {\n",
       "        vertical-align: top;\n",
       "    }\n",
       "\n",
       "    .dataframe thead th {\n",
       "        text-align: right;\n",
       "    }\n",
       "</style>\n",
       "<table border=\"1\" class=\"dataframe\">\n",
       "  <thead>\n",
       "    <tr style=\"text-align: right;\">\n",
       "      <th></th>\n",
       "      <th>demand</th>\n",
       "    </tr>\n",
       "  </thead>\n",
       "  <tbody>\n",
       "    <tr>\n",
       "      <th>E</th>\n",
       "      <td>100.0</td>\n",
       "    </tr>\n",
       "    <tr>\n",
       "      <th>S</th>\n",
       "      <td>150.0</td>\n",
       "    </tr>\n",
       "    <tr>\n",
       "      <th>M</th>\n",
       "      <td>110.0</td>\n",
       "    </tr>\n",
       "    <tr>\n",
       "      <th>W</th>\n",
       "      <td>90.0</td>\n",
       "    </tr>\n",
       "  </tbody>\n",
       "</table>\n",
       "</div>"
      ],
      "text/plain": [
       "   demand\n",
       "E   100.0\n",
       "S   150.0\n",
       "M   110.0\n",
       "W    90.0"
      ]
     },
     "execution_count": 16,
     "metadata": {},
     "output_type": "execute_result"
    }
   ],
   "source": [
    "demand"
   ]
  },
  {
   "cell_type": "markdown",
   "metadata": {},
   "source": [
    "### Define Decision Variables"
   ]
  },
  {
   "cell_type": "markdown",
   "metadata": {},
   "source": [
    "Now we already have the DV for each path quantitiy `model.x` and the Fixed Cost binary indicator `yU`. But we need to add 2 more constraints."
   ]
  },
  {
   "cell_type": "code",
   "execution_count": 37,
   "metadata": {},
   "outputs": [],
   "source": [
    "model = pe.ConcreteModel()"
   ]
  },
  {
   "cell_type": "code",
   "execution_count": 38,
   "metadata": {},
   "outputs": [],
   "source": [
    "DV_indexes = ['E','S','M','W',]\n",
    "model.N = pe.Var(DV_indexes, domain=pe.NonNegativeReals)\n",
    "model.A = pe.Var(DV_indexes, domain=pe.NonNegativeReals)\n",
    "model.C = pe.Var(DV_indexes, domain=pe.NonNegativeReals)\n",
    "model.L = pe.Var(DV_indexes, domain=pe.NonNegativeReals)\n",
    "model.yU = pe.Var(coef.index, domain=pe.Binary)\n",
    "\n",
    "#BINARY Threshold NM > 60 or 0 Indicator\n",
    "model.yNM60 = pe.Var(domain=pe.Binary)\n",
    "#BINARY Constraint LE >= 50\n",
    "model.yLE50 = pe.Var(domain=pe.Binary)\n",
    "#BINARY Constraint NE <= 75\n",
    "model.yNE75 = pe.Var(domain=pe.Binary)\n"
   ]
  },
  {
   "cell_type": "markdown",
   "metadata": {},
   "source": [
    "### Define Objective Function"
   ]
  },
  {
   "cell_type": "markdown",
   "metadata": {},
   "source": [
    "We are not changing the objective function with the additional constraints so this stays the same."
   ]
  },
  {
   "cell_type": "code",
   "execution_count": 39,
   "metadata": {},
   "outputs": [
    {
     "name": "stdout",
     "output_type": "stream",
     "text": [
      "obj : Size=1, Index=None, Active=True\n",
      "    Key  : Active : Sense    : Expression\n",
      "    None :   True : minimize : 206*N[E] + 225*N[S] + 230*N[M] + 290*N[W] + 225*A[E] + 206*A[S] + 221*A[M] + 270*A[W] + 230*C[E] + 221*C[S] + 208*C[M] + 262*C[W] + 290*L[E] + 270*L[S] + 262*L[M] + 215*L[W] + 6000*yU[N] + 5500*yU[A] + 5800*yU[C] + 6200*yU[L]\n"
     ]
    }
   ],
   "source": [
    "#obj funct minimize cost * (N A C L) + annual cost * yU\n",
    "model.obj = pe.Objective(expr=sum(coef.loc['N',c]*model.N[c] for c in DV_indexes)\n",
    "                                 + sum(coef.loc['A',c]*model.A[c] for c in DV_indexes)\n",
    "                                 + sum(coef.loc['C',c]*model.C[c] for c in DV_indexes)\n",
    "                                 + sum(coef.loc['L',c]*model.L[c] for c in DV_indexes)\n",
    "                                 + sum(capcost.loc[c,'annualcost'] * model.yU[c] for c in coef.index),\n",
    "                         sense=pe.minimize)\n",
    "model.obj.pprint()"
   ]
  },
  {
   "cell_type": "code",
   "execution_count": 40,
   "metadata": {},
   "outputs": [],
   "source": [
    "#Demand Constraints\n",
    "model.constE = pe.Constraint(expr=model.N['E'] + model.A['E']+model.C['E'] + model.L['E'] \n",
    "                             >= demand.loc['E','demand'])\n",
    "model.constS = pe.Constraint(expr=model.N['S'] + model.A['S']+model.C['S'] + model.L['S']\n",
    "                             >= demand.loc['S', 'demand'])\n",
    "model.constM = pe.Constraint(expr=model.N['M'] + model.A['M']+model.C['M'] + model.L['M']\n",
    "                             >= demand.loc['M', 'demand'])\n",
    "model.constW = pe.Constraint(expr=model.N['W'] + model.A['W']+model.C['W'] + model.L['W']\n",
    "                             >= demand.loc['W', 'demand'])\n",
    "\n",
    "# Capacity and Linking Constraints DV <= M*yU\n",
    "model.constlinkN = pe.Constraint(expr=sum(model.N[c] for c in DV_indexes) \n",
    "                                 <= capcost.loc['N','capacity'] * model.yU['N'])\n",
    "model.constlinkA = pe.Constraint(expr=sum(model.A[c] for c in DV_indexes) \n",
    "                                 <= capcost.loc['A','capacity']* model.yU['A'])\n",
    "model.constlinkC = pe.Constraint(expr=sum(model.C[c] for c in DV_indexes) \n",
    "                                 <= capcost.loc['C','capacity'] * model.yU['C'])\n",
    "model.constlinkL = pe.Constraint(expr=sum(model.L[c] for c in DV_indexes) \n",
    "                                 <= capcost.loc['L','capacity'] * model.yU['L'])\n",
    "\n",
    "#New constraints\n",
    "big_M = 150\n",
    "#Threshold NM >=60 or must be 0: NM >= 60 * yNM and NM <= 150 * yNM\n",
    "model.constNM601 = pe.Constraint(expr=model.N['M'] >= 60 * model.yNM60)\n",
    "model.constNM602 = pe.Constraint(expr=model.N['M'] <= 150 * model.yNM60)\n",
    "\n",
    "#Disjunctive LE >= 50: LE−𝑀*yLE≤50 and LE+𝑀(1−𝑦LE)≥50\n",
    "\n",
    "model.constLE501 = pe.Constraint(expr=model.L['E']-big_M*model.yLE50 <= 50)\n",
    "model.constLE502 = pe.Constraint(expr=model.L['E']+big_M*(1-model.yLE50) >= 50)\n",
    "\n",
    "#Disjunctive NE <=75: NE+𝑀*yNE≥75 and NE−𝑀(1−𝑦NE)≤75\n",
    "model.constNE751 = pe.Constraint(expr=model.N['E']+big_M*model.yNE75 >= 75)\n",
    "model.constNE752 = pe.Constraint(expr=model.N['E']-big_M*(1-model.yNE75) <= 75)\n",
    "\n",
    "#Disjunctive Linking yLE + yNE >= 1\n",
    "model.constLink = pe.Constraint(expr=model.yLE50 + model.yNE75 >= 1)"
   ]
  },
  {
   "cell_type": "markdown",
   "metadata": {},
   "source": [
    "##### [Back to Top](#Top)"
   ]
  },
  {
   "cell_type": "markdown",
   "metadata": {},
   "source": [
    "### 6. Additional Constraints (Logical/Disjunctive) Model Solution<a id=6></a>"
   ]
  },
  {
   "cell_type": "code",
   "execution_count": 41,
   "metadata": {},
   "outputs": [
    {
     "name": "stdout",
     "output_type": "stream",
     "text": [
      "ok optimal\n"
     ]
    }
   ],
   "source": [
    "opt = pe.SolverFactory('glpk')\n",
    "#opt.solve(model,tee=True) \n",
    "success=opt.solve(model)\n",
    "print(success.solver.status,success.solver.termination_condition)"
   ]
  },
  {
   "cell_type": "markdown",
   "metadata": {},
   "source": [
    "### Optimal Objective Value"
   ]
  },
  {
   "cell_type": "code",
   "execution_count": 42,
   "metadata": {},
   "outputs": [
    {
     "name": "stdout",
     "output_type": "stream",
     "text": [
      "optimal objective value minimum cost = $116850.00\n"
     ]
    }
   ],
   "source": [
    "obj_val = model.obj.expr()\n",
    "print(f'optimal objective value minimum cost = ${obj_val:.2f}')"
   ]
  },
  {
   "cell_type": "markdown",
   "metadata": {},
   "source": [
    "### Optimal Decision Variables"
   ]
  },
  {
   "cell_type": "code",
   "execution_count": 43,
   "metadata": {},
   "outputs": [
    {
     "data": {
      "text/html": [
       "<div>\n",
       "<style scoped>\n",
       "    .dataframe tbody tr th:only-of-type {\n",
       "        vertical-align: middle;\n",
       "    }\n",
       "\n",
       "    .dataframe tbody tr th {\n",
       "        vertical-align: top;\n",
       "    }\n",
       "\n",
       "    .dataframe thead th {\n",
       "        text-align: right;\n",
       "    }\n",
       "</style>\n",
       "<table border=\"1\" class=\"dataframe\">\n",
       "  <thead>\n",
       "    <tr style=\"text-align: right;\">\n",
       "      <th></th>\n",
       "      <th>E</th>\n",
       "      <th>S</th>\n",
       "      <th>M</th>\n",
       "      <th>W</th>\n",
       "    </tr>\n",
       "  </thead>\n",
       "  <tbody>\n",
       "    <tr>\n",
       "      <th>N</th>\n",
       "      <td>75.0</td>\n",
       "      <td>15.0</td>\n",
       "      <td>60.0</td>\n",
       "      <td>0.0</td>\n",
       "    </tr>\n",
       "    <tr>\n",
       "      <th>A</th>\n",
       "      <td>25.0</td>\n",
       "      <td>125.0</td>\n",
       "      <td>0.0</td>\n",
       "      <td>0.0</td>\n",
       "    </tr>\n",
       "    <tr>\n",
       "      <th>C</th>\n",
       "      <td>0.0</td>\n",
       "      <td>0.0</td>\n",
       "      <td>0.0</td>\n",
       "      <td>0.0</td>\n",
       "    </tr>\n",
       "    <tr>\n",
       "      <th>L</th>\n",
       "      <td>0.0</td>\n",
       "      <td>10.0</td>\n",
       "      <td>50.0</td>\n",
       "      <td>90.0</td>\n",
       "    </tr>\n",
       "  </tbody>\n",
       "</table>\n",
       "</div>"
      ],
      "text/plain": [
       "      E      S     M     W\n",
       "N  75.0   15.0  60.0   0.0\n",
       "A  25.0  125.0   0.0   0.0\n",
       "C   0.0    0.0   0.0   0.0\n",
       "L   0.0   10.0  50.0  90.0"
      ]
     },
     "execution_count": 43,
     "metadata": {},
     "output_type": "execute_result"
    }
   ],
   "source": [
    "DV_solution = pd.DataFrame()\n",
    "for c in DV_indexes:\n",
    "    DV_solution.loc['N',c] = model.N[c].value\n",
    "    DV_solution.loc['A',c] = model.A[c].value\n",
    "    DV_solution.loc['C',c] = model.C[c].value\n",
    "    DV_solution.loc['L',c] = model.L[c].value\n",
    "DV_solution"
   ]
  },
  {
   "cell_type": "markdown",
   "metadata": {},
   "source": [
    "We don't really care about these values - but we can do a double check that the linking variables seem to be working.\n",
    "* The `yU` variables check usage for each set of City paths. Here we see `yUC` is 0 because we did not use the Chicago paths.\n",
    "* The `yLE50` checks if LE >= 50. Above we see LE final count is 0 which means it was not met which matches the y of 0\n",
    "* the `yNE75` checks if NE <= 75. Above we see NE final count is 75 which means it did meet which matches the y of 1."
   ]
  },
  {
   "cell_type": "code",
   "execution_count": 48,
   "metadata": {},
   "outputs": [
    {
     "name": "stdout",
     "output_type": "stream",
     "text": [
      "yUN: 1.0\n",
      "yUA: 1.0\n",
      "yUC: 0.0\n",
      "yUL: 1.0\n"
     ]
    }
   ],
   "source": [
    "for c in coef.index:\n",
    "    print(f'yU{c}:',model.yU[c].value)"
   ]
  },
  {
   "cell_type": "code",
   "execution_count": 49,
   "metadata": {},
   "outputs": [
    {
     "name": "stdout",
     "output_type": "stream",
     "text": [
      "yNM60: 1.0\n",
      "yLE50: 0.0\n",
      "yNE75: 1.0\n"
     ]
    }
   ],
   "source": [
    "print(f'yNM60:',model.yNM60.value)\n",
    "print(f'yLE50:',model.yLE50.value)\n",
    "print(f'yNE75:',model.yNE75.value)"
   ]
  }
 ],
 "metadata": {
  "kernelspec": {
   "display_name": "Python 3",
   "language": "python",
   "name": "python3"
  },
  "language_info": {
   "codemirror_mode": {
    "name": "ipython",
    "version": 3
   },
   "file_extension": ".py",
   "mimetype": "text/x-python",
   "name": "python",
   "nbconvert_exporter": "python",
   "pygments_lexer": "ipython3",
   "version": "3.8.5"
  }
 },
 "nbformat": 4,
 "nbformat_minor": 4
}
