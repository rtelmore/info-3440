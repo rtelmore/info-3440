{
 "cells": [
  {
   "cell_type": "markdown",
   "metadata": {},
   "source": [
    "## Week 8 Class 2: IP - Facililty Location Example 7.3"
   ]
  },
  {
   "cell_type": "markdown",
   "metadata": {},
   "source": [
    "# Table of Contents<a id=\"Top\"></a>\n",
    "\n",
    "1. [Problem Statement](#1)<br>\n",
    "2. [Data](#2) <br>\n",
    "3. [Original Model Definition](#3)<br>\n",
    "4. [Original Model Solution](#4)<br>\n",
    "5. [Additional Constraints (Logical/Disjunctive) Model Definition](#5)<br>\n",
    "6. [Additional Constraints (Logical/Disjunctive) Model Solution](#6)<br>"
   ]
  },
  {
   "cell_type": "markdown",
   "metadata": {},
   "source": [
    "## 1. Problem Statement<a id=1></a>"
   ]
  },
  {
   "cell_type": "markdown",
   "metadata": {},
   "source": [
    "A Facility Location problem is a blend of a transportation model with fixed costs. That is, we have a problem of moving products from up to four cities (New York, Atlanta, Chicago and Los Angeles) to the distribution centers in the East, South, Midwest and West."
   ]
  },
  {
   "cell_type": "markdown",
   "metadata": {},
   "source": [
    "##### [Back to Top](#Top)"
   ]
  },
  {
   "cell_type": "markdown",
   "metadata": {},
   "source": [
    "## 2. Data<a id=2></a>"
   ]
  },
  {
   "cell_type": "code",
   "execution_count": null,
   "metadata": {},
   "outputs": [],
   "source": [
    "import pandas as pd\n",
    "import pyomo.environ as pe"
   ]
  },
  {
   "cell_type": "markdown",
   "metadata": {},
   "source": [
    "You will have to change the path (below) to point to the file on your computer!"
   ]
  },
  {
   "cell_type": "code",
   "execution_count": null,
   "metadata": {},
   "outputs": [],
   "source": [
    "raw_data = pd.read_excel('../Class-One/w08-c01-logical-part-2.xlsx', \n",
    "                         sheet_name = 'Example 7.3 - Location')\n",
    "raw_data"
   ]
  },
  {
   "cell_type": "code",
   "execution_count": null,
   "metadata": {},
   "outputs": [],
   "source": [
    "DV_indexes = ['E', 'S', 'M', 'W']\n",
    "coef = pd.DataFrame(raw_data.iloc[range(2, 6), range(2, 6)])\n",
    "coef.index = ['N', 'A', 'C','L']\n",
    "coef.columns = DV_indexes\n",
    "coef"
   ]
  },
  {
   "cell_type": "code",
   "execution_count": null,
   "metadata": {},
   "outputs": [],
   "source": [
    "capcost = raw_data.iloc[range(2, 6), [6, 7]]\n",
    "capcost.columns = ['capacity', 'annualcost']\n",
    "capcost.index = coef.index\n",
    "capcost"
   ]
  },
  {
   "cell_type": "code",
   "execution_count": null,
   "metadata": {},
   "outputs": [],
   "source": [
    "demand = pd.DataFrame()\n",
    "demand.loc['E', 'demand'] = 100\n",
    "demand.loc['S', 'demand'] = 150\n",
    "demand.loc['M', 'demand'] = 110\n",
    "demand.loc['W', 'demand'] = 90\n",
    "demand"
   ]
  },
  {
   "cell_type": "markdown",
   "metadata": {},
   "source": [
    "##### [Back to Top](#Top)"
   ]
  },
  {
   "cell_type": "markdown",
   "metadata": {},
   "source": [
    "### 3. Original Model Definition<a id=3></a>"
   ]
  },
  {
   "cell_type": "code",
   "execution_count": null,
   "metadata": {},
   "outputs": [],
   "source": [
    "model = pe.ConcreteModel()"
   ]
  },
  {
   "cell_type": "markdown",
   "metadata": {},
   "source": [
    "## Define Decision Variables"
   ]
  },
  {
   "cell_type": "markdown",
   "metadata": {},
   "source": [
    "Define your decision variables. __NOTE:__ In this first problem, we have two sets of decision variables in our model. The `x` variables defined the quantities being shipped between each potential origin and the destination (E, M, S, and W). The `y` variables are the individual binary variables that define whether or not we use a particular facility. The variable `y` is indexed by the facility cities."
   ]
  },
  {
   "cell_type": "code",
   "execution_count": null,
   "metadata": {},
   "outputs": [],
   "source": [
    "model.N = pe.Var(DV_indexes, domain = pe.NonNegativeReals)\n",
    "model.A = pe.Var(DV_indexes, domain = pe.NonNegativeReals)\n",
    "model.C = pe.Var(DV_indexes, domain = pe.NonNegativeReals)\n",
    "model.L = pe.Var(DV_indexes, domain = pe.NonNegativeReals)\n",
    "model.y = pe.Var(coef.index, domain = pe.Binary)\n",
    "\n",
    "for DV in model.component_objects(pe.Var):\n",
    "    DV.pprint()"
   ]
  },
  {
   "cell_type": "markdown",
   "metadata": {},
   "source": [
    "### Define Objective Function"
   ]
  },
  {
   "cell_type": "markdown",
   "metadata": {},
   "source": [
    "Define your model objective function. Note that this will be the total costs which is calculated from the fixed costs and variable sales costs. This objective function represents but `sumproduct` function calls in the Excel worksheet. "
   ]
  },
  {
   "cell_type": "code",
   "execution_count": null,
   "metadata": {},
   "outputs": [],
   "source": [
    "[coef.loc['N', index]*model.N[index] for index in DV_indexes]"
   ]
  },
  {
   "cell_type": "code",
   "execution_count": null,
   "metadata": {},
   "outputs": [],
   "source": [
    "#obj funct minimize cost * (N A C L) + annual cost * y\n",
    "model.obj = pe.Objective(expr = sum(coef.loc['N', index]*model.N[index] for index in DV_indexes)\n",
    "                                    + sum(coef.loc['A', index]*model.A[index] for index in DV_indexes)\n",
    "                                    + sum(coef.loc['C', index]*model.C[index] for index in DV_indexes)\n",
    "                                    + sum(coef.loc['L', index]*model.L[index] for index in DV_indexes)\n",
    "                                    + sum(capcost.loc[index, 'annualcost']*model.y[index] \n",
    "                                          for index in coef.index),\n",
    "                         sense = pe.minimize)\n",
    "model.obj.pprint()"
   ]
  },
  {
   "cell_type": "markdown",
   "metadata": {},
   "source": [
    "### Define constraints"
   ]
  },
  {
   "cell_type": "code",
   "execution_count": null,
   "metadata": {},
   "outputs": [],
   "source": [
    "demand.loc['E', 'demand']"
   ]
  },
  {
   "cell_type": "code",
   "execution_count": null,
   "metadata": {},
   "outputs": [],
   "source": [
    "#Demand Constraints\n",
    "model.constE = pe.Constraint(expr = model.N['E'] + model.A['E'] + model.C['E'] + model.L['E'] \n",
    "                             >= demand.loc['E', 'demand'])\n",
    "model.constS = pe.Constraint(expr = model.N['S'] + model.A['S'] + model.C['S'] + model.L['S']\n",
    "                             >= demand.loc['S', 'demand'])\n",
    "model.constM = pe.Constraint(expr = model.N['M'] + model.A['M'] + model.C['M'] + model.L['M']\n",
    "                             >= demand.loc['M', 'demand'])\n",
    "model.constW = pe.Constraint(expr = model.N['W'] + model.A['W'] + model.C['W'] + model.L['W']\n",
    "                             >= demand.loc['W', 'demand'])\n",
    "\n",
    "# Capacity and Linking Constraints DV <= M*y\n",
    "model.constlinkN = pe.Constraint(expr=sum(model.N[index] for index in DV_indexes) \n",
    "                                 <= capcost.loc['N', 'capacity'] * model.y['N'])\n",
    "model.constlinkA = pe.Constraint(expr=sum(model.A[index] for index in DV_indexes) \n",
    "                                 <= capcost.loc['A', 'capacity']* model.y['A'])\n",
    "model.constlinkC = pe.Constraint(expr=sum(model.C[index] for index in DV_indexes) \n",
    "                                 <= capcost.loc['C', 'capacity'] * model.y['C'])\n",
    "model.constlinkL = pe.Constraint(expr=sum(model.L[index] for index in DV_indexes) \n",
    "                                 <= capcost.loc['L', 'capacity'] * model.y['L'])\n",
    "\n",
    "for con in model.component_objects(pe.Constraint):\n",
    "    print(con,con.pprint())"
   ]
  },
  {
   "cell_type": "markdown",
   "metadata": {},
   "source": [
    "##### [Back to Top](#Top)"
   ]
  },
  {
   "cell_type": "markdown",
   "metadata": {},
   "source": [
    "### 4. Original Model Solution<a id=4></a>"
   ]
  },
  {
   "cell_type": "markdown",
   "metadata": {},
   "source": [
    "One thing that I always fail to mention is that you absolutely do not need to redefine the `opt` object each time you run `opt.solve` on a model. The `opt` definition will take care of specifying to use `glpk` throughout the entire python session."
   ]
  },
  {
   "cell_type": "code",
   "execution_count": null,
   "metadata": {},
   "outputs": [],
   "source": [
    "opt = pe.SolverFactory('glpk')\n",
    "result = opt.solve(model)\n",
    "print(result.solver.status, result.solver.termination_condition)"
   ]
  },
  {
   "cell_type": "markdown",
   "metadata": {},
   "source": [
    "### Optimal Objective Value"
   ]
  },
  {
   "cell_type": "code",
   "execution_count": null,
   "metadata": {},
   "outputs": [],
   "source": [
    "obj_val = model.obj.expr()\n",
    "print(f'optimal objective value minimum cost = ${obj_val:.2f}')"
   ]
  },
  {
   "cell_type": "markdown",
   "metadata": {},
   "source": [
    "### Optimal Decision Variables"
   ]
  },
  {
   "cell_type": "code",
   "execution_count": null,
   "metadata": {},
   "outputs": [],
   "source": [
    "DV_solution = pd.DataFrame()\n",
    "for index in DV_indexes:\n",
    "    DV_solution.loc['N', index] = model.N[index].value\n",
    "    DV_solution.loc['A', index] = model.A[index].value\n",
    "    DV_solution.loc['C', index] = model.C[index].value\n",
    "    DV_solution.loc['L', index] = model.L[index].value\n",
    "DV_solution"
   ]
  },
  {
   "cell_type": "markdown",
   "metadata": {},
   "source": [
    "The following shows which facilities are being utilized."
   ]
  },
  {
   "cell_type": "code",
   "execution_count": null,
   "metadata": {},
   "outputs": [],
   "source": [
    "for index in coef.index:\n",
    "    print(f'y{index}:', model.y[index].value)"
   ]
  },
  {
   "cell_type": "markdown",
   "metadata": {},
   "source": [
    "##### [Back to Top](#Top)"
   ]
  },
  {
   "cell_type": "markdown",
   "metadata": {},
   "source": [
    "### 5. Additional Constraints (Logical/Disjunctive) Model Definition<a id=5></a>"
   ]
  },
  {
   "cell_type": "markdown",
   "metadata": {},
   "source": [
    "In each subsequent problem, we will just add constraints to the problem. We don't need to redefine the model, objective function, etc. if they aren't changing (and they aren't here). We are just adding constraints to the problems and this will **might** require adding new variables and we have to in this case."
   ]
  },
  {
   "cell_type": "markdown",
   "metadata": {},
   "source": [
    "Let's look at the coefficients associated with our objective functions and constraint equations again. "
   ]
  },
  {
   "cell_type": "code",
   "execution_count": null,
   "metadata": {},
   "outputs": [],
   "source": [
    "coef"
   ]
  },
  {
   "cell_type": "code",
   "execution_count": null,
   "metadata": {},
   "outputs": [],
   "source": [
    "capcost"
   ]
  },
  {
   "cell_type": "code",
   "execution_count": null,
   "metadata": {},
   "outputs": [],
   "source": [
    "demand"
   ]
  },
  {
   "cell_type": "markdown",
   "metadata": {},
   "source": [
    "### 5.2 Threshold Problem"
   ]
  },
  {
   "cell_type": "markdown",
   "metadata": {},
   "source": [
    "#### Define Decision Variables"
   ]
  },
  {
   "cell_type": "code",
   "execution_count": null,
   "metadata": {},
   "outputs": [],
   "source": [
    "#BINARY Threshold NM > 60 or 0 Indicator\n",
    "model.yNM60 = pe.Var(domain = pe.Binary)"
   ]
  },
  {
   "cell_type": "code",
   "execution_count": null,
   "metadata": {},
   "outputs": [],
   "source": [
    "#New constraints\n",
    "big_M = 150\n",
    "#Threshold NM >=60 or must be 0: NM >= 60 * yNM and NM <= 150 * yNM\n",
    "model.constNM601 = pe.Constraint(expr = model.N['M'] >= 60 * model.yNM60)\n",
    "model.constNM602 = pe.Constraint(expr = model.N['M'] <= 150 * model.yNM60)"
   ]
  },
  {
   "cell_type": "code",
   "execution_count": null,
   "metadata": {},
   "outputs": [],
   "source": [
    "result = opt.solve(model)\n",
    "print(result.solver.status, result.solver.termination_condition)\n",
    "obj_val = model.obj.expr()\n",
    "print(f'optimal objective value minimum cost = ${obj_val:.2f}')"
   ]
  },
  {
   "cell_type": "code",
   "execution_count": null,
   "metadata": {},
   "outputs": [],
   "source": [
    "DV_solution = pd.DataFrame()\n",
    "for index in DV_indexes:\n",
    "    DV_solution.loc['N', index] = model.N[index].value\n",
    "    DV_solution.loc['A', index] = model.A[index].value\n",
    "    DV_solution.loc['C', index] = model.C[index].value\n",
    "    DV_solution.loc['L', index] = model.L[index].value\n",
    "DV_solution"
   ]
  },
  {
   "cell_type": "code",
   "execution_count": null,
   "metadata": {},
   "outputs": [],
   "source": [
    "for index in coef.index:\n",
    "    print(f'y{index}:', model.y[index].value)"
   ]
  },
  {
   "cell_type": "code",
   "execution_count": null,
   "metadata": {},
   "outputs": [],
   "source": [
    "print(f'yNM60:', model.yNM60.value)"
   ]
  },
  {
   "cell_type": "markdown",
   "metadata": {
    "tags": []
   },
   "source": [
    "#### Define Decision Variables"
   ]
  },
  {
   "cell_type": "markdown",
   "metadata": {},
   "source": [
    "Now we already have the DV for each path quantitiy `model.x` and the Fixed Cost binary indicator `y`. We need to add two more variables to the model. "
   ]
  },
  {
   "cell_type": "code",
   "execution_count": null,
   "metadata": {},
   "outputs": [],
   "source": [
    "#BINARY Constraint LE >= 50\n",
    "model.yLE50 = pe.Var(domain = pe.Binary)\n",
    "#BINARY Constraint NE <= 75\n",
    "model.yNE75 = pe.Var(domain = pe.Binary)"
   ]
  },
  {
   "cell_type": "markdown",
   "metadata": {},
   "source": [
    "Now define the additional constraints."
   ]
  },
  {
   "cell_type": "code",
   "execution_count": null,
   "metadata": {},
   "outputs": [],
   "source": [
    "#Disjunctive LE >= 50: LE−𝑀*yLE≤50 and LE+𝑀(1−𝑦LE)≥50\n",
    "\n",
    "model.constLE501 = pe.Constraint(expr = model.L['E'] - big_M*model.yLE50 <= 50)\n",
    "model.constLE502 = pe.Constraint(expr = model.L['E'] + big_M*(1 - model.yLE50) >= 50)\n",
    "\n",
    "#Disjunctive NE <=75: NE+𝑀*yNE≥75 and NE−𝑀(1−𝑦NE)≤75\n",
    "model.constNE751 = pe.Constraint(expr = model.N['E'] + big_M*model.yNE75 >= 75)\n",
    "model.constNE752 = pe.Constraint(expr = model.N['E'] - big_M*(1 - model.yNE75) <= 75)\n",
    "\n",
    "#Disjunctive Linking yLE + yNE >= 1\n",
    "model.constLink = pe.Constraint(expr = model.yLE50 + model.yNE75 >= 1)"
   ]
  },
  {
   "cell_type": "code",
   "execution_count": null,
   "metadata": {},
   "outputs": [],
   "source": [
    "result = opt.solve(model)\n",
    "print(result.solver.status, result.solver.termination_condition)"
   ]
  },
  {
   "cell_type": "code",
   "execution_count": null,
   "metadata": {},
   "outputs": [],
   "source": [
    "obj_val = model.obj.expr()\n",
    "print(f'optimal objective value minimum cost = ${obj_val:.2f}')"
   ]
  },
  {
   "cell_type": "code",
   "execution_count": null,
   "metadata": {},
   "outputs": [],
   "source": [
    "DV_solution = pd.DataFrame()\n",
    "for index in DV_indexes:\n",
    "    DV_solution.loc['N', index] = model.N[index].value\n",
    "    DV_solution.loc['A', index] = model.A[index].value\n",
    "    DV_solution.loc['C', index] = model.C[index].value\n",
    "    DV_solution.loc['L', index] = model.L[index].value\n",
    "DV_solution"
   ]
  },
  {
   "cell_type": "code",
   "execution_count": null,
   "metadata": {},
   "outputs": [],
   "source": [
    "for index in coef.index:\n",
    "    print(f'y{index}:', model.y[index].value)"
   ]
  },
  {
   "cell_type": "markdown",
   "metadata": {
    "tags": []
   },
   "source": [
    "We should check that the linking variables seem to be working.\n",
    "* The `y` variables check usage for each set of City paths. Here we see `y` is 0 because we did not use the Chicago paths.\n",
    "* The `yLE50` checks if LE >= 50. Above we see LE final count is 0 which means it was not met which matches the y of 0\n",
    "* the `yNE75` checks if NE <= 75. Above we see NE final count is 75 which means it did meet which matches the y of 1."
   ]
  },
  {
   "cell_type": "code",
   "execution_count": null,
   "metadata": {},
   "outputs": [],
   "source": [
    "print(f'yLE50:', model.yLE50.value)\n",
    "print(f'yNE75:', model.yNE75.value)"
   ]
  },
  {
   "cell_type": "code",
   "execution_count": null,
   "metadata": {},
   "outputs": [],
   "source": [
    "for index in coef.index:\n",
    "    print(f'y{index}:', model.y[index].value)"
   ]
  },
  {
   "cell_type": "code",
   "execution_count": null,
   "metadata": {},
   "outputs": [],
   "source": [
    "for con in model.component_objects(pe.Constraint):\n",
    "    print(con.lower, con.slack(), con.upper)"
   ]
  },
  {
   "cell_type": "code",
   "execution_count": null,
   "metadata": {},
   "outputs": [],
   "source": []
  }
 ],
 "metadata": {
  "kernelspec": {
   "display_name": "info-3440",
   "language": "python",
   "name": "info-3440"
  },
  "language_info": {
   "codemirror_mode": {
    "name": "ipython",
    "version": 3
   },
   "file_extension": ".py",
   "mimetype": "text/x-python",
   "name": "python",
   "nbconvert_exporter": "python",
   "pygments_lexer": "ipython3",
   "version": "3.8.12"
  }
 },
 "nbformat": 4,
 "nbformat_minor": 4
}
