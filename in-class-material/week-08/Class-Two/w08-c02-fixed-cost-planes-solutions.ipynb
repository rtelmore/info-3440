{
 "cells": [
  {
   "cell_type": "markdown",
   "metadata": {},
   "source": [
    "# W7L1 IP Logical Constraints - In Class Fixed Cost Planes"
   ]
  },
  {
   "cell_type": "markdown",
   "metadata": {},
   "source": [
    "# Table of Contents<a id=\"Top\"></a>\n",
    "\n",
    "1. [Problem Statement](#1)<br>\n",
    "2. [Data](#2) <br>\n",
    "3. [Model Definition](#3)<br>\n",
    "4. [Model Solution](#4)<br>\n",
    "5. [Redo Model with new constraints](#5)<br>"
   ]
  },
  {
   "cell_type": "markdown",
   "metadata": {},
   "source": [
    "## 1. Problem Statement<a id = 1></a>"
   ]
  },
  {
   "cell_type": "markdown",
   "metadata": {},
   "source": [
    "Here we will solve the problem where we need to determine how many of each plane to produce. Each plane has a setup cost and our goal is to maximize our project. "
   ]
  },
  {
   "cell_type": "markdown",
   "metadata": {},
   "source": [
    "##### [Back to Top](#Top)"
   ]
  },
  {
   "cell_type": "markdown",
   "metadata": {},
   "source": [
    "## 2. Data<a id = 2></a>"
   ]
  },
  {
   "cell_type": "markdown",
   "metadata": {},
   "source": [
    "The data are the sheet Planes tab in w08-c02-planes.xlsx."
   ]
  },
  {
   "cell_type": "code",
   "execution_count": null,
   "metadata": {},
   "outputs": [],
   "source": [
    "import pandas as pd\n",
    "import pyomo.environ as pe\n",
    "#import matplotlib.pyplot as plt"
   ]
  },
  {
   "cell_type": "code",
   "execution_count": null,
   "metadata": {},
   "outputs": [],
   "source": [
    "raw_data = pd.read_excel('w08-c02-planes.xlsx', sheet_name = 'Planes')\n",
    "raw_data"
   ]
  },
  {
   "cell_type": "markdown",
   "metadata": {},
   "source": [
    "First we will capture the coefficients which will the the profit per each plane produced, the setup fixed cost, and the units of each mataerial needed for each plane type."
   ]
  },
  {
   "cell_type": "code",
   "execution_count": null,
   "metadata": {},
   "outputs": [],
   "source": [
    "DV_indexes = ['Rocket', 'Meteor', 'Streak', 'Comet', 'Jet', 'Biplane']\n",
    "coef = pd.DataFrame(raw_data.iloc[[9, 10, 2, 3, 4, 5, 6, 7], range(1, 7)])\n",
    "coef.index = ['profit', 'Fixed Setup', 'Steel', 'Copper', 'Plastic', 'Rubber', 'Glass', 'Paint']\n",
    "coef.columns = DV_indexes\n",
    "coef"
   ]
  },
  {
   "cell_type": "markdown",
   "metadata": {},
   "source": [
    "The next tables will give us our max values for our constraints - we have units capacity for each raw material."
   ]
  },
  {
   "cell_type": "code",
   "execution_count": null,
   "metadata": {},
   "outputs": [],
   "source": [
    "hours = pd.DataFrame(raw_data.iloc[2:8, 7])\n",
    "hours.columns = ['units']\n",
    "hours.index = coef.index[2:]\n",
    "hours"
   ]
  },
  {
   "cell_type": "markdown",
   "metadata": {},
   "source": [
    "##### [Back to Top](#Top)"
   ]
  },
  {
   "cell_type": "markdown",
   "metadata": {},
   "source": [
    "## 3. Model Definition<a id = 3></a>"
   ]
  },
  {
   "cell_type": "markdown",
   "metadata": {},
   "source": [
    "Now let's solve the model."
   ]
  },
  {
   "cell_type": "code",
   "execution_count": null,
   "metadata": {},
   "outputs": [],
   "source": [
    "model = pe.ConcreteModel()"
   ]
  },
  {
   "cell_type": "markdown",
   "metadata": {},
   "source": [
    "### Define Decision Variables"
   ]
  },
  {
   "cell_type": "markdown",
   "metadata": {},
   "source": [
    "__NOTE:__ for this model you have 2 sets of changing cells that you want the solver to determine - the `x`plane quantities and the `yU` values which are binary utilization variables we will used to create the fixed setup cost linking constraints. Let's make the `x` values `NonNegativeIntegers` since we can't make a fraction of a plane."
   ]
  },
  {
   "cell_type": "code",
   "execution_count": null,
   "metadata": {},
   "outputs": [],
   "source": [
    "model.x = pe.Var(DV_indexes, domain = pe.NonNegativeIntegers)\n",
    "model.y = pe.Var(DV_indexes, domain = pe.Binary)\n",
    "model.x.pprint()\n",
    "model.y.pprint()"
   ]
  },
  {
   "cell_type": "markdown",
   "metadata": {},
   "source": [
    "### Define objective function"
   ]
  },
  {
   "cell_type": "markdown",
   "metadata": {},
   "source": [
    "Note that this will be the total profit which is calculated from the fixed price and variable setup costs. Make sure you see how these are calculated in the Excel sheet before you try to implement here."
   ]
  },
  {
   "cell_type": "code",
   "execution_count": null,
   "metadata": {},
   "outputs": [],
   "source": [
    "#obj funct max profit * x - setup cost * y\n",
    "model.obj = pe.Objective(expr = sum(coef.loc['profit', index]*model.x[index] \n",
    "                                    for index in DV_indexes) - \n",
    "                         sum(coef.loc['Fixed Setup', index]*model.y[index] for index in DV_indexes),\n",
    "                         sense = pe.maximize)\n",
    "model.obj.pprint()"
   ]
  },
  {
   "cell_type": "markdown",
   "metadata": {},
   "source": [
    "### Define Constraints"
   ]
  },
  {
   "cell_type": "code",
   "execution_count": null,
   "metadata": {},
   "outputs": [],
   "source": [
    "#Units Capacity Constraints\n",
    "model.Steel = pe.Constraint(expr = sum(coef.loc['Steel', index]*model.x[index]\n",
    "                                       for index in DV_indexes) <= hours.loc['Steel', 'units'])\n",
    "model.Copper = pe.Constraint(expr = sum(coef.loc['Copper', index]*model.x[index] \n",
    "                                       for index in DV_indexes) <= hours.loc['Copper', 'units'])\n",
    "model.Plastic = pe.Constraint(expr = sum(coef.loc['Plastic', index]*model.x[index] \n",
    "                                       for index in DV_indexes) <= hours.loc['Plastic', 'units'])\n",
    "model.Rubber = pe.Constraint(expr = sum(coef.loc['Rubber', index]*model.x[index] \n",
    "                                       for index in DV_indexes) <= hours.loc['Rubber', 'units'])\n",
    "model.Glass = pe.Constraint(expr = sum(coef.loc['Glass', index]*model.x[index] \n",
    "                                       for index in DV_indexes) <= hours.loc['Glass', 'units'])\n",
    "model.Paint = pe.Constraint(expr = sum(coef.loc['Paint',index]*model.x[index] \n",
    "                                       for index in DV_indexes) <= hours.loc['Paint', 'units'])\n",
    "\n",
    "#Linking Constraints with really large arbitrary max demand of 2000\n",
    "model.LinkRocket = pe.Constraint(expr = model.x['Rocket'] <= 2000*model.y['Rocket'])\n",
    "model.LinkMeteor = pe.Constraint(expr = model.x['Meteor'] <= 2000*model.y['Meteor'])\n",
    "model.LinkStreak = pe.Constraint(expr = model.x['Streak'] <= 2000*model.y['Streak'])\n",
    "model.LinkComet = pe.Constraint(expr = model.x['Comet'] <= 2000*model.y['Comet'])\n",
    "model.LinkJet = pe.Constraint(expr = model.x['Jet'] <= 2000*model.y['Jet'])\n",
    "model.LinkBiplane = pe.Constraint(expr = model.x['Biplane'] <= 2000*model.y['Biplane'])\n",
    "\n",
    "for con in model.component_objects(pe.Constraint):\n",
    "    print(con,con.pprint())"
   ]
  },
  {
   "cell_type": "markdown",
   "metadata": {},
   "source": [
    "##### [Back to Top](#Top)"
   ]
  },
  {
   "cell_type": "markdown",
   "metadata": {},
   "source": [
    "## 4. Model Solution<a id = 4></a>"
   ]
  },
  {
   "cell_type": "code",
   "execution_count": null,
   "metadata": {},
   "outputs": [],
   "source": [
    "opt = pe.SolverFactory('glpk')\n",
    "result = opt.solve(model)\n",
    "print(result.solver.status, result.solver.termination_condition)"
   ]
  },
  {
   "cell_type": "markdown",
   "metadata": {},
   "source": [
    "### Optimal Objective Value"
   ]
  },
  {
   "cell_type": "code",
   "execution_count": null,
   "metadata": {},
   "outputs": [],
   "source": [
    "obj_val = model.obj.expr()\n",
    "print(f'optimal objective value maximum profit = ${obj_val:.2f}')"
   ]
  },
  {
   "cell_type": "markdown",
   "metadata": {},
   "source": [
    "### Optimal Decision Variables"
   ]
  },
  {
   "cell_type": "code",
   "execution_count": null,
   "metadata": {},
   "outputs": [],
   "source": [
    "DV_solution = pd.DataFrame()\n",
    "for DV in model.component_objects(pe.Var):\n",
    "    for var in DV:\n",
    "        DV_solution.loc[DV.name, var] = DV[var].value\n",
    "DV_solution"
   ]
  },
  {
   "cell_type": "markdown",
   "metadata": {},
   "source": [
    "##### [Back to Top](#Top)"
   ]
  },
  {
   "cell_type": "markdown",
   "metadata": {},
   "source": [
    "## 5. Now solve the model with the Logical and Disjunctive Constraints<a id=5></a>"
   ]
  },
  {
   "cell_type": "markdown",
   "metadata": {},
   "source": [
    "Now we want to add the new constraints:\n",
    "* Suppose that we must pick the Meteor or Comet in our production.\n",
    "* Suppose also that Rocket must be > 100 or Biplane must be > 100\n",
    "    "
   ]
  },
  {
   "cell_type": "code",
   "execution_count": null,
   "metadata": {},
   "outputs": [],
   "source": [
    "#NEW BINARY Rocket > 100 Indicator\n",
    "model.yRocketConst = pe.Var(domain = pe.Binary)\n",
    "#NEW BINARY Biplane > 100 Indicator\n",
    "model.yBiplaneConst = pe.Var(domain = pe.Binary)\n",
    "\n",
    "#New Logical constraint - pick the Meteor or Comet\n",
    "model.MetORCom = pe.Constraint(expr = model.y['Meteor']+model.y['Comet'] >= 1)\n",
    "\n",
    "#New Disjunctive constraint - Rocket must be > 100 or Biplane must be > 100\n",
    "#Rocket−𝑀*yRocket≤100 and Rocket+𝑀(1−𝑦Rocket)≥100\n",
    "max_dem = 2000\n",
    "model.RockConst1 = pe.Constraint(expr = model.x['Rocket']-max_dem*model.yRocketConst <= 100)\n",
    "model.RockConst2 = pe.Constraint(expr = model.x['Rocket']+max_dem*(1-model.yRocketConst) >=100)\n",
    "#Biplane−𝑀*yBiplane≤100 and Biplane+𝑀(1−𝑦Biplane)≥100\n",
    "model.BipConst1 = pe.Constraint(expr = model.x['Biplane']-max_dem*model.yBiplaneConst <= 100)\n",
    "model.BipConst2 = pe.Constraint(expr = model.x['Biplane']+max_dem*(1-model.yBiplaneConst) >=100)\n",
    "                                 \n",
    "#Binary var YRocket Const + Binary var YBiplane Const >= 1\n",
    "model.RockBipLink = pe.Constraint(expr = model.yRocketConst+model.yBiplaneConst >= 1)\n",
    "model.pprint()"
   ]
  },
  {
   "cell_type": "code",
   "execution_count": null,
   "metadata": {},
   "outputs": [],
   "source": [
    "result = opt.solve(model)\n",
    "print(result.solver.status, result.solver.termination_condition)"
   ]
  },
  {
   "cell_type": "markdown",
   "metadata": {},
   "source": [
    "### New Optimal Objective Value"
   ]
  },
  {
   "cell_type": "code",
   "execution_count": null,
   "metadata": {},
   "outputs": [],
   "source": [
    "obj_val = model.obj.expr()\n",
    "print(f'optimal objective value maximum profit = ${obj_val:.2f}')"
   ]
  },
  {
   "cell_type": "markdown",
   "metadata": {},
   "source": [
    "### New Optimal Decision Variables"
   ]
  },
  {
   "cell_type": "code",
   "execution_count": null,
   "metadata": {},
   "outputs": [],
   "source": [
    "DV_solution = pd.DataFrame()\n",
    "for DV in model.component_objects(pe.Var):\n",
    "    for var in DV:\n",
    "        DV_solution.loc[DV.name, var] = DV[var].value\n",
    "DV_solution"
   ]
  },
  {
   "cell_type": "markdown",
   "metadata": {},
   "source": [
    "##### [Back to Top](#Top)"
   ]
  },
  {
   "cell_type": "code",
   "execution_count": null,
   "metadata": {},
   "outputs": [],
   "source": [
    "for con in model.component_objects(pe.Constraint):\n",
    "    print(con.lower, con.slack(), con.upper)"
   ]
  },
  {
   "cell_type": "code",
   "execution_count": null,
   "metadata": {},
   "outputs": [],
   "source": []
  }
 ],
 "metadata": {
  "kernelspec": {
   "display_name": "info-3440",
   "language": "python",
   "name": "info-3440"
  },
  "language_info": {
   "codemirror_mode": {
    "name": "ipython",
    "version": 3
   },
   "file_extension": ".py",
   "mimetype": "text/x-python",
   "name": "python",
   "nbconvert_exporter": "python",
   "pygments_lexer": "ipython3",
   "version": "3.8.12"
  }
 },
 "nbformat": 4,
 "nbformat_minor": 4
}
