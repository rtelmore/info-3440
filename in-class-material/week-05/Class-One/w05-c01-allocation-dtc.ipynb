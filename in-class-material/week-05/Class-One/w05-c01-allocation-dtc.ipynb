{
 "cells": [
  {
   "cell_type": "markdown",
   "metadata": {},
   "source": [
    "## Week Five Class One: Allocation and Mix Problem (Desks, Tables, and Chairs)"
   ]
  },
  {
   "cell_type": "markdown",
   "metadata": {},
   "source": [
    "## Table of Contents<a id=\"TOC\"></a>\n",
    "\n",
    "1. [Install Packages](#S1) <br>\n",
    "2. [Allocation and Mix (Desks, Tables and Chairs)](#S2) <br>\n",
    "5. [ERRORS](#S3) <br>"
   ]
  },
  {
   "cell_type": "markdown",
   "metadata": {},
   "source": [
    "For our third example, let's examine the Allocation and Mix problem for Desks, Tables, and Chairs.\n"
   ]
  },
  {
   "cell_type": "markdown",
   "metadata": {},
   "source": [
    "## 1. Install Packages<a id=S1></a>"
   ]
  },
  {
   "cell_type": "code",
   "execution_count": 2,
   "metadata": {},
   "outputs": [],
   "source": [
    "import pandas as pd\n",
    "import pyomo.environ as pe"
   ]
  },
  {
   "cell_type": "markdown",
   "metadata": {},
   "source": [
    "##### [Back to Top](#TOC)"
   ]
  },
  {
   "cell_type": "markdown",
   "metadata": {},
   "source": [
    "## 2. Allocation and Mix (Desks, Tables and Chairs)<a id=S2></a>"
   ]
  },
  {
   "cell_type": "markdown",
   "metadata": {},
   "source": [
    "### Read in data from Excel"
   ]
  },
  {
   "cell_type": "code",
   "execution_count": 3,
   "metadata": {},
   "outputs": [
    {
     "data": {
      "text/html": [
       "<div>\n",
       "<style scoped>\n",
       "    .dataframe tbody tr th:only-of-type {\n",
       "        vertical-align: middle;\n",
       "    }\n",
       "\n",
       "    .dataframe tbody tr th {\n",
       "        vertical-align: top;\n",
       "    }\n",
       "\n",
       "    .dataframe thead th {\n",
       "        text-align: right;\n",
       "    }\n",
       "</style>\n",
       "<table border=\"1\" class=\"dataframe\">\n",
       "  <thead>\n",
       "    <tr style=\"text-align: right;\">\n",
       "      <th></th>\n",
       "      <th>Allocation: Product Mix</th>\n",
       "      <th>Unnamed: 1</th>\n",
       "      <th>Unnamed: 2</th>\n",
       "      <th>Unnamed: 3</th>\n",
       "      <th>Unnamed: 4</th>\n",
       "      <th>Unnamed: 5</th>\n",
       "      <th>Unnamed: 6</th>\n",
       "      <th>Unnamed: 7</th>\n",
       "    </tr>\n",
       "  </thead>\n",
       "  <tbody>\n",
       "    <tr>\n",
       "      <th>0</th>\n",
       "      <td>NaN</td>\n",
       "      <td>NaN</td>\n",
       "      <td>NaN</td>\n",
       "      <td>NaN</td>\n",
       "      <td>NaN</td>\n",
       "      <td>NaN</td>\n",
       "      <td>NaN</td>\n",
       "      <td>NaN</td>\n",
       "    </tr>\n",
       "    <tr>\n",
       "      <th>1</th>\n",
       "      <td>Decision Variables</td>\n",
       "      <td>NaN</td>\n",
       "      <td>NaN</td>\n",
       "      <td>NaN</td>\n",
       "      <td>NaN</td>\n",
       "      <td>NaN</td>\n",
       "      <td>NaN</td>\n",
       "      <td>NaN</td>\n",
       "    </tr>\n",
       "    <tr>\n",
       "      <th>2</th>\n",
       "      <td>NaN</td>\n",
       "      <td>C</td>\n",
       "      <td>D</td>\n",
       "      <td>T</td>\n",
       "      <td>NaN</td>\n",
       "      <td>NaN</td>\n",
       "      <td>NaN</td>\n",
       "      <td>NaN</td>\n",
       "    </tr>\n",
       "    <tr>\n",
       "      <th>3</th>\n",
       "      <td>Production plan</td>\n",
       "      <td>1</td>\n",
       "      <td>1</td>\n",
       "      <td>1</td>\n",
       "      <td>NaN</td>\n",
       "      <td>NaN</td>\n",
       "      <td>NaN</td>\n",
       "      <td>NaN</td>\n",
       "    </tr>\n",
       "    <tr>\n",
       "      <th>4</th>\n",
       "      <td>NaN</td>\n",
       "      <td>NaN</td>\n",
       "      <td>NaN</td>\n",
       "      <td>NaN</td>\n",
       "      <td>NaN</td>\n",
       "      <td>NaN</td>\n",
       "      <td>NaN</td>\n",
       "      <td>NaN</td>\n",
       "    </tr>\n",
       "    <tr>\n",
       "      <th>5</th>\n",
       "      <td>Objective Function</td>\n",
       "      <td>NaN</td>\n",
       "      <td>NaN</td>\n",
       "      <td>NaN</td>\n",
       "      <td>Total</td>\n",
       "      <td>NaN</td>\n",
       "      <td>NaN</td>\n",
       "      <td>NaN</td>\n",
       "    </tr>\n",
       "    <tr>\n",
       "      <th>6</th>\n",
       "      <td>Profit</td>\n",
       "      <td>16</td>\n",
       "      <td>20</td>\n",
       "      <td>14</td>\n",
       "      <td>50</td>\n",
       "      <td>NaN</td>\n",
       "      <td>NaN</td>\n",
       "      <td>NaN</td>\n",
       "    </tr>\n",
       "    <tr>\n",
       "      <th>7</th>\n",
       "      <td>NaN</td>\n",
       "      <td>NaN</td>\n",
       "      <td>NaN</td>\n",
       "      <td>NaN</td>\n",
       "      <td>NaN</td>\n",
       "      <td>NaN</td>\n",
       "      <td>NaN</td>\n",
       "      <td>NaN</td>\n",
       "    </tr>\n",
       "    <tr>\n",
       "      <th>8</th>\n",
       "      <td>Constraints</td>\n",
       "      <td>NaN</td>\n",
       "      <td>NaN</td>\n",
       "      <td>NaN</td>\n",
       "      <td>LHS</td>\n",
       "      <td>NaN</td>\n",
       "      <td>RHS</td>\n",
       "      <td>slack</td>\n",
       "    </tr>\n",
       "    <tr>\n",
       "      <th>9</th>\n",
       "      <td>Fabrication</td>\n",
       "      <td>4</td>\n",
       "      <td>6</td>\n",
       "      <td>2</td>\n",
       "      <td>12</td>\n",
       "      <td>&lt;=</td>\n",
       "      <td>2000</td>\n",
       "      <td>1988</td>\n",
       "    </tr>\n",
       "    <tr>\n",
       "      <th>10</th>\n",
       "      <td>Assembly</td>\n",
       "      <td>3</td>\n",
       "      <td>8</td>\n",
       "      <td>6</td>\n",
       "      <td>17</td>\n",
       "      <td>&lt;=</td>\n",
       "      <td>2000</td>\n",
       "      <td>1983</td>\n",
       "    </tr>\n",
       "    <tr>\n",
       "      <th>11</th>\n",
       "      <td>Machining</td>\n",
       "      <td>9</td>\n",
       "      <td>6</td>\n",
       "      <td>4</td>\n",
       "      <td>19</td>\n",
       "      <td>&lt;=</td>\n",
       "      <td>1440</td>\n",
       "      <td>1421</td>\n",
       "    </tr>\n",
       "    <tr>\n",
       "      <th>12</th>\n",
       "      <td>Wood</td>\n",
       "      <td>30</td>\n",
       "      <td>40</td>\n",
       "      <td>25</td>\n",
       "      <td>95</td>\n",
       "      <td>&lt;=</td>\n",
       "      <td>9600</td>\n",
       "      <td>9505</td>\n",
       "    </tr>\n",
       "    <tr>\n",
       "      <th>13</th>\n",
       "      <td>Chair ceiling</td>\n",
       "      <td>1</td>\n",
       "      <td></td>\n",
       "      <td></td>\n",
       "      <td>1</td>\n",
       "      <td>&lt;=</td>\n",
       "      <td>300</td>\n",
       "      <td>299</td>\n",
       "    </tr>\n",
       "    <tr>\n",
       "      <th>14</th>\n",
       "      <td>Desk ceiling</td>\n",
       "      <td></td>\n",
       "      <td>1</td>\n",
       "      <td></td>\n",
       "      <td>1</td>\n",
       "      <td>&lt;=</td>\n",
       "      <td>120</td>\n",
       "      <td>119</td>\n",
       "    </tr>\n",
       "    <tr>\n",
       "      <th>15</th>\n",
       "      <td>Table ceiling</td>\n",
       "      <td></td>\n",
       "      <td></td>\n",
       "      <td>1</td>\n",
       "      <td>1</td>\n",
       "      <td>&lt;=</td>\n",
       "      <td>144</td>\n",
       "      <td>143</td>\n",
       "    </tr>\n",
       "  </tbody>\n",
       "</table>\n",
       "</div>"
      ],
      "text/plain": [
       "   Allocation: Product Mix Unnamed: 1 Unnamed: 2 Unnamed: 3 Unnamed: 4  \\\n",
       "0                      NaN        NaN        NaN        NaN        NaN   \n",
       "1       Decision Variables        NaN        NaN        NaN        NaN   \n",
       "2                      NaN          C          D          T        NaN   \n",
       "3          Production plan          1          1          1        NaN   \n",
       "4                      NaN        NaN        NaN        NaN        NaN   \n",
       "5       Objective Function        NaN        NaN        NaN      Total   \n",
       "6                   Profit         16         20         14         50   \n",
       "7                      NaN        NaN        NaN        NaN        NaN   \n",
       "8              Constraints        NaN        NaN        NaN        LHS   \n",
       "9              Fabrication          4          6          2         12   \n",
       "10                Assembly          3          8          6         17   \n",
       "11               Machining          9          6          4         19   \n",
       "12                    Wood         30         40         25         95   \n",
       "13           Chair ceiling          1                                1   \n",
       "14            Desk ceiling                     1                     1   \n",
       "15           Table ceiling                                1          1   \n",
       "\n",
       "   Unnamed: 5 Unnamed: 6 Unnamed: 7  \n",
       "0         NaN        NaN        NaN  \n",
       "1         NaN        NaN        NaN  \n",
       "2         NaN        NaN        NaN  \n",
       "3         NaN        NaN        NaN  \n",
       "4         NaN        NaN        NaN  \n",
       "5         NaN        NaN        NaN  \n",
       "6         NaN        NaN        NaN  \n",
       "7         NaN        NaN        NaN  \n",
       "8         NaN        RHS      slack  \n",
       "9          <=       2000       1988  \n",
       "10         <=       2000       1983  \n",
       "11         <=       1440       1421  \n",
       "12         <=       9600       9505  \n",
       "13         <=        300        299  \n",
       "14         <=        120        119  \n",
       "15         <=        144        143  "
      ]
     },
     "execution_count": 3,
     "metadata": {},
     "output_type": "execute_result"
    }
   ],
   "source": [
    "raw_data = pd.read_excel(\"w05-c01-covering-allocation.xlsx\", sheet_name=\"Allocation and Mix\")\n",
    "raw_data"
   ]
  },
  {
   "cell_type": "markdown",
   "metadata": {},
   "source": [
    "Let's create the index names for the Decision Variables."
   ]
  },
  {
   "cell_type": "code",
   "execution_count": 4,
   "metadata": {},
   "outputs": [],
   "source": [
    "DV_indexes = ['chairs', 'desks', 'tables']"
   ]
  },
  {
   "cell_type": "markdown",
   "metadata": {},
   "source": [
    "This next cell extracts the coefficients of the objective function (profit) and the LHS of the resource constraints. Remember that indexes start with 0. So the first row is 0 and the first column is 0. In addition, remember that ranges go \"up to\" the upper limit so 1:4 is 1,2,3."
   ]
  },
  {
   "cell_type": "code",
   "execution_count": 22,
   "metadata": {},
   "outputs": [
    {
     "data": {
      "text/html": [
       "<div>\n",
       "<style scoped>\n",
       "    .dataframe tbody tr th:only-of-type {\n",
       "        vertical-align: middle;\n",
       "    }\n",
       "\n",
       "    .dataframe tbody tr th {\n",
       "        vertical-align: top;\n",
       "    }\n",
       "\n",
       "    .dataframe thead th {\n",
       "        text-align: right;\n",
       "    }\n",
       "</style>\n",
       "<table border=\"1\" class=\"dataframe\">\n",
       "  <thead>\n",
       "    <tr style=\"text-align: right;\">\n",
       "      <th></th>\n",
       "      <th>chairs</th>\n",
       "      <th>desks</th>\n",
       "      <th>tables</th>\n",
       "    </tr>\n",
       "  </thead>\n",
       "  <tbody>\n",
       "    <tr>\n",
       "      <th>profit</th>\n",
       "      <td>16</td>\n",
       "      <td>20</td>\n",
       "      <td>14</td>\n",
       "    </tr>\n",
       "    <tr>\n",
       "      <th>fabrication</th>\n",
       "      <td>4</td>\n",
       "      <td>6</td>\n",
       "      <td>2</td>\n",
       "    </tr>\n",
       "    <tr>\n",
       "      <th>assembly</th>\n",
       "      <td>3</td>\n",
       "      <td>8</td>\n",
       "      <td>6</td>\n",
       "    </tr>\n",
       "    <tr>\n",
       "      <th>machining</th>\n",
       "      <td>9</td>\n",
       "      <td>6</td>\n",
       "      <td>4</td>\n",
       "    </tr>\n",
       "    <tr>\n",
       "      <th>wood</th>\n",
       "      <td>30</td>\n",
       "      <td>40</td>\n",
       "      <td>25</td>\n",
       "    </tr>\n",
       "  </tbody>\n",
       "</table>\n",
       "</div>"
      ],
      "text/plain": [
       "            chairs desks tables\n",
       "profit          16    20     14\n",
       "fabrication      4     6      2\n",
       "assembly         3     8      6\n",
       "machining        9     6      4\n",
       "wood            30    40     25"
      ]
     },
     "execution_count": 22,
     "metadata": {},
     "output_type": "execute_result"
    }
   ],
   "source": [
    "coef = pd.DataFrame(raw_data.iloc[[6, 9, 10, 11, 12], 1:4])\n",
    "coef.index = ['profit', 'fabrication', 'assembly', 'machining', 'wood']\n",
    "coef.columns = DV_indexes\n",
    "coef"
   ]
  },
  {
   "cell_type": "markdown",
   "metadata": {},
   "source": [
    "The next cell reads in the RHS of the constraints into their own dataframe. "
   ]
  },
  {
   "cell_type": "code",
   "execution_count": 6,
   "metadata": {},
   "outputs": [
    {
     "data": {
      "text/html": [
       "<div>\n",
       "<style scoped>\n",
       "    .dataframe tbody tr th:only-of-type {\n",
       "        vertical-align: middle;\n",
       "    }\n",
       "\n",
       "    .dataframe tbody tr th {\n",
       "        vertical-align: top;\n",
       "    }\n",
       "\n",
       "    .dataframe thead th {\n",
       "        text-align: right;\n",
       "    }\n",
       "</style>\n",
       "<table border=\"1\" class=\"dataframe\">\n",
       "  <thead>\n",
       "    <tr style=\"text-align: right;\">\n",
       "      <th></th>\n",
       "      <th>Unnamed: 6</th>\n",
       "    </tr>\n",
       "  </thead>\n",
       "  <tbody>\n",
       "    <tr>\n",
       "      <th>9</th>\n",
       "      <td>2000</td>\n",
       "    </tr>\n",
       "    <tr>\n",
       "      <th>10</th>\n",
       "      <td>2000</td>\n",
       "    </tr>\n",
       "    <tr>\n",
       "      <th>11</th>\n",
       "      <td>1440</td>\n",
       "    </tr>\n",
       "    <tr>\n",
       "      <th>12</th>\n",
       "      <td>9600</td>\n",
       "    </tr>\n",
       "    <tr>\n",
       "      <th>13</th>\n",
       "      <td>300</td>\n",
       "    </tr>\n",
       "    <tr>\n",
       "      <th>14</th>\n",
       "      <td>120</td>\n",
       "    </tr>\n",
       "    <tr>\n",
       "      <th>15</th>\n",
       "      <td>144</td>\n",
       "    </tr>\n",
       "  </tbody>\n",
       "</table>\n",
       "</div>"
      ],
      "text/plain": [
       "   Unnamed: 6\n",
       "9        2000\n",
       "10       2000\n",
       "11       1440\n",
       "12       9600\n",
       "13        300\n",
       "14        120\n",
       "15        144"
      ]
     },
     "execution_count": 6,
     "metadata": {},
     "output_type": "execute_result"
    }
   ],
   "source": [
    "rhs = pd.DataFrame(raw_data.iloc[9:16, 6])\n",
    "rhs"
   ]
  },
  {
   "cell_type": "markdown",
   "metadata": {},
   "source": [
    "So above we have all the rhs values, but we need to update the indexes to make these easier to keep track of. Note that we have the 4 main constraints and also the 3 ceiling constraints. So - we need to add those ceiling indexes to the ones that are already in the `coef` dataframe - but we don't want `profit` so we start with `[1:]`. Note the use of `extend`. If we use append, it will add the list as a whole inside the list."
   ]
  },
  {
   "cell_type": "code",
   "execution_count": 7,
   "metadata": {},
   "outputs": [
    {
     "data": {
      "text/html": [
       "<div>\n",
       "<style scoped>\n",
       "    .dataframe tbody tr th:only-of-type {\n",
       "        vertical-align: middle;\n",
       "    }\n",
       "\n",
       "    .dataframe tbody tr th {\n",
       "        vertical-align: top;\n",
       "    }\n",
       "\n",
       "    .dataframe thead th {\n",
       "        text-align: right;\n",
       "    }\n",
       "</style>\n",
       "<table border=\"1\" class=\"dataframe\">\n",
       "  <thead>\n",
       "    <tr style=\"text-align: right;\">\n",
       "      <th></th>\n",
       "      <th>rhs</th>\n",
       "    </tr>\n",
       "  </thead>\n",
       "  <tbody>\n",
       "    <tr>\n",
       "      <th>fabrication</th>\n",
       "      <td>2000</td>\n",
       "    </tr>\n",
       "    <tr>\n",
       "      <th>assembly</th>\n",
       "      <td>2000</td>\n",
       "    </tr>\n",
       "    <tr>\n",
       "      <th>machining</th>\n",
       "      <td>1440</td>\n",
       "    </tr>\n",
       "    <tr>\n",
       "      <th>wood</th>\n",
       "      <td>9600</td>\n",
       "    </tr>\n",
       "    <tr>\n",
       "      <th>chair ceiling</th>\n",
       "      <td>300</td>\n",
       "    </tr>\n",
       "    <tr>\n",
       "      <th>desk ceiling</th>\n",
       "      <td>120</td>\n",
       "    </tr>\n",
       "    <tr>\n",
       "      <th>table ceiling</th>\n",
       "      <td>144</td>\n",
       "    </tr>\n",
       "  </tbody>\n",
       "</table>\n",
       "</div>"
      ],
      "text/plain": [
       "                rhs\n",
       "fabrication    2000\n",
       "assembly       2000\n",
       "machining      1440\n",
       "wood           9600\n",
       "chair ceiling   300\n",
       "desk ceiling    120\n",
       "table ceiling   144"
      ]
     },
     "execution_count": 7,
     "metadata": {},
     "output_type": "execute_result"
    }
   ],
   "source": [
    "idx = list(coef.index[1:])\n",
    "idx.extend(['chair ceiling', 'desk ceiling', 'table ceiling'])\n",
    "rhs.index = idx\n",
    "rhs.columns = ['rhs']\n",
    "rhs"
   ]
  },
  {
   "cell_type": "markdown",
   "metadata": {},
   "source": [
    "## Create pyomo model, decision variables, objective function, and constraints"
   ]
  },
  {
   "cell_type": "markdown",
   "metadata": {},
   "source": [
    "In this section you will instantiate the decision variables, objective function and constraints for the pyomo model."
   ]
  },
  {
   "cell_type": "markdown",
   "metadata": {},
   "source": [
    "Next, instantiate a ConcreteModel and store it in the variable `model`."
   ]
  },
  {
   "cell_type": "code",
   "execution_count": 8,
   "metadata": {},
   "outputs": [],
   "source": [
    "model = pe.ConcreteModel()"
   ]
  },
  {
   "cell_type": "markdown",
   "metadata": {},
   "source": [
    "### Define the Decision Variables"
   ]
  },
  {
   "cell_type": "markdown",
   "metadata": {},
   "source": [
    "Create the decision variables for the number of Chairs, Desks, and Tables. "
   ]
  },
  {
   "cell_type": "markdown",
   "metadata": {},
   "source": [
    "Create a pyomo variable named `x` with domain of nonnegative of real numbers.  Make sure you \"attach\" this variable to the `model` object. "
   ]
  },
  {
   "cell_type": "code",
   "execution_count": 9,
   "metadata": {},
   "outputs": [],
   "source": [
    "model.x = pe.Var(DV_indexes, domain = pe.NonNegativeReals)"
   ]
  },
  {
   "cell_type": "markdown",
   "metadata": {},
   "source": [
    "To double check what you entered, use '.pprint()'."
   ]
  },
  {
   "cell_type": "code",
   "execution_count": 10,
   "metadata": {},
   "outputs": [
    {
     "name": "stdout",
     "output_type": "stream",
     "text": [
      "x : Size=3, Index=x_index\n",
      "    Key    : Lower : Value : Upper : Fixed : Stale : Domain\n",
      "    chairs :     0 :  None :  None : False :  True : NonNegativeReals\n",
      "     desks :     0 :  None :  None : False :  True : NonNegativeReals\n",
      "    tables :     0 :  None :  None : False :  True : NonNegativeReals\n"
     ]
    }
   ],
   "source": [
    "model.x.pprint()"
   ]
  },
  {
   "cell_type": "markdown",
   "metadata": {},
   "source": [
    "### Define the objective function"
   ]
  },
  {
   "cell_type": "markdown",
   "metadata": {},
   "source": [
    "The next cell defines the objective function `obj` using the data in the `coef` dataframe.  The expression argument, `expr=...`, shows a shorthand way to represent a sumproduct using a \"list comprehension\".  The `sense=pe.maximize` argument tells Pyomo that you want to maximize."
   ]
  },
  {
   "cell_type": "code",
   "execution_count": 11,
   "metadata": {},
   "outputs": [],
   "source": [
    "model.obj = pe.Objective(expr=sum([coef.loc['profit',i]*model.x[i] for i in DV_indexes]), \n",
    "                         sense=pe.maximize)"
   ]
  },
  {
   "cell_type": "markdown",
   "metadata": {},
   "source": [
    "To Double check what you entered, use 'pprint'."
   ]
  },
  {
   "cell_type": "code",
   "execution_count": 12,
   "metadata": {},
   "outputs": [
    {
     "name": "stdout",
     "output_type": "stream",
     "text": [
      "obj : Size=1, Index=None, Active=True\n",
      "    Key  : Active : Sense    : Expression\n",
      "    None :   True : maximize : 16*x[chairs] + 20*x[desks] + 14*x[tables]\n"
     ]
    }
   ],
   "source": [
    "model.obj.pprint()"
   ]
  },
  {
   "cell_type": "markdown",
   "metadata": {},
   "source": [
    "### Define the constraints"
   ]
  },
  {
   "cell_type": "markdown",
   "metadata": {},
   "source": [
    "Next we need to define the four constraints using the data in the `coef` and `rhs` dataframes.  Make sure to \"attach\" each constraint to the `model` object. The constraints use a list comprehension to calculate the LHS sumproduct. "
   ]
  },
  {
   "cell_type": "code",
   "execution_count": 13,
   "metadata": {},
   "outputs": [],
   "source": [
    "model.cons_fabrication = pe.Constraint(expr=sum([coef.loc['fabrication', i]*model.x[i] \n",
    "                                                 for i in DV_indexes]) <= \n",
    "                                       rhs.loc['fabrication', 'rhs'])\n",
    "model.cons_assembly = pe.Constraint(expr=sum([coef.loc['assembly', i]*model.x[i] \n",
    "                                              for i in DV_indexes]) <= \n",
    "                                    rhs.loc['assembly', 'rhs'])\n",
    "model.cons_machining = pe.Constraint(expr=sum([coef.loc['machining', i]*model.x[i] \n",
    "                                               for i in DV_indexes]) <= \n",
    "                                     rhs.loc['machining', 'rhs'])\n",
    "model.cons_wood = pe.Constraint(expr=sum([coef.loc['wood', i]*model.x[i] \n",
    "                                          for i in DV_indexes]) <= \n",
    "                                rhs.loc['wood', 'rhs'])\n",
    "model.cons_chairs_ceil = pe.Constraint(expr=model.x['chairs'] <= rhs.loc['chair ceiling','rhs'])\n",
    "model.cons_desks_ceil = pe.Constraint(expr=model.x['desks'] <= rhs.loc['desk ceiling','rhs'])\n",
    "model.cons_tables_ceil = pe.Constraint(expr=model.x['tables'] <= rhs.loc['table ceiling','rhs'])"
   ]
  },
  {
   "cell_type": "markdown",
   "metadata": {},
   "source": [
    "Check the constraints. __NOTE:__ Lower and Upper shows the allowable range - the Upper is the RHS - and the Lower is all -Inf so we can tell all of these are <= RHS constraints."
   ]
  },
  {
   "cell_type": "markdown",
   "metadata": {},
   "source": [
    "For a final check, let's print the entire model (rather than each separate part obj, decision variables, constraints)"
   ]
  },
  {
   "cell_type": "code",
   "execution_count": 14,
   "metadata": {},
   "outputs": [
    {
     "name": "stdout",
     "output_type": "stream",
     "text": [
      "1 Set Declarations\n",
      "    x_index : Size=1, Index=None, Ordered=Insertion\n",
      "        Key  : Dimen : Domain : Size : Members\n",
      "        None :     1 :    Any :    3 : {'chairs', 'desks', 'tables'}\n",
      "\n",
      "1 Var Declarations\n",
      "    x : Size=3, Index=x_index\n",
      "        Key    : Lower : Value : Upper : Fixed : Stale : Domain\n",
      "        chairs :     0 :  None :  None : False :  True : NonNegativeReals\n",
      "         desks :     0 :  None :  None : False :  True : NonNegativeReals\n",
      "        tables :     0 :  None :  None : False :  True : NonNegativeReals\n",
      "\n",
      "1 Objective Declarations\n",
      "    obj : Size=1, Index=None, Active=True\n",
      "        Key  : Active : Sense    : Expression\n",
      "        None :   True : maximize : 16*x[chairs] + 20*x[desks] + 14*x[tables]\n",
      "\n",
      "7 Constraint Declarations\n",
      "    cons_assembly : Size=1, Index=None, Active=True\n",
      "        Key  : Lower : Body                                   : Upper  : Active\n",
      "        None :  -Inf : 3*x[chairs] + 8*x[desks] + 6*x[tables] : 2000.0 :   True\n",
      "    cons_chairs_ceil : Size=1, Index=None, Active=True\n",
      "        Key  : Lower : Body      : Upper : Active\n",
      "        None :  -Inf : x[chairs] : 300.0 :   True\n",
      "    cons_desks_ceil : Size=1, Index=None, Active=True\n",
      "        Key  : Lower : Body     : Upper : Active\n",
      "        None :  -Inf : x[desks] : 120.0 :   True\n",
      "    cons_fabrication : Size=1, Index=None, Active=True\n",
      "        Key  : Lower : Body                                   : Upper  : Active\n",
      "        None :  -Inf : 4*x[chairs] + 6*x[desks] + 2*x[tables] : 2000.0 :   True\n",
      "    cons_machining : Size=1, Index=None, Active=True\n",
      "        Key  : Lower : Body                                   : Upper  : Active\n",
      "        None :  -Inf : 9*x[chairs] + 6*x[desks] + 4*x[tables] : 1440.0 :   True\n",
      "    cons_tables_ceil : Size=1, Index=None, Active=True\n",
      "        Key  : Lower : Body      : Upper : Active\n",
      "        None :  -Inf : x[tables] : 144.0 :   True\n",
      "    cons_wood : Size=1, Index=None, Active=True\n",
      "        Key  : Lower : Body                                      : Upper  : Active\n",
      "        None :  -Inf : 30*x[chairs] + 40*x[desks] + 25*x[tables] : 9600.0 :   True\n",
      "\n",
      "10 Declarations: x_index x obj cons_fabrication cons_assembly cons_machining cons_wood cons_chairs_ceil cons_desks_ceil cons_tables_ceil\n"
     ]
    }
   ],
   "source": [
    "model.pprint()"
   ]
  },
  {
   "cell_type": "markdown",
   "metadata": {},
   "source": [
    "### Solve the model"
   ]
  },
  {
   "cell_type": "code",
   "execution_count": 15,
   "metadata": {},
   "outputs": [
    {
     "name": "stdout",
     "output_type": "stream",
     "text": [
      "GLPSOL: GLPK LP/MIP Solver, v4.65\n",
      "Parameter(s) specified in the command line:\n",
      " --write /var/folders/p8/y_pk7h153tld8fgnq6fz274r0000gn/T/tmp4n0dy23p.glpk.raw\n",
      " --wglp /var/folders/p8/y_pk7h153tld8fgnq6fz274r0000gn/T/tmpwkfx1sxf.glpk.glp\n",
      " --cpxlp /var/folders/p8/y_pk7h153tld8fgnq6fz274r0000gn/T/tmp2x9wg6pv.pyomo.lp\n",
      "Reading problem data from '/var/folders/p8/y_pk7h153tld8fgnq6fz274r0000gn/T/tmp2x9wg6pv.pyomo.lp'...\n",
      "8 rows, 4 columns, 16 non-zeros\n",
      "54 lines were read\n",
      "Writing problem data to '/var/folders/p8/y_pk7h153tld8fgnq6fz274r0000gn/T/tmpwkfx1sxf.glpk.glp'...\n",
      "42 lines were written\n",
      "GLPK Simplex Optimizer, v4.65\n",
      "8 rows, 4 columns, 16 non-zeros\n",
      "Preprocessing...\n",
      "4 rows, 3 columns, 12 non-zeros\n",
      "Scaling...\n",
      " A: min|aij| =  2.000e+00  max|aij| =  4.000e+01  ratio =  2.000e+01\n",
      "GM: min|aij| =  6.866e-01  max|aij| =  1.456e+00  ratio =  2.121e+00\n",
      "EQ: min|aij| =  4.714e-01  max|aij| =  1.000e+00  ratio =  2.121e+00\n",
      "Constructing initial basis...\n",
      "Size of triangular part is 4\n",
      "*     0: obj =  -0.000000000e+00 inf =   0.000e+00 (3)\n",
      "*     3: obj =   4.672000000e+03 inf =   0.000e+00 (0)\n",
      "OPTIMAL LP SOLUTION FOUND\n",
      "Time used:   0.0 secs\n",
      "Memory used: 0.0 Mb (40436 bytes)\n",
      "Writing basic solution to '/var/folders/p8/y_pk7h153tld8fgnq6fz274r0000gn/T/tmp4n0dy23p.glpk.raw'...\n",
      "21 lines were written\n"
     ]
    }
   ],
   "source": [
    "opt = pe.SolverFactory('glpk')\n",
    "success = opt.solve(model, tee=True)"
   ]
  },
  {
   "cell_type": "markdown",
   "metadata": {},
   "source": [
    "This next cell will help you determine whether the solver found a solution or had an error (like poorly defined constraints, or infeasibility).  Pay particular attention to the \"Solver\" part of the output."
   ]
  },
  {
   "cell_type": "code",
   "execution_count": 16,
   "metadata": {},
   "outputs": [
    {
     "name": "stdout",
     "output_type": "stream",
     "text": [
      "\n",
      "Problem: \n",
      "- Name: unknown\n",
      "  Lower bound: 4672.0\n",
      "  Upper bound: 4672.0\n",
      "  Number of objectives: 1\n",
      "  Number of constraints: 8\n",
      "  Number of variables: 4\n",
      "  Number of nonzeros: 16\n",
      "  Sense: maximize\n",
      "Solver: \n",
      "- Status: ok\n",
      "  Termination condition: optimal\n",
      "  Statistics: \n",
      "    Branch and bound: \n",
      "      Number of bounded subproblems: 0\n",
      "      Number of created subproblems: 0\n",
      "  Error rc: 0\n",
      "  Time: 0.016909122467041016\n",
      "Solution: \n",
      "- number of solutions: 0\n",
      "  number of solutions displayed: 0\n",
      "\n"
     ]
    }
   ],
   "source": [
    "print(success)"
   ]
  },
  {
   "cell_type": "markdown",
   "metadata": {},
   "source": [
    "### View the Final Model Obj Function and Dec Variables"
   ]
  },
  {
   "cell_type": "markdown",
   "metadata": {},
   "source": [
    "The next cell will extract the objective function and optimal solution (assuming the solver found a solution).  "
   ]
  },
  {
   "cell_type": "code",
   "execution_count": 17,
   "metadata": {},
   "outputs": [
    {
     "name": "stdout",
     "output_type": "stream",
     "text": [
      "optimal objective value maximum profit = $4672.00\n"
     ]
    },
    {
     "data": {
      "text/html": [
       "<div>\n",
       "<style scoped>\n",
       "    .dataframe tbody tr th:only-of-type {\n",
       "        vertical-align: middle;\n",
       "    }\n",
       "\n",
       "    .dataframe tbody tr th {\n",
       "        vertical-align: top;\n",
       "    }\n",
       "\n",
       "    .dataframe thead th {\n",
       "        text-align: right;\n",
       "    }\n",
       "</style>\n",
       "<table border=\"1\" class=\"dataframe\">\n",
       "  <thead>\n",
       "    <tr style=\"text-align: right;\">\n",
       "      <th></th>\n",
       "      <th>DV</th>\n",
       "      <th>Value</th>\n",
       "    </tr>\n",
       "  </thead>\n",
       "  <tbody>\n",
       "    <tr>\n",
       "      <th>0</th>\n",
       "      <td>chairs</td>\n",
       "      <td>16.0</td>\n",
       "    </tr>\n",
       "    <tr>\n",
       "      <th>1</th>\n",
       "      <td>desks</td>\n",
       "      <td>120.0</td>\n",
       "    </tr>\n",
       "    <tr>\n",
       "      <th>2</th>\n",
       "      <td>tables</td>\n",
       "      <td>144.0</td>\n",
       "    </tr>\n",
       "  </tbody>\n",
       "</table>\n",
       "</div>"
      ],
      "text/plain": [
       "       DV  Value\n",
       "0  chairs   16.0\n",
       "1   desks  120.0\n",
       "2  tables  144.0"
      ]
     },
     "execution_count": 17,
     "metadata": {},
     "output_type": "execute_result"
    }
   ],
   "source": [
    "obj_val = model.obj.expr()\n",
    "print(f'optimal objective value maximum profit = ${obj_val:.2f}')\n",
    "\n",
    "DV = []  # create an empty list to store decision variables\n",
    "for index in DV_indexes:\n",
    "    DV.append(round(model.x[index].value, 3))\n",
    "pd.DataFrame({'DV':DV_indexes,\n",
    "             'Value':DV})"
   ]
  },
  {
   "cell_type": "markdown",
   "metadata": {},
   "source": [
    "### View the slack"
   ]
  },
  {
   "cell_type": "markdown",
   "metadata": {},
   "source": [
    "Print the slack in each constraint. "
   ]
  },
  {
   "cell_type": "code",
   "execution_count": 18,
   "metadata": {},
   "outputs": [
    {
     "name": "stdout",
     "output_type": "stream",
     "text": [
      "Fabrication slack = 928.0\n",
      "Assembly slack = 128.0\n",
      "Machining slack = 0.0\n",
      "Wood slack = 720.0\n",
      "Chairs Ceiling slack = 284.0\n",
      "Desks Ceiling slack = 0.0\n",
      "Tables Ceiling slack = 0.0\n"
     ]
    }
   ],
   "source": [
    "print(f'Fabrication slack = {model.cons_fabrication.slack()}')\n",
    "print(f'Assembly slack = {model.cons_assembly.slack()}')\n",
    "print(f'Machining slack = {model.cons_machining.slack()}')\n",
    "print(f'Wood slack = {model.cons_wood.slack()}')\n",
    "print(f'Chairs Ceiling slack = {model.cons_chairs_ceil.slack()}')\n",
    "print(f'Desks Ceiling slack = {model.cons_desks_ceil.slack()}')\n",
    "print(f'Tables Ceiling slack = {model.cons_tables_ceil.slack()}')"
   ]
  },
  {
   "cell_type": "markdown",
   "metadata": {},
   "source": [
    "### View the final LHS values"
   ]
  },
  {
   "cell_type": "markdown",
   "metadata": {},
   "source": [
    "Also examine the final values for the LHS for each constraint. The \"Body\" is the final value."
   ]
  },
  {
   "cell_type": "code",
   "execution_count": null,
   "metadata": {},
   "outputs": [
    {
     "name": "stdout",
     "output_type": "stream",
     "text": [
      "cons_fabrication : Size=1\n",
      "    Key  : Lower : Body   : Upper\n",
      "    None :  None : 1072.0 : 2000.0\n",
      "cons_assembly : Size=1\n",
      "    Key  : Lower : Body   : Upper\n",
      "    None :  None : 1872.0 : 2000.0\n",
      "cons_machining : Size=1\n",
      "    Key  : Lower : Body   : Upper\n",
      "    None :  None : 1440.0 : 1440.0\n",
      "cons_wood : Size=1\n",
      "    Key  : Lower : Body   : Upper\n",
      "    None :  None : 8880.0 : 9600.0\n",
      "cons_chairs_ceil : Size=1\n",
      "    Key  : Lower : Body : Upper\n",
      "    None :  None : 16.0 : 300.0\n",
      "cons_desks_ceil : Size=1\n",
      "    Key  : Lower : Body  : Upper\n",
      "    None :  None : 120.0 : 120.0\n",
      "cons_tables_ceil : Size=1\n",
      "    Key  : Lower : Body  : Upper\n",
      "    None :  None : 144.0 : 144.0\n"
     ]
    }
   ],
   "source": [
    "model.cons_fabrication.display()\n",
    "model.cons_assembly.display()\n",
    "model.cons_machining.display()\n",
    "model.cons_wood.display()\n",
    "model.cons_chairs_ceil.display()\n",
    "model.cons_desks_ceil.display()\n",
    "model.cons_tables_ceil.display()"
   ]
  },
  {
   "cell_type": "markdown",
   "metadata": {},
   "source": [
    "##### [Back to Top](#TOC)"
   ]
  },
  {
   "cell_type": "markdown",
   "metadata": {},
   "source": [
    "## 3. ERRORS <a id=S3></a>"
   ]
  },
  {
   "cell_type": "markdown",
   "metadata": {},
   "source": [
    "```\n",
    "ERROR 1:\n",
    "#if you get an error WARNING: Could not locate the 'glpsol' executable, which is required for solver 'glpk'\n",
    "#find where glpsol executable is located and copy path\n",
    "#To find, search for ipopt or glpsol and find the .exe files on windows or just the names on Mac which are executable\n",
    "\n",
    "#On my mac, it is the following - copy your path and run the following line\n",
    "solverpath_glpsol = r\"/Users/Kellie/opt/anaconda3/bin/glpsol\"\n",
    "\n",
    "#On my windows machine, it is the following – copy your path and run the following\n",
    "solverpath_glpsol = r\"C:\\Users\\kelli\\anaconda3\\Library\\bin\\glpsol\"\n",
    "\n",
    "# Run the solver.  \n",
    "#opt = pe.SolverFactory('glpk')\n",
    "#if you had trouble finding glpsol executable, run the following instead of above\n",
    "opt = pe.SolverFactory('glpk', executable=solverpath_glpsol)\n",
    "\n",
    "```"
   ]
  },
  {
   "cell_type": "markdown",
   "metadata": {},
   "source": [
    "```\n",
    "ERROR 2:\n",
    "If you get an error about Implicitly replacing the Component attribute - this means you are rerunning code to define decision variables, constraints or an objective that you have already defined (already run). You have to run the code \"from the top\" starting with the model = pe.ConcreteModel()\n",
    "```"
   ]
  },
  {
   "cell_type": "markdown",
   "metadata": {},
   "source": [
    "##### [Back to Top](#TOC)"
   ]
  },
  {
   "cell_type": "code",
   "execution_count": null,
   "metadata": {},
   "outputs": [],
   "source": []
  }
 ],
 "metadata": {
  "kernelspec": {
   "display_name": "info-3440",
   "language": "python",
   "name": "info-3440"
  },
  "language_info": {
   "codemirror_mode": {
    "name": "ipython",
    "version": 3
   },
   "file_extension": ".py",
   "mimetype": "text/x-python",
   "name": "python",
   "nbconvert_exporter": "python",
   "pygments_lexer": "ipython3",
   "version": "3.8.12"
  }
 },
 "nbformat": 4,
 "nbformat_minor": 4
}
