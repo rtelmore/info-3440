{
 "cells": [
  {
   "cell_type": "markdown",
   "metadata": {},
   "source": [
    "# Week Five Class One: Covering Problem (Trail Mix)"
   ]
  },
  {
   "cell_type": "markdown",
   "metadata": {
    "jp-MarkdownHeadingCollapsed": true,
    "tags": []
   },
   "source": [
    "## Table of Contents<a id=\"TOC\"></a>\n",
    "\n",
    "1. [Install Packages](#S1) <br>\n",
    "2. [Trail Mix Problem (LP Covering Model)](#S2) <br>\n",
    "3. [VERSION ONE: Create a Pyomo model by entering all the values](#S3) <br>\n",
    "4. [VERSION TWO: Create a Pyomo model by reading in data from Excel](#S4) <br>\n",
    "5. [ERRORS](#S5) <br>"
   ]
  },
  {
   "cell_type": "markdown",
   "metadata": {},
   "source": [
    "## 1. Install Packages<a id=S1></a>"
   ]
  },
  {
   "cell_type": "code",
   "execution_count": 2,
   "metadata": {},
   "outputs": [],
   "source": [
    "import pandas as pd\n",
    "import pyomo.environ as pe"
   ]
  },
  {
   "cell_type": "markdown",
   "metadata": {},
   "source": [
    "##### [Back to Top](#TOC)"
   ]
  },
  {
   "cell_type": "markdown",
   "metadata": {},
   "source": [
    "## 2. Trail Mix Problem (LP Covering Model)<a id=S2></a>"
   ]
  },
  {
   "cell_type": "markdown",
   "metadata": {},
   "source": [
    "We are going to solve the trail mix (covering) problem that we looked at this problem back in week one or two. The problem has the following decision variables:"
   ]
  },
  {
   "cell_type": "markdown",
   "metadata": {},
   "source": [
    "$x_0$ = Seeds,\n",
    "$x_1$ = Raisins,\n",
    "$x_2$ = Flakes,\n",
    "$x_3$ = Pecans,\n",
    "$x_4$ = Walnuts"
   ]
  },
  {
   "cell_type": "markdown",
   "metadata": {},
   "source": [
    "The full linear programming problem is given next. Recall that the constraints are related to Vitamins, Minerals, Protein and Calories."
   ]
  },
  {
   "cell_type": "markdown",
   "metadata": {},
   "source": [
    "\\begin{array}{ll}\n",
    "  \\min          &   4 x_0 +   5 x_1 +   3 x_2 +   7 x_3 +   6 x_4\\\\\n",
    "  \\mathrm{s.t.} &  10 x_0 +  20 x_1 +  10 x_2 +  30 x_3 +  20 x_4\\geq 16\\\\\n",
    "                &   5 x_0 +   7 x_1 +   4 x_2 +   9 x_3 +   2 x_4\\geq 10\\\\\n",
    "                &   1 x_0 +   4 x_1 +  10 x_2 +   2 x_3 +   1 x_4\\geq 15\\\\\n",
    "                & 500 x_0s + 450 x_1 + 160 x_2 + 300 x_3 + 500 x_4\\geq 600\\\\\n",
    "                & x_0, x_1, x_2, x_3, x_4\\geq 0\n",
    "\\end{array}"
   ]
  },
  {
   "cell_type": "markdown",
   "metadata": {},
   "source": [
    "##### [Back to Top](#TOC)"
   ]
  },
  {
   "cell_type": "markdown",
   "metadata": {},
   "source": [
    "## 3. VERSION ONE: Create a Pyomo model by entering all the values<a id=S3></a>\n",
    "In this version of the model, we will enter all the model components \"by hand\" and we will use generic references to our decision variables as $x_0$, $x_1$, etc"
   ]
  },
  {
   "cell_type": "markdown",
   "metadata": {},
   "source": [
    "## Create pyomo model, decision variables, objective function, and constraints"
   ]
  },
  {
   "cell_type": "markdown",
   "metadata": {},
   "source": [
    "In this section you will instantiate the decision variables, objective function and constraints for the Pyomo model."
   ]
  },
  {
   "cell_type": "markdown",
   "metadata": {},
   "source": [
    "First we will instantiate a ConcreteModel and store it in the variable `model`. This assumes we have already run `import pyomo.environ as pe`."
   ]
  },
  {
   "cell_type": "code",
   "execution_count": 12,
   "metadata": {},
   "outputs": [],
   "source": [
    "model = pe.ConcreteModel()"
   ]
  },
  {
   "cell_type": "code",
   "execution_count": 13,
   "metadata": {},
   "outputs": [
    {
     "ename": "AttributeError",
     "evalue": "'ConcreteModel' object has no attribute 'obj'",
     "output_type": "error",
     "traceback": [
      "\u001b[0;31m---------------------------------------------------------------------------\u001b[0m",
      "\u001b[0;31mAttributeError\u001b[0m                            Traceback (most recent call last)",
      "\u001b[0;32m/var/folders/p8/y_pk7h153tld8fgnq6fz274r0000gn/T/ipykernel_31327/3385210939.py\u001b[0m in \u001b[0;36m<module>\u001b[0;34m\u001b[0m\n\u001b[1;32m      1\u001b[0m \u001b[0;31m## Does not exist yet\u001b[0m\u001b[0;34m\u001b[0m\u001b[0;34m\u001b[0m\u001b[0;34m\u001b[0m\u001b[0m\n\u001b[0;32m----> 2\u001b[0;31m \u001b[0mmodel\u001b[0m\u001b[0;34m.\u001b[0m\u001b[0mobj\u001b[0m\u001b[0;34m\u001b[0m\u001b[0;34m\u001b[0m\u001b[0m\n\u001b[0m",
      "\u001b[0;32m~/opt/anaconda3/envs/info-3440/lib/python3.8/site-packages/pyomo/core/base/block.py\u001b[0m in \u001b[0;36m__getattr__\u001b[0;34m(self, val)\u001b[0m\n\u001b[1;32m    519\u001b[0m         \u001b[0;31m# Since the base classes don't support getattr, we can just\u001b[0m\u001b[0;34m\u001b[0m\u001b[0;34m\u001b[0m\u001b[0;34m\u001b[0m\u001b[0m\n\u001b[1;32m    520\u001b[0m         \u001b[0;31m# throw the \"normal\" AttributeError\u001b[0m\u001b[0;34m\u001b[0m\u001b[0;34m\u001b[0m\u001b[0;34m\u001b[0m\u001b[0m\n\u001b[0;32m--> 521\u001b[0;31m         raise AttributeError(\"'%s' object has no attribute '%s'\"\n\u001b[0m\u001b[1;32m    522\u001b[0m                              % (self.__class__.__name__, val))\n\u001b[1;32m    523\u001b[0m \u001b[0;34m\u001b[0m\u001b[0m\n",
      "\u001b[0;31mAttributeError\u001b[0m: 'ConcreteModel' object has no attribute 'obj'"
     ]
    }
   ],
   "source": [
    "## Does not exist yet\n",
    "model.obj"
   ]
  },
  {
   "cell_type": "markdown",
   "metadata": {},
   "source": [
    "#### Create Decision Variables"
   ]
  },
  {
   "cell_type": "markdown",
   "metadata": {},
   "source": [
    "Create a list called `DV_indexes` containing indexes for the decision variables ranging from 0 to 4 for the amount of seeds, raisins, flakes, pecans, and walnuts. Note the range(stop before) command below will generate [0,1,2,3,4]."
   ]
  },
  {
   "cell_type": "code",
   "execution_count": 7,
   "metadata": {},
   "outputs": [
    {
     "data": {
      "text/plain": [
       "[0, 1, 2, 3, 4]"
      ]
     },
     "execution_count": 7,
     "metadata": {},
     "output_type": "execute_result"
    }
   ],
   "source": [
    "DV_indexes = list(range(5))\n",
    "DV_indexes"
   ]
  },
  {
   "cell_type": "markdown",
   "metadata": {},
   "source": [
    "Create a pyomo variable named `x` with domain of nonnegative of real numbers.  Make sure you \"attach\" this variable to the `model` object. For this model x[0] = number of seeds, x[1] = number of raisins, and x[2] = number of flakes."
   ]
  },
  {
   "cell_type": "code",
   "execution_count": 14,
   "metadata": {},
   "outputs": [],
   "source": [
    "model.x = pe.Var(DV_indexes, domain = pe.NonNegativeReals)"
   ]
  },
  {
   "cell_type": "markdown",
   "metadata": {},
   "source": [
    "To double check what you entered, use '.pprint()'."
   ]
  },
  {
   "cell_type": "code",
   "execution_count": 15,
   "metadata": {},
   "outputs": [
    {
     "name": "stdout",
     "output_type": "stream",
     "text": [
      "x : Size=5, Index=x_index\n",
      "    Key : Lower : Value : Upper : Fixed : Stale : Domain\n",
      "      0 :     0 :  None :  None : False :  True : NonNegativeReals\n",
      "      1 :     0 :  None :  None : False :  True : NonNegativeReals\n",
      "      2 :     0 :  None :  None : False :  True : NonNegativeReals\n",
      "      3 :     0 :  None :  None : False :  True : NonNegativeReals\n",
      "      4 :     0 :  None :  None : False :  True : NonNegativeReals\n"
     ]
    }
   ],
   "source": [
    "model.x.pprint()"
   ]
  },
  {
   "cell_type": "code",
   "execution_count": 16,
   "metadata": {},
   "outputs": [
    {
     "name": "stdout",
     "output_type": "stream",
     "text": [
      "x\n"
     ]
    }
   ],
   "source": [
    "print(model.x)"
   ]
  },
  {
   "cell_type": "markdown",
   "metadata": {},
   "source": [
    "#### Create the Objective Function"
   ]
  },
  {
   "cell_type": "markdown",
   "metadata": {},
   "source": [
    "The next cell defines the objective function `obj` using the data in the `coef` dataframe.  The expression argument, `expr=...`, shows a shorthand way to represent a sumproduct using a \"list comprehension\". The sense=pe.minimize means to minimize the objective function. Note you will find lots of code with the `sense=-1` argument which also means to maximize (`sense=1` is minimization, the default)."
   ]
  },
  {
   "cell_type": "code",
   "execution_count": 17,
   "metadata": {},
   "outputs": [],
   "source": [
    "model.obj = pe.Objective(expr = 4*model.x[0] + 5*model.x[1] + 3*model.x[2] + \n",
    "                         7*model.x[3] + 6*model.x[4], \n",
    "                         sense = pe.minimize)"
   ]
  },
  {
   "cell_type": "markdown",
   "metadata": {},
   "source": [
    "To double check what you entered, use 'pprint'."
   ]
  },
  {
   "cell_type": "code",
   "execution_count": 18,
   "metadata": {},
   "outputs": [
    {
     "name": "stdout",
     "output_type": "stream",
     "text": [
      "obj : Size=1, Index=None, Active=True\n",
      "    Key  : Active : Sense    : Expression\n",
      "    None :   True : minimize : 4*x[0] + 5*x[1] + 3*x[2] + 7*x[3] + 6*x[4]\n"
     ]
    }
   ],
   "source": [
    "model.obj.pprint()"
   ]
  },
  {
   "cell_type": "markdown",
   "metadata": {},
   "source": [
    "#### Create the constraints"
   ]
  },
  {
   "cell_type": "markdown",
   "metadata": {},
   "source": [
    "Next we need to define the four constraints using the data in the `coef` and `rhs` dataframes.  Make sure to \"attach\" each constraint to the `model` object. The constraints use a list comprehension to calculate the LHS sumproduct. "
   ]
  },
  {
   "cell_type": "code",
   "execution_count": 19,
   "metadata": {},
   "outputs": [],
   "source": [
    "model.cons_vit = pe.Constraint(expr=10*model.x[0] + 20*model.x[1] + 10*model.x[2] + \n",
    "                               30*model.x[3] + 20*model.x[4] >= 16)\n",
    "model.cons_min = pe.Constraint(expr = 5*model.x[0] + 7*model.x[1] + 4*model.x[2] + \n",
    "                               9*model.x[3] + 2*model.x[4] >= 10)\n",
    "model.cons_prot = pe.Constraint(expr = model.x[0] + 4*model.x[1] + 10*model.x[2] + \n",
    "                                2*model.x[3] + 1*model.x[4] >= 15)\n",
    "model.cons_cal = pe.Constraint(expr = 500*model.x[0] + 450*model.x[1] + 160*model.x[2] + \n",
    "                               300*model.x[3] + 500*model.x[4] >= 600)"
   ]
  },
  {
   "cell_type": "markdown",
   "metadata": {},
   "source": [
    "Check the constraints. __NOTE:__ Lower and Upper shows the allowable range. The Upper is the RHS which is +Inf for all of these >= RHS constraints. Note for the first one for vitamins has Lower=16 and Upper=+Inf."
   ]
  },
  {
   "cell_type": "code",
   "execution_count": 20,
   "metadata": {},
   "outputs": [
    {
     "name": "stdout",
     "output_type": "stream",
     "text": [
      "cons_vit : Size=1, Index=None, Active=True\n",
      "    Key  : Lower : Body                                            : Upper : Active\n",
      "    None :  16.0 : 10*x[0] + 20*x[1] + 10*x[2] + 30*x[3] + 20*x[4] :  +Inf :   True\n",
      "cons_min : Size=1, Index=None, Active=True\n",
      "    Key  : Lower : Body                                       : Upper : Active\n",
      "    None :  10.0 : 5*x[0] + 7*x[1] + 4*x[2] + 9*x[3] + 2*x[4] :  +Inf :   True\n",
      "cons_prot : Size=1, Index=None, Active=True\n",
      "    Key  : Lower : Body                                    : Upper : Active\n",
      "    None :  15.0 : x[0] + 4*x[1] + 10*x[2] + 2*x[3] + x[4] :  +Inf :   True\n",
      "cons_cal : Size=1, Index=None, Active=True\n",
      "    Key  : Lower : Body                                                 : Upper : Active\n",
      "    None : 600.0 : 500*x[0] + 450*x[1] + 160*x[2] + 300*x[3] + 500*x[4] :  +Inf :   True\n"
     ]
    }
   ],
   "source": [
    "model.cons_vit.pprint()\n",
    "model.cons_min.pprint()\n",
    "model.cons_prot.pprint()\n",
    "model.cons_cal.pprint()"
   ]
  },
  {
   "cell_type": "markdown",
   "metadata": {},
   "source": [
    "For a final check, let's print the entire model (rather than each separate part obj, decision variables, constraints)\n"
   ]
  },
  {
   "cell_type": "code",
   "execution_count": 21,
   "metadata": {},
   "outputs": [
    {
     "name": "stdout",
     "output_type": "stream",
     "text": [
      "1 Set Declarations\n",
      "    x_index : Size=1, Index=None, Ordered=Insertion\n",
      "        Key  : Dimen : Domain : Size : Members\n",
      "        None :     1 :    Any :    5 : {0, 1, 2, 3, 4}\n",
      "\n",
      "1 Var Declarations\n",
      "    x : Size=5, Index=x_index\n",
      "        Key : Lower : Value : Upper : Fixed : Stale : Domain\n",
      "          0 :     0 :  None :  None : False :  True : NonNegativeReals\n",
      "          1 :     0 :  None :  None : False :  True : NonNegativeReals\n",
      "          2 :     0 :  None :  None : False :  True : NonNegativeReals\n",
      "          3 :     0 :  None :  None : False :  True : NonNegativeReals\n",
      "          4 :     0 :  None :  None : False :  True : NonNegativeReals\n",
      "\n",
      "1 Objective Declarations\n",
      "    obj : Size=1, Index=None, Active=True\n",
      "        Key  : Active : Sense    : Expression\n",
      "        None :   True : minimize : 4*x[0] + 5*x[1] + 3*x[2] + 7*x[3] + 6*x[4]\n",
      "\n",
      "4 Constraint Declarations\n",
      "    cons_cal : Size=1, Index=None, Active=True\n",
      "        Key  : Lower : Body                                                 : Upper : Active\n",
      "        None : 600.0 : 500*x[0] + 450*x[1] + 160*x[2] + 300*x[3] + 500*x[4] :  +Inf :   True\n",
      "    cons_min : Size=1, Index=None, Active=True\n",
      "        Key  : Lower : Body                                       : Upper : Active\n",
      "        None :  10.0 : 5*x[0] + 7*x[1] + 4*x[2] + 9*x[3] + 2*x[4] :  +Inf :   True\n",
      "    cons_prot : Size=1, Index=None, Active=True\n",
      "        Key  : Lower : Body                                    : Upper : Active\n",
      "        None :  15.0 : x[0] + 4*x[1] + 10*x[2] + 2*x[3] + x[4] :  +Inf :   True\n",
      "    cons_vit : Size=1, Index=None, Active=True\n",
      "        Key  : Lower : Body                                            : Upper : Active\n",
      "        None :  16.0 : 10*x[0] + 20*x[1] + 10*x[2] + 30*x[3] + 20*x[4] :  +Inf :   True\n",
      "\n",
      "7 Declarations: x_index x obj cons_vit cons_min cons_prot cons_cal\n"
     ]
    }
   ],
   "source": [
    "model.pprint()"
   ]
  },
  {
   "cell_type": "markdown",
   "metadata": {},
   "source": [
    "#### Solve the Model"
   ]
  },
  {
   "cell_type": "markdown",
   "metadata": {},
   "source": [
    "Run the solver and examine the solution. You want to see \"OPTIMAL LP Solution Found\""
   ]
  },
  {
   "cell_type": "code",
   "execution_count": 22,
   "metadata": {},
   "outputs": [
    {
     "name": "stdout",
     "output_type": "stream",
     "text": [
      "GLPSOL: GLPK LP/MIP Solver, v4.65\n",
      "Parameter(s) specified in the command line:\n",
      " --write /var/folders/p8/y_pk7h153tld8fgnq6fz274r0000gn/T/tmpoqt7hknl.glpk.raw\n",
      " --wglp /var/folders/p8/y_pk7h153tld8fgnq6fz274r0000gn/T/tmpafv2spg7.glpk.glp\n",
      " --cpxlp /var/folders/p8/y_pk7h153tld8fgnq6fz274r0000gn/T/tmp_g2844md.pyomo.lp\n",
      "Reading problem data from '/var/folders/p8/y_pk7h153tld8fgnq6fz274r0000gn/T/tmp_g2844md.pyomo.lp'...\n",
      "5 rows, 6 columns, 21 non-zeros\n",
      "54 lines were read\n",
      "Writing problem data to '/var/folders/p8/y_pk7h153tld8fgnq6fz274r0000gn/T/tmpafv2spg7.glpk.glp'...\n",
      "45 lines were written\n",
      "GLPK Simplex Optimizer, v4.65\n",
      "5 rows, 6 columns, 21 non-zeros\n",
      "Preprocessing...\n",
      "4 rows, 5 columns, 20 non-zeros\n",
      "Scaling...\n",
      " A: min|aij| =  1.000e+00  max|aij| =  5.000e+02  ratio =  5.000e+02\n",
      "GM: min|aij| =  4.229e-01  max|aij| =  2.364e+00  ratio =  5.590e+00\n",
      "EQ: min|aij| =  1.789e-01  max|aij| =  1.000e+00  ratio =  5.590e+00\n",
      "Constructing initial basis...\n",
      "Size of triangular part is 4\n",
      "      0: obj =   0.000000000e+00 inf =   4.789e+00 (4)\n",
      "      5: obj =   8.044041451e+00 inf =   0.000e+00 (0)\n",
      "*     6: obj =   7.535799523e+00 inf =   0.000e+00 (0)\n",
      "OPTIMAL LP SOLUTION FOUND\n",
      "Time used:   0.0 secs\n",
      "Memory used: 0.0 Mb (40436 bytes)\n",
      "Writing basic solution to '/var/folders/p8/y_pk7h153tld8fgnq6fz274r0000gn/T/tmpoqt7hknl.glpk.raw'...\n",
      "20 lines were written\n"
     ]
    }
   ],
   "source": [
    "opt = pe.SolverFactory('glpk')\n",
    "success = opt.solve(model, tee=True)"
   ]
  },
  {
   "cell_type": "markdown",
   "metadata": {},
   "source": [
    "This next cell will help you determine whether the solver found a solution or had an error (like poorly defined constraints, or infeasibility).  Pay particular attention to the \"Solver\" part of the output."
   ]
  },
  {
   "cell_type": "code",
   "execution_count": 23,
   "metadata": {},
   "outputs": [
    {
     "name": "stdout",
     "output_type": "stream",
     "text": [
      "\n",
      "Problem: \n",
      "- Name: unknown\n",
      "  Lower bound: 7.53579952267303\n",
      "  Upper bound: 7.53579952267303\n",
      "  Number of objectives: 1\n",
      "  Number of constraints: 5\n",
      "  Number of variables: 6\n",
      "  Number of nonzeros: 21\n",
      "  Sense: minimize\n",
      "Solver: \n",
      "- Status: ok\n",
      "  Termination condition: optimal\n",
      "  Statistics: \n",
      "    Branch and bound: \n",
      "      Number of bounded subproblems: 0\n",
      "      Number of created subproblems: 0\n",
      "  Error rc: 0\n",
      "  Time: 0.013626813888549805\n",
      "Solution: \n",
      "- number of solutions: 0\n",
      "  number of solutions displayed: 0\n",
      "\n"
     ]
    }
   ],
   "source": [
    "print(success)"
   ]
  },
  {
   "cell_type": "markdown",
   "metadata": {},
   "source": [
    "#### View the Final Model Obj Function and Dec Variables"
   ]
  },
  {
   "cell_type": "markdown",
   "metadata": {},
   "source": [
    "The next cell will extract the objective function and optimal solution (assuming the solver found a solution).  "
   ]
  },
  {
   "cell_type": "code",
   "execution_count": 25,
   "metadata": {},
   "outputs": [
    {
     "name": "stdout",
     "output_type": "stream",
     "text": [
      "optimal objective value minimum cost = $7.54\n",
      "optimal DV\n",
      "0 0.477\n",
      "1 0.334\n",
      "2 1.319\n",
      "3 0.0\n",
      "4 0.0\n"
     ]
    }
   ],
   "source": [
    "obj_val = model.obj.expr()\n",
    "print(f'optimal objective value minimum cost = ${obj_val:.2f}')\n",
    "\n",
    "# Get a list of optimal decision variable values with a loop\n",
    "print('optimal DV')\n",
    "for index in DV_indexes:\n",
    "    print(index,round(model.x[index].value,3))"
   ]
  },
  {
   "cell_type": "markdown",
   "metadata": {},
   "source": [
    "Another list comprehension:"
   ]
  },
  {
   "cell_type": "code",
   "execution_count": 26,
   "metadata": {
    "tags": []
   },
   "outputs": [
    {
     "data": {
      "text/plain": [
       "[0.477, 0.334, 1.319, 0.0, 0.0]"
      ]
     },
     "execution_count": 26,
     "metadata": {},
     "output_type": "execute_result"
    }
   ],
   "source": [
    "new_list = [round(model.x[i].value, 3) for i in DV_indexes]\n",
    "new_list"
   ]
  },
  {
   "cell_type": "markdown",
   "metadata": {},
   "source": [
    "#### View the slack"
   ]
  },
  {
   "cell_type": "markdown",
   "metadata": {},
   "source": [
    "Print the slack in each constraint.   __NOTE:__ that ?.? e-13 is basically 0."
   ]
  },
  {
   "cell_type": "code",
   "execution_count": 27,
   "metadata": {},
   "outputs": [
    {
     "name": "stdout",
     "output_type": "stream",
     "text": [
      "Vitamins slack = 8.64\n",
      "Minerals slack = 0.00\n",
      "Protein slack = 0.00\n",
      "Calories slack = 0.00\n"
     ]
    }
   ],
   "source": [
    "print(f'Vitamins slack = {model.cons_vit.slack():.2f}')\n",
    "print(f'Minerals slack = {model.cons_min.slack():.2f}')\n",
    "print(f'Protein slack = {model.cons_prot.slack():.2f}')\n",
    "print(f'Calories slack = {model.cons_cal.slack():.2f}')"
   ]
  },
  {
   "cell_type": "markdown",
   "metadata": {},
   "source": [
    "Also examine the final values for the LHS for each constraint. The \"Body\" is the final value."
   ]
  },
  {
   "cell_type": "code",
   "execution_count": 28,
   "metadata": {},
   "outputs": [
    {
     "name": "stdout",
     "output_type": "stream",
     "text": [
      "cons_vit : Size=1\n",
      "    Key  : Lower : Body              : Upper\n",
      "    None :  16.0 : 24.64200477326973 :  None\n",
      "cons_min : Size=1\n",
      "    Key  : Lower : Body               : Upper\n",
      "    None :  10.0 : 10.000000000000016 :  None\n",
      "cons_prot : Size=1\n",
      "    Key  : Lower : Body               : Upper\n",
      "    None :  15.0 : 15.000000000000039 :  None\n",
      "cons_cal : Size=1\n",
      "    Key  : Lower : Body              : Upper\n",
      "    None : 600.0 : 600.0000000000007 :  None\n"
     ]
    }
   ],
   "source": [
    "model.cons_vit.display()\n",
    "model.cons_min.display()\n",
    "model.cons_prot.display()\n",
    "model.cons_cal.display()"
   ]
  },
  {
   "cell_type": "markdown",
   "metadata": {},
   "source": [
    "##### [Back to Top](#TOC)"
   ]
  },
  {
   "cell_type": "markdown",
   "metadata": {},
   "source": [
    "## 4. VERSION TWO: Create a Pyomo model by reading in data from Excel<a id=S4></a>"
   ]
  },
  {
   "cell_type": "markdown",
   "metadata": {},
   "source": [
    "Since we already have all the data in Excel, there is no reason to hand type those in. So here we will read in the needed data from the **Covering** tab in the worksheet **W4L2CoveringAllocationProductMix.xlsx**.\n",
    "\n"
   ]
  },
  {
   "cell_type": "markdown",
   "metadata": {},
   "source": [
    "\\begin{array}{ll}\n",
    "  \\min          &   4 seeds +   5 raisins +   3 flakes +   7 pecans +   6 walnuts\\\\\n",
    "  \\mathrm{s.t.} &  10 seeds +  20 raisins +  10 flakes +  30 pecans +  20 walnuts\\geq 16\\\\\n",
    "                &   5 seeds +   7 raisins +   4 flakes +   9 pecans +   2 walnuts\\geq 10\\\\\n",
    "                &   1 seeds +   4 raisins +  10 flakes +   2 pecans +   1 walnuts\\geq 15\\\\\n",
    "                & 500 seeds + 450 raisins + 160 flakes + 300 pecans + 500 walnuts\\geq 600\\\\\n",
    "                & seeds, raisins, flakes, pecans, walnuts\\geq 0\n",
    "\\end{array}"
   ]
  },
  {
   "cell_type": "code",
   "execution_count": 31,
   "metadata": {},
   "outputs": [
    {
     "data": {
      "text/plain": [
       "pandas.core.frame.DataFrame"
      ]
     },
     "execution_count": 31,
     "metadata": {},
     "output_type": "execute_result"
    }
   ],
   "source": [
    "raw_data = pd.read_excel(\"w05-c01-covering-allocation.xlsx\", sheet_name = \"Covering\")\n",
    "type(raw_data)"
   ]
  },
  {
   "cell_type": "code",
   "execution_count": 33,
   "metadata": {},
   "outputs": [
    {
     "ename": "AttributeError",
     "evalue": "module 'pandas' has no attribute 'read'",
     "output_type": "error",
     "traceback": [
      "\u001b[0;31m---------------------------------------------------------------------------\u001b[0m",
      "\u001b[0;31mAttributeError\u001b[0m                            Traceback (most recent call last)",
      "\u001b[0;32m/var/folders/p8/y_pk7h153tld8fgnq6fz274r0000gn/T/ipykernel_31327/1714213783.py\u001b[0m in \u001b[0;36m<module>\u001b[0;34m\u001b[0m\n\u001b[0;32m----> 1\u001b[0;31m \u001b[0mpd\u001b[0m\u001b[0;34m.\u001b[0m\u001b[0mread\u001b[0m\u001b[0;34m\u001b[0m\u001b[0;34m\u001b[0m\u001b[0m\n\u001b[0m",
      "\u001b[0;32m~/opt/anaconda3/envs/info-3440/lib/python3.8/site-packages/pandas/__init__.py\u001b[0m in \u001b[0;36m__getattr__\u001b[0;34m(name)\u001b[0m\n\u001b[1;32m    242\u001b[0m         \u001b[0;32mreturn\u001b[0m \u001b[0m_SparseArray\u001b[0m\u001b[0;34m\u001b[0m\u001b[0;34m\u001b[0m\u001b[0m\n\u001b[1;32m    243\u001b[0m \u001b[0;34m\u001b[0m\u001b[0m\n\u001b[0;32m--> 244\u001b[0;31m     \u001b[0;32mraise\u001b[0m \u001b[0mAttributeError\u001b[0m\u001b[0;34m(\u001b[0m\u001b[0;34mf\"module 'pandas' has no attribute '{name}'\"\u001b[0m\u001b[0;34m)\u001b[0m\u001b[0;34m\u001b[0m\u001b[0;34m\u001b[0m\u001b[0m\n\u001b[0m\u001b[1;32m    245\u001b[0m \u001b[0;34m\u001b[0m\u001b[0m\n\u001b[1;32m    246\u001b[0m \u001b[0;34m\u001b[0m\u001b[0m\n",
      "\u001b[0;31mAttributeError\u001b[0m: module 'pandas' has no attribute 'read'"
     ]
    }
   ],
   "source": [
    "pd.read"
   ]
  },
  {
   "cell_type": "code",
   "execution_count": 32,
   "metadata": {},
   "outputs": [
    {
     "data": {
      "text/html": [
       "<div>\n",
       "<style scoped>\n",
       "    .dataframe tbody tr th:only-of-type {\n",
       "        vertical-align: middle;\n",
       "    }\n",
       "\n",
       "    .dataframe tbody tr th {\n",
       "        vertical-align: top;\n",
       "    }\n",
       "\n",
       "    .dataframe thead th {\n",
       "        text-align: right;\n",
       "    }\n",
       "</style>\n",
       "<table border=\"1\" class=\"dataframe\">\n",
       "  <thead>\n",
       "    <tr style=\"text-align: right;\">\n",
       "      <th></th>\n",
       "      <th>Covering:  Trail Mix</th>\n",
       "      <th>Unnamed: 1</th>\n",
       "      <th>Unnamed: 2</th>\n",
       "      <th>Unnamed: 3</th>\n",
       "      <th>Unnamed: 4</th>\n",
       "      <th>Unnamed: 5</th>\n",
       "      <th>Unnamed: 6</th>\n",
       "      <th>Unnamed: 7</th>\n",
       "      <th>Unnamed: 8</th>\n",
       "      <th>Unnamed: 9</th>\n",
       "    </tr>\n",
       "  </thead>\n",
       "  <tbody>\n",
       "    <tr>\n",
       "      <th>0</th>\n",
       "      <td>NaN</td>\n",
       "      <td>NaN</td>\n",
       "      <td>NaN</td>\n",
       "      <td>NaN</td>\n",
       "      <td>NaN</td>\n",
       "      <td>NaN</td>\n",
       "      <td>NaN</td>\n",
       "      <td>NaN</td>\n",
       "      <td>NaN</td>\n",
       "      <td>NaN</td>\n",
       "    </tr>\n",
       "    <tr>\n",
       "      <th>1</th>\n",
       "      <td>Decision Variables</td>\n",
       "      <td>x0</td>\n",
       "      <td>x1</td>\n",
       "      <td>x2</td>\n",
       "      <td>x3</td>\n",
       "      <td>x4</td>\n",
       "      <td>NaN</td>\n",
       "      <td>NaN</td>\n",
       "      <td>NaN</td>\n",
       "      <td>NaN</td>\n",
       "    </tr>\n",
       "    <tr>\n",
       "      <th>2</th>\n",
       "      <td>NaN</td>\n",
       "      <td>Seeds</td>\n",
       "      <td>Raisins</td>\n",
       "      <td>Flakes</td>\n",
       "      <td>Pecans</td>\n",
       "      <td>Walnuts</td>\n",
       "      <td>NaN</td>\n",
       "      <td>NaN</td>\n",
       "      <td>NaN</td>\n",
       "      <td>NaN</td>\n",
       "    </tr>\n",
       "    <tr>\n",
       "      <th>3</th>\n",
       "      <td>Amounts</td>\n",
       "      <td>0.2</td>\n",
       "      <td>0.2</td>\n",
       "      <td>0.2</td>\n",
       "      <td>0.2</td>\n",
       "      <td>0.2</td>\n",
       "      <td>NaN</td>\n",
       "      <td>NaN</td>\n",
       "      <td>NaN</td>\n",
       "      <td>NaN</td>\n",
       "    </tr>\n",
       "    <tr>\n",
       "      <th>4</th>\n",
       "      <td>NaN</td>\n",
       "      <td>NaN</td>\n",
       "      <td>NaN</td>\n",
       "      <td>NaN</td>\n",
       "      <td>NaN</td>\n",
       "      <td>NaN</td>\n",
       "      <td>NaN</td>\n",
       "      <td>NaN</td>\n",
       "      <td>NaN</td>\n",
       "      <td>NaN</td>\n",
       "    </tr>\n",
       "    <tr>\n",
       "      <th>5</th>\n",
       "      <td>Objective Function</td>\n",
       "      <td>NaN</td>\n",
       "      <td>NaN</td>\n",
       "      <td>NaN</td>\n",
       "      <td>NaN</td>\n",
       "      <td>NaN</td>\n",
       "      <td>Total</td>\n",
       "      <td>NaN</td>\n",
       "      <td>NaN</td>\n",
       "      <td>NaN</td>\n",
       "    </tr>\n",
       "    <tr>\n",
       "      <th>6</th>\n",
       "      <td>Cost</td>\n",
       "      <td>4</td>\n",
       "      <td>5</td>\n",
       "      <td>3</td>\n",
       "      <td>7</td>\n",
       "      <td>6</td>\n",
       "      <td>5.0</td>\n",
       "      <td>NaN</td>\n",
       "      <td>NaN</td>\n",
       "      <td>NaN</td>\n",
       "    </tr>\n",
       "    <tr>\n",
       "      <th>7</th>\n",
       "      <td>NaN</td>\n",
       "      <td>NaN</td>\n",
       "      <td>NaN</td>\n",
       "      <td>NaN</td>\n",
       "      <td>NaN</td>\n",
       "      <td>NaN</td>\n",
       "      <td>NaN</td>\n",
       "      <td>NaN</td>\n",
       "      <td>NaN</td>\n",
       "      <td>NaN</td>\n",
       "    </tr>\n",
       "    <tr>\n",
       "      <th>8</th>\n",
       "      <td>Constraints</td>\n",
       "      <td>NaN</td>\n",
       "      <td>NaN</td>\n",
       "      <td>NaN</td>\n",
       "      <td>NaN</td>\n",
       "      <td>NaN</td>\n",
       "      <td>LHS</td>\n",
       "      <td>NaN</td>\n",
       "      <td>RHS</td>\n",
       "      <td>slack</td>\n",
       "    </tr>\n",
       "    <tr>\n",
       "      <th>9</th>\n",
       "      <td>Vitamins</td>\n",
       "      <td>10</td>\n",
       "      <td>20</td>\n",
       "      <td>10</td>\n",
       "      <td>30</td>\n",
       "      <td>20</td>\n",
       "      <td>18</td>\n",
       "      <td>&gt;=</td>\n",
       "      <td>16</td>\n",
       "      <td>-2</td>\n",
       "    </tr>\n",
       "    <tr>\n",
       "      <th>10</th>\n",
       "      <td>Minerals</td>\n",
       "      <td>5</td>\n",
       "      <td>7</td>\n",
       "      <td>4</td>\n",
       "      <td>9</td>\n",
       "      <td>2</td>\n",
       "      <td>5.4</td>\n",
       "      <td>&gt;=</td>\n",
       "      <td>10</td>\n",
       "      <td>4.6</td>\n",
       "    </tr>\n",
       "    <tr>\n",
       "      <th>11</th>\n",
       "      <td>Protein</td>\n",
       "      <td>1</td>\n",
       "      <td>4</td>\n",
       "      <td>10</td>\n",
       "      <td>2</td>\n",
       "      <td>1</td>\n",
       "      <td>3.6</td>\n",
       "      <td>&gt;=</td>\n",
       "      <td>15</td>\n",
       "      <td>11.4</td>\n",
       "    </tr>\n",
       "    <tr>\n",
       "      <th>12</th>\n",
       "      <td>Calories</td>\n",
       "      <td>500</td>\n",
       "      <td>450</td>\n",
       "      <td>160</td>\n",
       "      <td>300</td>\n",
       "      <td>500</td>\n",
       "      <td>382</td>\n",
       "      <td>&gt;=</td>\n",
       "      <td>600</td>\n",
       "      <td>218</td>\n",
       "    </tr>\n",
       "  </tbody>\n",
       "</table>\n",
       "</div>"
      ],
      "text/plain": [
       "   Covering:  Trail Mix Unnamed: 1 Unnamed: 2 Unnamed: 3 Unnamed: 4  \\\n",
       "0                   NaN        NaN        NaN        NaN        NaN   \n",
       "1    Decision Variables         x0         x1         x2         x3   \n",
       "2                   NaN      Seeds    Raisins     Flakes     Pecans   \n",
       "3               Amounts        0.2        0.2        0.2        0.2   \n",
       "4                   NaN        NaN        NaN        NaN        NaN   \n",
       "5    Objective Function        NaN        NaN        NaN        NaN   \n",
       "6                  Cost          4          5          3          7   \n",
       "7                   NaN        NaN        NaN        NaN        NaN   \n",
       "8           Constraints        NaN        NaN        NaN        NaN   \n",
       "9              Vitamins         10         20         10         30   \n",
       "10             Minerals          5          7          4          9   \n",
       "11              Protein          1          4         10          2   \n",
       "12             Calories        500        450        160        300   \n",
       "\n",
       "   Unnamed: 5 Unnamed: 6 Unnamed: 7 Unnamed: 8 Unnamed: 9  \n",
       "0         NaN        NaN        NaN        NaN        NaN  \n",
       "1          x4        NaN        NaN        NaN        NaN  \n",
       "2     Walnuts        NaN        NaN        NaN        NaN  \n",
       "3         0.2        NaN        NaN        NaN        NaN  \n",
       "4         NaN        NaN        NaN        NaN        NaN  \n",
       "5         NaN      Total        NaN        NaN        NaN  \n",
       "6           6        5.0        NaN        NaN        NaN  \n",
       "7         NaN        NaN        NaN        NaN        NaN  \n",
       "8         NaN        LHS        NaN        RHS      slack  \n",
       "9          20         18         >=         16         -2  \n",
       "10          2        5.4         >=         10        4.6  \n",
       "11          1        3.6         >=         15       11.4  \n",
       "12        500        382         >=        600        218  "
      ]
     },
     "execution_count": 32,
     "metadata": {},
     "output_type": "execute_result"
    }
   ],
   "source": [
    "raw_data"
   ]
  },
  {
   "cell_type": "markdown",
   "metadata": {},
   "source": [
    "Now, rather than some 'generic' decision variables x_0, x_1, etc, let's use the actual decision variable names"
   ]
  },
  {
   "cell_type": "code",
   "execution_count": 34,
   "metadata": {},
   "outputs": [],
   "source": [
    "DV_indexes = ['seeds', 'raisins', 'flakes', 'pecans', 'walnuts']"
   ]
  },
  {
   "cell_type": "markdown",
   "metadata": {},
   "source": [
    "This next cell extracts the coefficients of the objective function (cost) and the LHS of the ingredient constraints. Remember that indexes start with 0. So the first row is 0 and the first column is 0. In addition, remember that ranges go \"up to\" the upper limit so 1:6 is 1,2,3,4,5. Defining the indexes defines the row names."
   ]
  },
  {
   "cell_type": "code",
   "execution_count": 36,
   "metadata": {},
   "outputs": [
    {
     "data": {
      "text/html": [
       "<div>\n",
       "<style scoped>\n",
       "    .dataframe tbody tr th:only-of-type {\n",
       "        vertical-align: middle;\n",
       "    }\n",
       "\n",
       "    .dataframe tbody tr th {\n",
       "        vertical-align: top;\n",
       "    }\n",
       "\n",
       "    .dataframe thead th {\n",
       "        text-align: right;\n",
       "    }\n",
       "</style>\n",
       "<table border=\"1\" class=\"dataframe\">\n",
       "  <thead>\n",
       "    <tr style=\"text-align: right;\">\n",
       "      <th></th>\n",
       "      <th>seeds</th>\n",
       "      <th>raisins</th>\n",
       "      <th>flakes</th>\n",
       "      <th>pecans</th>\n",
       "      <th>walnuts</th>\n",
       "    </tr>\n",
       "  </thead>\n",
       "  <tbody>\n",
       "    <tr>\n",
       "      <th>cost</th>\n",
       "      <td>4</td>\n",
       "      <td>5</td>\n",
       "      <td>3</td>\n",
       "      <td>7</td>\n",
       "      <td>6</td>\n",
       "    </tr>\n",
       "    <tr>\n",
       "      <th>vitamins</th>\n",
       "      <td>10</td>\n",
       "      <td>20</td>\n",
       "      <td>10</td>\n",
       "      <td>30</td>\n",
       "      <td>20</td>\n",
       "    </tr>\n",
       "    <tr>\n",
       "      <th>minerals</th>\n",
       "      <td>5</td>\n",
       "      <td>7</td>\n",
       "      <td>4</td>\n",
       "      <td>9</td>\n",
       "      <td>2</td>\n",
       "    </tr>\n",
       "    <tr>\n",
       "      <th>protein</th>\n",
       "      <td>1</td>\n",
       "      <td>4</td>\n",
       "      <td>10</td>\n",
       "      <td>2</td>\n",
       "      <td>1</td>\n",
       "    </tr>\n",
       "    <tr>\n",
       "      <th>calories</th>\n",
       "      <td>500</td>\n",
       "      <td>450</td>\n",
       "      <td>160</td>\n",
       "      <td>300</td>\n",
       "      <td>500</td>\n",
       "    </tr>\n",
       "  </tbody>\n",
       "</table>\n",
       "</div>"
      ],
      "text/plain": [
       "         seeds raisins flakes pecans walnuts\n",
       "cost         4       5      3      7       6\n",
       "vitamins    10      20     10     30      20\n",
       "minerals     5       7      4      9       2\n",
       "protein      1       4     10      2       1\n",
       "calories   500     450    160    300     500"
      ]
     },
     "execution_count": 36,
     "metadata": {},
     "output_type": "execute_result"
    }
   ],
   "source": [
    "coef = pd.DataFrame(raw_data.iloc[[6, 9, 10, 11, 12], 1:6])\n",
    "coef.index = ['cost', 'vitamins', 'minerals', 'protein', 'calories']\n",
    "coef.columns = DV_indexes\n",
    "coef"
   ]
  },
  {
   "cell_type": "code",
   "execution_count": 37,
   "metadata": {},
   "outputs": [
    {
     "data": {
      "text/plain": [
       "pandas.core.frame.DataFrame"
      ]
     },
     "execution_count": 37,
     "metadata": {},
     "output_type": "execute_result"
    }
   ],
   "source": [
    "type(coef)"
   ]
  },
  {
   "cell_type": "markdown",
   "metadata": {},
   "source": [
    "The next cell reads in the RHS of the constraints into their own dataframe."
   ]
  },
  {
   "cell_type": "code",
   "execution_count": 38,
   "metadata": {},
   "outputs": [
    {
     "data": {
      "text/html": [
       "<div>\n",
       "<style scoped>\n",
       "    .dataframe tbody tr th:only-of-type {\n",
       "        vertical-align: middle;\n",
       "    }\n",
       "\n",
       "    .dataframe tbody tr th {\n",
       "        vertical-align: top;\n",
       "    }\n",
       "\n",
       "    .dataframe thead th {\n",
       "        text-align: right;\n",
       "    }\n",
       "</style>\n",
       "<table border=\"1\" class=\"dataframe\">\n",
       "  <thead>\n",
       "    <tr style=\"text-align: right;\">\n",
       "      <th></th>\n",
       "      <th>rhs</th>\n",
       "    </tr>\n",
       "  </thead>\n",
       "  <tbody>\n",
       "    <tr>\n",
       "      <th>vitamins</th>\n",
       "      <td>16</td>\n",
       "    </tr>\n",
       "    <tr>\n",
       "      <th>minerals</th>\n",
       "      <td>10</td>\n",
       "    </tr>\n",
       "    <tr>\n",
       "      <th>protein</th>\n",
       "      <td>15</td>\n",
       "    </tr>\n",
       "    <tr>\n",
       "      <th>calories</th>\n",
       "      <td>600</td>\n",
       "    </tr>\n",
       "  </tbody>\n",
       "</table>\n",
       "</div>"
      ],
      "text/plain": [
       "          rhs\n",
       "vitamins   16\n",
       "minerals   10\n",
       "protein    15\n",
       "calories  600"
      ]
     },
     "execution_count": 38,
     "metadata": {},
     "output_type": "execute_result"
    }
   ],
   "source": [
    "rhs = pd.DataFrame(raw_data.iloc[9:13, 8])\n",
    "rhs.index = list(coef.index[1:])\n",
    "rhs.columns = ['rhs']\n",
    "rhs"
   ]
  },
  {
   "cell_type": "markdown",
   "metadata": {},
   "source": [
    "## Create pyomo model, decision variables, objective function, and constraints"
   ]
  },
  {
   "cell_type": "markdown",
   "metadata": {},
   "source": [
    "In this section you will instantiate the decision variables, objective function and constraints for the Pyomo model."
   ]
  },
  {
   "cell_type": "markdown",
   "metadata": {},
   "source": [
    "First we will instantiate a ConcreteModel and store it in the variable `model`. This assumes we have already run `import pyomo.environ as pe`."
   ]
  },
  {
   "cell_type": "code",
   "execution_count": 39,
   "metadata": {},
   "outputs": [],
   "source": [
    "model = pe.ConcreteModel()"
   ]
  },
  {
   "cell_type": "code",
   "execution_count": 40,
   "metadata": {},
   "outputs": [
    {
     "ename": "AttributeError",
     "evalue": "'ConcreteModel' object has no attribute 'x'",
     "output_type": "error",
     "traceback": [
      "\u001b[0;31m---------------------------------------------------------------------------\u001b[0m",
      "\u001b[0;31mAttributeError\u001b[0m                            Traceback (most recent call last)",
      "\u001b[0;32m/var/folders/p8/y_pk7h153tld8fgnq6fz274r0000gn/T/ipykernel_31327/2650915031.py\u001b[0m in \u001b[0;36m<module>\u001b[0;34m\u001b[0m\n\u001b[0;32m----> 1\u001b[0;31m \u001b[0mmodel\u001b[0m\u001b[0;34m.\u001b[0m\u001b[0mx\u001b[0m\u001b[0;34m.\u001b[0m\u001b[0mpprint\u001b[0m\u001b[0;34m(\u001b[0m\u001b[0;34m)\u001b[0m\u001b[0;34m\u001b[0m\u001b[0;34m\u001b[0m\u001b[0m\n\u001b[0m",
      "\u001b[0;32m~/opt/anaconda3/envs/info-3440/lib/python3.8/site-packages/pyomo/core/base/block.py\u001b[0m in \u001b[0;36m__getattr__\u001b[0;34m(self, val)\u001b[0m\n\u001b[1;32m    519\u001b[0m         \u001b[0;31m# Since the base classes don't support getattr, we can just\u001b[0m\u001b[0;34m\u001b[0m\u001b[0;34m\u001b[0m\u001b[0;34m\u001b[0m\u001b[0m\n\u001b[1;32m    520\u001b[0m         \u001b[0;31m# throw the \"normal\" AttributeError\u001b[0m\u001b[0;34m\u001b[0m\u001b[0;34m\u001b[0m\u001b[0;34m\u001b[0m\u001b[0m\n\u001b[0;32m--> 521\u001b[0;31m         raise AttributeError(\"'%s' object has no attribute '%s'\"\n\u001b[0m\u001b[1;32m    522\u001b[0m                              % (self.__class__.__name__, val))\n\u001b[1;32m    523\u001b[0m \u001b[0;34m\u001b[0m\u001b[0m\n",
      "\u001b[0;31mAttributeError\u001b[0m: 'ConcreteModel' object has no attribute 'x'"
     ]
    }
   ],
   "source": [
    "model.x.pprint()"
   ]
  },
  {
   "cell_type": "markdown",
   "metadata": {},
   "source": [
    "#### Define the Decision Variables"
   ]
  },
  {
   "cell_type": "markdown",
   "metadata": {},
   "source": [
    "Create a pyomo variable named `x` with domain of nonnegative of real numbers.  Make sure you \"attach\" this variable to the `model` object. We will use the decision variable names that we already created in `DV_indexes` above."
   ]
  },
  {
   "cell_type": "code",
   "execution_count": 41,
   "metadata": {},
   "outputs": [],
   "source": [
    "model.x = pe.Var(DV_indexes, domain = pe.NonNegativeReals)"
   ]
  },
  {
   "cell_type": "markdown",
   "metadata": {},
   "source": [
    "To double check what you entered, use '.pprint()'."
   ]
  },
  {
   "cell_type": "code",
   "execution_count": 42,
   "metadata": {},
   "outputs": [
    {
     "name": "stdout",
     "output_type": "stream",
     "text": [
      "x : Size=5, Index=x_index\n",
      "    Key     : Lower : Value : Upper : Fixed : Stale : Domain\n",
      "     flakes :     0 :  None :  None : False :  True : NonNegativeReals\n",
      "     pecans :     0 :  None :  None : False :  True : NonNegativeReals\n",
      "    raisins :     0 :  None :  None : False :  True : NonNegativeReals\n",
      "      seeds :     0 :  None :  None : False :  True : NonNegativeReals\n",
      "    walnuts :     0 :  None :  None : False :  True : NonNegativeReals\n"
     ]
    }
   ],
   "source": [
    "model.x.pprint()"
   ]
  },
  {
   "cell_type": "markdown",
   "metadata": {},
   "source": [
    "#### Define the objective function"
   ]
  },
  {
   "cell_type": "markdown",
   "metadata": {},
   "source": [
    "The next cell defines the objective function `obj` using the data in the `coef` dataframe.  The expression argument, `expr=...`, shows a shorthand way to represent a sumproduct using a \"list comprehension\". The sense=pe.minimize means to minimize the objective function. Note you will find lots of code with the `sense=-1` argument which also means to maximize (`sense=1` is minimization, the default)."
   ]
  },
  {
   "cell_type": "code",
   "execution_count": 43,
   "metadata": {},
   "outputs": [],
   "source": [
    "list_comp = [coef.loc['cost', i]*model.x[i] for i in DV_indexes]"
   ]
  },
  {
   "cell_type": "code",
   "execution_count": 45,
   "metadata": {},
   "outputs": [
    {
     "data": {
      "text/plain": [
       "[<pyomo.core.expr.numeric_expr.MonomialTermExpression at 0x7fec4cc62340>,\n",
       " <pyomo.core.expr.numeric_expr.MonomialTermExpression at 0x7fec4cc62b80>,\n",
       " <pyomo.core.expr.numeric_expr.MonomialTermExpression at 0x7fec4cc62a00>,\n",
       " <pyomo.core.expr.numeric_expr.MonomialTermExpression at 0x7fec4cc629a0>,\n",
       " <pyomo.core.expr.numeric_expr.MonomialTermExpression at 0x7fec4c3ba6a0>]"
      ]
     },
     "execution_count": 45,
     "metadata": {},
     "output_type": "execute_result"
    }
   ],
   "source": [
    "type(list_comp)\n",
    "list_comp"
   ]
  },
  {
   "cell_type": "code",
   "execution_count": 46,
   "metadata": {},
   "outputs": [],
   "source": [
    "model.obj = pe.Objective(expr = sum([coef.loc['cost', i]*model.x[i] for i in DV_indexes]), \n",
    "                         sense = pe.minimize)"
   ]
  },
  {
   "cell_type": "markdown",
   "metadata": {},
   "source": [
    "To double check what you entered, use 'pprint'."
   ]
  },
  {
   "cell_type": "code",
   "execution_count": 48,
   "metadata": {},
   "outputs": [
    {
     "name": "stdout",
     "output_type": "stream",
     "text": [
      "obj : Size=1, Index=None, Active=True\n",
      "    Key  : Active : Sense    : Expression\n",
      "    None :   True : minimize : 4*x[seeds] + 5*x[raisins] + 3*x[flakes] + 7*x[pecans] + 6*x[walnuts]\n"
     ]
    }
   ],
   "source": [
    "model.obj.pprint()"
   ]
  },
  {
   "cell_type": "markdown",
   "metadata": {},
   "source": [
    "#### Define the constraints"
   ]
  },
  {
   "cell_type": "markdown",
   "metadata": {},
   "source": [
    "Next we need to define the four constraints using the data in the `coef` and `rhs` dataframes.  Make sure to \"attach\" each constraint to the `model` object. The constraints use a list comprehension to calculate the LHS sumproduct. "
   ]
  },
  {
   "cell_type": "code",
   "execution_count": 49,
   "metadata": {},
   "outputs": [],
   "source": [
    "model.cons_vit = pe.Constraint(expr=sum([coef.loc['vitamins', i]*model.x[i] \n",
    "                                         for i in DV_indexes]) >= rhs.loc['vitamins', 'rhs'])\n",
    "model.cons_min = pe.Constraint(expr=sum([coef.loc['minerals', i]*model.x[i] \n",
    "                                         for i in DV_indexes]) >= rhs.loc['minerals', 'rhs'])\n",
    "model.cons_prot = pe.Constraint(expr=sum([coef.loc['protein', i]*model.x[i]\n",
    "                                          for i in DV_indexes]) >= rhs.loc['protein', 'rhs'])\n",
    "model.cons_cal = pe.Constraint(expr=sum([coef.loc['calories', i]*model.x[i] \n",
    "                                          for i in DV_indexes]) >= rhs.loc['calories', 'rhs'])"
   ]
  },
  {
   "cell_type": "markdown",
   "metadata": {},
   "source": [
    "Check the constraints. __NOTE:__ Lower and Upper shows the allowable range. The Upper is the RHS which is +Inf for all of these >= RHS constraints. Note for the first one for vitamins has Lower=16 and Upper=+Inf."
   ]
  },
  {
   "cell_type": "markdown",
   "metadata": {},
   "source": [
    "For a final check, let's print the entire model (rather than each separate part obj, decision variables, constraints)"
   ]
  },
  {
   "cell_type": "code",
   "execution_count": 50,
   "metadata": {},
   "outputs": [
    {
     "name": "stdout",
     "output_type": "stream",
     "text": [
      "1 Set Declarations\n",
      "    x_index : Size=1, Index=None, Ordered=Insertion\n",
      "        Key  : Dimen : Domain : Size : Members\n",
      "        None :     1 :    Any :    5 : {'seeds', 'raisins', 'flakes', 'pecans', 'walnuts'}\n",
      "\n",
      "1 Var Declarations\n",
      "    x : Size=5, Index=x_index\n",
      "        Key     : Lower : Value : Upper : Fixed : Stale : Domain\n",
      "         flakes :     0 :  None :  None : False :  True : NonNegativeReals\n",
      "         pecans :     0 :  None :  None : False :  True : NonNegativeReals\n",
      "        raisins :     0 :  None :  None : False :  True : NonNegativeReals\n",
      "          seeds :     0 :  None :  None : False :  True : NonNegativeReals\n",
      "        walnuts :     0 :  None :  None : False :  True : NonNegativeReals\n",
      "\n",
      "1 Objective Declarations\n",
      "    obj : Size=1, Index=None, Active=True\n",
      "        Key  : Active : Sense    : Expression\n",
      "        None :   True : minimize : 4*x[seeds] + 5*x[raisins] + 3*x[flakes] + 7*x[pecans] + 6*x[walnuts]\n",
      "\n",
      "4 Constraint Declarations\n",
      "    cons_cal : Size=1, Index=None, Active=True\n",
      "        Key  : Lower : Body                                                                           : Upper : Active\n",
      "        None : 600.0 : 500*x[seeds] + 450*x[raisins] + 160*x[flakes] + 300*x[pecans] + 500*x[walnuts] :  +Inf :   True\n",
      "    cons_min : Size=1, Index=None, Active=True\n",
      "        Key  : Lower : Body                                                                 : Upper : Active\n",
      "        None :  10.0 : 5*x[seeds] + 7*x[raisins] + 4*x[flakes] + 9*x[pecans] + 2*x[walnuts] :  +Inf :   True\n",
      "    cons_prot : Size=1, Index=None, Active=True\n",
      "        Key  : Lower : Body                                                              : Upper : Active\n",
      "        None :  15.0 : x[seeds] + 4*x[raisins] + 10*x[flakes] + 2*x[pecans] + x[walnuts] :  +Inf :   True\n",
      "    cons_vit : Size=1, Index=None, Active=True\n",
      "        Key  : Lower : Body                                                                      : Upper : Active\n",
      "        None :  16.0 : 10*x[seeds] + 20*x[raisins] + 10*x[flakes] + 30*x[pecans] + 20*x[walnuts] :  +Inf :   True\n",
      "\n",
      "7 Declarations: x_index x obj cons_vit cons_min cons_prot cons_cal\n"
     ]
    }
   ],
   "source": [
    "model.pprint()"
   ]
  },
  {
   "cell_type": "markdown",
   "metadata": {},
   "source": [
    "#### Solve the model"
   ]
  },
  {
   "cell_type": "markdown",
   "metadata": {},
   "source": [
    "Run the solver and examine the solution. You want to see \"OPTIMAL LP Solution Found\""
   ]
  },
  {
   "cell_type": "code",
   "execution_count": 57,
   "metadata": {
    "tags": []
   },
   "outputs": [
    {
     "data": {
      "text/plain": [
       "3.907985046680551e-14"
      ]
     },
     "execution_count": 57,
     "metadata": {},
     "output_type": "execute_result"
    }
   ],
   "source": [
    "model.cons_prot.slack()"
   ]
  },
  {
   "cell_type": "code",
   "execution_count": 52,
   "metadata": {},
   "outputs": [
    {
     "name": "stdout",
     "output_type": "stream",
     "text": [
      "GLPSOL: GLPK LP/MIP Solver, v4.65\n",
      "Parameter(s) specified in the command line:\n",
      " --write /var/folders/p8/y_pk7h153tld8fgnq6fz274r0000gn/T/tmpy5emxmfh.glpk.raw\n",
      " --wglp /var/folders/p8/y_pk7h153tld8fgnq6fz274r0000gn/T/tmp1arscwqq.glpk.glp\n",
      " --cpxlp /var/folders/p8/y_pk7h153tld8fgnq6fz274r0000gn/T/tmpcntkbis5.pyomo.lp\n",
      "Reading problem data from '/var/folders/p8/y_pk7h153tld8fgnq6fz274r0000gn/T/tmpcntkbis5.pyomo.lp'...\n",
      "5 rows, 6 columns, 21 non-zeros\n",
      "54 lines were read\n",
      "Writing problem data to '/var/folders/p8/y_pk7h153tld8fgnq6fz274r0000gn/T/tmp1arscwqq.glpk.glp'...\n",
      "45 lines were written\n",
      "GLPK Simplex Optimizer, v4.65\n",
      "5 rows, 6 columns, 21 non-zeros\n",
      "Preprocessing...\n",
      "4 rows, 5 columns, 20 non-zeros\n",
      "Scaling...\n",
      " A: min|aij| =  1.000e+00  max|aij| =  5.000e+02  ratio =  5.000e+02\n",
      "GM: min|aij| =  4.229e-01  max|aij| =  2.364e+00  ratio =  5.590e+00\n",
      "EQ: min|aij| =  1.789e-01  max|aij| =  1.000e+00  ratio =  5.590e+00\n",
      "Constructing initial basis...\n",
      "Size of triangular part is 4\n",
      "      0: obj =   0.000000000e+00 inf =   4.789e+00 (4)\n",
      "      5: obj =   8.044041451e+00 inf =   0.000e+00 (0)\n",
      "*     6: obj =   7.535799523e+00 inf =   0.000e+00 (0)\n",
      "OPTIMAL LP SOLUTION FOUND\n",
      "Time used:   0.0 secs\n",
      "Memory used: 0.0 Mb (40436 bytes)\n",
      "Writing basic solution to '/var/folders/p8/y_pk7h153tld8fgnq6fz274r0000gn/T/tmpy5emxmfh.glpk.raw'...\n",
      "20 lines were written\n"
     ]
    }
   ],
   "source": [
    "opt = pe.SolverFactory('glpk')\n",
    "success = opt.solve(model, tee=True)"
   ]
  },
  {
   "cell_type": "markdown",
   "metadata": {},
   "source": [
    "This next cell will help you determine whether the solver found a solution or had an error (like poorly defined constraints, or infeasibility).  Pay particular attention to the \"Solver\" part of the output."
   ]
  },
  {
   "cell_type": "code",
   "execution_count": 53,
   "metadata": {},
   "outputs": [
    {
     "name": "stdout",
     "output_type": "stream",
     "text": [
      "\n",
      "Problem: \n",
      "- Name: unknown\n",
      "  Lower bound: 7.53579952267303\n",
      "  Upper bound: 7.53579952267303\n",
      "  Number of objectives: 1\n",
      "  Number of constraints: 5\n",
      "  Number of variables: 6\n",
      "  Number of nonzeros: 21\n",
      "  Sense: minimize\n",
      "Solver: \n",
      "- Status: ok\n",
      "  Termination condition: optimal\n",
      "  Statistics: \n",
      "    Branch and bound: \n",
      "      Number of bounded subproblems: 0\n",
      "      Number of created subproblems: 0\n",
      "  Error rc: 0\n",
      "  Time: 0.017139196395874023\n",
      "Solution: \n",
      "- number of solutions: 0\n",
      "  number of solutions displayed: 0\n",
      "\n"
     ]
    }
   ],
   "source": [
    "print(success)"
   ]
  },
  {
   "cell_type": "markdown",
   "metadata": {},
   "source": [
    "#### View the Final Model Obj Function and Dec Variables"
   ]
  },
  {
   "cell_type": "markdown",
   "metadata": {},
   "source": [
    "The next cell will extract the objective function and optimal solution (assuming the solver found a solution).  "
   ]
  },
  {
   "cell_type": "code",
   "execution_count": 54,
   "metadata": {},
   "outputs": [
    {
     "name": "stdout",
     "output_type": "stream",
     "text": [
      "optimal objective value minimum cost = $7.54\n"
     ]
    },
    {
     "data": {
      "text/html": [
       "<div>\n",
       "<style scoped>\n",
       "    .dataframe tbody tr th:only-of-type {\n",
       "        vertical-align: middle;\n",
       "    }\n",
       "\n",
       "    .dataframe tbody tr th {\n",
       "        vertical-align: top;\n",
       "    }\n",
       "\n",
       "    .dataframe thead th {\n",
       "        text-align: right;\n",
       "    }\n",
       "</style>\n",
       "<table border=\"1\" class=\"dataframe\">\n",
       "  <thead>\n",
       "    <tr style=\"text-align: right;\">\n",
       "      <th></th>\n",
       "      <th>DV</th>\n",
       "      <th>Value</th>\n",
       "    </tr>\n",
       "  </thead>\n",
       "  <tbody>\n",
       "    <tr>\n",
       "      <th>0</th>\n",
       "      <td>seeds</td>\n",
       "      <td>0.477</td>\n",
       "    </tr>\n",
       "    <tr>\n",
       "      <th>1</th>\n",
       "      <td>raisins</td>\n",
       "      <td>0.334</td>\n",
       "    </tr>\n",
       "    <tr>\n",
       "      <th>2</th>\n",
       "      <td>flakes</td>\n",
       "      <td>1.319</td>\n",
       "    </tr>\n",
       "    <tr>\n",
       "      <th>3</th>\n",
       "      <td>pecans</td>\n",
       "      <td>0.000</td>\n",
       "    </tr>\n",
       "    <tr>\n",
       "      <th>4</th>\n",
       "      <td>walnuts</td>\n",
       "      <td>0.000</td>\n",
       "    </tr>\n",
       "  </tbody>\n",
       "</table>\n",
       "</div>"
      ],
      "text/plain": [
       "        DV  Value\n",
       "0    seeds  0.477\n",
       "1  raisins  0.334\n",
       "2   flakes  1.319\n",
       "3   pecans  0.000\n",
       "4  walnuts  0.000"
      ]
     },
     "execution_count": 54,
     "metadata": {},
     "output_type": "execute_result"
    }
   ],
   "source": [
    "obj_val = model.obj.expr()\n",
    "print(f'optimal objective value minimum cost = ${obj_val:.2f}')\n",
    "\n",
    "DV = []  # create an empty list to store decision variables\n",
    "for index in DV_indexes:\n",
    "    DV.append(round(model.x[index].value, 3))\n",
    "pd.DataFrame({'DV':DV_indexes,\n",
    "             'Value':DV})"
   ]
  },
  {
   "cell_type": "markdown",
   "metadata": {},
   "source": [
    "#### View the slack"
   ]
  },
  {
   "cell_type": "markdown",
   "metadata": {},
   "source": [
    "Print the slack in each constraint.   __NOTE:__ that ?.? e-13 is basically 0."
   ]
  },
  {
   "cell_type": "code",
   "execution_count": 55,
   "metadata": {},
   "outputs": [
    {
     "name": "stdout",
     "output_type": "stream",
     "text": [
      "Vitamins slack = 8.64\n",
      "Minerals slack = 0.00\n",
      "Protein slack = 0.00\n",
      "Calories slack = 0.00\n"
     ]
    }
   ],
   "source": [
    "print(f'Vitamins slack = {model.cons_vit.slack():.2f}')\n",
    "print(f'Minerals slack = {model.cons_min.slack():.2f}')\n",
    "print(f'Protein slack = {model.cons_prot.slack():.2f}')\n",
    "print(f'Calories slack = {model.cons_cal.slack():.2f}')"
   ]
  },
  {
   "cell_type": "markdown",
   "metadata": {},
   "source": [
    "### View the final LHS values"
   ]
  },
  {
   "cell_type": "markdown",
   "metadata": {},
   "source": [
    "Also examine the final values for the LHS for each constraint. The \"Body\" is the final value."
   ]
  },
  {
   "cell_type": "code",
   "execution_count": 56,
   "metadata": {},
   "outputs": [
    {
     "name": "stdout",
     "output_type": "stream",
     "text": [
      "cons_vit : Size=1\n",
      "    Key  : Lower : Body              : Upper\n",
      "    None :  16.0 : 24.64200477326973 :  None\n",
      "cons_min : Size=1\n",
      "    Key  : Lower : Body               : Upper\n",
      "    None :  10.0 : 10.000000000000016 :  None\n",
      "cons_prot : Size=1\n",
      "    Key  : Lower : Body               : Upper\n",
      "    None :  15.0 : 15.000000000000039 :  None\n",
      "cons_cal : Size=1\n",
      "    Key  : Lower : Body              : Upper\n",
      "    None : 600.0 : 600.0000000000007 :  None\n"
     ]
    }
   ],
   "source": [
    "model.cons_vit.display()\n",
    "model.cons_min.display()\n",
    "model.cons_prot.display()\n",
    "model.cons_cal.display()"
   ]
  },
  {
   "cell_type": "code",
   "execution_count": null,
   "metadata": {},
   "outputs": [],
   "source": []
  }
 ],
 "metadata": {
  "kernelspec": {
   "display_name": "info-3440",
   "language": "python",
   "name": "info-3440"
  },
  "language_info": {
   "codemirror_mode": {
    "name": "ipython",
    "version": 3
   },
   "file_extension": ".py",
   "mimetype": "text/x-python",
   "name": "python",
   "nbconvert_exporter": "python",
   "pygments_lexer": "ipython3",
   "version": "3.8.12"
  }
 },
 "nbformat": 4,
 "nbformat_minor": 4
}
