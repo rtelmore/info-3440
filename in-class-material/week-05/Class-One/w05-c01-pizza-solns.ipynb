{
 "cells": [
  {
   "cell_type": "markdown",
   "metadata": {},
   "source": [
    "## Week Five Class One: Pizza OM Book problem"
   ]
  },
  {
   "cell_type": "markdown",
   "metadata": {},
   "source": [
    "Begin by importing pandas and pyomo.environ using the aliases 'pd' and 'pe'"
   ]
  },
  {
   "cell_type": "code",
   "execution_count": 1,
   "metadata": {},
   "outputs": [],
   "source": [
    "import pandas as pd\n",
    "import pyomo.environ as pe"
   ]
  },
  {
   "cell_type": "markdown",
   "metadata": {},
   "source": [
    "## Import Data From Excel File"
   ]
  },
  {
   "cell_type": "markdown",
   "metadata": {},
   "source": [
    "Import the data from the excel file `w05-c01-covering-allocation.xlsx`. Make sure to import from the 'Pizza' sheet."
   ]
  },
  {
   "cell_type": "code",
   "execution_count": 2,
   "metadata": {},
   "outputs": [],
   "source": [
    "raw_data = pd.read_excel(\"w05-c01-covering-allocation.xlsx\", sheet_name = \"Pizza\") # Fill in the information"
   ]
  },
  {
   "cell_type": "markdown",
   "metadata": {},
   "source": [
    "## Define the Decision Variable Indexes (Names)"
   ]
  },
  {
   "cell_type": "code",
   "execution_count": 3,
   "metadata": {},
   "outputs": [],
   "source": [
    "DV_indexes = ['plain', 'meat', 'veggie','supreme']"
   ]
  },
  {
   "cell_type": "markdown",
   "metadata": {},
   "source": [
    "## Define a coef DataFrame"
   ]
  },
  {
   "cell_type": "markdown",
   "metadata": {},
   "source": [
    "Create a dataframe 'coef' to hold the coefficients of the objective function (revenue) and the LHS of the ingredient constraints. "
   ]
  },
  {
   "cell_type": "code",
   "execution_count": 4,
   "metadata": {},
   "outputs": [
    {
     "data": {
      "text/html": [
       "<div>\n",
       "<style scoped>\n",
       "    .dataframe tbody tr th:only-of-type {\n",
       "        vertical-align: middle;\n",
       "    }\n",
       "\n",
       "    .dataframe tbody tr th {\n",
       "        vertical-align: top;\n",
       "    }\n",
       "\n",
       "    .dataframe thead th {\n",
       "        text-align: right;\n",
       "    }\n",
       "</style>\n",
       "<table border=\"1\" class=\"dataframe\">\n",
       "  <thead>\n",
       "    <tr style=\"text-align: right;\">\n",
       "      <th></th>\n",
       "      <th>Decision variables (pizza types)</th>\n",
       "      <th>Unnamed: 1</th>\n",
       "      <th>Unnamed: 2</th>\n",
       "      <th>Unnamed: 3</th>\n",
       "      <th>Unnamed: 4</th>\n",
       "      <th>Unnamed: 5</th>\n",
       "      <th>Unnamed: 6</th>\n",
       "      <th>Unnamed: 7</th>\n",
       "      <th>Unnamed: 8</th>\n",
       "      <th>Unnamed: 9</th>\n",
       "    </tr>\n",
       "  </thead>\n",
       "  <tbody>\n",
       "    <tr>\n",
       "      <th>0</th>\n",
       "      <td>NaN</td>\n",
       "      <td>plain</td>\n",
       "      <td>meat</td>\n",
       "      <td>veggie</td>\n",
       "      <td>supreme</td>\n",
       "      <td>NaN</td>\n",
       "      <td>NaN</td>\n",
       "      <td>NaN</td>\n",
       "      <td>NaN</td>\n",
       "      <td>NaN</td>\n",
       "    </tr>\n",
       "    <tr>\n",
       "      <th>1</th>\n",
       "      <td>NaN</td>\n",
       "      <td>0</td>\n",
       "      <td>10</td>\n",
       "      <td>0</td>\n",
       "      <td>20</td>\n",
       "      <td>NaN</td>\n",
       "      <td>NaN</td>\n",
       "      <td>NaN</td>\n",
       "      <td>NaN</td>\n",
       "      <td>NaN</td>\n",
       "    </tr>\n",
       "    <tr>\n",
       "      <th>2</th>\n",
       "      <td>NaN</td>\n",
       "      <td>NaN</td>\n",
       "      <td>NaN</td>\n",
       "      <td>NaN</td>\n",
       "      <td>NaN</td>\n",
       "      <td>NaN</td>\n",
       "      <td>NaN</td>\n",
       "      <td>NaN</td>\n",
       "      <td>NaN</td>\n",
       "      <td>NaN</td>\n",
       "    </tr>\n",
       "    <tr>\n",
       "      <th>3</th>\n",
       "      <td>Objective (maximize revenue)</td>\n",
       "      <td>NaN</td>\n",
       "      <td>NaN</td>\n",
       "      <td>NaN</td>\n",
       "      <td>NaN</td>\n",
       "      <td>NaN</td>\n",
       "      <td>value</td>\n",
       "      <td>NaN</td>\n",
       "      <td>NaN</td>\n",
       "      <td>NaN</td>\n",
       "    </tr>\n",
       "    <tr>\n",
       "      <th>4</th>\n",
       "      <td>NaN</td>\n",
       "      <td>8</td>\n",
       "      <td>10</td>\n",
       "      <td>12</td>\n",
       "      <td>15</td>\n",
       "      <td>NaN</td>\n",
       "      <td>400</td>\n",
       "      <td>NaN</td>\n",
       "      <td>NaN</td>\n",
       "      <td>NaN</td>\n",
       "    </tr>\n",
       "    <tr>\n",
       "      <th>5</th>\n",
       "      <td>NaN</td>\n",
       "      <td>NaN</td>\n",
       "      <td>NaN</td>\n",
       "      <td>NaN</td>\n",
       "      <td>NaN</td>\n",
       "      <td>NaN</td>\n",
       "      <td>NaN</td>\n",
       "      <td>NaN</td>\n",
       "      <td>NaN</td>\n",
       "      <td>NaN</td>\n",
       "    </tr>\n",
       "    <tr>\n",
       "      <th>6</th>\n",
       "      <td>Constraints</td>\n",
       "      <td>NaN</td>\n",
       "      <td>NaN</td>\n",
       "      <td>NaN</td>\n",
       "      <td>NaN</td>\n",
       "      <td>NaN</td>\n",
       "      <td>LHS</td>\n",
       "      <td>NaN</td>\n",
       "      <td>RHS</td>\n",
       "      <td>slack</td>\n",
       "    </tr>\n",
       "    <tr>\n",
       "      <th>7</th>\n",
       "      <td>dough</td>\n",
       "      <td>5</td>\n",
       "      <td>5</td>\n",
       "      <td>5</td>\n",
       "      <td>5</td>\n",
       "      <td>NaN</td>\n",
       "      <td>150</td>\n",
       "      <td>&lt;=</td>\n",
       "      <td>200</td>\n",
       "      <td>50</td>\n",
       "    </tr>\n",
       "    <tr>\n",
       "      <th>8</th>\n",
       "      <td>sauce</td>\n",
       "      <td>3</td>\n",
       "      <td>3</td>\n",
       "      <td>3</td>\n",
       "      <td>3</td>\n",
       "      <td>NaN</td>\n",
       "      <td>90</td>\n",
       "      <td>&lt;=</td>\n",
       "      <td>90</td>\n",
       "      <td>0</td>\n",
       "    </tr>\n",
       "    <tr>\n",
       "      <th>9</th>\n",
       "      <td>cheese</td>\n",
       "      <td>4</td>\n",
       "      <td>3</td>\n",
       "      <td>3</td>\n",
       "      <td>4</td>\n",
       "      <td>NaN</td>\n",
       "      <td>110</td>\n",
       "      <td>&lt;=</td>\n",
       "      <td>120</td>\n",
       "      <td>10</td>\n",
       "    </tr>\n",
       "    <tr>\n",
       "      <th>10</th>\n",
       "      <td>meat</td>\n",
       "      <td>0</td>\n",
       "      <td>3</td>\n",
       "      <td>0</td>\n",
       "      <td>2</td>\n",
       "      <td>NaN</td>\n",
       "      <td>70</td>\n",
       "      <td>&lt;=</td>\n",
       "      <td>75</td>\n",
       "      <td>5</td>\n",
       "    </tr>\n",
       "    <tr>\n",
       "      <th>11</th>\n",
       "      <td>veggies</td>\n",
       "      <td>0</td>\n",
       "      <td>0</td>\n",
       "      <td>3</td>\n",
       "      <td>2</td>\n",
       "      <td>NaN</td>\n",
       "      <td>40</td>\n",
       "      <td>&lt;=</td>\n",
       "      <td>40</td>\n",
       "      <td>0</td>\n",
       "    </tr>\n",
       "  </tbody>\n",
       "</table>\n",
       "</div>"
      ],
      "text/plain": [
       "   Decision variables (pizza types) Unnamed: 1 Unnamed: 2 Unnamed: 3  \\\n",
       "0                               NaN      plain       meat     veggie   \n",
       "1                               NaN          0         10          0   \n",
       "2                               NaN        NaN        NaN        NaN   \n",
       "3      Objective (maximize revenue)        NaN        NaN        NaN   \n",
       "4                               NaN          8         10         12   \n",
       "5                               NaN        NaN        NaN        NaN   \n",
       "6                       Constraints        NaN        NaN        NaN   \n",
       "7                             dough          5          5          5   \n",
       "8                             sauce          3          3          3   \n",
       "9                            cheese          4          3          3   \n",
       "10                             meat          0          3          0   \n",
       "11                          veggies          0          0          3   \n",
       "\n",
       "   Unnamed: 4  Unnamed: 5 Unnamed: 6 Unnamed: 7 Unnamed: 8 Unnamed: 9  \n",
       "0     supreme         NaN        NaN        NaN        NaN        NaN  \n",
       "1          20         NaN        NaN        NaN        NaN        NaN  \n",
       "2         NaN         NaN        NaN        NaN        NaN        NaN  \n",
       "3         NaN         NaN      value        NaN        NaN        NaN  \n",
       "4          15         NaN        400        NaN        NaN        NaN  \n",
       "5         NaN         NaN        NaN        NaN        NaN        NaN  \n",
       "6         NaN         NaN        LHS        NaN        RHS      slack  \n",
       "7           5         NaN        150         <=        200         50  \n",
       "8           3         NaN         90         <=         90          0  \n",
       "9           4         NaN        110         <=        120         10  \n",
       "10          2         NaN         70         <=         75          5  \n",
       "11          2         NaN         40         <=         40          0  "
      ]
     },
     "execution_count": 4,
     "metadata": {},
     "output_type": "execute_result"
    }
   ],
   "source": [
    "raw_data"
   ]
  },
  {
   "cell_type": "code",
   "execution_count": 5,
   "metadata": {},
   "outputs": [
    {
     "data": {
      "text/html": [
       "<div>\n",
       "<style scoped>\n",
       "    .dataframe tbody tr th:only-of-type {\n",
       "        vertical-align: middle;\n",
       "    }\n",
       "\n",
       "    .dataframe tbody tr th {\n",
       "        vertical-align: top;\n",
       "    }\n",
       "\n",
       "    .dataframe thead th {\n",
       "        text-align: right;\n",
       "    }\n",
       "</style>\n",
       "<table border=\"1\" class=\"dataframe\">\n",
       "  <thead>\n",
       "    <tr style=\"text-align: right;\">\n",
       "      <th></th>\n",
       "      <th>plain</th>\n",
       "      <th>meat</th>\n",
       "      <th>veggie</th>\n",
       "      <th>supreme</th>\n",
       "    </tr>\n",
       "  </thead>\n",
       "  <tbody>\n",
       "    <tr>\n",
       "      <th>revenue</th>\n",
       "      <td>8</td>\n",
       "      <td>10</td>\n",
       "      <td>12</td>\n",
       "      <td>15</td>\n",
       "    </tr>\n",
       "    <tr>\n",
       "      <th>dough</th>\n",
       "      <td>5</td>\n",
       "      <td>5</td>\n",
       "      <td>5</td>\n",
       "      <td>5</td>\n",
       "    </tr>\n",
       "    <tr>\n",
       "      <th>sauce</th>\n",
       "      <td>3</td>\n",
       "      <td>3</td>\n",
       "      <td>3</td>\n",
       "      <td>3</td>\n",
       "    </tr>\n",
       "    <tr>\n",
       "      <th>cheese</th>\n",
       "      <td>4</td>\n",
       "      <td>3</td>\n",
       "      <td>3</td>\n",
       "      <td>4</td>\n",
       "    </tr>\n",
       "    <tr>\n",
       "      <th>meat</th>\n",
       "      <td>0</td>\n",
       "      <td>3</td>\n",
       "      <td>0</td>\n",
       "      <td>2</td>\n",
       "    </tr>\n",
       "    <tr>\n",
       "      <th>veggies</th>\n",
       "      <td>0</td>\n",
       "      <td>0</td>\n",
       "      <td>3</td>\n",
       "      <td>2</td>\n",
       "    </tr>\n",
       "  </tbody>\n",
       "</table>\n",
       "</div>"
      ],
      "text/plain": [
       "        plain meat veggie supreme\n",
       "revenue     8   10     12      15\n",
       "dough       5    5      5       5\n",
       "sauce       3    3      3       3\n",
       "cheese      4    3      3       4\n",
       "meat        0    3      0       2\n",
       "veggies     0    0      3       2"
      ]
     },
     "execution_count": 5,
     "metadata": {},
     "output_type": "execute_result"
    }
   ],
   "source": [
    "coef = pd.DataFrame(raw_data.iloc[[4, 7, 8, 9, 10, 11], 1:5])  #Fill in the missing indexes***\n",
    "coef.index = ['revenue', 'dough', 'sauce', 'cheese', 'meat', 'veggies']\n",
    "coef.columns = DV_indexes\n",
    "coef"
   ]
  },
  {
   "cell_type": "markdown",
   "metadata": {},
   "source": [
    "## Define a rhs DataFrame"
   ]
  },
  {
   "cell_type": "markdown",
   "metadata": {},
   "source": [
    "Next create a dataframe 'rhs' to hold the RHS of the constraints into their own dataframe. "
   ]
  },
  {
   "cell_type": "code",
   "execution_count": 6,
   "metadata": {},
   "outputs": [
    {
     "data": {
      "text/html": [
       "<div>\n",
       "<style scoped>\n",
       "    .dataframe tbody tr th:only-of-type {\n",
       "        vertical-align: middle;\n",
       "    }\n",
       "\n",
       "    .dataframe tbody tr th {\n",
       "        vertical-align: top;\n",
       "    }\n",
       "\n",
       "    .dataframe thead th {\n",
       "        text-align: right;\n",
       "    }\n",
       "</style>\n",
       "<table border=\"1\" class=\"dataframe\">\n",
       "  <thead>\n",
       "    <tr style=\"text-align: right;\">\n",
       "      <th></th>\n",
       "      <th>rhs</th>\n",
       "    </tr>\n",
       "  </thead>\n",
       "  <tbody>\n",
       "    <tr>\n",
       "      <th>dough</th>\n",
       "      <td>200</td>\n",
       "    </tr>\n",
       "    <tr>\n",
       "      <th>sauce</th>\n",
       "      <td>90</td>\n",
       "    </tr>\n",
       "    <tr>\n",
       "      <th>cheese</th>\n",
       "      <td>120</td>\n",
       "    </tr>\n",
       "    <tr>\n",
       "      <th>meat</th>\n",
       "      <td>75</td>\n",
       "    </tr>\n",
       "    <tr>\n",
       "      <th>veggies</th>\n",
       "      <td>40</td>\n",
       "    </tr>\n",
       "  </tbody>\n",
       "</table>\n",
       "</div>"
      ],
      "text/plain": [
       "         rhs\n",
       "dough    200\n",
       "sauce     90\n",
       "cheese   120\n",
       "meat      75\n",
       "veggies   40"
      ]
     },
     "execution_count": 6,
     "metadata": {},
     "output_type": "execute_result"
    }
   ],
   "source": [
    "rhs = pd.DataFrame(raw_data.iloc[7:12, 8]) #Fill in the missing indexes***\n",
    "rhs.index = coef.index[1:6]\n",
    "rhs.columns = ['rhs']\n",
    "rhs"
   ]
  },
  {
   "cell_type": "markdown",
   "metadata": {},
   "source": [
    "## Define the pyomo model"
   ]
  },
  {
   "cell_type": "markdown",
   "metadata": {},
   "source": [
    "First instantiate a ConcreteModel and store it in the variable `model`."
   ]
  },
  {
   "cell_type": "code",
   "execution_count": 7,
   "metadata": {},
   "outputs": [],
   "source": [
    "model = pe.ConcreteModel()"
   ]
  },
  {
   "cell_type": "markdown",
   "metadata": {},
   "source": [
    "## Define the pyomo Decision Variables"
   ]
  },
  {
   "cell_type": "markdown",
   "metadata": {},
   "source": [
    "Create a pyomo variable named `x` with domain of nonnegative of real numbers. Use the DV_indexes as the index for the variables. View the variables with `.pprint()`."
   ]
  },
  {
   "cell_type": "code",
   "execution_count": 8,
   "metadata": {},
   "outputs": [
    {
     "name": "stdout",
     "output_type": "stream",
     "text": [
      "x : Size=4, Index=x_index\n",
      "    Key     : Lower : Value : Upper : Fixed : Stale : Domain\n",
      "       meat :     0 :  None :  None : False :  True : NonNegativeReals\n",
      "      plain :     0 :  None :  None : False :  True : NonNegativeReals\n",
      "    supreme :     0 :  None :  None : False :  True : NonNegativeReals\n",
      "     veggie :     0 :  None :  None : False :  True : NonNegativeReals\n"
     ]
    }
   ],
   "source": [
    "model.x = pe.Var(DV_indexes, domain = pe.NonNegativeReals) #Fill in the missing decision variable information\n",
    "model.x.pprint()"
   ]
  },
  {
   "cell_type": "markdown",
   "metadata": {},
   "source": [
    "## Define the Objective Function"
   ]
  },
  {
   "cell_type": "markdown",
   "metadata": {},
   "source": [
    "Next define the objective function `obj` using the data in the `coef` dataframe.  This should maximize revenue. Double check that it matches the correct formula with `.pprint`."
   ]
  },
  {
   "cell_type": "code",
   "execution_count": 9,
   "metadata": {},
   "outputs": [
    {
     "name": "stdout",
     "output_type": "stream",
     "text": [
      "obj : Size=1, Index=None, Active=True\n",
      "    Key  : Active : Sense    : Expression\n",
      "    None :   True : maximize : 8*x[plain] + 10*x[meat] + 12*x[veggie] + 15*x[supreme]\n"
     ]
    }
   ],
   "source": [
    "model.obj = pe.Objective(expr = sum([coef.loc['revenue', i]*model.x[i] for i in DV_indexes]),  \n",
    "                         sense = pe.maximize)\n",
    "model.obj.pprint()"
   ]
  },
  {
   "cell_type": "markdown",
   "metadata": {},
   "source": [
    "Next we need to define the five constraints using the data in the `coef` and `rhs` dataframes. "
   ]
  },
  {
   "cell_type": "code",
   "execution_count": 10,
   "metadata": {},
   "outputs": [],
   "source": [
    "model.cons_dough = pe.Constraint(expr=sum([coef.loc['dough', i]*model.x[i] for i in DV_indexes]) <= rhs.loc['dough','rhs'])\n",
    "model.cons_sauce = pe.Constraint(expr=sum([coef.loc['sauce', i]*model.x[i] for i in DV_indexes]) <= rhs.loc['sauce','rhs'])\n",
    "model.cons_cheese = pe.Constraint(expr=sum([coef.loc['cheese', i]*model.x[i] for i in DV_indexes]) <= rhs.loc['cheese','rhs'])\n",
    "model.cons_meat = pe.Constraint(expr=sum([coef.loc['meat', i]*model.x[i] for i in DV_indexes]) <= rhs.loc['meat','rhs'])\n",
    "model.cons_veggies = pe.Constraint(expr=sum([coef.loc['veggies', i]*model.x[i] for i in DV_indexes]) <= rhs.loc['veggies','rhs'])"
   ]
  },
  {
   "cell_type": "markdown",
   "metadata": {},
   "source": [
    "Now before we do the final solve, display the entire model with `.pprint`."
   ]
  },
  {
   "cell_type": "code",
   "execution_count": 11,
   "metadata": {},
   "outputs": [
    {
     "name": "stdout",
     "output_type": "stream",
     "text": [
      "1 Set Declarations\n",
      "    x_index : Size=1, Index=None, Ordered=Insertion\n",
      "        Key  : Dimen : Domain : Size : Members\n",
      "        None :     1 :    Any :    4 : {'plain', 'meat', 'veggie', 'supreme'}\n",
      "\n",
      "1 Var Declarations\n",
      "    x : Size=4, Index=x_index\n",
      "        Key     : Lower : Value : Upper : Fixed : Stale : Domain\n",
      "           meat :     0 :  None :  None : False :  True : NonNegativeReals\n",
      "          plain :     0 :  None :  None : False :  True : NonNegativeReals\n",
      "        supreme :     0 :  None :  None : False :  True : NonNegativeReals\n",
      "         veggie :     0 :  None :  None : False :  True : NonNegativeReals\n",
      "\n",
      "1 Objective Declarations\n",
      "    obj : Size=1, Index=None, Active=True\n",
      "        Key  : Active : Sense    : Expression\n",
      "        None :   True : maximize : 8*x[plain] + 10*x[meat] + 12*x[veggie] + 15*x[supreme]\n",
      "\n",
      "5 Constraint Declarations\n",
      "    cons_cheese : Size=1, Index=None, Active=True\n",
      "        Key  : Lower : Body                                                : Upper : Active\n",
      "        None :  -Inf : 4*x[plain] + 3*x[meat] + 3*x[veggie] + 4*x[supreme] : 120.0 :   True\n",
      "    cons_dough : Size=1, Index=None, Active=True\n",
      "        Key  : Lower : Body                                                : Upper : Active\n",
      "        None :  -Inf : 5*x[plain] + 5*x[meat] + 5*x[veggie] + 5*x[supreme] : 200.0 :   True\n",
      "    cons_meat : Size=1, Index=None, Active=True\n",
      "        Key  : Lower : Body                     : Upper : Active\n",
      "        None :  -Inf : 3*x[meat] + 2*x[supreme] :  75.0 :   True\n",
      "    cons_sauce : Size=1, Index=None, Active=True\n",
      "        Key  : Lower : Body                                                : Upper : Active\n",
      "        None :  -Inf : 3*x[plain] + 3*x[meat] + 3*x[veggie] + 3*x[supreme] :  90.0 :   True\n",
      "    cons_veggies : Size=1, Index=None, Active=True\n",
      "        Key  : Lower : Body                       : Upper : Active\n",
      "        None :  -Inf : 3*x[veggie] + 2*x[supreme] :  40.0 :   True\n",
      "\n",
      "8 Declarations: x_index x obj cons_dough cons_sauce cons_cheese cons_meat cons_veggies\n"
     ]
    }
   ],
   "source": [
    "model.pprint()"
   ]
  },
  {
   "cell_type": "markdown",
   "metadata": {},
   "source": [
    "## Solve the model"
   ]
  },
  {
   "cell_type": "code",
   "execution_count": 12,
   "metadata": {},
   "outputs": [
    {
     "name": "stdout",
     "output_type": "stream",
     "text": [
      "GLPSOL: GLPK LP/MIP Solver, v4.65\n",
      "Parameter(s) specified in the command line:\n",
      " --write /var/folders/p8/y_pk7h153tld8fgnq6fz274r0000gn/T/tmpi1psh3d2.glpk.raw\n",
      " --wglp /var/folders/p8/y_pk7h153tld8fgnq6fz274r0000gn/T/tmp_17b8wu_.glpk.glp\n",
      " --cpxlp /var/folders/p8/y_pk7h153tld8fgnq6fz274r0000gn/T/tmp52tvt5m2.pyomo.lp\n",
      "Reading problem data from '/var/folders/p8/y_pk7h153tld8fgnq6fz274r0000gn/T/tmp52tvt5m2.pyomo.lp'...\n",
      "6 rows, 5 columns, 17 non-zeros\n",
      "51 lines were read\n",
      "Writing problem data to '/var/folders/p8/y_pk7h153tld8fgnq6fz274r0000gn/T/tmp_17b8wu_.glpk.glp'...\n",
      "41 lines were written\n",
      "GLPK Simplex Optimizer, v4.65\n",
      "6 rows, 5 columns, 17 non-zeros\n",
      "Preprocessing...\n",
      "5 rows, 4 columns, 16 non-zeros\n",
      "Scaling...\n",
      " A: min|aij| =  2.000e+00  max|aij| =  5.000e+00  ratio =  2.500e+00\n",
      "Problem data seem to be well scaled\n",
      "Constructing initial basis...\n",
      "Size of triangular part is 5\n",
      "*     0: obj =  -0.000000000e+00 inf =   0.000e+00 (4)\n",
      "*     2: obj =   4.000000000e+02 inf =   0.000e+00 (0)\n",
      "OPTIMAL LP SOLUTION FOUND\n",
      "Time used:   0.0 secs\n",
      "Memory used: 0.0 Mb (40448 bytes)\n",
      "Writing basic solution to '/var/folders/p8/y_pk7h153tld8fgnq6fz274r0000gn/T/tmpi1psh3d2.glpk.raw'...\n",
      "20 lines were written\n"
     ]
    }
   ],
   "source": [
    "opt = pe.SolverFactory('glpk')\n",
    "success = opt.solve(model, tee=True)"
   ]
  },
  {
   "cell_type": "code",
   "execution_count": 13,
   "metadata": {},
   "outputs": [
    {
     "name": "stdout",
     "output_type": "stream",
     "text": [
      "\n",
      "Problem: \n",
      "- Name: unknown\n",
      "  Lower bound: 400.0\n",
      "  Upper bound: 400.0\n",
      "  Number of objectives: 1\n",
      "  Number of constraints: 6\n",
      "  Number of variables: 5\n",
      "  Number of nonzeros: 17\n",
      "  Sense: maximize\n",
      "Solver: \n",
      "- Status: ok\n",
      "  Termination condition: optimal\n",
      "  Statistics: \n",
      "    Branch and bound: \n",
      "      Number of bounded subproblems: 0\n",
      "      Number of created subproblems: 0\n",
      "  Error rc: 0\n",
      "  Time: 0.016948938369750977\n",
      "Solution: \n",
      "- number of solutions: 0\n",
      "  number of solutions displayed: 0\n",
      "\n"
     ]
    }
   ],
   "source": [
    "print(success)"
   ]
  },
  {
   "cell_type": "markdown",
   "metadata": {},
   "source": [
    "## View the Final Model Obj Function and Dec Variables"
   ]
  },
  {
   "cell_type": "markdown",
   "metadata": {},
   "source": [
    "Now display the parts of the model solution. First, by outputting the objective function and Decision variables for the optimal solution."
   ]
  },
  {
   "cell_type": "code",
   "execution_count": 14,
   "metadata": {},
   "outputs": [
    {
     "name": "stdout",
     "output_type": "stream",
     "text": [
      "optimal objective value maximum profit = $400.00\n"
     ]
    },
    {
     "data": {
      "text/html": [
       "<div>\n",
       "<style scoped>\n",
       "    .dataframe tbody tr th:only-of-type {\n",
       "        vertical-align: middle;\n",
       "    }\n",
       "\n",
       "    .dataframe tbody tr th {\n",
       "        vertical-align: top;\n",
       "    }\n",
       "\n",
       "    .dataframe thead th {\n",
       "        text-align: right;\n",
       "    }\n",
       "</style>\n",
       "<table border=\"1\" class=\"dataframe\">\n",
       "  <thead>\n",
       "    <tr style=\"text-align: right;\">\n",
       "      <th></th>\n",
       "      <th>DV</th>\n",
       "      <th>Value</th>\n",
       "    </tr>\n",
       "  </thead>\n",
       "  <tbody>\n",
       "    <tr>\n",
       "      <th>0</th>\n",
       "      <td>plain</td>\n",
       "      <td>0.0</td>\n",
       "    </tr>\n",
       "    <tr>\n",
       "      <th>1</th>\n",
       "      <td>meat</td>\n",
       "      <td>10.0</td>\n",
       "    </tr>\n",
       "    <tr>\n",
       "      <th>2</th>\n",
       "      <td>veggie</td>\n",
       "      <td>0.0</td>\n",
       "    </tr>\n",
       "    <tr>\n",
       "      <th>3</th>\n",
       "      <td>supreme</td>\n",
       "      <td>20.0</td>\n",
       "    </tr>\n",
       "  </tbody>\n",
       "</table>\n",
       "</div>"
      ],
      "text/plain": [
       "        DV  Value\n",
       "0    plain    0.0\n",
       "1     meat   10.0\n",
       "2   veggie    0.0\n",
       "3  supreme   20.0"
      ]
     },
     "execution_count": 14,
     "metadata": {},
     "output_type": "execute_result"
    }
   ],
   "source": [
    "obj_val = model.obj.expr()\n",
    "print(f'optimal objective value maximum profit = ${obj_val:.2f}')\n",
    "\n",
    "DV = []  # create an empty list to store decision variables\n",
    "for index in DV_indexes:\n",
    "    DV.append(round(model.x[index].value, 3))\n",
    "pd.DataFrame({'DV':DV_indexes,\n",
    "             'Value':DV})"
   ]
  },
  {
   "cell_type": "markdown",
   "metadata": {},
   "source": [
    "## View the Slack"
   ]
  },
  {
   "cell_type": "markdown",
   "metadata": {},
   "source": [
    "Print the slack in each constraint.  Do these match the Excel output?"
   ]
  },
  {
   "cell_type": "code",
   "execution_count": 15,
   "metadata": {},
   "outputs": [
    {
     "name": "stdout",
     "output_type": "stream",
     "text": [
      "Dough slack = 50.0\n",
      "Cheese slack = 10.0\n",
      "Veggie slack = 0.0\n",
      "Sauce slack = 0.0\n",
      "Meat slack = 5.0\n"
     ]
    }
   ],
   "source": [
    "print(f'Dough slack = {model.cons_dough.slack()}')\n",
    "print(f'Cheese slack = {model.cons_cheese.slack()}')\n",
    "print(f'Veggie slack = {model.cons_veggies.slack()}')\n",
    "print(f'Sauce slack = {model.cons_sauce.slack()}')\n",
    "print(f'Meat slack = {model.cons_meat.slack()}')\n",
    "\n",
    "# Fill in the rest of the constraints slack\n",
    "\n"
   ]
  },
  {
   "cell_type": "markdown",
   "metadata": {},
   "source": [
    "## View the final LHS values"
   ]
  },
  {
   "cell_type": "markdown",
   "metadata": {},
   "source": [
    "Also examine the final values for the LHS for each constraint. The \"Body\" is the final value. Do these match the Excel output?"
   ]
  },
  {
   "cell_type": "code",
   "execution_count": 16,
   "metadata": {},
   "outputs": [
    {
     "name": "stdout",
     "output_type": "stream",
     "text": [
      "cons_dough : Size=1\n",
      "    Key  : Lower : Body  : Upper\n",
      "    None :  None : 150.0 : 200.0\n",
      "cons_cheese : Size=1\n",
      "    Key  : Lower : Body  : Upper\n",
      "    None :  None : 110.0 : 120.0\n",
      "cons_veggies : Size=1\n",
      "    Key  : Lower : Body : Upper\n",
      "    None :  None : 40.0 :  40.0\n",
      "cons_sauce : Size=1\n",
      "    Key  : Lower : Body : Upper\n",
      "    None :  None : 90.0 :  90.0\n",
      "cons_meat : Size=1\n",
      "    Key  : Lower : Body : Upper\n",
      "    None :  None : 70.0 :  75.0\n"
     ]
    }
   ],
   "source": [
    "model.cons_dough.display()\n",
    "model.cons_cheese.display()\n",
    "model.cons_veggies.display()\n",
    "model.cons_sauce.display()\n",
    "model.cons_meat.display()"
   ]
  }
 ],
 "metadata": {
  "kernelspec": {
   "display_name": "info-3440",
   "language": "python",
   "name": "info-3440"
  },
  "language_info": {
   "codemirror_mode": {
    "name": "ipython",
    "version": 3
   },
   "file_extension": ".py",
   "mimetype": "text/x-python",
   "name": "python",
   "nbconvert_exporter": "python",
   "pygments_lexer": "ipython3",
   "version": "3.8.12"
  }
 },
 "nbformat": 4,
 "nbformat_minor": 4
}
