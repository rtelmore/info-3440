{
 "cells": [
  {
   "cell_type": "markdown",
   "metadata": {},
   "source": [
    "# Table of Contents<a id=\"Top\"></a>\n",
    "\n",
    "1. [Problem Statement](#1)<br>\n",
    "2. [Data](#2) <br>\n",
    "3. [Model Definition](#3)<br>\n",
    "4. [Model Solution](#4)<br>\n",
    "5. [Sensitivity Analysis](#5)<br>\n",
    "    5.1 [TUC - ATL](#5.1)<br>"
   ]
  },
  {
   "cell_type": "markdown",
   "metadata": {},
   "source": [
    "# 1. Problem Statement<a id=1></a>"
   ]
  },
  {
   "cell_type": "markdown",
   "metadata": {},
   "source": [
    "This problem is one of our first network problem examples from Example 3.1 in the textbook. Recall that the problem is related to shipping from plants to warehouses with the follong capacity and requirement constraints. Our goal is to minimize the costs. "
   ]
  },
  {
   "cell_type": "markdown",
   "metadata": {},
   "source": [
    "If you have the figure `problem.png` in the same folder as this .ipynb, you can see the picture that uses this code: `![Table of Data](problem.png)`"
   ]
  },
  {
   "cell_type": "markdown",
   "metadata": {},
   "source": [
    "![Table of Data](problem.png)"
   ]
  },
  {
   "cell_type": "markdown",
   "metadata": {},
   "source": [
    "##### [Back to Top](#Top)"
   ]
  },
  {
   "cell_type": "markdown",
   "metadata": {},
   "source": [
    "# 2. Data<a id=2></a>"
   ]
  },
  {
   "cell_type": "code",
   "execution_count": null,
   "metadata": {},
   "outputs": [],
   "source": [
    "import pandas as pd \n",
    "import pyomo.environ as pe\n",
    "import matplotlib.pyplot as plt\n",
    "import seaborn as sns"
   ]
  },
  {
   "cell_type": "markdown",
   "metadata": {},
   "source": [
    "### Read and convert data"
   ]
  },
  {
   "cell_type": "markdown",
   "metadata": {},
   "source": [
    "The first sheet in the excel file `w05-c02-transportation.xlsx` contains the problem setup and solution to this linear program. There are also 2 additional sheets: `coef` and `rhs` that hold the data needed to create the objective function and constraints. The `index_col=0` tells it to use the first row (remember the first row is index 0) as column headers. The `usecols` tells it what columns to import. Remember the first column index is 0. Use tab in the pd.read_excel() function see the different options. Note that we will use the `pd.ExcelFile` to read in the file and then extract sheets individually in the code cell after reading the Excel file."
   ]
  },
  {
   "cell_type": "code",
   "execution_count": null,
   "metadata": {},
   "outputs": [],
   "source": [
    "xlsx_file = pd.ExcelFile('w05-c02-transportation.xlsx')\n",
    "xlsx_file.sheet_names"
   ]
  },
  {
   "cell_type": "markdown",
   "metadata": {},
   "source": [
    "Show the tab and shift-tab tricks. "
   ]
  },
  {
   "cell_type": "code",
   "execution_count": null,
   "metadata": {},
   "outputs": [],
   "source": [
    "cost = pd.read_excel(xlsx_file, sheet_name = 'coef', index_col = 0)\n",
    "cost"
   ]
  },
  {
   "cell_type": "code",
   "execution_count": null,
   "metadata": {},
   "outputs": [],
   "source": [
    "demand = pd.read_excel(xlsx_file, sheet_name = 'rhs', index_col = 0, usecols = [0,1])\n",
    "capacity = pd.read_excel(xlsx_file, sheet_name = 'rhs', index_col = 0, \n",
    "                         usecols = [3,4], nrows = 3)"
   ]
  },
  {
   "cell_type": "code",
   "execution_count": null,
   "metadata": {},
   "outputs": [],
   "source": [
    "demand"
   ]
  },
  {
   "cell_type": "code",
   "execution_count": null,
   "metadata": {},
   "outputs": [],
   "source": [
    "capacity"
   ]
  },
  {
   "cell_type": "markdown",
   "metadata": {},
   "source": [
    "##### [Back to Top](#Top)"
   ]
  },
  {
   "cell_type": "markdown",
   "metadata": {},
   "source": [
    "# 3. Model Definition<a id=3><a>"
   ]
  },
  {
   "cell_type": "code",
   "execution_count": null,
   "metadata": {},
   "outputs": [],
   "source": [
    "model = pe.ConcreteModel()"
   ]
  },
  {
   "cell_type": "markdown",
   "metadata": {},
   "source": [
    "### Define Decision Variables"
   ]
  },
  {
   "cell_type": "markdown",
   "metadata": {},
   "source": [
    "We will create three plant variables with individual indexes for the four warehouses. "
   ]
  },
  {
   "cell_type": "code",
   "execution_count": null,
   "metadata": {},
   "outputs": [],
   "source": [
    "DV_indexes = ['ATL', 'BOS', 'CHI', 'DEN']\n",
    "model.MIN = pe.Var(DV_indexes, domain = pe.NonNegativeReals)\n",
    "model.PIT = pe.Var(DV_indexes, domain = pe.NonNegativeReals)\n",
    "model.TUC = pe.Var(DV_indexes, domain = pe.NonNegativeReals)\n",
    "model.pprint()"
   ]
  },
  {
   "cell_type": "markdown",
   "metadata": {},
   "source": [
    "### Define Objective Function"
   ]
  },
  {
   "cell_type": "markdown",
   "metadata": {},
   "source": [
    "Here we need to create a formula for all 12 decision variables. We loop through the warehouse indexes for each plant."
   ]
  },
  {
   "cell_type": "code",
   "execution_count": null,
   "metadata": {},
   "outputs": [],
   "source": [
    "model.obj = pe.Objective(expr = sum([cost.loc['MIN', index]*model.MIN[index] for index in DV_indexes] +\n",
    "                         [cost.loc['PIT', index]*model.PIT[index] for index in DV_indexes] +\n",
    "                         [cost.loc['TUC', index]*model.TUC[index] for index in DV_indexes]),\n",
    "                         sense = pe.minimize)"
   ]
  },
  {
   "cell_type": "code",
   "execution_count": null,
   "metadata": {},
   "outputs": [],
   "source": [
    "model.obj.pprint()"
   ]
  },
  {
   "cell_type": "markdown",
   "metadata": {},
   "source": [
    "### Define Constraints"
   ]
  },
  {
   "cell_type": "markdown",
   "metadata": {},
   "source": [
    "We finish defining the model by defining both the capacity and demand constraints."
   ]
  },
  {
   "cell_type": "code",
   "execution_count": null,
   "metadata": {},
   "outputs": [],
   "source": [
    "capacity.loc['PIT', 'Capacity']"
   ]
  },
  {
   "cell_type": "code",
   "execution_count": null,
   "metadata": {},
   "outputs": [],
   "source": [
    "#Capacity Constraints\n",
    "model.con_MIN = pe.Constraint(expr = sum([model.MIN[index] for index in DV_indexes]) \n",
    "                              <= capacity.loc['MIN','Capacity'])\n",
    "model.con_PIT = pe.Constraint(expr = sum([model.PIT[index] for index in DV_indexes])\n",
    "                              <= capacity.loc['PIT','Capacity'])\n",
    "model.con_TUC = pe.Constraint(expr = sum([model.TUC[index] for index in DV_indexes])\n",
    "                              <= capacity.loc['TUC','Capacity'])   \n",
    "#Demand Constraints\n",
    "model.con_ATL = pe.Constraint(expr = model.MIN['ATL'] + model.PIT['ATL']+ \n",
    "                              model.TUC['ATL'] >= demand.loc['ATL', 'Requirement'])\n",
    "model.con_BOS = pe.Constraint(expr = model.MIN['BOS'] + model.PIT['BOS']+ \n",
    "                              model.TUC['BOS'] >= demand.loc['BOS', 'Requirement'])\n",
    "model.con_CHI = pe.Constraint(expr = model.MIN['CHI'] + model.PIT['CHI']+ \n",
    "                              model.TUC['CHI'] >= demand.loc['CHI', 'Requirement'])\n",
    "model.con_DEN = pe.Constraint(expr = model.MIN['DEN'] + model.PIT['DEN']+ \n",
    "                              model.TUC['DEN'] >= demand.loc['DEN', 'Requirement'])"
   ]
  },
  {
   "cell_type": "code",
   "execution_count": null,
   "metadata": {},
   "outputs": [],
   "source": [
    "model.con_MIN.pprint()"
   ]
  },
  {
   "cell_type": "markdown",
   "metadata": {},
   "source": [
    "##### [Back to Top](#Top)"
   ]
  },
  {
   "cell_type": "markdown",
   "metadata": {},
   "source": [
    "# 4. Model Solution<a id=4></a>"
   ]
  },
  {
   "cell_type": "code",
   "execution_count": null,
   "metadata": {},
   "outputs": [],
   "source": [
    "opt = pe.SolverFactory('glpk')\n",
    "result = opt.solve(model, tee = False)\n",
    "print(result.solver.status, result.solver.termination_condition)"
   ]
  },
  {
   "cell_type": "markdown",
   "metadata": {},
   "source": [
    "And here we show the final values for the model shown in the constraints as `Body`.\n",
    "Note we can see the final values for our demand and capacity constraints. All of our lhs values are at the bounds so are binding constraints except for capacity constraint 3 which had a final value of 14,000 but the capacity is 15,000 so it had a slack of 1,000 units."
   ]
  },
  {
   "cell_type": "code",
   "execution_count": null,
   "metadata": {},
   "outputs": [],
   "source": [
    "model.display()"
   ]
  },
  {
   "cell_type": "markdown",
   "metadata": {},
   "source": [
    "The above shows us all the information all at once. Let's pull out the optimal minimum cost and the final value of the decision variables."
   ]
  },
  {
   "cell_type": "markdown",
   "metadata": {},
   "source": [
    "#### Optimal Objective Value"
   ]
  },
  {
   "cell_type": "code",
   "execution_count": null,
   "metadata": {},
   "outputs": [],
   "source": [
    "obj_val = model.obj.expr()\n",
    "print(f'optimal objective value minimum cost = ${obj_val:.2f}')"
   ]
  },
  {
   "cell_type": "markdown",
   "metadata": {},
   "source": [
    "#### Optimal Decision Variables"
   ]
  },
  {
   "cell_type": "markdown",
   "metadata": {},
   "source": [
    "In order to capture the results, we have to use new code to reference the 3 variable names - `model.component_objects(pe.Var)` and each set of indexes. We can use looping to pull out the values. "
   ]
  },
  {
   "cell_type": "code",
   "execution_count": null,
   "metadata": {},
   "outputs": [],
   "source": [
    "for DV in model.component_objects(pe.Var):\n",
    "    print(DV)\n",
    "    for var in DV:\n",
    "        print(\" \", var, DV[var].value)"
   ]
  },
  {
   "cell_type": "markdown",
   "metadata": {},
   "source": [
    "Let's do create a `pd.DataFrame` to store the results of our solution. "
   ]
  },
  {
   "cell_type": "code",
   "execution_count": null,
   "metadata": {},
   "outputs": [],
   "source": [
    "DV_solution = pd.DataFrame()\n",
    "for DV in model.component_objects(pe.Var):\n",
    "    for var in DV:\n",
    "        DV_solution.loc[DV.name, var] = DV[var].value\n",
    "DV_solution"
   ]
  },
  {
   "cell_type": "code",
   "execution_count": null,
   "metadata": {},
   "outputs": [],
   "source": [
    "DV_solution.plot(kind = 'barh')\n",
    "plt.title(\"Transportation Decision Variables\")\n",
    "plt.xlabel('Quantity')\n",
    "plt.show()"
   ]
  },
  {
   "cell_type": "markdown",
   "metadata": {},
   "source": [
    "I would like us to use more `pandas` and `seaborn` type work, so an alternative to doing what we did above would be to melt the dataframe and then use `seaborn` to plot the bars. "
   ]
  },
  {
   "cell_type": "code",
   "execution_count": null,
   "metadata": {},
   "outputs": [],
   "source": [
    "df = pd.melt(DV_solution)\n",
    "df"
   ]
  },
  {
   "cell_type": "code",
   "execution_count": null,
   "metadata": {},
   "outputs": [],
   "source": [
    "[idx for idx in DV_solution.index]*3"
   ]
  },
  {
   "cell_type": "code",
   "execution_count": null,
   "metadata": {},
   "outputs": [],
   "source": [
    "df['plant'] = [idx for idx in DV_solution.index]*4\n",
    "df"
   ]
  },
  {
   "cell_type": "code",
   "execution_count": null,
   "metadata": {},
   "outputs": [],
   "source": [
    "[idx for idx in DV_solution.index for i in range(4)]"
   ]
  },
  {
   "cell_type": "markdown",
   "metadata": {},
   "source": [
    "Here we create a plot of the Decision Variables solution."
   ]
  },
  {
   "cell_type": "code",
   "execution_count": null,
   "metadata": {},
   "outputs": [],
   "source": [
    "plt.figure(figsize = (8, 5))\n",
    "sns.barplot(x = 'plant', y = 'value', hue = 'variable', data = df)\n",
    "plt.grid()\n",
    "plt.legend(title = \"Warehouse\")\n",
    "plt.show()"
   ]
  },
  {
   "cell_type": "markdown",
   "metadata": {},
   "source": [
    "We can use similar syntax to pull out all the constraints final lhs values and see the slack."
   ]
  },
  {
   "cell_type": "code",
   "execution_count": null,
   "metadata": {},
   "outputs": [],
   "source": [
    "for con in model.component_objects(pe.Constraint):\n",
    "    print(con, con.body())"
   ]
  },
  {
   "cell_type": "code",
   "execution_count": null,
   "metadata": {},
   "outputs": [],
   "source": [
    "for con in model.component_objects(pe.Constraint):\n",
    "    print(con, con.slack())"
   ]
  },
  {
   "cell_type": "markdown",
   "metadata": {},
   "source": [
    "##### [Back to Top](#Top)"
   ]
  },
  {
   "cell_type": "markdown",
   "metadata": {},
   "source": [
    "# 5. Sensitivity Analysis<a id=5></a>"
   ]
  },
  {
   "cell_type": "markdown",
   "metadata": {},
   "source": [
    "In this section, we are going to have to write a bit of code to do a little more advanced sensitivity analysis. Make sure you can follow the model set up up above for sure for now, and then see what you can follow below."
   ]
  },
  {
   "cell_type": "markdown",
   "metadata": {},
   "source": [
    "In the original problem, one of the highest costs is for Tucson to Atlanta and Tuscon to Boston at .65 and .68. Let's try to manually change the cost for these paths (represented by `cost.loc['TUC','ATL']` and `cost.loc['TUC','BOS']` below) to a range of values between .55 amd .68. Once we update the cost, we just re-solve the model and save the results to the following lists: `DV_list_ta` holds the Decision Variables, `obj_list_ta` holds the objective function values.\n",
    "\n",
    "But first, let's make things easy on ourselves and create a function to run the model. We'll call it `run_model`. FYI, don't make functions until you are sure that all the code works outside of the function!"
   ]
  },
  {
   "cell_type": "code",
   "execution_count": null,
   "metadata": {},
   "outputs": [],
   "source": [
    "def run_model():\n",
    "    #Function to run the model \n",
    "    \n",
    "    #This just runs the model as we defined it above\n",
    "    model = pe.ConcreteModel()\n",
    "    #Decision Variables\n",
    "    DV_indexes = ['ATL', 'BOS', 'CHI', 'DEN']\n",
    "    model.MIN = pe.Var(DV_indexes, domain = pe.NonNegativeReals)\n",
    "    model.PIT = pe.Var(DV_indexes, domain = pe.NonNegativeReals)\n",
    "    model.TUC = pe.Var(DV_indexes, domain = pe.NonNegativeReals)\n",
    "    #Objective Function\n",
    "    model.obj = pe.Objective(expr = sum([cost.loc['MIN', index]*model.MIN[index] for index in DV_indexes] +\n",
    "                             [cost.loc['PIT', index]*model.PIT[index] for index in DV_indexes] +\n",
    "                             [cost.loc['TUC', index]*model.TUC[index] for index in DV_indexes]),\n",
    "                             sense = pe.minimize)\n",
    "    #Capacity Constraints\n",
    "    model.con_MIN = pe.Constraint(expr = sum(model.MIN[index] for index in DV_indexes) \n",
    "                                  <= capacity.loc['MIN','Capacity'])\n",
    "    model.con_PIT = pe.Constraint(expr = sum(model.PIT[index] for index in DV_indexes)\n",
    "                                  <= capacity.loc['PIT','Capacity'])\n",
    "    model.con_TUC = pe.Constraint(expr = sum(model.TUC[index] for index in DV_indexes)\n",
    "                                  <= capacity.loc['TUC','Capacity'])   \n",
    "    #Demand Constraints\n",
    "    model.con_ATL = pe.Constraint(expr = model.MIN['ATL'] + model.PIT['ATL']+ \n",
    "                                  model.TUC['ATL'] >= demand.loc['ATL','Requirement'])\n",
    "    model.con_BOS = pe.Constraint(expr = model.MIN['BOS'] + model.PIT['BOS']+ \n",
    "                                  model.TUC['BOS'] >= demand.loc['BOS','Requirement'])\n",
    "    model.con_CHI = pe.Constraint(expr = model.MIN['CHI'] + model.PIT['CHI']+ \n",
    "                                  model.TUC['CHI'] >= demand.loc['CHI','Requirement'])\n",
    "    model.con_DEN = pe.Constraint(expr = model.MIN['DEN'] + model.PIT['DEN']+ \n",
    "                                  model.TUC['DEN'] >= demand.loc['DEN','Requirement'])\n",
    "    opt = pe.SolverFactory('glpk')\n",
    "    opt.solve(model, tee=False) #solve model and supress output\n",
    "    \n",
    "    #Once we solve the model we return the model object so we can get the optimal obj function value\n",
    "    return model"
   ]
  },
  {
   "cell_type": "markdown",
   "metadata": {},
   "source": [
    "## 5.1 TUC-ATL<a id=5.1></a>"
   ]
  },
  {
   "cell_type": "markdown",
   "metadata": {},
   "source": [
    "Here is the original cost table just to remind us."
   ]
  },
  {
   "cell_type": "code",
   "execution_count": null,
   "metadata": {},
   "outputs": [],
   "source": [
    "cost"
   ]
  },
  {
   "cell_type": "markdown",
   "metadata": {},
   "source": [
    "First we'll loop through all the costs from shipping from Tucson to Atlanta, re-solve the model, and capture the objective function optimal values. Let's think about why we are using these costs. Refer back to the sensitivity report in Excel and look at the allowable increase/decrease for these variables. "
   ]
  },
  {
   "cell_type": "code",
   "execution_count": null,
   "metadata": {},
   "outputs": [],
   "source": [
    "tuc_atl_costs = [(i + 60)/100 for i in list(range(0, 20))]\n",
    "tuc_atl_costs"
   ]
  },
  {
   "cell_type": "code",
   "execution_count": null,
   "metadata": {},
   "outputs": [],
   "source": [
    "obj_list_ta = []\n",
    "for val in tuc_atl_costs:\n",
    "    cost.loc['TUC', 'ATL'] = val\n",
    "    model = run_model()\n",
    "    obj_list_ta.append(model.obj.expr())\n",
    "obj_list_ta"
   ]
  },
  {
   "cell_type": "markdown",
   "metadata": {},
   "source": [
    "Let's make it look nicer and easier to see what is going on by storing the results in a dataframe changing the index to be the costs."
   ]
  },
  {
   "cell_type": "code",
   "execution_count": null,
   "metadata": {},
   "outputs": [],
   "source": [
    "obj_df_ta = pd.DataFrame(obj_list_ta, \n",
    "                         index = tuc_atl_costs, \n",
    "                         columns = ['cost'])\n",
    "obj_df_ta"
   ]
  },
  {
   "cell_type": "markdown",
   "metadata": {},
   "source": [
    "It might make sense to plot the results. The vertical line shows the original cost."
   ]
  },
  {
   "cell_type": "code",
   "execution_count": null,
   "metadata": {},
   "outputs": [],
   "source": [
    "obj_df_ta.plot()\n",
    "plt.title('Change in Obj Function by Tucson to Atlanta Cost')\n",
    "plt.axvline(x = .65, color = 'blue')\n",
    "plt.ylabel('Optimal Cost')\n",
    "plt.xlabel(\"Cost Tuc Atl\")\n",
    "plt.show() "
   ]
  },
  {
   "cell_type": "markdown",
   "metadata": {},
   "source": [
    "Let's make the same plot using `seaborn` rather than base `pandas` plot. First, I'm going to show a new function for \"merging\" two (or more) lists, the zip function."
   ]
  },
  {
   "cell_type": "code",
   "execution_count": null,
   "metadata": {},
   "outputs": [],
   "source": [
    "dict(zip(tuc_atl_costs, obj_list_ta))"
   ]
  },
  {
   "cell_type": "code",
   "execution_count": null,
   "metadata": {},
   "outputs": [],
   "source": [
    "zip_list = list(zip(tuc_atl_costs, obj_list_ta))\n",
    "zip_list"
   ]
  },
  {
   "cell_type": "code",
   "execution_count": null,
   "metadata": {},
   "outputs": [],
   "source": [
    "df = pd.DataFrame(zip_list, columns = ['TUC2ATL', 'Cost'])\n",
    "df"
   ]
  },
  {
   "cell_type": "code",
   "execution_count": null,
   "metadata": {},
   "outputs": [],
   "source": [
    "plt.figure(figsize = (8,5))\n",
    "sns.scatterplot(x = 'TUC2ATL', y = 'Cost', data = df)\n",
    "sns.lineplot(x = 'TUC2ATL', y = 'Cost', data = df)\n",
    "plt.grid()\n",
    "plt.axvline(x = .65, color = \"red\")\n",
    "plt.show()"
   ]
  },
  {
   "cell_type": "markdown",
   "metadata": {},
   "source": [
    "So what about the Decision variables? There are 12 for each model solution, we need to capture them a slightly different way. We'll put each solution in a list and then make a list of lists."
   ]
  },
  {
   "cell_type": "code",
   "execution_count": null,
   "metadata": {},
   "outputs": [],
   "source": [
    "DV_list_ta = []\n",
    "for val in tuc_atl_costs:\n",
    "    DV_curr_list_ta = []\n",
    "    cost.loc['TUC', 'ATL'] = val\n",
    "    model = run_model()\n",
    "    for DV in model.component_objects(pe.Var): #each origin\n",
    "        for c in DV: #each destination\n",
    "            DV_curr_list_ta.append(DV[c].value)\n",
    "    DV_list_ta.append(DV_curr_list_ta)\n",
    "print(DV_list_ta)"
   ]
  },
  {
   "cell_type": "markdown",
   "metadata": {},
   "source": [
    "Again, let's format this so it is easy to read."
   ]
  },
  {
   "cell_type": "code",
   "execution_count": null,
   "metadata": {},
   "outputs": [],
   "source": [
    "DV_col_names = ['M-A', 'M-B', 'M-C', 'M-D', 'P-A', 'P-B', 'P-C', 'P-D', 'T-A', 'T-B', 'T-C', 'T-D']\n",
    "DV_df_ta = pd.DataFrame(DV_list_ta,\n",
    "                        columns = DV_col_names)\n",
    "DV_df_ta['Costs'] = tuc_atl_costs\n",
    "DV_df_ta"
   ]
  },
  {
   "cell_type": "markdown",
   "metadata": {},
   "source": [
    "We'll finish looking at this data by creating a line plot to monitor the changes in the optimal DV over the different Tucson-Atlanta cost changes. So - this kinda works but we have too\n",
    "many decision variables it is hard to follow the colors."
   ]
  },
  {
   "cell_type": "code",
   "execution_count": null,
   "metadata": {},
   "outputs": [],
   "source": [
    "df = pd.melt(DV_df_ta, 'Costs')\n",
    "df"
   ]
  },
  {
   "cell_type": "code",
   "execution_count": null,
   "metadata": {},
   "outputs": [],
   "source": [
    "plt.figure(figsize=(8, 5))\n",
    "sns.lineplot(x = 'Costs', y = 'value', hue = 'variable', palette = sns.color_palette(\"Paired\"),\n",
    "             data = df)\n",
    "plt.grid()\n",
    "plt.title('Change in Decision Variables by Tucson to Atlanta Cost')\n",
    "plt.ylabel('units sent along each route')\n",
    "plt.legend(title = \"route\")\n",
    "plt.axvline(x = .65, color = \"black\")\n",
    "plt.show()"
   ]
  },
  {
   "cell_type": "markdown",
   "metadata": {},
   "source": [
    "For our final version, let's create a plot for each Plant's Decision Variables. Remember we stored the (Plant, Warehouse) pairs for the Decision Variables in the list `DV_col_names`. I will pull out just the ones that are needed for the specific Plant. For example, here we see the Tucson pairs."
   ]
  },
  {
   "cell_type": "code",
   "execution_count": null,
   "metadata": {},
   "outputs": [],
   "source": [
    "df['variable'].str[:1]"
   ]
  },
  {
   "cell_type": "code",
   "execution_count": null,
   "metadata": {},
   "outputs": [],
   "source": [
    "df['plants'] = df['variable'].str[:1]\n",
    "df"
   ]
  },
  {
   "cell_type": "code",
   "execution_count": null,
   "metadata": {},
   "outputs": [],
   "source": [
    "sns.set_style({'axes.grid' : True, 'axes.edgecolor' : 'black'})\n",
    "facet_plot = sns.FacetGrid(data = df, row = 'plants', hue = 'variable', height = 3, aspect = 2.5)\n",
    "facet_plot.map(sns.lineplot, 'Costs', 'value').add_legend()\n",
    "facet_plot.fig.subplots_adjust(top = 0.9)\n",
    "facet_plot.fig.suptitle('Change in Decision Variables by Tucson to Atlanta Cost')\n",
    "plt.show()"
   ]
  },
  {
   "cell_type": "markdown",
   "metadata": {},
   "source": [
    "From this plot and the table of values, we can see that reducing the cost on the (T,A) Tucson to Atlanta route from the original .65, we see more shipments on this route for the lower costs at .63 or below and the change seems to come from (P,A) PIT-ALT route. We can fix the overlapping labels later - but I'm going to leave it for now."
   ]
  },
  {
   "cell_type": "code",
   "execution_count": null,
   "metadata": {},
   "outputs": [],
   "source": [
    "print('python')"
   ]
  }
 ],
 "metadata": {
  "kernelspec": {
   "display_name": "info-3440",
   "language": "python",
   "name": "info-3440"
  },
  "language_info": {
   "codemirror_mode": {
    "name": "ipython",
    "version": 3
   },
   "file_extension": ".py",
   "mimetype": "text/x-python",
   "name": "python",
   "nbconvert_exporter": "python",
   "pygments_lexer": "ipython3",
   "version": "3.8.12"
  }
 },
 "nbformat": 4,
 "nbformat_minor": 4
}
