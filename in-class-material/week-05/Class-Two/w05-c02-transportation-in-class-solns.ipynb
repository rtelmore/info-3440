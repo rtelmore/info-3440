{
 "cells": [
  {
   "cell_type": "markdown",
   "metadata": {},
   "source": [
    "# Table of Contents<a id=\"Top\"></a>\n",
    "\n",
    "1. [Problem Statement](#1)<br>\n",
    "2. [Sensitivity Analysis](#5)<br>\n",
    "    2.1 [TUC - BOS](#5.2)<br>"
   ]
  },
  {
   "cell_type": "markdown",
   "metadata": {},
   "source": [
    "# 1. Problem Statement<a id=1></a>"
   ]
  },
  {
   "cell_type": "markdown",
   "metadata": {},
   "source": [
    "In this problem, we will consider a sensitivity analysis related to Tucson to Boston. Specifically, let's examine how changes in the cost per unit coefficient changes certain aspects of this optimization problem. This will be similar to the work that we did in class related to the Tucson to Atlanta route."
   ]
  },
  {
   "cell_type": "markdown",
   "metadata": {},
   "source": [
    "If you have the figure `problem.png` in the same folder as this .ipynb, you can see the picture that uses this code: `![Table of Data](problem.png)`"
   ]
  },
  {
   "cell_type": "markdown",
   "metadata": {},
   "source": [
    "![Table of Data](problem.png)"
   ]
  },
  {
   "cell_type": "markdown",
   "metadata": {},
   "source": [
    "##### [Back to Top](#Top)"
   ]
  },
  {
   "cell_type": "markdown",
   "metadata": {},
   "source": [
    "# 2. Data<a id=2></a>"
   ]
  },
  {
   "cell_type": "code",
   "execution_count": 1,
   "metadata": {},
   "outputs": [],
   "source": [
    "import pandas as pd \n",
    "import pyomo.environ as pe\n",
    "import matplotlib.pyplot as plt\n",
    "import seaborn as sns"
   ]
  },
  {
   "cell_type": "markdown",
   "metadata": {},
   "source": [
    "### Read and convert data"
   ]
  },
  {
   "cell_type": "code",
   "execution_count": 2,
   "metadata": {},
   "outputs": [
    {
     "data": {
      "text/plain": [
       "['Sensitivity Report 1', 'Transportation', 'coef', 'rhs']"
      ]
     },
     "execution_count": 2,
     "metadata": {},
     "output_type": "execute_result"
    }
   ],
   "source": [
    "xlsx_file = pd.ExcelFile('w05-c02-transportation.xlsx')\n",
    "xlsx_file.sheet_names"
   ]
  },
  {
   "cell_type": "markdown",
   "metadata": {},
   "source": [
    "Show the tab and shift-tab tricks. "
   ]
  },
  {
   "cell_type": "code",
   "execution_count": 3,
   "metadata": {},
   "outputs": [
    {
     "data": {
      "text/html": [
       "<div>\n",
       "<style scoped>\n",
       "    .dataframe tbody tr th:only-of-type {\n",
       "        vertical-align: middle;\n",
       "    }\n",
       "\n",
       "    .dataframe tbody tr th {\n",
       "        vertical-align: top;\n",
       "    }\n",
       "\n",
       "    .dataframe thead th {\n",
       "        text-align: right;\n",
       "    }\n",
       "</style>\n",
       "<table border=\"1\" class=\"dataframe\">\n",
       "  <thead>\n",
       "    <tr style=\"text-align: right;\">\n",
       "      <th></th>\n",
       "      <th>ATL</th>\n",
       "      <th>BOS</th>\n",
       "      <th>CHI</th>\n",
       "      <th>DEN</th>\n",
       "    </tr>\n",
       "  </thead>\n",
       "  <tbody>\n",
       "    <tr>\n",
       "      <th>MIN</th>\n",
       "      <td>0.60</td>\n",
       "      <td>0.56</td>\n",
       "      <td>0.22</td>\n",
       "      <td>0.40</td>\n",
       "    </tr>\n",
       "    <tr>\n",
       "      <th>PIT</th>\n",
       "      <td>0.36</td>\n",
       "      <td>0.30</td>\n",
       "      <td>0.28</td>\n",
       "      <td>0.58</td>\n",
       "    </tr>\n",
       "    <tr>\n",
       "      <th>TUC</th>\n",
       "      <td>0.65</td>\n",
       "      <td>0.68</td>\n",
       "      <td>0.55</td>\n",
       "      <td>0.42</td>\n",
       "    </tr>\n",
       "  </tbody>\n",
       "</table>\n",
       "</div>"
      ],
      "text/plain": [
       "      ATL   BOS   CHI   DEN\n",
       "MIN  0.60  0.56  0.22  0.40\n",
       "PIT  0.36  0.30  0.28  0.58\n",
       "TUC  0.65  0.68  0.55  0.42"
      ]
     },
     "execution_count": 3,
     "metadata": {},
     "output_type": "execute_result"
    }
   ],
   "source": [
    "cost = pd.read_excel(xlsx_file, sheet_name = 'coef', index_col = 0)\n",
    "cost"
   ]
  },
  {
   "cell_type": "code",
   "execution_count": 4,
   "metadata": {},
   "outputs": [],
   "source": [
    "demand = pd.read_excel(xlsx_file, sheet_name = 'rhs', index_col = 0, usecols = [0,1])\n",
    "capacity = pd.read_excel(xlsx_file, sheet_name = 'rhs', index_col = 0, \n",
    "                         usecols = [3,4], nrows = 3)"
   ]
  },
  {
   "cell_type": "code",
   "execution_count": 5,
   "metadata": {},
   "outputs": [
    {
     "data": {
      "text/html": [
       "<div>\n",
       "<style scoped>\n",
       "    .dataframe tbody tr th:only-of-type {\n",
       "        vertical-align: middle;\n",
       "    }\n",
       "\n",
       "    .dataframe tbody tr th {\n",
       "        vertical-align: top;\n",
       "    }\n",
       "\n",
       "    .dataframe thead th {\n",
       "        text-align: right;\n",
       "    }\n",
       "</style>\n",
       "<table border=\"1\" class=\"dataframe\">\n",
       "  <thead>\n",
       "    <tr style=\"text-align: right;\">\n",
       "      <th></th>\n",
       "      <th>Requirement</th>\n",
       "    </tr>\n",
       "    <tr>\n",
       "      <th>Warehouse</th>\n",
       "      <th></th>\n",
       "    </tr>\n",
       "  </thead>\n",
       "  <tbody>\n",
       "    <tr>\n",
       "      <th>ATL</th>\n",
       "      <td>8000</td>\n",
       "    </tr>\n",
       "    <tr>\n",
       "      <th>BOS</th>\n",
       "      <td>10000</td>\n",
       "    </tr>\n",
       "    <tr>\n",
       "      <th>CHI</th>\n",
       "      <td>12000</td>\n",
       "    </tr>\n",
       "    <tr>\n",
       "      <th>DEN</th>\n",
       "      <td>9000</td>\n",
       "    </tr>\n",
       "  </tbody>\n",
       "</table>\n",
       "</div>"
      ],
      "text/plain": [
       "           Requirement\n",
       "Warehouse             \n",
       "ATL               8000\n",
       "BOS              10000\n",
       "CHI              12000\n",
       "DEN               9000"
      ]
     },
     "execution_count": 5,
     "metadata": {},
     "output_type": "execute_result"
    }
   ],
   "source": [
    "demand"
   ]
  },
  {
   "cell_type": "code",
   "execution_count": 6,
   "metadata": {},
   "outputs": [
    {
     "data": {
      "text/html": [
       "<div>\n",
       "<style scoped>\n",
       "    .dataframe tbody tr th:only-of-type {\n",
       "        vertical-align: middle;\n",
       "    }\n",
       "\n",
       "    .dataframe tbody tr th {\n",
       "        vertical-align: top;\n",
       "    }\n",
       "\n",
       "    .dataframe thead th {\n",
       "        text-align: right;\n",
       "    }\n",
       "</style>\n",
       "<table border=\"1\" class=\"dataframe\">\n",
       "  <thead>\n",
       "    <tr style=\"text-align: right;\">\n",
       "      <th></th>\n",
       "      <th>Capacity</th>\n",
       "    </tr>\n",
       "    <tr>\n",
       "      <th>Plant</th>\n",
       "      <th></th>\n",
       "    </tr>\n",
       "  </thead>\n",
       "  <tbody>\n",
       "    <tr>\n",
       "      <th>MIN</th>\n",
       "      <td>10000</td>\n",
       "    </tr>\n",
       "    <tr>\n",
       "      <th>PIT</th>\n",
       "      <td>15000</td>\n",
       "    </tr>\n",
       "    <tr>\n",
       "      <th>TUC</th>\n",
       "      <td>15000</td>\n",
       "    </tr>\n",
       "  </tbody>\n",
       "</table>\n",
       "</div>"
      ],
      "text/plain": [
       "       Capacity\n",
       "Plant          \n",
       "MIN       10000\n",
       "PIT       15000\n",
       "TUC       15000"
      ]
     },
     "execution_count": 6,
     "metadata": {},
     "output_type": "execute_result"
    }
   ],
   "source": [
    "capacity"
   ]
  },
  {
   "cell_type": "markdown",
   "metadata": {},
   "source": [
    "##### [Back to Top](#Top)"
   ]
  },
  {
   "cell_type": "markdown",
   "metadata": {},
   "source": [
    "# 3. Model Definition<a id=3><a>"
   ]
  },
  {
   "cell_type": "code",
   "execution_count": 7,
   "metadata": {},
   "outputs": [],
   "source": [
    "model = pe.ConcreteModel()"
   ]
  },
  {
   "cell_type": "markdown",
   "metadata": {},
   "source": [
    "### Define Decision Variables"
   ]
  },
  {
   "cell_type": "markdown",
   "metadata": {},
   "source": [
    "We will create three plant variables with individual indexes for the four warehouses. "
   ]
  },
  {
   "cell_type": "code",
   "execution_count": 8,
   "metadata": {},
   "outputs": [
    {
     "name": "stdout",
     "output_type": "stream",
     "text": [
      "3 Set Declarations\n",
      "    MIN_index : Size=1, Index=None, Ordered=Insertion\n",
      "        Key  : Dimen : Domain : Size : Members\n",
      "        None :     1 :    Any :    4 : {'ATL', 'BOS', 'CHI', 'DEN'}\n",
      "    PIT_index : Size=1, Index=None, Ordered=Insertion\n",
      "        Key  : Dimen : Domain : Size : Members\n",
      "        None :     1 :    Any :    4 : {'ATL', 'BOS', 'CHI', 'DEN'}\n",
      "    TUC_index : Size=1, Index=None, Ordered=Insertion\n",
      "        Key  : Dimen : Domain : Size : Members\n",
      "        None :     1 :    Any :    4 : {'ATL', 'BOS', 'CHI', 'DEN'}\n",
      "\n",
      "3 Var Declarations\n",
      "    MIN : Size=4, Index=MIN_index\n",
      "        Key : Lower : Value : Upper : Fixed : Stale : Domain\n",
      "        ATL :     0 :  None :  None : False :  True : NonNegativeReals\n",
      "        BOS :     0 :  None :  None : False :  True : NonNegativeReals\n",
      "        CHI :     0 :  None :  None : False :  True : NonNegativeReals\n",
      "        DEN :     0 :  None :  None : False :  True : NonNegativeReals\n",
      "    PIT : Size=4, Index=PIT_index\n",
      "        Key : Lower : Value : Upper : Fixed : Stale : Domain\n",
      "        ATL :     0 :  None :  None : False :  True : NonNegativeReals\n",
      "        BOS :     0 :  None :  None : False :  True : NonNegativeReals\n",
      "        CHI :     0 :  None :  None : False :  True : NonNegativeReals\n",
      "        DEN :     0 :  None :  None : False :  True : NonNegativeReals\n",
      "    TUC : Size=4, Index=TUC_index\n",
      "        Key : Lower : Value : Upper : Fixed : Stale : Domain\n",
      "        ATL :     0 :  None :  None : False :  True : NonNegativeReals\n",
      "        BOS :     0 :  None :  None : False :  True : NonNegativeReals\n",
      "        CHI :     0 :  None :  None : False :  True : NonNegativeReals\n",
      "        DEN :     0 :  None :  None : False :  True : NonNegativeReals\n",
      "\n",
      "6 Declarations: MIN_index MIN PIT_index PIT TUC_index TUC\n"
     ]
    }
   ],
   "source": [
    "DV_indexes = ['ATL', 'BOS', 'CHI', 'DEN']\n",
    "model.MIN = pe.Var(DV_indexes, domain = pe.NonNegativeReals)\n",
    "model.PIT = pe.Var(DV_indexes, domain = pe.NonNegativeReals)\n",
    "model.TUC = pe.Var(DV_indexes, domain = pe.NonNegativeReals)\n",
    "model.pprint()"
   ]
  },
  {
   "cell_type": "markdown",
   "metadata": {},
   "source": [
    "### Define Objective Function"
   ]
  },
  {
   "cell_type": "markdown",
   "metadata": {},
   "source": [
    "Here we need to create a formula for all 12 decision variables. We loop through the warehouse indexes for each plant."
   ]
  },
  {
   "cell_type": "code",
   "execution_count": 9,
   "metadata": {},
   "outputs": [],
   "source": [
    "model.obj = pe.Objective(expr = sum([cost.loc['MIN', index]*model.MIN[index] for index in DV_indexes] +\n",
    "                         [cost.loc['PIT', index]*model.PIT[index] for index in DV_indexes] +\n",
    "                         [cost.loc['TUC', index]*model.TUC[index] for index in DV_indexes]),\n",
    "                         sense = pe.minimize)"
   ]
  },
  {
   "cell_type": "code",
   "execution_count": 10,
   "metadata": {},
   "outputs": [
    {
     "name": "stdout",
     "output_type": "stream",
     "text": [
      "obj : Size=1, Index=None, Active=True\n",
      "    Key  : Active : Sense    : Expression\n",
      "    None :   True : minimize : 0.6*MIN[ATL] + 0.56*MIN[BOS] + 0.22*MIN[CHI] + 0.4*MIN[DEN] + 0.36*PIT[ATL] + 0.3*PIT[BOS] + 0.28*PIT[CHI] + 0.58*PIT[DEN] + 0.65*TUC[ATL] + 0.68*TUC[BOS] + 0.55*TUC[CHI] + 0.42*TUC[DEN]\n"
     ]
    }
   ],
   "source": [
    "model.obj.pprint()"
   ]
  },
  {
   "cell_type": "markdown",
   "metadata": {},
   "source": [
    "### Define Constraints"
   ]
  },
  {
   "cell_type": "markdown",
   "metadata": {},
   "source": [
    "We finish defining the model by defining both the capacity and demand constraints."
   ]
  },
  {
   "cell_type": "code",
   "execution_count": 11,
   "metadata": {},
   "outputs": [],
   "source": [
    "#Capacity Constraints\n",
    "model.con_MIN = pe.Constraint(expr = sum(model.MIN[index] for index in DV_indexes) \n",
    "                              <= capacity.loc['MIN','Capacity'])\n",
    "model.con_PIT = pe.Constraint(expr = sum(model.PIT[index] for index in DV_indexes)\n",
    "                              <= capacity.loc['PIT','Capacity'])\n",
    "model.con_TUC = pe.Constraint(expr = sum(model.TUC[index] for index in DV_indexes)\n",
    "                              <= capacity.loc['TUC','Capacity'])   \n",
    "#Demand Constraints\n",
    "model.con_ATL = pe.Constraint(expr = model.MIN['ATL'] + model.PIT['ATL']+ \n",
    "                              model.TUC['ATL'] >= demand.loc['ATL','Requirement'])\n",
    "model.con_BOS = pe.Constraint(expr = model.MIN['BOS'] + model.PIT['BOS']+ \n",
    "                              model.TUC['BOS'] >= demand.loc['BOS','Requirement'])\n",
    "model.con_CHI = pe.Constraint(expr = model.MIN['CHI'] + model.PIT['CHI']+ \n",
    "                              model.TUC['CHI'] >= demand.loc['CHI','Requirement'])\n",
    "model.con_DEN = pe.Constraint(expr = model.MIN['DEN'] + model.PIT['DEN']+ \n",
    "                              model.TUC['DEN'] >= demand.loc['DEN','Requirement'])"
   ]
  },
  {
   "cell_type": "code",
   "execution_count": 12,
   "metadata": {},
   "outputs": [
    {
     "name": "stdout",
     "output_type": "stream",
     "text": [
      "con_MIN : Size=1, Index=None, Active=True\n",
      "    Key  : Lower : Body                                      : Upper   : Active\n",
      "    None :  -Inf : MIN[ATL] + MIN[BOS] + MIN[CHI] + MIN[DEN] : 10000.0 :   True\n"
     ]
    }
   ],
   "source": [
    "model.con_MIN.pprint()"
   ]
  },
  {
   "cell_type": "markdown",
   "metadata": {},
   "source": [
    "##### [Back to Top](#Top)"
   ]
  },
  {
   "cell_type": "markdown",
   "metadata": {},
   "source": [
    "# 4. Model Solution<a id=4></a>"
   ]
  },
  {
   "cell_type": "code",
   "execution_count": 13,
   "metadata": {},
   "outputs": [
    {
     "name": "stdout",
     "output_type": "stream",
     "text": [
      "ok optimal\n"
     ]
    }
   ],
   "source": [
    "opt = pe.SolverFactory('glpk')\n",
    "result = opt.solve(model)\n",
    "print(result.solver.status, result.solver.termination_condition)"
   ]
  },
  {
   "cell_type": "markdown",
   "metadata": {},
   "source": [
    "And here we show the final values for the model shown in the constraints as `Body`.\n",
    "Note we can see the final values for our demand and capacity constraints. All of our lhs values are at the bounds so are binding constraints except for capacity constraint 3 which had a final value of 14,000 but the capacity is 15,000 so it had a slack of 1,000 units."
   ]
  },
  {
   "cell_type": "code",
   "execution_count": 14,
   "metadata": {},
   "outputs": [
    {
     "name": "stdout",
     "output_type": "stream",
     "text": [
      "Model unknown\n",
      "\n",
      "  Variables:\n",
      "    MIN : Size=4, Index=MIN_index\n",
      "        Key : Lower : Value   : Upper : Fixed : Stale : Domain\n",
      "        ATL :     0 :     0.0 :  None : False : False : NonNegativeReals\n",
      "        BOS :     0 :     0.0 :  None : False : False : NonNegativeReals\n",
      "        CHI :     0 : 10000.0 :  None : False : False : NonNegativeReals\n",
      "        DEN :     0 :     0.0 :  None : False : False : NonNegativeReals\n",
      "    PIT : Size=4, Index=PIT_index\n",
      "        Key : Lower : Value   : Upper : Fixed : Stale : Domain\n",
      "        ATL :     0 :  5000.0 :  None : False : False : NonNegativeReals\n",
      "        BOS :     0 : 10000.0 :  None : False : False : NonNegativeReals\n",
      "        CHI :     0 :     0.0 :  None : False : False : NonNegativeReals\n",
      "        DEN :     0 :     0.0 :  None : False : False : NonNegativeReals\n",
      "    TUC : Size=4, Index=TUC_index\n",
      "        Key : Lower : Value  : Upper : Fixed : Stale : Domain\n",
      "        ATL :     0 : 3000.0 :  None : False : False : NonNegativeReals\n",
      "        BOS :     0 :    0.0 :  None : False : False : NonNegativeReals\n",
      "        CHI :     0 : 2000.0 :  None : False : False : NonNegativeReals\n",
      "        DEN :     0 : 9000.0 :  None : False : False : NonNegativeReals\n",
      "\n",
      "  Objectives:\n",
      "    obj : Size=1, Index=None, Active=True\n",
      "        Key  : Active : Value\n",
      "        None :   True : 13830.0\n",
      "\n",
      "  Constraints:\n",
      "    con_MIN : Size=1\n",
      "        Key  : Lower : Body    : Upper\n",
      "        None :  None : 10000.0 : 10000.0\n",
      "    con_PIT : Size=1\n",
      "        Key  : Lower : Body    : Upper\n",
      "        None :  None : 15000.0 : 15000.0\n",
      "    con_TUC : Size=1\n",
      "        Key  : Lower : Body    : Upper\n",
      "        None :  None : 14000.0 : 15000.0\n",
      "    con_ATL : Size=1\n",
      "        Key  : Lower  : Body   : Upper\n",
      "        None : 8000.0 : 8000.0 :  None\n",
      "    con_BOS : Size=1\n",
      "        Key  : Lower   : Body    : Upper\n",
      "        None : 10000.0 : 10000.0 :  None\n",
      "    con_CHI : Size=1\n",
      "        Key  : Lower   : Body    : Upper\n",
      "        None : 12000.0 : 12000.0 :  None\n",
      "    con_DEN : Size=1\n",
      "        Key  : Lower  : Body   : Upper\n",
      "        None : 9000.0 : 9000.0 :  None\n"
     ]
    }
   ],
   "source": [
    "model.display()"
   ]
  },
  {
   "cell_type": "markdown",
   "metadata": {},
   "source": [
    "The above shows us all the information all at once. Let's pull out the optimal minimum cost and the final value of the decision variables."
   ]
  },
  {
   "cell_type": "markdown",
   "metadata": {},
   "source": [
    "#### Optimal Objective Value"
   ]
  },
  {
   "cell_type": "code",
   "execution_count": 15,
   "metadata": {},
   "outputs": [
    {
     "name": "stdout",
     "output_type": "stream",
     "text": [
      "optimal objective value minimum cost = $13830.00\n"
     ]
    }
   ],
   "source": [
    "obj_val = model.obj.expr()\n",
    "print(f'optimal objective value minimum cost = ${obj_val:.2f}')"
   ]
  },
  {
   "cell_type": "markdown",
   "metadata": {},
   "source": [
    "#### Optimal Decision Variables"
   ]
  },
  {
   "cell_type": "markdown",
   "metadata": {},
   "source": [
    "In order to capture the results, we have to use new code to reference the 3 variable names - `model.component_objects(pe.Var)` and each set of indexes. We can use looping to pull out the values. "
   ]
  },
  {
   "cell_type": "code",
   "execution_count": 16,
   "metadata": {},
   "outputs": [
    {
     "name": "stdout",
     "output_type": "stream",
     "text": [
      "MIN\n",
      "  ATL 0.0\n",
      "  BOS 0.0\n",
      "  CHI 10000.0\n",
      "  DEN 0.0\n",
      "PIT\n",
      "  ATL 5000.0\n",
      "  BOS 10000.0\n",
      "  CHI 0.0\n",
      "  DEN 0.0\n",
      "TUC\n",
      "  ATL 3000.0\n",
      "  BOS 0.0\n",
      "  CHI 2000.0\n",
      "  DEN 9000.0\n"
     ]
    }
   ],
   "source": [
    "for DV in model.component_objects(pe.Var):\n",
    "    print(DV)\n",
    "    for var in DV:\n",
    "        print(\" \", var, DV[var].value)"
   ]
  },
  {
   "cell_type": "markdown",
   "metadata": {},
   "source": [
    "Let's do create a `pd.DataFrame` to store the results of our solution. "
   ]
  },
  {
   "cell_type": "code",
   "execution_count": 17,
   "metadata": {},
   "outputs": [
    {
     "data": {
      "text/html": [
       "<div>\n",
       "<style scoped>\n",
       "    .dataframe tbody tr th:only-of-type {\n",
       "        vertical-align: middle;\n",
       "    }\n",
       "\n",
       "    .dataframe tbody tr th {\n",
       "        vertical-align: top;\n",
       "    }\n",
       "\n",
       "    .dataframe thead th {\n",
       "        text-align: right;\n",
       "    }\n",
       "</style>\n",
       "<table border=\"1\" class=\"dataframe\">\n",
       "  <thead>\n",
       "    <tr style=\"text-align: right;\">\n",
       "      <th></th>\n",
       "      <th>ATL</th>\n",
       "      <th>BOS</th>\n",
       "      <th>CHI</th>\n",
       "      <th>DEN</th>\n",
       "    </tr>\n",
       "  </thead>\n",
       "  <tbody>\n",
       "    <tr>\n",
       "      <th>MIN</th>\n",
       "      <td>0.0</td>\n",
       "      <td>0.0</td>\n",
       "      <td>10000.0</td>\n",
       "      <td>0.0</td>\n",
       "    </tr>\n",
       "    <tr>\n",
       "      <th>PIT</th>\n",
       "      <td>5000.0</td>\n",
       "      <td>10000.0</td>\n",
       "      <td>0.0</td>\n",
       "      <td>0.0</td>\n",
       "    </tr>\n",
       "    <tr>\n",
       "      <th>TUC</th>\n",
       "      <td>3000.0</td>\n",
       "      <td>0.0</td>\n",
       "      <td>2000.0</td>\n",
       "      <td>9000.0</td>\n",
       "    </tr>\n",
       "  </tbody>\n",
       "</table>\n",
       "</div>"
      ],
      "text/plain": [
       "        ATL      BOS      CHI     DEN\n",
       "MIN     0.0      0.0  10000.0     0.0\n",
       "PIT  5000.0  10000.0      0.0     0.0\n",
       "TUC  3000.0      0.0   2000.0  9000.0"
      ]
     },
     "execution_count": 17,
     "metadata": {},
     "output_type": "execute_result"
    }
   ],
   "source": [
    "DV_solution = pd.DataFrame()\n",
    "for DV in model.component_objects(pe.Var):\n",
    "    for var in DV:\n",
    "        DV_solution.loc[DV.name, var] = DV[var].value\n",
    "DV_solution"
   ]
  },
  {
   "cell_type": "markdown",
   "metadata": {},
   "source": [
    "Here we create a plot of the Decision Variables solution."
   ]
  },
  {
   "cell_type": "markdown",
   "metadata": {},
   "source": [
    "# 5. Sensitivity Analysis<a id=5></a>"
   ]
  },
  {
   "cell_type": "markdown",
   "metadata": {},
   "source": [
    "Define a new function `run_model()` to obtain values."
   ]
  },
  {
   "cell_type": "code",
   "execution_count": 18,
   "metadata": {},
   "outputs": [],
   "source": [
    "def run_model():\n",
    "    #Function to run the model \n",
    "    \n",
    "    #This just runs the model as we defined it above\n",
    "    model = pe.ConcreteModel()\n",
    "    #Decision Variables\n",
    "    DV_indexes = ['ATL','BOS','CHI','DEN']\n",
    "    model.MIN = pe.Var(DV_indexes, domain = pe.NonNegativeReals)\n",
    "    model.PIT = pe.Var(DV_indexes, domain = pe.NonNegativeReals)\n",
    "    model.TUC = pe.Var(DV_indexes, domain = pe.NonNegativeReals)\n",
    "    #Objective Function\n",
    "    model.obj = pe.Objective(expr = sum([cost.loc['MIN', index]*model.MIN[index] for index in DV_indexes] +\n",
    "                             [cost.loc['PIT', index]*model.PIT[index] for index in DV_indexes] +\n",
    "                             [cost.loc['TUC', index]*model.TUC[index] for index in DV_indexes]),\n",
    "                             sense = pe.minimize)\n",
    "    #Capacity Constraints\n",
    "    model.con_MIN = pe.Constraint(expr = sum(model.MIN[index] for index in DV_indexes) \n",
    "                                  <= capacity.loc['MIN','Capacity'])\n",
    "    model.con_PIT = pe.Constraint(expr = sum(model.PIT[index] for index in DV_indexes)\n",
    "                                  <= capacity.loc['PIT','Capacity'])\n",
    "    model.con_TUC = pe.Constraint(expr = sum(model.TUC[index] for index in DV_indexes)\n",
    "                                  <= capacity.loc['TUC','Capacity'])   \n",
    "    #Demand Constraints\n",
    "    model.con_ATL = pe.Constraint(expr = model.MIN['ATL'] + model.PIT['ATL']+ \n",
    "                                  model.TUC['ATL'] >= demand.loc['ATL','Requirement'])\n",
    "    model.con_BOS = pe.Constraint(expr = model.MIN['BOS'] + model.PIT['BOS']+ \n",
    "                                  model.TUC['BOS'] >= demand.loc['BOS','Requirement'])\n",
    "    model.con_CHI = pe.Constraint(expr = model.MIN['CHI'] + model.PIT['CHI']+ \n",
    "                                  model.TUC['CHI'] >= demand.loc['CHI','Requirement'])\n",
    "    model.con_DEN = pe.Constraint(expr = model.MIN['DEN'] + model.PIT['DEN']+ \n",
    "                                  model.TUC['DEN'] >= demand.loc['DEN','Requirement'])\n",
    "    opt = pe.SolverFactory('glpk')\n",
    "    opt.solve(model, tee=False) #solve model and supress output\n",
    "    \n",
    "    #Once we solve the model we return the model object so we can get the optimal obj function value\n",
    "    return model"
   ]
  },
  {
   "cell_type": "markdown",
   "metadata": {},
   "source": [
    "## 5.1 TUC-BOS<a id=5.1></a>"
   ]
  },
  {
   "cell_type": "markdown",
   "metadata": {},
   "source": [
    "Here is the original cost table just to remind us."
   ]
  },
  {
   "cell_type": "code",
   "execution_count": 19,
   "metadata": {},
   "outputs": [
    {
     "data": {
      "text/html": [
       "<div>\n",
       "<style scoped>\n",
       "    .dataframe tbody tr th:only-of-type {\n",
       "        vertical-align: middle;\n",
       "    }\n",
       "\n",
       "    .dataframe tbody tr th {\n",
       "        vertical-align: top;\n",
       "    }\n",
       "\n",
       "    .dataframe thead th {\n",
       "        text-align: right;\n",
       "    }\n",
       "</style>\n",
       "<table border=\"1\" class=\"dataframe\">\n",
       "  <thead>\n",
       "    <tr style=\"text-align: right;\">\n",
       "      <th></th>\n",
       "      <th>ATL</th>\n",
       "      <th>BOS</th>\n",
       "      <th>CHI</th>\n",
       "      <th>DEN</th>\n",
       "    </tr>\n",
       "  </thead>\n",
       "  <tbody>\n",
       "    <tr>\n",
       "      <th>MIN</th>\n",
       "      <td>0.60</td>\n",
       "      <td>0.56</td>\n",
       "      <td>0.22</td>\n",
       "      <td>0.40</td>\n",
       "    </tr>\n",
       "    <tr>\n",
       "      <th>PIT</th>\n",
       "      <td>0.36</td>\n",
       "      <td>0.30</td>\n",
       "      <td>0.28</td>\n",
       "      <td>0.58</td>\n",
       "    </tr>\n",
       "    <tr>\n",
       "      <th>TUC</th>\n",
       "      <td>0.65</td>\n",
       "      <td>0.68</td>\n",
       "      <td>0.55</td>\n",
       "      <td>0.42</td>\n",
       "    </tr>\n",
       "  </tbody>\n",
       "</table>\n",
       "</div>"
      ],
      "text/plain": [
       "      ATL   BOS   CHI   DEN\n",
       "MIN  0.60  0.56  0.22  0.40\n",
       "PIT  0.36  0.30  0.28  0.58\n",
       "TUC  0.65  0.68  0.55  0.42"
      ]
     },
     "execution_count": 19,
     "metadata": {},
     "output_type": "execute_result"
    }
   ],
   "source": [
    "cost"
   ]
  },
  {
   "cell_type": "markdown",
   "metadata": {},
   "source": [
    "First we'll loop through all the costs from shipping from Tucson to Boston, re-solve the model, and capture the objective function optimal values. Create a sequence from 0.5 to 0.7 in increments of 0.1."
   ]
  },
  {
   "cell_type": "code",
   "execution_count": 20,
   "metadata": {},
   "outputs": [
    {
     "data": {
      "text/plain": [
       "[0.5,\n",
       " 0.51,\n",
       " 0.52,\n",
       " 0.53,\n",
       " 0.54,\n",
       " 0.55,\n",
       " 0.56,\n",
       " 0.57,\n",
       " 0.58,\n",
       " 0.59,\n",
       " 0.6,\n",
       " 0.61,\n",
       " 0.62,\n",
       " 0.63,\n",
       " 0.64,\n",
       " 0.65,\n",
       " 0.66,\n",
       " 0.67,\n",
       " 0.68,\n",
       " 0.69,\n",
       " 0.7]"
      ]
     },
     "execution_count": 20,
     "metadata": {},
     "output_type": "execute_result"
    }
   ],
   "source": [
    "tuc_bos_costs = [(i + 50)/100 for i in list(range(0, 21))]\n",
    "tuc_bos_costs"
   ]
  },
  {
   "cell_type": "code",
   "execution_count": 21,
   "metadata": {},
   "outputs": [
    {
     "data": {
      "text/plain": [
       "[13420.0,\n",
       " 13470.0,\n",
       " 13520.0,\n",
       " 13570.0,\n",
       " 13620.0,\n",
       " 13670.0,\n",
       " 13720.0,\n",
       " 13770.0,\n",
       " 13800.0,\n",
       " 13830.0,\n",
       " 13830.0,\n",
       " 13830.0,\n",
       " 13830.0,\n",
       " 13830.0,\n",
       " 13830.0,\n",
       " 13830.0,\n",
       " 13830.0,\n",
       " 13830.0,\n",
       " 13830.0,\n",
       " 13830.0,\n",
       " 13830.0]"
      ]
     },
     "execution_count": 21,
     "metadata": {},
     "output_type": "execute_result"
    }
   ],
   "source": [
    "obj_list_tb = []\n",
    "for val in tuc_bos_costs:\n",
    "    #This single line updates the cost table\n",
    "    cost.loc['TUC', 'BOS'] = val\n",
    "    #This reruns the model using our function\n",
    "    model = run_model()\n",
    "    obj_list_tb.append(model.obj.expr())\n",
    "obj_list_tb"
   ]
  },
  {
   "cell_type": "markdown",
   "metadata": {},
   "source": [
    "Let's make it look nicer and easier to see what is going on by storing the results in a dataframe changing the index to be the costs."
   ]
  },
  {
   "cell_type": "code",
   "execution_count": 22,
   "metadata": {},
   "outputs": [
    {
     "data": {
      "text/html": [
       "<div>\n",
       "<style scoped>\n",
       "    .dataframe tbody tr th:only-of-type {\n",
       "        vertical-align: middle;\n",
       "    }\n",
       "\n",
       "    .dataframe tbody tr th {\n",
       "        vertical-align: top;\n",
       "    }\n",
       "\n",
       "    .dataframe thead th {\n",
       "        text-align: right;\n",
       "    }\n",
       "</style>\n",
       "<table border=\"1\" class=\"dataframe\">\n",
       "  <thead>\n",
       "    <tr style=\"text-align: right;\">\n",
       "      <th></th>\n",
       "      <th>cost</th>\n",
       "    </tr>\n",
       "  </thead>\n",
       "  <tbody>\n",
       "    <tr>\n",
       "      <th>0.50</th>\n",
       "      <td>13420.0</td>\n",
       "    </tr>\n",
       "    <tr>\n",
       "      <th>0.51</th>\n",
       "      <td>13470.0</td>\n",
       "    </tr>\n",
       "    <tr>\n",
       "      <th>0.52</th>\n",
       "      <td>13520.0</td>\n",
       "    </tr>\n",
       "    <tr>\n",
       "      <th>0.53</th>\n",
       "      <td>13570.0</td>\n",
       "    </tr>\n",
       "    <tr>\n",
       "      <th>0.54</th>\n",
       "      <td>13620.0</td>\n",
       "    </tr>\n",
       "    <tr>\n",
       "      <th>0.55</th>\n",
       "      <td>13670.0</td>\n",
       "    </tr>\n",
       "    <tr>\n",
       "      <th>0.56</th>\n",
       "      <td>13720.0</td>\n",
       "    </tr>\n",
       "    <tr>\n",
       "      <th>0.57</th>\n",
       "      <td>13770.0</td>\n",
       "    </tr>\n",
       "    <tr>\n",
       "      <th>0.58</th>\n",
       "      <td>13800.0</td>\n",
       "    </tr>\n",
       "    <tr>\n",
       "      <th>0.59</th>\n",
       "      <td>13830.0</td>\n",
       "    </tr>\n",
       "    <tr>\n",
       "      <th>0.60</th>\n",
       "      <td>13830.0</td>\n",
       "    </tr>\n",
       "    <tr>\n",
       "      <th>0.61</th>\n",
       "      <td>13830.0</td>\n",
       "    </tr>\n",
       "    <tr>\n",
       "      <th>0.62</th>\n",
       "      <td>13830.0</td>\n",
       "    </tr>\n",
       "    <tr>\n",
       "      <th>0.63</th>\n",
       "      <td>13830.0</td>\n",
       "    </tr>\n",
       "    <tr>\n",
       "      <th>0.64</th>\n",
       "      <td>13830.0</td>\n",
       "    </tr>\n",
       "    <tr>\n",
       "      <th>0.65</th>\n",
       "      <td>13830.0</td>\n",
       "    </tr>\n",
       "    <tr>\n",
       "      <th>0.66</th>\n",
       "      <td>13830.0</td>\n",
       "    </tr>\n",
       "    <tr>\n",
       "      <th>0.67</th>\n",
       "      <td>13830.0</td>\n",
       "    </tr>\n",
       "    <tr>\n",
       "      <th>0.68</th>\n",
       "      <td>13830.0</td>\n",
       "    </tr>\n",
       "    <tr>\n",
       "      <th>0.69</th>\n",
       "      <td>13830.0</td>\n",
       "    </tr>\n",
       "    <tr>\n",
       "      <th>0.70</th>\n",
       "      <td>13830.0</td>\n",
       "    </tr>\n",
       "  </tbody>\n",
       "</table>\n",
       "</div>"
      ],
      "text/plain": [
       "         cost\n",
       "0.50  13420.0\n",
       "0.51  13470.0\n",
       "0.52  13520.0\n",
       "0.53  13570.0\n",
       "0.54  13620.0\n",
       "0.55  13670.0\n",
       "0.56  13720.0\n",
       "0.57  13770.0\n",
       "0.58  13800.0\n",
       "0.59  13830.0\n",
       "0.60  13830.0\n",
       "0.61  13830.0\n",
       "0.62  13830.0\n",
       "0.63  13830.0\n",
       "0.64  13830.0\n",
       "0.65  13830.0\n",
       "0.66  13830.0\n",
       "0.67  13830.0\n",
       "0.68  13830.0\n",
       "0.69  13830.0\n",
       "0.70  13830.0"
      ]
     },
     "execution_count": 22,
     "metadata": {},
     "output_type": "execute_result"
    }
   ],
   "source": [
    "obj_df_tb = pd.DataFrame(obj_list_tb, \n",
    "                         index = tuc_bos_costs, \n",
    "                         columns = ['cost'])\n",
    "obj_df_tb"
   ]
  },
  {
   "cell_type": "markdown",
   "metadata": {},
   "source": [
    "Plot the results using Seaborn"
   ]
  },
  {
   "cell_type": "code",
   "execution_count": 23,
   "metadata": {},
   "outputs": [
    {
     "data": {
      "text/plain": [
       "[(0.5, 13420.0),\n",
       " (0.51, 13470.0),\n",
       " (0.52, 13520.0),\n",
       " (0.53, 13570.0),\n",
       " (0.54, 13620.0),\n",
       " (0.55, 13670.0),\n",
       " (0.56, 13720.0),\n",
       " (0.57, 13770.0),\n",
       " (0.58, 13800.0),\n",
       " (0.59, 13830.0),\n",
       " (0.6, 13830.0),\n",
       " (0.61, 13830.0),\n",
       " (0.62, 13830.0),\n",
       " (0.63, 13830.0),\n",
       " (0.64, 13830.0),\n",
       " (0.65, 13830.0),\n",
       " (0.66, 13830.0),\n",
       " (0.67, 13830.0),\n",
       " (0.68, 13830.0),\n",
       " (0.69, 13830.0),\n",
       " (0.7, 13830.0)]"
      ]
     },
     "execution_count": 23,
     "metadata": {},
     "output_type": "execute_result"
    }
   ],
   "source": [
    "zip_list = list(zip(tuc_bos_costs, obj_list_tb))\n",
    "zip_list"
   ]
  },
  {
   "cell_type": "code",
   "execution_count": 24,
   "metadata": {},
   "outputs": [
    {
     "data": {
      "text/html": [
       "<div>\n",
       "<style scoped>\n",
       "    .dataframe tbody tr th:only-of-type {\n",
       "        vertical-align: middle;\n",
       "    }\n",
       "\n",
       "    .dataframe tbody tr th {\n",
       "        vertical-align: top;\n",
       "    }\n",
       "\n",
       "    .dataframe thead th {\n",
       "        text-align: right;\n",
       "    }\n",
       "</style>\n",
       "<table border=\"1\" class=\"dataframe\">\n",
       "  <thead>\n",
       "    <tr style=\"text-align: right;\">\n",
       "      <th></th>\n",
       "      <th>TUC2BOS</th>\n",
       "      <th>Cost</th>\n",
       "    </tr>\n",
       "  </thead>\n",
       "  <tbody>\n",
       "    <tr>\n",
       "      <th>0</th>\n",
       "      <td>0.50</td>\n",
       "      <td>13420.0</td>\n",
       "    </tr>\n",
       "    <tr>\n",
       "      <th>1</th>\n",
       "      <td>0.51</td>\n",
       "      <td>13470.0</td>\n",
       "    </tr>\n",
       "    <tr>\n",
       "      <th>2</th>\n",
       "      <td>0.52</td>\n",
       "      <td>13520.0</td>\n",
       "    </tr>\n",
       "    <tr>\n",
       "      <th>3</th>\n",
       "      <td>0.53</td>\n",
       "      <td>13570.0</td>\n",
       "    </tr>\n",
       "    <tr>\n",
       "      <th>4</th>\n",
       "      <td>0.54</td>\n",
       "      <td>13620.0</td>\n",
       "    </tr>\n",
       "    <tr>\n",
       "      <th>5</th>\n",
       "      <td>0.55</td>\n",
       "      <td>13670.0</td>\n",
       "    </tr>\n",
       "    <tr>\n",
       "      <th>6</th>\n",
       "      <td>0.56</td>\n",
       "      <td>13720.0</td>\n",
       "    </tr>\n",
       "    <tr>\n",
       "      <th>7</th>\n",
       "      <td>0.57</td>\n",
       "      <td>13770.0</td>\n",
       "    </tr>\n",
       "    <tr>\n",
       "      <th>8</th>\n",
       "      <td>0.58</td>\n",
       "      <td>13800.0</td>\n",
       "    </tr>\n",
       "    <tr>\n",
       "      <th>9</th>\n",
       "      <td>0.59</td>\n",
       "      <td>13830.0</td>\n",
       "    </tr>\n",
       "    <tr>\n",
       "      <th>10</th>\n",
       "      <td>0.60</td>\n",
       "      <td>13830.0</td>\n",
       "    </tr>\n",
       "    <tr>\n",
       "      <th>11</th>\n",
       "      <td>0.61</td>\n",
       "      <td>13830.0</td>\n",
       "    </tr>\n",
       "    <tr>\n",
       "      <th>12</th>\n",
       "      <td>0.62</td>\n",
       "      <td>13830.0</td>\n",
       "    </tr>\n",
       "    <tr>\n",
       "      <th>13</th>\n",
       "      <td>0.63</td>\n",
       "      <td>13830.0</td>\n",
       "    </tr>\n",
       "    <tr>\n",
       "      <th>14</th>\n",
       "      <td>0.64</td>\n",
       "      <td>13830.0</td>\n",
       "    </tr>\n",
       "    <tr>\n",
       "      <th>15</th>\n",
       "      <td>0.65</td>\n",
       "      <td>13830.0</td>\n",
       "    </tr>\n",
       "    <tr>\n",
       "      <th>16</th>\n",
       "      <td>0.66</td>\n",
       "      <td>13830.0</td>\n",
       "    </tr>\n",
       "    <tr>\n",
       "      <th>17</th>\n",
       "      <td>0.67</td>\n",
       "      <td>13830.0</td>\n",
       "    </tr>\n",
       "    <tr>\n",
       "      <th>18</th>\n",
       "      <td>0.68</td>\n",
       "      <td>13830.0</td>\n",
       "    </tr>\n",
       "    <tr>\n",
       "      <th>19</th>\n",
       "      <td>0.69</td>\n",
       "      <td>13830.0</td>\n",
       "    </tr>\n",
       "    <tr>\n",
       "      <th>20</th>\n",
       "      <td>0.70</td>\n",
       "      <td>13830.0</td>\n",
       "    </tr>\n",
       "  </tbody>\n",
       "</table>\n",
       "</div>"
      ],
      "text/plain": [
       "    TUC2BOS     Cost\n",
       "0      0.50  13420.0\n",
       "1      0.51  13470.0\n",
       "2      0.52  13520.0\n",
       "3      0.53  13570.0\n",
       "4      0.54  13620.0\n",
       "5      0.55  13670.0\n",
       "6      0.56  13720.0\n",
       "7      0.57  13770.0\n",
       "8      0.58  13800.0\n",
       "9      0.59  13830.0\n",
       "10     0.60  13830.0\n",
       "11     0.61  13830.0\n",
       "12     0.62  13830.0\n",
       "13     0.63  13830.0\n",
       "14     0.64  13830.0\n",
       "15     0.65  13830.0\n",
       "16     0.66  13830.0\n",
       "17     0.67  13830.0\n",
       "18     0.68  13830.0\n",
       "19     0.69  13830.0\n",
       "20     0.70  13830.0"
      ]
     },
     "execution_count": 24,
     "metadata": {},
     "output_type": "execute_result"
    }
   ],
   "source": [
    "df = pd.DataFrame(zip_list, columns = ['TUC2BOS', 'Cost'])\n",
    "df"
   ]
  },
  {
   "cell_type": "code",
   "execution_count": 25,
   "metadata": {},
   "outputs": [
    {
     "data": {
      "image/png": "[encoded data removed]",
      "text/plain": [
       "<Figure size 576x360 with 1 Axes>"
      ]
     },
     "metadata": {
      "needs_background": "light"
     },
     "output_type": "display_data"
    }
   ],
   "source": [
    "plt.figure(figsize=(8,5))\n",
    "sns.scatterplot(x = 'TUC2BOS', y = 'Cost', data = df)\n",
    "sns.lineplot(x = 'TUC2BOS', y = 'Cost', data = df)\n",
    "plt.grid()\n",
    "plt.axvline(x = .68, color = \"red\")\n",
    "plt.show()"
   ]
  },
  {
   "cell_type": "markdown",
   "metadata": {},
   "source": [
    "# Create the line plots"
   ]
  },
  {
   "cell_type": "markdown",
   "metadata": {},
   "source": [
    "So what about the Decision variables? There are 12 for each model solution, we need to capture them a slightly different way. We'll put each solution in a list and then make a list of lists."
   ]
  },
  {
   "cell_type": "code",
   "execution_count": 26,
   "metadata": {},
   "outputs": [
    {
     "name": "stdout",
     "output_type": "stream",
     "text": [
      "[[0.0, 0.0, 10000.0, 0.0, 8000.0, 5000.0, 2000.0, 0.0, 0.0, 5000.0, 0.0, 9000.0], [0.0, 0.0, 10000.0, 0.0, 8000.0, 5000.0, 2000.0, 0.0, 0.0, 5000.0, 0.0, 9000.0], [0.0, 0.0, 10000.0, 0.0, 8000.0, 5000.0, 2000.0, 0.0, 0.0, 5000.0, 0.0, 9000.0], [0.0, 0.0, 10000.0, 0.0, 8000.0, 5000.0, 2000.0, 0.0, 0.0, 5000.0, 0.0, 9000.0], [0.0, 0.0, 10000.0, 0.0, 8000.0, 5000.0, 2000.0, 0.0, 0.0, 5000.0, 0.0, 9000.0], [0.0, 0.0, 10000.0, 0.0, 8000.0, 5000.0, 2000.0, 0.0, 0.0, 5000.0, 0.0, 9000.0], [0.0, 0.0, 10000.0, 0.0, 8000.0, 5000.0, 2000.0, 0.0, 0.0, 5000.0, 0.0, 9000.0], [0.0, 0.0, 10000.0, 0.0, 8000.0, 5000.0, 2000.0, 0.0, 0.0, 5000.0, 0.0, 9000.0], [0.0, 0.0, 10000.0, 0.0, 8000.0, 7000.0, 0.0, 0.0, 0.0, 3000.0, 2000.0, 9000.0], [0.0, 0.0, 10000.0, 0.0, 8000.0, 7000.0, 0.0, 0.0, 0.0, 3000.0, 2000.0, 9000.0], [0.0, 0.0, 10000.0, 0.0, 5000.0, 10000.0, 0.0, 0.0, 3000.0, 0.0, 2000.0, 9000.0], [0.0, 0.0, 10000.0, 0.0, 5000.0, 10000.0, 0.0, 0.0, 3000.0, 0.0, 2000.0, 9000.0], [0.0, 0.0, 10000.0, 0.0, 5000.0, 10000.0, 0.0, 0.0, 3000.0, 0.0, 2000.0, 9000.0], [0.0, 0.0, 10000.0, 0.0, 5000.0, 10000.0, 0.0, 0.0, 3000.0, 0.0, 2000.0, 9000.0], [0.0, 0.0, 10000.0, 0.0, 5000.0, 10000.0, 0.0, 0.0, 3000.0, 0.0, 2000.0, 9000.0], [0.0, 0.0, 10000.0, 0.0, 5000.0, 10000.0, 0.0, 0.0, 3000.0, 0.0, 2000.0, 9000.0], [0.0, 0.0, 10000.0, 0.0, 5000.0, 10000.0, 0.0, 0.0, 3000.0, 0.0, 2000.0, 9000.0], [0.0, 0.0, 10000.0, 0.0, 5000.0, 10000.0, 0.0, 0.0, 3000.0, 0.0, 2000.0, 9000.0], [0.0, 0.0, 10000.0, 0.0, 5000.0, 10000.0, 0.0, 0.0, 3000.0, 0.0, 2000.0, 9000.0], [0.0, 0.0, 10000.0, 0.0, 5000.0, 10000.0, 0.0, 0.0, 3000.0, 0.0, 2000.0, 9000.0], [0.0, 0.0, 10000.0, 0.0, 5000.0, 10000.0, 0.0, 0.0, 3000.0, 0.0, 2000.0, 9000.0]]\n"
     ]
    }
   ],
   "source": [
    "DV_list_tb=[]\n",
    "for val in tuc_bos_costs:\n",
    "    DV_curr_list_tb = []\n",
    "    #This single line updates the cost table\n",
    "    cost.loc['TUC', 'BOS'] = val\n",
    "    #This reruns the model using our function\n",
    "    model = run_model()\n",
    "    for DV in model.component_objects(pe.Var):\n",
    "        for c in DV:\n",
    "            DV_curr_list_tb.append(DV[c].value)\n",
    "    DV_list_tb.append(DV_curr_list_tb)\n",
    "print(DV_list_tb)"
   ]
  },
  {
   "cell_type": "markdown",
   "metadata": {},
   "source": [
    "Again, let's format this so it is easy to read."
   ]
  },
  {
   "cell_type": "code",
   "execution_count": 27,
   "metadata": {},
   "outputs": [
    {
     "data": {
      "text/html": [
       "<div>\n",
       "<style scoped>\n",
       "    .dataframe tbody tr th:only-of-type {\n",
       "        vertical-align: middle;\n",
       "    }\n",
       "\n",
       "    .dataframe tbody tr th {\n",
       "        vertical-align: top;\n",
       "    }\n",
       "\n",
       "    .dataframe thead th {\n",
       "        text-align: right;\n",
       "    }\n",
       "</style>\n",
       "<table border=\"1\" class=\"dataframe\">\n",
       "  <thead>\n",
       "    <tr style=\"text-align: right;\">\n",
       "      <th></th>\n",
       "      <th>M,A</th>\n",
       "      <th>M,B</th>\n",
       "      <th>M,C</th>\n",
       "      <th>M,D</th>\n",
       "      <th>P,A</th>\n",
       "      <th>P,B</th>\n",
       "      <th>P,C</th>\n",
       "      <th>P,D</th>\n",
       "      <th>T,A</th>\n",
       "      <th>T,B</th>\n",
       "      <th>T,C</th>\n",
       "      <th>T,D</th>\n",
       "      <th>Costs</th>\n",
       "    </tr>\n",
       "  </thead>\n",
       "  <tbody>\n",
       "    <tr>\n",
       "      <th>0</th>\n",
       "      <td>0.0</td>\n",
       "      <td>0.0</td>\n",
       "      <td>10000.0</td>\n",
       "      <td>0.0</td>\n",
       "      <td>8000.0</td>\n",
       "      <td>5000.0</td>\n",
       "      <td>2000.0</td>\n",
       "      <td>0.0</td>\n",
       "      <td>0.0</td>\n",
       "      <td>5000.0</td>\n",
       "      <td>0.0</td>\n",
       "      <td>9000.0</td>\n",
       "      <td>0.50</td>\n",
       "    </tr>\n",
       "    <tr>\n",
       "      <th>1</th>\n",
       "      <td>0.0</td>\n",
       "      <td>0.0</td>\n",
       "      <td>10000.0</td>\n",
       "      <td>0.0</td>\n",
       "      <td>8000.0</td>\n",
       "      <td>5000.0</td>\n",
       "      <td>2000.0</td>\n",
       "      <td>0.0</td>\n",
       "      <td>0.0</td>\n",
       "      <td>5000.0</td>\n",
       "      <td>0.0</td>\n",
       "      <td>9000.0</td>\n",
       "      <td>0.51</td>\n",
       "    </tr>\n",
       "    <tr>\n",
       "      <th>2</th>\n",
       "      <td>0.0</td>\n",
       "      <td>0.0</td>\n",
       "      <td>10000.0</td>\n",
       "      <td>0.0</td>\n",
       "      <td>8000.0</td>\n",
       "      <td>5000.0</td>\n",
       "      <td>2000.0</td>\n",
       "      <td>0.0</td>\n",
       "      <td>0.0</td>\n",
       "      <td>5000.0</td>\n",
       "      <td>0.0</td>\n",
       "      <td>9000.0</td>\n",
       "      <td>0.52</td>\n",
       "    </tr>\n",
       "    <tr>\n",
       "      <th>3</th>\n",
       "      <td>0.0</td>\n",
       "      <td>0.0</td>\n",
       "      <td>10000.0</td>\n",
       "      <td>0.0</td>\n",
       "      <td>8000.0</td>\n",
       "      <td>5000.0</td>\n",
       "      <td>2000.0</td>\n",
       "      <td>0.0</td>\n",
       "      <td>0.0</td>\n",
       "      <td>5000.0</td>\n",
       "      <td>0.0</td>\n",
       "      <td>9000.0</td>\n",
       "      <td>0.53</td>\n",
       "    </tr>\n",
       "    <tr>\n",
       "      <th>4</th>\n",
       "      <td>0.0</td>\n",
       "      <td>0.0</td>\n",
       "      <td>10000.0</td>\n",
       "      <td>0.0</td>\n",
       "      <td>8000.0</td>\n",
       "      <td>5000.0</td>\n",
       "      <td>2000.0</td>\n",
       "      <td>0.0</td>\n",
       "      <td>0.0</td>\n",
       "      <td>5000.0</td>\n",
       "      <td>0.0</td>\n",
       "      <td>9000.0</td>\n",
       "      <td>0.54</td>\n",
       "    </tr>\n",
       "    <tr>\n",
       "      <th>5</th>\n",
       "      <td>0.0</td>\n",
       "      <td>0.0</td>\n",
       "      <td>10000.0</td>\n",
       "      <td>0.0</td>\n",
       "      <td>8000.0</td>\n",
       "      <td>5000.0</td>\n",
       "      <td>2000.0</td>\n",
       "      <td>0.0</td>\n",
       "      <td>0.0</td>\n",
       "      <td>5000.0</td>\n",
       "      <td>0.0</td>\n",
       "      <td>9000.0</td>\n",
       "      <td>0.55</td>\n",
       "    </tr>\n",
       "    <tr>\n",
       "      <th>6</th>\n",
       "      <td>0.0</td>\n",
       "      <td>0.0</td>\n",
       "      <td>10000.0</td>\n",
       "      <td>0.0</td>\n",
       "      <td>8000.0</td>\n",
       "      <td>5000.0</td>\n",
       "      <td>2000.0</td>\n",
       "      <td>0.0</td>\n",
       "      <td>0.0</td>\n",
       "      <td>5000.0</td>\n",
       "      <td>0.0</td>\n",
       "      <td>9000.0</td>\n",
       "      <td>0.56</td>\n",
       "    </tr>\n",
       "    <tr>\n",
       "      <th>7</th>\n",
       "      <td>0.0</td>\n",
       "      <td>0.0</td>\n",
       "      <td>10000.0</td>\n",
       "      <td>0.0</td>\n",
       "      <td>8000.0</td>\n",
       "      <td>5000.0</td>\n",
       "      <td>2000.0</td>\n",
       "      <td>0.0</td>\n",
       "      <td>0.0</td>\n",
       "      <td>5000.0</td>\n",
       "      <td>0.0</td>\n",
       "      <td>9000.0</td>\n",
       "      <td>0.57</td>\n",
       "    </tr>\n",
       "    <tr>\n",
       "      <th>8</th>\n",
       "      <td>0.0</td>\n",
       "      <td>0.0</td>\n",
       "      <td>10000.0</td>\n",
       "      <td>0.0</td>\n",
       "      <td>8000.0</td>\n",
       "      <td>7000.0</td>\n",
       "      <td>0.0</td>\n",
       "      <td>0.0</td>\n",
       "      <td>0.0</td>\n",
       "      <td>3000.0</td>\n",
       "      <td>2000.0</td>\n",
       "      <td>9000.0</td>\n",
       "      <td>0.58</td>\n",
       "    </tr>\n",
       "    <tr>\n",
       "      <th>9</th>\n",
       "      <td>0.0</td>\n",
       "      <td>0.0</td>\n",
       "      <td>10000.0</td>\n",
       "      <td>0.0</td>\n",
       "      <td>8000.0</td>\n",
       "      <td>7000.0</td>\n",
       "      <td>0.0</td>\n",
       "      <td>0.0</td>\n",
       "      <td>0.0</td>\n",
       "      <td>3000.0</td>\n",
       "      <td>2000.0</td>\n",
       "      <td>9000.0</td>\n",
       "      <td>0.59</td>\n",
       "    </tr>\n",
       "    <tr>\n",
       "      <th>10</th>\n",
       "      <td>0.0</td>\n",
       "      <td>0.0</td>\n",
       "      <td>10000.0</td>\n",
       "      <td>0.0</td>\n",
       "      <td>5000.0</td>\n",
       "      <td>10000.0</td>\n",
       "      <td>0.0</td>\n",
       "      <td>0.0</td>\n",
       "      <td>3000.0</td>\n",
       "      <td>0.0</td>\n",
       "      <td>2000.0</td>\n",
       "      <td>9000.0</td>\n",
       "      <td>0.60</td>\n",
       "    </tr>\n",
       "    <tr>\n",
       "      <th>11</th>\n",
       "      <td>0.0</td>\n",
       "      <td>0.0</td>\n",
       "      <td>10000.0</td>\n",
       "      <td>0.0</td>\n",
       "      <td>5000.0</td>\n",
       "      <td>10000.0</td>\n",
       "      <td>0.0</td>\n",
       "      <td>0.0</td>\n",
       "      <td>3000.0</td>\n",
       "      <td>0.0</td>\n",
       "      <td>2000.0</td>\n",
       "      <td>9000.0</td>\n",
       "      <td>0.61</td>\n",
       "    </tr>\n",
       "    <tr>\n",
       "      <th>12</th>\n",
       "      <td>0.0</td>\n",
       "      <td>0.0</td>\n",
       "      <td>10000.0</td>\n",
       "      <td>0.0</td>\n",
       "      <td>5000.0</td>\n",
       "      <td>10000.0</td>\n",
       "      <td>0.0</td>\n",
       "      <td>0.0</td>\n",
       "      <td>3000.0</td>\n",
       "      <td>0.0</td>\n",
       "      <td>2000.0</td>\n",
       "      <td>9000.0</td>\n",
       "      <td>0.62</td>\n",
       "    </tr>\n",
       "    <tr>\n",
       "      <th>13</th>\n",
       "      <td>0.0</td>\n",
       "      <td>0.0</td>\n",
       "      <td>10000.0</td>\n",
       "      <td>0.0</td>\n",
       "      <td>5000.0</td>\n",
       "      <td>10000.0</td>\n",
       "      <td>0.0</td>\n",
       "      <td>0.0</td>\n",
       "      <td>3000.0</td>\n",
       "      <td>0.0</td>\n",
       "      <td>2000.0</td>\n",
       "      <td>9000.0</td>\n",
       "      <td>0.63</td>\n",
       "    </tr>\n",
       "    <tr>\n",
       "      <th>14</th>\n",
       "      <td>0.0</td>\n",
       "      <td>0.0</td>\n",
       "      <td>10000.0</td>\n",
       "      <td>0.0</td>\n",
       "      <td>5000.0</td>\n",
       "      <td>10000.0</td>\n",
       "      <td>0.0</td>\n",
       "      <td>0.0</td>\n",
       "      <td>3000.0</td>\n",
       "      <td>0.0</td>\n",
       "      <td>2000.0</td>\n",
       "      <td>9000.0</td>\n",
       "      <td>0.64</td>\n",
       "    </tr>\n",
       "    <tr>\n",
       "      <th>15</th>\n",
       "      <td>0.0</td>\n",
       "      <td>0.0</td>\n",
       "      <td>10000.0</td>\n",
       "      <td>0.0</td>\n",
       "      <td>5000.0</td>\n",
       "      <td>10000.0</td>\n",
       "      <td>0.0</td>\n",
       "      <td>0.0</td>\n",
       "      <td>3000.0</td>\n",
       "      <td>0.0</td>\n",
       "      <td>2000.0</td>\n",
       "      <td>9000.0</td>\n",
       "      <td>0.65</td>\n",
       "    </tr>\n",
       "    <tr>\n",
       "      <th>16</th>\n",
       "      <td>0.0</td>\n",
       "      <td>0.0</td>\n",
       "      <td>10000.0</td>\n",
       "      <td>0.0</td>\n",
       "      <td>5000.0</td>\n",
       "      <td>10000.0</td>\n",
       "      <td>0.0</td>\n",
       "      <td>0.0</td>\n",
       "      <td>3000.0</td>\n",
       "      <td>0.0</td>\n",
       "      <td>2000.0</td>\n",
       "      <td>9000.0</td>\n",
       "      <td>0.66</td>\n",
       "    </tr>\n",
       "    <tr>\n",
       "      <th>17</th>\n",
       "      <td>0.0</td>\n",
       "      <td>0.0</td>\n",
       "      <td>10000.0</td>\n",
       "      <td>0.0</td>\n",
       "      <td>5000.0</td>\n",
       "      <td>10000.0</td>\n",
       "      <td>0.0</td>\n",
       "      <td>0.0</td>\n",
       "      <td>3000.0</td>\n",
       "      <td>0.0</td>\n",
       "      <td>2000.0</td>\n",
       "      <td>9000.0</td>\n",
       "      <td>0.67</td>\n",
       "    </tr>\n",
       "    <tr>\n",
       "      <th>18</th>\n",
       "      <td>0.0</td>\n",
       "      <td>0.0</td>\n",
       "      <td>10000.0</td>\n",
       "      <td>0.0</td>\n",
       "      <td>5000.0</td>\n",
       "      <td>10000.0</td>\n",
       "      <td>0.0</td>\n",
       "      <td>0.0</td>\n",
       "      <td>3000.0</td>\n",
       "      <td>0.0</td>\n",
       "      <td>2000.0</td>\n",
       "      <td>9000.0</td>\n",
       "      <td>0.68</td>\n",
       "    </tr>\n",
       "    <tr>\n",
       "      <th>19</th>\n",
       "      <td>0.0</td>\n",
       "      <td>0.0</td>\n",
       "      <td>10000.0</td>\n",
       "      <td>0.0</td>\n",
       "      <td>5000.0</td>\n",
       "      <td>10000.0</td>\n",
       "      <td>0.0</td>\n",
       "      <td>0.0</td>\n",
       "      <td>3000.0</td>\n",
       "      <td>0.0</td>\n",
       "      <td>2000.0</td>\n",
       "      <td>9000.0</td>\n",
       "      <td>0.69</td>\n",
       "    </tr>\n",
       "    <tr>\n",
       "      <th>20</th>\n",
       "      <td>0.0</td>\n",
       "      <td>0.0</td>\n",
       "      <td>10000.0</td>\n",
       "      <td>0.0</td>\n",
       "      <td>5000.0</td>\n",
       "      <td>10000.0</td>\n",
       "      <td>0.0</td>\n",
       "      <td>0.0</td>\n",
       "      <td>3000.0</td>\n",
       "      <td>0.0</td>\n",
       "      <td>2000.0</td>\n",
       "      <td>9000.0</td>\n",
       "      <td>0.70</td>\n",
       "    </tr>\n",
       "  </tbody>\n",
       "</table>\n",
       "</div>"
      ],
      "text/plain": [
       "    M,A  M,B      M,C  M,D     P,A      P,B     P,C  P,D     T,A     T,B  \\\n",
       "0   0.0  0.0  10000.0  0.0  8000.0   5000.0  2000.0  0.0     0.0  5000.0   \n",
       "1   0.0  0.0  10000.0  0.0  8000.0   5000.0  2000.0  0.0     0.0  5000.0   \n",
       "2   0.0  0.0  10000.0  0.0  8000.0   5000.0  2000.0  0.0     0.0  5000.0   \n",
       "3   0.0  0.0  10000.0  0.0  8000.0   5000.0  2000.0  0.0     0.0  5000.0   \n",
       "4   0.0  0.0  10000.0  0.0  8000.0   5000.0  2000.0  0.0     0.0  5000.0   \n",
       "5   0.0  0.0  10000.0  0.0  8000.0   5000.0  2000.0  0.0     0.0  5000.0   \n",
       "6   0.0  0.0  10000.0  0.0  8000.0   5000.0  2000.0  0.0     0.0  5000.0   \n",
       "7   0.0  0.0  10000.0  0.0  8000.0   5000.0  2000.0  0.0     0.0  5000.0   \n",
       "8   0.0  0.0  10000.0  0.0  8000.0   7000.0     0.0  0.0     0.0  3000.0   \n",
       "9   0.0  0.0  10000.0  0.0  8000.0   7000.0     0.0  0.0     0.0  3000.0   \n",
       "10  0.0  0.0  10000.0  0.0  5000.0  10000.0     0.0  0.0  3000.0     0.0   \n",
       "11  0.0  0.0  10000.0  0.0  5000.0  10000.0     0.0  0.0  3000.0     0.0   \n",
       "12  0.0  0.0  10000.0  0.0  5000.0  10000.0     0.0  0.0  3000.0     0.0   \n",
       "13  0.0  0.0  10000.0  0.0  5000.0  10000.0     0.0  0.0  3000.0     0.0   \n",
       "14  0.0  0.0  10000.0  0.0  5000.0  10000.0     0.0  0.0  3000.0     0.0   \n",
       "15  0.0  0.0  10000.0  0.0  5000.0  10000.0     0.0  0.0  3000.0     0.0   \n",
       "16  0.0  0.0  10000.0  0.0  5000.0  10000.0     0.0  0.0  3000.0     0.0   \n",
       "17  0.0  0.0  10000.0  0.0  5000.0  10000.0     0.0  0.0  3000.0     0.0   \n",
       "18  0.0  0.0  10000.0  0.0  5000.0  10000.0     0.0  0.0  3000.0     0.0   \n",
       "19  0.0  0.0  10000.0  0.0  5000.0  10000.0     0.0  0.0  3000.0     0.0   \n",
       "20  0.0  0.0  10000.0  0.0  5000.0  10000.0     0.0  0.0  3000.0     0.0   \n",
       "\n",
       "       T,C     T,D  Costs  \n",
       "0      0.0  9000.0   0.50  \n",
       "1      0.0  9000.0   0.51  \n",
       "2      0.0  9000.0   0.52  \n",
       "3      0.0  9000.0   0.53  \n",
       "4      0.0  9000.0   0.54  \n",
       "5      0.0  9000.0   0.55  \n",
       "6      0.0  9000.0   0.56  \n",
       "7      0.0  9000.0   0.57  \n",
       "8   2000.0  9000.0   0.58  \n",
       "9   2000.0  9000.0   0.59  \n",
       "10  2000.0  9000.0   0.60  \n",
       "11  2000.0  9000.0   0.61  \n",
       "12  2000.0  9000.0   0.62  \n",
       "13  2000.0  9000.0   0.63  \n",
       "14  2000.0  9000.0   0.64  \n",
       "15  2000.0  9000.0   0.65  \n",
       "16  2000.0  9000.0   0.66  \n",
       "17  2000.0  9000.0   0.67  \n",
       "18  2000.0  9000.0   0.68  \n",
       "19  2000.0  9000.0   0.69  \n",
       "20  2000.0  9000.0   0.70  "
      ]
     },
     "execution_count": 27,
     "metadata": {},
     "output_type": "execute_result"
    }
   ],
   "source": [
    "DV_col_names=['M,A','M,B','M,C','M,D','P,A','P,B','P,C','P,D', 'T,A','T,B','T,C','T,D']\n",
    "DV_df_tb = pd.DataFrame(DV_list_tb,\n",
    "                        columns = DV_col_names)\n",
    "DV_df_tb['Costs'] = tuc_bos_costs\n",
    "DV_df_tb"
   ]
  },
  {
   "cell_type": "markdown",
   "metadata": {},
   "source": [
    "We'll finish looking at this data by creating a line plot to monitor the changes in the optimal DV over the different Tucson-Boston cost changes. So - this kinda works but we have too\n",
    "many decision variables it is hard to follow the colors."
   ]
  },
  {
   "cell_type": "code",
   "execution_count": 28,
   "metadata": {},
   "outputs": [
    {
     "data": {
      "image/png": "[encoded data removed]",
      "text/plain": [
       "<Figure size 576x360 with 1 Axes>"
      ]
     },
     "metadata": {
      "needs_background": "light"
     },
     "output_type": "display_data"
    }
   ],
   "source": [
    "plt.figure(figsize=(8,5))\n",
    "sns.lineplot(x = 'Costs', y = 'value', style = 'variable', data = pd.melt(DV_df_tb, 'Costs'))\n",
    "plt.grid()\n",
    "plt.title('Change in Decision Variables by Tucson to Boston Cost')\n",
    "plt.ylabel('units sent along each route')\n",
    "plt.show()"
   ]
  },
  {
   "cell_type": "markdown",
   "metadata": {},
   "source": [
    "For our final version, let's create a plot for each Plant's Decision Variables. Remember we stored the Plant,Warehouse pairs for the Decision Variables in the list `DV_col_names`. I will pull out just the ones that are needed for the specific Plant. For example, here we see the Tucson pairs."
   ]
  },
  {
   "cell_type": "code",
   "execution_count": 29,
   "metadata": {},
   "outputs": [
    {
     "name": "stdout",
     "output_type": "stream",
     "text": [
      "['M,A', 'M,B', 'M,C', 'M,D', 'P,A', 'P,B', 'P,C', 'P,D', 'T,A', 'T,B', 'T,C', 'T,D']\n"
     ]
    },
    {
     "data": {
      "text/plain": [
       "['T,A', 'T,B', 'T,C', 'T,D']"
      ]
     },
     "execution_count": 29,
     "metadata": {},
     "output_type": "execute_result"
    }
   ],
   "source": [
    "print(DV_col_names)\n",
    "DV_col_names[8:12]"
   ]
  },
  {
   "cell_type": "code",
   "execution_count": 30,
   "metadata": {},
   "outputs": [
    {
     "data": {
      "text/html": [
       "<div>\n",
       "<style scoped>\n",
       "    .dataframe tbody tr th:only-of-type {\n",
       "        vertical-align: middle;\n",
       "    }\n",
       "\n",
       "    .dataframe tbody tr th {\n",
       "        vertical-align: top;\n",
       "    }\n",
       "\n",
       "    .dataframe thead th {\n",
       "        text-align: right;\n",
       "    }\n",
       "</style>\n",
       "<table border=\"1\" class=\"dataframe\">\n",
       "  <thead>\n",
       "    <tr style=\"text-align: right;\">\n",
       "      <th></th>\n",
       "      <th>Costs</th>\n",
       "      <th>variable</th>\n",
       "      <th>value</th>\n",
       "    </tr>\n",
       "  </thead>\n",
       "  <tbody>\n",
       "    <tr>\n",
       "      <th>0</th>\n",
       "      <td>0.50</td>\n",
       "      <td>M,A</td>\n",
       "      <td>0.0</td>\n",
       "    </tr>\n",
       "    <tr>\n",
       "      <th>1</th>\n",
       "      <td>0.51</td>\n",
       "      <td>M,A</td>\n",
       "      <td>0.0</td>\n",
       "    </tr>\n",
       "    <tr>\n",
       "      <th>2</th>\n",
       "      <td>0.52</td>\n",
       "      <td>M,A</td>\n",
       "      <td>0.0</td>\n",
       "    </tr>\n",
       "    <tr>\n",
       "      <th>3</th>\n",
       "      <td>0.53</td>\n",
       "      <td>M,A</td>\n",
       "      <td>0.0</td>\n",
       "    </tr>\n",
       "    <tr>\n",
       "      <th>4</th>\n",
       "      <td>0.54</td>\n",
       "      <td>M,A</td>\n",
       "      <td>0.0</td>\n",
       "    </tr>\n",
       "    <tr>\n",
       "      <th>...</th>\n",
       "      <td>...</td>\n",
       "      <td>...</td>\n",
       "      <td>...</td>\n",
       "    </tr>\n",
       "    <tr>\n",
       "      <th>247</th>\n",
       "      <td>0.66</td>\n",
       "      <td>T,D</td>\n",
       "      <td>9000.0</td>\n",
       "    </tr>\n",
       "    <tr>\n",
       "      <th>248</th>\n",
       "      <td>0.67</td>\n",
       "      <td>T,D</td>\n",
       "      <td>9000.0</td>\n",
       "    </tr>\n",
       "    <tr>\n",
       "      <th>249</th>\n",
       "      <td>0.68</td>\n",
       "      <td>T,D</td>\n",
       "      <td>9000.0</td>\n",
       "    </tr>\n",
       "    <tr>\n",
       "      <th>250</th>\n",
       "      <td>0.69</td>\n",
       "      <td>T,D</td>\n",
       "      <td>9000.0</td>\n",
       "    </tr>\n",
       "    <tr>\n",
       "      <th>251</th>\n",
       "      <td>0.70</td>\n",
       "      <td>T,D</td>\n",
       "      <td>9000.0</td>\n",
       "    </tr>\n",
       "  </tbody>\n",
       "</table>\n",
       "<p>252 rows × 3 columns</p>\n",
       "</div>"
      ],
      "text/plain": [
       "     Costs variable   value\n",
       "0     0.50      M,A     0.0\n",
       "1     0.51      M,A     0.0\n",
       "2     0.52      M,A     0.0\n",
       "3     0.53      M,A     0.0\n",
       "4     0.54      M,A     0.0\n",
       "..     ...      ...     ...\n",
       "247   0.66      T,D  9000.0\n",
       "248   0.67      T,D  9000.0\n",
       "249   0.68      T,D  9000.0\n",
       "250   0.69      T,D  9000.0\n",
       "251   0.70      T,D  9000.0\n",
       "\n",
       "[252 rows x 3 columns]"
      ]
     },
     "execution_count": 30,
     "metadata": {},
     "output_type": "execute_result"
    }
   ],
   "source": [
    "df = pd.melt(DV_df_tb, 'Costs')\n",
    "df"
   ]
  },
  {
   "cell_type": "code",
   "execution_count": 31,
   "metadata": {},
   "outputs": [
    {
     "data": {
      "image/png": "[encoded data removed]",
      "text/plain": [
       "<Figure size 576x360 with 1 Axes>"
      ]
     },
     "metadata": {
      "needs_background": "light"
     },
     "output_type": "display_data"
    }
   ],
   "source": [
    "plt.figure(figsize=(8,5))\n",
    "sns.lineplot(x = 'Costs', y = 'value', hue = 'variable', palette = sns.color_palette(\"Paired\"),\n",
    "             data = df)\n",
    "plt.grid()\n",
    "plt.title('Change in Decision Variables by Tucson to Boston Cost')\n",
    "plt.ylabel('units sent along each route')\n",
    "plt.legend(title = \"route\")\n",
    "plt.show()"
   ]
  },
  {
   "cell_type": "code",
   "execution_count": 32,
   "metadata": {},
   "outputs": [
    {
     "data": {
      "text/html": [
       "<div>\n",
       "<style scoped>\n",
       "    .dataframe tbody tr th:only-of-type {\n",
       "        vertical-align: middle;\n",
       "    }\n",
       "\n",
       "    .dataframe tbody tr th {\n",
       "        vertical-align: top;\n",
       "    }\n",
       "\n",
       "    .dataframe thead th {\n",
       "        text-align: right;\n",
       "    }\n",
       "</style>\n",
       "<table border=\"1\" class=\"dataframe\">\n",
       "  <thead>\n",
       "    <tr style=\"text-align: right;\">\n",
       "      <th></th>\n",
       "      <th>Costs</th>\n",
       "      <th>variable</th>\n",
       "      <th>value</th>\n",
       "      <th>plants</th>\n",
       "    </tr>\n",
       "  </thead>\n",
       "  <tbody>\n",
       "    <tr>\n",
       "      <th>0</th>\n",
       "      <td>0.50</td>\n",
       "      <td>M,A</td>\n",
       "      <td>0.0</td>\n",
       "      <td>M</td>\n",
       "    </tr>\n",
       "    <tr>\n",
       "      <th>1</th>\n",
       "      <td>0.51</td>\n",
       "      <td>M,A</td>\n",
       "      <td>0.0</td>\n",
       "      <td>M</td>\n",
       "    </tr>\n",
       "    <tr>\n",
       "      <th>2</th>\n",
       "      <td>0.52</td>\n",
       "      <td>M,A</td>\n",
       "      <td>0.0</td>\n",
       "      <td>M</td>\n",
       "    </tr>\n",
       "    <tr>\n",
       "      <th>3</th>\n",
       "      <td>0.53</td>\n",
       "      <td>M,A</td>\n",
       "      <td>0.0</td>\n",
       "      <td>M</td>\n",
       "    </tr>\n",
       "    <tr>\n",
       "      <th>4</th>\n",
       "      <td>0.54</td>\n",
       "      <td>M,A</td>\n",
       "      <td>0.0</td>\n",
       "      <td>M</td>\n",
       "    </tr>\n",
       "    <tr>\n",
       "      <th>...</th>\n",
       "      <td>...</td>\n",
       "      <td>...</td>\n",
       "      <td>...</td>\n",
       "      <td>...</td>\n",
       "    </tr>\n",
       "    <tr>\n",
       "      <th>247</th>\n",
       "      <td>0.66</td>\n",
       "      <td>T,D</td>\n",
       "      <td>9000.0</td>\n",
       "      <td>T</td>\n",
       "    </tr>\n",
       "    <tr>\n",
       "      <th>248</th>\n",
       "      <td>0.67</td>\n",
       "      <td>T,D</td>\n",
       "      <td>9000.0</td>\n",
       "      <td>T</td>\n",
       "    </tr>\n",
       "    <tr>\n",
       "      <th>249</th>\n",
       "      <td>0.68</td>\n",
       "      <td>T,D</td>\n",
       "      <td>9000.0</td>\n",
       "      <td>T</td>\n",
       "    </tr>\n",
       "    <tr>\n",
       "      <th>250</th>\n",
       "      <td>0.69</td>\n",
       "      <td>T,D</td>\n",
       "      <td>9000.0</td>\n",
       "      <td>T</td>\n",
       "    </tr>\n",
       "    <tr>\n",
       "      <th>251</th>\n",
       "      <td>0.70</td>\n",
       "      <td>T,D</td>\n",
       "      <td>9000.0</td>\n",
       "      <td>T</td>\n",
       "    </tr>\n",
       "  </tbody>\n",
       "</table>\n",
       "<p>252 rows × 4 columns</p>\n",
       "</div>"
      ],
      "text/plain": [
       "     Costs variable   value plants\n",
       "0     0.50      M,A     0.0      M\n",
       "1     0.51      M,A     0.0      M\n",
       "2     0.52      M,A     0.0      M\n",
       "3     0.53      M,A     0.0      M\n",
       "4     0.54      M,A     0.0      M\n",
       "..     ...      ...     ...    ...\n",
       "247   0.66      T,D  9000.0      T\n",
       "248   0.67      T,D  9000.0      T\n",
       "249   0.68      T,D  9000.0      T\n",
       "250   0.69      T,D  9000.0      T\n",
       "251   0.70      T,D  9000.0      T\n",
       "\n",
       "[252 rows x 4 columns]"
      ]
     },
     "execution_count": 32,
     "metadata": {},
     "output_type": "execute_result"
    }
   ],
   "source": [
    "df['plants'] = df['variable'].str[:1]\n",
    "df"
   ]
  },
  {
   "cell_type": "code",
   "execution_count": 33,
   "metadata": {},
   "outputs": [
    {
     "data": {
      "image/png": "[encoded data removed]",
      "text/plain": [
       "<Figure size 595.5x648 with 3 Axes>"
      ]
     },
     "metadata": {
      "needs_background": "light"
     },
     "output_type": "display_data"
    }
   ],
   "source": [
    "sns.set_style({'axes.grid' : True,'axes.edgecolor':'black'})\n",
    "facet_plot = sns.FacetGrid(data = df, row = 'plants', hue = 'variable', height = 3, aspect = 2.5)\n",
    "facet_plot.map(sns.lineplot, 'Costs', 'value').add_legend()\n",
    "facet_plot.fig.subplots_adjust(top = 0.9)\n",
    "facet_plot.fig.suptitle('Change in Decision Variables by Tucson to Boston Cost')\n",
    "plt.show()"
   ]
  },
  {
   "cell_type": "code",
   "execution_count": null,
   "metadata": {},
   "outputs": [],
   "source": []
  }
 ],
 "metadata": {
  "kernelspec": {
   "display_name": "info-3440",
   "language": "python",
   "name": "info-3440"
  },
  "language_info": {
   "codemirror_mode": {
    "name": "ipython",
    "version": 3
   },
   "file_extension": ".py",
   "mimetype": "text/x-python",
   "name": "python",
   "nbconvert_exporter": "python",
   "pygments_lexer": "ipython3",
   "version": "3.8.12"
  }
 },
 "nbformat": 4,
 "nbformat_minor": 4
}
