{
 "cells": [
  {
   "cell_type": "markdown",
   "metadata": {},
   "source": [
    "# Table of Contents<a id=\"Top\"></a>\n",
    "\n",
    "1. [Problem Statement](#1)<br>\n",
    "2. [Data](#2) <br>\n",
    "3. [Model Definition](#3)<br>\n",
    "4. [Model Solution](#4)<br>\n",
    "5. [Sensitivity Analysis](#5)<br>\n",
    "    5.1 [TUC - ATL](#5.1)<br>"
   ]
  },
  {
   "cell_type": "markdown",
   "metadata": {},
   "source": [
    "# 1. Problem Statement<a id=1></a>"
   ]
  },
  {
   "cell_type": "markdown",
   "metadata": {},
   "source": [
    "This problem is one of our first network problem examples from Example 3.1 in the textbook. Recall that the problem is related to shipping from plants to warehouses with the follong capacity and requirement constraints. Our goal is to minimize the costs. "
   ]
  },
  {
   "cell_type": "markdown",
   "metadata": {},
   "source": [
    "If you have the figure `problem.png` in the same folder as this .ipynb, you can see the picture that uses this code: `![Table of Data](problem.png)`"
   ]
  },
  {
   "cell_type": "markdown",
   "metadata": {},
   "source": [
    "![Table of Data](problem.png)"
   ]
  },
  {
   "cell_type": "markdown",
   "metadata": {},
   "source": [
    "##### [Back to Top](#Top)"
   ]
  },
  {
   "cell_type": "markdown",
   "metadata": {},
   "source": [
    "# 2. Data<a id=2></a>"
   ]
  },
  {
   "cell_type": "code",
   "execution_count": 1,
   "metadata": {},
   "outputs": [],
   "source": [
    "import pandas as pd \n",
    "import pyomo.environ as pe\n",
    "import matplotlib.pyplot as plt\n",
    "import seaborn as sns"
   ]
  },
  {
   "cell_type": "markdown",
   "metadata": {},
   "source": [
    "### Read and convert data"
   ]
  },
  {
   "cell_type": "markdown",
   "metadata": {},
   "source": [
    "The first sheet in the excel file `w05-c02-transportation.xlsx` contains the problem setup and solution to this linear program. There are also 2 additional sheets: `coef` and `rhs` that hold the data needed to create the objective function and constraints. The `index_col=0` tells it to use the first row (remember the first row is index 0) as column headers. The `usecols` tells it what columns to import. Remember the first column index is 0. Use tab in the pd.read_excel() function see the different options. Note that we will use the `pd.ExcelFile` to read in the file and then extract sheets individually in the code cell after reading the Excel file."
   ]
  },
  {
   "cell_type": "code",
   "execution_count": 2,
   "metadata": {
    "tags": []
   },
   "outputs": [
    {
     "data": {
      "text/plain": [
       "['Sensitivity Report 1', 'Transportation', 'coef', 'rhs']"
      ]
     },
     "execution_count": 2,
     "metadata": {},
     "output_type": "execute_result"
    }
   ],
   "source": [
    "xlsx_file = pd.ExcelFile('w05-c02-transportation.xlsx')\n",
    "xlsx_file.sheet_names"
   ]
  },
  {
   "cell_type": "markdown",
   "metadata": {},
   "source": [
    "Show the tab and shift-tab tricks. "
   ]
  },
  {
   "cell_type": "code",
   "execution_count": 3,
   "metadata": {},
   "outputs": [
    {
     "data": {
      "text/html": [
       "<div>\n",
       "<style scoped>\n",
       "    .dataframe tbody tr th:only-of-type {\n",
       "        vertical-align: middle;\n",
       "    }\n",
       "\n",
       "    .dataframe tbody tr th {\n",
       "        vertical-align: top;\n",
       "    }\n",
       "\n",
       "    .dataframe thead th {\n",
       "        text-align: right;\n",
       "    }\n",
       "</style>\n",
       "<table border=\"1\" class=\"dataframe\">\n",
       "  <thead>\n",
       "    <tr style=\"text-align: right;\">\n",
       "      <th></th>\n",
       "      <th>ATL</th>\n",
       "      <th>BOS</th>\n",
       "      <th>CHI</th>\n",
       "      <th>DEN</th>\n",
       "    </tr>\n",
       "  </thead>\n",
       "  <tbody>\n",
       "    <tr>\n",
       "      <th>MIN</th>\n",
       "      <td>0.60</td>\n",
       "      <td>0.56</td>\n",
       "      <td>0.22</td>\n",
       "      <td>0.40</td>\n",
       "    </tr>\n",
       "    <tr>\n",
       "      <th>PIT</th>\n",
       "      <td>0.36</td>\n",
       "      <td>0.30</td>\n",
       "      <td>0.28</td>\n",
       "      <td>0.58</td>\n",
       "    </tr>\n",
       "    <tr>\n",
       "      <th>TUC</th>\n",
       "      <td>0.65</td>\n",
       "      <td>0.68</td>\n",
       "      <td>0.55</td>\n",
       "      <td>0.42</td>\n",
       "    </tr>\n",
       "  </tbody>\n",
       "</table>\n",
       "</div>"
      ],
      "text/plain": [
       "      ATL   BOS   CHI   DEN\n",
       "MIN  0.60  0.56  0.22  0.40\n",
       "PIT  0.36  0.30  0.28  0.58\n",
       "TUC  0.65  0.68  0.55  0.42"
      ]
     },
     "execution_count": 3,
     "metadata": {},
     "output_type": "execute_result"
    }
   ],
   "source": [
    "cost = pd.read_excel(xlsx_file, sheet_name = 'coef', index_col = 0)\n",
    "cost"
   ]
  },
  {
   "cell_type": "code",
   "execution_count": 4,
   "metadata": {},
   "outputs": [],
   "source": [
    "demand = pd.read_excel(xlsx_file, sheet_name = 'rhs', index_col = 0, usecols = [0,1])\n",
    "capacity = pd.read_excel(xlsx_file, sheet_name = 'rhs', index_col = 0, \n",
    "                         usecols = [3,4], nrows = 3)"
   ]
  },
  {
   "cell_type": "code",
   "execution_count": 5,
   "metadata": {},
   "outputs": [
    {
     "data": {
      "text/html": [
       "<div>\n",
       "<style scoped>\n",
       "    .dataframe tbody tr th:only-of-type {\n",
       "        vertical-align: middle;\n",
       "    }\n",
       "\n",
       "    .dataframe tbody tr th {\n",
       "        vertical-align: top;\n",
       "    }\n",
       "\n",
       "    .dataframe thead th {\n",
       "        text-align: right;\n",
       "    }\n",
       "</style>\n",
       "<table border=\"1\" class=\"dataframe\">\n",
       "  <thead>\n",
       "    <tr style=\"text-align: right;\">\n",
       "      <th></th>\n",
       "      <th>Requirement</th>\n",
       "    </tr>\n",
       "    <tr>\n",
       "      <th>Warehouse</th>\n",
       "      <th></th>\n",
       "    </tr>\n",
       "  </thead>\n",
       "  <tbody>\n",
       "    <tr>\n",
       "      <th>ATL</th>\n",
       "      <td>8000</td>\n",
       "    </tr>\n",
       "    <tr>\n",
       "      <th>BOS</th>\n",
       "      <td>10000</td>\n",
       "    </tr>\n",
       "    <tr>\n",
       "      <th>CHI</th>\n",
       "      <td>12000</td>\n",
       "    </tr>\n",
       "    <tr>\n",
       "      <th>DEN</th>\n",
       "      <td>9000</td>\n",
       "    </tr>\n",
       "  </tbody>\n",
       "</table>\n",
       "</div>"
      ],
      "text/plain": [
       "           Requirement\n",
       "Warehouse             \n",
       "ATL               8000\n",
       "BOS              10000\n",
       "CHI              12000\n",
       "DEN               9000"
      ]
     },
     "execution_count": 5,
     "metadata": {},
     "output_type": "execute_result"
    }
   ],
   "source": [
    "demand"
   ]
  },
  {
   "cell_type": "code",
   "execution_count": 6,
   "metadata": {},
   "outputs": [
    {
     "data": {
      "text/html": [
       "<div>\n",
       "<style scoped>\n",
       "    .dataframe tbody tr th:only-of-type {\n",
       "        vertical-align: middle;\n",
       "    }\n",
       "\n",
       "    .dataframe tbody tr th {\n",
       "        vertical-align: top;\n",
       "    }\n",
       "\n",
       "    .dataframe thead th {\n",
       "        text-align: right;\n",
       "    }\n",
       "</style>\n",
       "<table border=\"1\" class=\"dataframe\">\n",
       "  <thead>\n",
       "    <tr style=\"text-align: right;\">\n",
       "      <th></th>\n",
       "      <th>Capacity</th>\n",
       "    </tr>\n",
       "    <tr>\n",
       "      <th>Plant</th>\n",
       "      <th></th>\n",
       "    </tr>\n",
       "  </thead>\n",
       "  <tbody>\n",
       "    <tr>\n",
       "      <th>MIN</th>\n",
       "      <td>10000</td>\n",
       "    </tr>\n",
       "    <tr>\n",
       "      <th>PIT</th>\n",
       "      <td>15000</td>\n",
       "    </tr>\n",
       "    <tr>\n",
       "      <th>TUC</th>\n",
       "      <td>15000</td>\n",
       "    </tr>\n",
       "  </tbody>\n",
       "</table>\n",
       "</div>"
      ],
      "text/plain": [
       "       Capacity\n",
       "Plant          \n",
       "MIN       10000\n",
       "PIT       15000\n",
       "TUC       15000"
      ]
     },
     "execution_count": 6,
     "metadata": {},
     "output_type": "execute_result"
    }
   ],
   "source": [
    "capacity"
   ]
  },
  {
   "cell_type": "markdown",
   "metadata": {},
   "source": [
    "##### [Back to Top](#Top)"
   ]
  },
  {
   "cell_type": "markdown",
   "metadata": {},
   "source": [
    "# 3. Model Definition<a id=3><a>"
   ]
  },
  {
   "cell_type": "code",
   "execution_count": 7,
   "metadata": {},
   "outputs": [],
   "source": [
    "model = pe.ConcreteModel()"
   ]
  },
  {
   "cell_type": "markdown",
   "metadata": {},
   "source": [
    "### Define Decision Variables"
   ]
  },
  {
   "cell_type": "markdown",
   "metadata": {},
   "source": [
    "We will create three plant variables with individual indexes for the four warehouses. "
   ]
  },
  {
   "cell_type": "code",
   "execution_count": 8,
   "metadata": {},
   "outputs": [
    {
     "name": "stdout",
     "output_type": "stream",
     "text": [
      "3 Set Declarations\n",
      "    MIN_index : Size=1, Index=None, Ordered=Insertion\n",
      "        Key  : Dimen : Domain : Size : Members\n",
      "        None :     1 :    Any :    4 : {'ATL', 'BOS', 'CHI', 'DEN'}\n",
      "    PIT_index : Size=1, Index=None, Ordered=Insertion\n",
      "        Key  : Dimen : Domain : Size : Members\n",
      "        None :     1 :    Any :    4 : {'ATL', 'BOS', 'CHI', 'DEN'}\n",
      "    TUC_index : Size=1, Index=None, Ordered=Insertion\n",
      "        Key  : Dimen : Domain : Size : Members\n",
      "        None :     1 :    Any :    4 : {'ATL', 'BOS', 'CHI', 'DEN'}\n",
      "\n",
      "3 Var Declarations\n",
      "    MIN : Size=4, Index=MIN_index\n",
      "        Key : Lower : Value : Upper : Fixed : Stale : Domain\n",
      "        ATL :     0 :  None :  None : False :  True : NonNegativeReals\n",
      "        BOS :     0 :  None :  None : False :  True : NonNegativeReals\n",
      "        CHI :     0 :  None :  None : False :  True : NonNegativeReals\n",
      "        DEN :     0 :  None :  None : False :  True : NonNegativeReals\n",
      "    PIT : Size=4, Index=PIT_index\n",
      "        Key : Lower : Value : Upper : Fixed : Stale : Domain\n",
      "        ATL :     0 :  None :  None : False :  True : NonNegativeReals\n",
      "        BOS :     0 :  None :  None : False :  True : NonNegativeReals\n",
      "        CHI :     0 :  None :  None : False :  True : NonNegativeReals\n",
      "        DEN :     0 :  None :  None : False :  True : NonNegativeReals\n",
      "    TUC : Size=4, Index=TUC_index\n",
      "        Key : Lower : Value : Upper : Fixed : Stale : Domain\n",
      "        ATL :     0 :  None :  None : False :  True : NonNegativeReals\n",
      "        BOS :     0 :  None :  None : False :  True : NonNegativeReals\n",
      "        CHI :     0 :  None :  None : False :  True : NonNegativeReals\n",
      "        DEN :     0 :  None :  None : False :  True : NonNegativeReals\n",
      "\n",
      "6 Declarations: MIN_index MIN PIT_index PIT TUC_index TUC\n"
     ]
    }
   ],
   "source": [
    "DV_indexes = ['ATL', 'BOS', 'CHI', 'DEN']\n",
    "model.MIN = pe.Var(DV_indexes, domain = pe.NonNegativeReals)\n",
    "model.PIT = pe.Var(DV_indexes, domain = pe.NonNegativeReals)\n",
    "model.TUC = pe.Var(DV_indexes, domain = pe.NonNegativeReals)\n",
    "model.pprint()"
   ]
  },
  {
   "cell_type": "markdown",
   "metadata": {},
   "source": [
    "### Define Objective Function"
   ]
  },
  {
   "cell_type": "markdown",
   "metadata": {},
   "source": [
    "Here we need to create a formula for all 12 decision variables. We loop through the warehouse indexes for each plant."
   ]
  },
  {
   "cell_type": "code",
   "execution_count": 9,
   "metadata": {},
   "outputs": [],
   "source": [
    "model.obj = pe.Objective(expr = sum([cost.loc['MIN', index]*model.MIN[index] for index in DV_indexes] +\n",
    "                         [cost.loc['PIT', index]*model.PIT[index] for index in DV_indexes] +\n",
    "                         [cost.loc['TUC', index]*model.TUC[index] for index in DV_indexes]),\n",
    "                         sense = pe.minimize)"
   ]
  },
  {
   "cell_type": "code",
   "execution_count": 10,
   "metadata": {},
   "outputs": [
    {
     "name": "stdout",
     "output_type": "stream",
     "text": [
      "obj : Size=1, Index=None, Active=True\n",
      "    Key  : Active : Sense    : Expression\n",
      "    None :   True : minimize : 0.6*MIN[ATL] + 0.56*MIN[BOS] + 0.22*MIN[CHI] + 0.4*MIN[DEN] + 0.36*PIT[ATL] + 0.3*PIT[BOS] + 0.28*PIT[CHI] + 0.58*PIT[DEN] + 0.65*TUC[ATL] + 0.68*TUC[BOS] + 0.55*TUC[CHI] + 0.42*TUC[DEN]\n"
     ]
    }
   ],
   "source": [
    "model.obj.pprint()"
   ]
  },
  {
   "cell_type": "markdown",
   "metadata": {},
   "source": [
    "### Define Constraints"
   ]
  },
  {
   "cell_type": "markdown",
   "metadata": {},
   "source": [
    "We finish defining the model by defining both the capacity and demand constraints."
   ]
  },
  {
   "cell_type": "code",
   "execution_count": 11,
   "metadata": {},
   "outputs": [
    {
     "data": {
      "text/plain": [
       "Capacity    15000\n",
       "Name: PIT, dtype: int64"
      ]
     },
     "execution_count": 12,
     "metadata": {},
     "output_type": "execute_result"
    }
   ],
   "source": [
    "capacity.loc['PIT', 'Capacity']"
   ]
  },
  {
   "cell_type": "code",
   "execution_count": 13,
   "metadata": {},
   "outputs": [],
   "source": [
    "#Capacity Constraints\n",
    "model.con_MIN = pe.Constraint(expr = sum([model.MIN[index] for index in DV_indexes]) \n",
    "                              <= capacity.loc['MIN','Capacity'])\n",
    "model.con_PIT = pe.Constraint(expr = sum([model.PIT[index] for index in DV_indexes])\n",
    "                              <= capacity.loc['PIT','Capacity'])\n",
    "model.con_TUC = pe.Constraint(expr = sum([model.TUC[index] for index in DV_indexes])\n",
    "                              <= capacity.loc['TUC','Capacity'])   \n",
    "#Demand Constraints\n",
    "model.con_ATL = pe.Constraint(expr = model.MIN['ATL'] + model.PIT['ATL']+ \n",
    "                              model.TUC['ATL'] >= demand.loc['ATL', 'Requirement'])\n",
    "model.con_BOS = pe.Constraint(expr = model.MIN['BOS'] + model.PIT['BOS']+ \n",
    "                              model.TUC['BOS'] >= demand.loc['BOS', 'Requirement'])\n",
    "model.con_CHI = pe.Constraint(expr = model.MIN['CHI'] + model.PIT['CHI']+ \n",
    "                              model.TUC['CHI'] >= demand.loc['CHI', 'Requirement'])\n",
    "model.con_DEN = pe.Constraint(expr = model.MIN['DEN'] + model.PIT['DEN']+ \n",
    "                              model.TUC['DEN'] >= demand.loc['DEN', 'Requirement'])"
   ]
  },
  {
   "cell_type": "code",
   "execution_count": 14,
   "metadata": {},
   "outputs": [
    {
     "name": "stdout",
     "output_type": "stream",
     "text": [
      "con_MIN : Size=1, Index=None, Active=True\n",
      "    Key  : Lower : Body                                      : Upper   : Active\n",
      "    None :  -Inf : MIN[ATL] + MIN[BOS] + MIN[CHI] + MIN[DEN] : 10000.0 :   True\n"
     ]
    }
   ],
   "source": [
    "model.con_MIN.pprint()"
   ]
  },
  {
   "cell_type": "code",
   "execution_count": 16,
   "metadata": {},
   "outputs": [
    {
     "name": "stdout",
     "output_type": "stream",
     "text": [
      "con_DEN : Size=1, Index=None, Active=True\n",
      "    Key  : Lower  : Body                           : Upper : Active\n",
      "    None : 9000.0 : MIN[DEN] + PIT[DEN] + TUC[DEN] :  +Inf :   True\n"
     ]
    }
   ],
   "source": [
    "model.con_DEN.pprint()"
   ]
  },
  {
   "cell_type": "markdown",
   "metadata": {},
   "source": [
    "##### [Back to Top](#Top)"
   ]
  },
  {
   "cell_type": "markdown",
   "metadata": {},
   "source": [
    "# 4. Model Solution<a id=4></a>"
   ]
  },
  {
   "cell_type": "code",
   "execution_count": 17,
   "metadata": {},
   "outputs": [
    {
     "name": "stdout",
     "output_type": "stream",
     "text": [
      "ok optimal\n"
     ]
    }
   ],
   "source": [
    "opt = pe.SolverFactory('glpk')\n",
    "result = opt.solve(model, tee = False)\n",
    "print(result.solver.status, result.solver.termination_condition)"
   ]
  },
  {
   "cell_type": "markdown",
   "metadata": {},
   "source": [
    "And here we show the final values for the model shown in the constraints as `Body`.\n",
    "Note we can see the final values for our demand and capacity constraints. All of our lhs values are at the bounds so are binding constraints except for capacity constraint 3 which had a final value of 14,000 but the capacity is 15,000 so it had a slack of 1,000 units."
   ]
  },
  {
   "cell_type": "code",
   "execution_count": 18,
   "metadata": {},
   "outputs": [
    {
     "name": "stdout",
     "output_type": "stream",
     "text": [
      "Model unknown\n",
      "\n",
      "  Variables:\n",
      "    MIN : Size=4, Index=MIN_index\n",
      "        Key : Lower : Value   : Upper : Fixed : Stale : Domain\n",
      "        ATL :     0 :     0.0 :  None : False : False : NonNegativeReals\n",
      "        BOS :     0 :     0.0 :  None : False : False : NonNegativeReals\n",
      "        CHI :     0 : 10000.0 :  None : False : False : NonNegativeReals\n",
      "        DEN :     0 :     0.0 :  None : False : False : NonNegativeReals\n",
      "    PIT : Size=4, Index=PIT_index\n",
      "        Key : Lower : Value   : Upper : Fixed : Stale : Domain\n",
      "        ATL :     0 :  5000.0 :  None : False : False : NonNegativeReals\n",
      "        BOS :     0 : 10000.0 :  None : False : False : NonNegativeReals\n",
      "        CHI :     0 :     0.0 :  None : False : False : NonNegativeReals\n",
      "        DEN :     0 :     0.0 :  None : False : False : NonNegativeReals\n",
      "    TUC : Size=4, Index=TUC_index\n",
      "        Key : Lower : Value  : Upper : Fixed : Stale : Domain\n",
      "        ATL :     0 : 3000.0 :  None : False : False : NonNegativeReals\n",
      "        BOS :     0 :    0.0 :  None : False : False : NonNegativeReals\n",
      "        CHI :     0 : 2000.0 :  None : False : False : NonNegativeReals\n",
      "        DEN :     0 : 9000.0 :  None : False : False : NonNegativeReals\n",
      "\n",
      "  Objectives:\n",
      "    obj : Size=1, Index=None, Active=True\n",
      "        Key  : Active : Value\n",
      "        None :   True : 13830.0\n",
      "\n",
      "  Constraints:\n",
      "    con_MIN : Size=1\n",
      "        Key  : Lower : Body    : Upper\n",
      "        None :  None : 10000.0 : 10000.0\n",
      "    con_PIT : Size=1\n",
      "        Key  : Lower : Body    : Upper\n",
      "        None :  None : 15000.0 : 15000.0\n",
      "    con_TUC : Size=1\n",
      "        Key  : Lower : Body    : Upper\n",
      "        None :  None : 14000.0 : 15000.0\n",
      "    con_ATL : Size=1\n",
      "        Key  : Lower  : Body   : Upper\n",
      "        None : 8000.0 : 8000.0 :  None\n",
      "    con_BOS : Size=1\n",
      "        Key  : Lower   : Body    : Upper\n",
      "        None : 10000.0 : 10000.0 :  None\n",
      "    con_CHI : Size=1\n",
      "        Key  : Lower   : Body    : Upper\n",
      "        None : 12000.0 : 12000.0 :  None\n",
      "    con_DEN : Size=1\n",
      "        Key  : Lower  : Body   : Upper\n",
      "        None : 9000.0 : 9000.0 :  None\n"
     ]
    }
   ],
   "source": [
    "model.display()"
   ]
  },
  {
   "cell_type": "markdown",
   "metadata": {},
   "source": [
    "The above shows us all the information all at once. Let's pull out the optimal minimum cost and the final value of the decision variables."
   ]
  },
  {
   "cell_type": "markdown",
   "metadata": {},
   "source": [
    "#### Optimal Objective Value"
   ]
  },
  {
   "cell_type": "code",
   "execution_count": 19,
   "metadata": {},
   "outputs": [
    {
     "name": "stdout",
     "output_type": "stream",
     "text": [
      "optimal objective value minimum cost = $13830.00\n"
     ]
    }
   ],
   "source": [
    "obj_val = model.obj.expr()\n",
    "print(f'optimal objective value minimum cost = ${obj_val:.2f}')"
   ]
  },
  {
   "cell_type": "markdown",
   "metadata": {},
   "source": [
    "#### Optimal Decision Variables"
   ]
  },
  {
   "cell_type": "markdown",
   "metadata": {},
   "source": [
    "In order to capture the results, we have to use new code to reference the 3 variable names - `model.component_objects(pe.Var)` and each set of indexes. We can use looping to pull out the values. "
   ]
  },
  {
   "cell_type": "code",
   "execution_count": 20,
   "metadata": {},
   "outputs": [
    {
     "name": "stdout",
     "output_type": "stream",
     "text": [
      "MIN\n",
      "  ATL 0.0\n",
      "  BOS 0.0\n",
      "  CHI 10000.0\n",
      "  DEN 0.0\n",
      "PIT\n",
      "  ATL 5000.0\n",
      "  BOS 10000.0\n",
      "  CHI 0.0\n",
      "  DEN 0.0\n",
      "TUC\n",
      "  ATL 3000.0\n",
      "  BOS 0.0\n",
      "  CHI 2000.0\n",
      "  DEN 9000.0\n"
     ]
    }
   ],
   "source": [
    "for DV in model.component_objects(pe.Var):\n",
    "    print(DV)\n",
    "    for var in DV:\n",
    "        print(\" \", var, DV[var].value)"
   ]
  },
  {
   "cell_type": "markdown",
   "metadata": {},
   "source": [
    "Let's do create a `pd.DataFrame` to store the results of our solution. "
   ]
  },
  {
   "cell_type": "code",
   "execution_count": 21,
   "metadata": {},
   "outputs": [
    {
     "data": {
      "text/html": [
       "<div>\n",
       "<style scoped>\n",
       "    .dataframe tbody tr th:only-of-type {\n",
       "        vertical-align: middle;\n",
       "    }\n",
       "\n",
       "    .dataframe tbody tr th {\n",
       "        vertical-align: top;\n",
       "    }\n",
       "\n",
       "    .dataframe thead th {\n",
       "        text-align: right;\n",
       "    }\n",
       "</style>\n",
       "<table border=\"1\" class=\"dataframe\">\n",
       "  <thead>\n",
       "    <tr style=\"text-align: right;\">\n",
       "      <th></th>\n",
       "      <th>ATL</th>\n",
       "      <th>BOS</th>\n",
       "      <th>CHI</th>\n",
       "      <th>DEN</th>\n",
       "    </tr>\n",
       "  </thead>\n",
       "  <tbody>\n",
       "    <tr>\n",
       "      <th>MIN</th>\n",
       "      <td>0.0</td>\n",
       "      <td>0.0</td>\n",
       "      <td>10000.0</td>\n",
       "      <td>0.0</td>\n",
       "    </tr>\n",
       "    <tr>\n",
       "      <th>PIT</th>\n",
       "      <td>5000.0</td>\n",
       "      <td>10000.0</td>\n",
       "      <td>0.0</td>\n",
       "      <td>0.0</td>\n",
       "    </tr>\n",
       "    <tr>\n",
       "      <th>TUC</th>\n",
       "      <td>3000.0</td>\n",
       "      <td>0.0</td>\n",
       "      <td>2000.0</td>\n",
       "      <td>9000.0</td>\n",
       "    </tr>\n",
       "  </tbody>\n",
       "</table>\n",
       "</div>"
      ],
      "text/plain": [
       "        ATL      BOS      CHI     DEN\n",
       "MIN     0.0      0.0  10000.0     0.0\n",
       "PIT  5000.0  10000.0      0.0     0.0\n",
       "TUC  3000.0      0.0   2000.0  9000.0"
      ]
     },
     "execution_count": 21,
     "metadata": {},
     "output_type": "execute_result"
    }
   ],
   "source": [
    "DV_solution = pd.DataFrame()\n",
    "for DV in model.component_objects(pe.Var):\n",
    "    for var in DV:\n",
    "        DV_solution.loc[DV.name, var] = DV[var].value\n",
    "DV_solution"
   ]
  },
  {
   "cell_type": "code",
   "execution_count": 22,
   "metadata": {},
   "outputs": [
    {
     "data": {
      "image/png": "[encoded data removed]",
      "text/plain": [
       "<Figure size 432x288 with 1 Axes>"
      ]
     },
     "metadata": {
      "needs_background": "light"
     },
     "output_type": "display_data"
    }
   ],
   "source": [
    "DV_solution.plot(kind = 'barh')\n",
    "plt.title(\"Transportation Decision Variables\")\n",
    "plt.xlabel('Quantity')\n",
    "plt.show()"
   ]
  },
  {
   "cell_type": "markdown",
   "metadata": {},
   "source": [
    "I would like us to use more `pandas` and `seaborn` type work, so an alternative to doing what we did above would be to melt the dataframe and then use `seaborn` to plot the bars. "
   ]
  },
  {
   "cell_type": "code",
   "execution_count": 23,
   "metadata": {},
   "outputs": [
    {
     "data": {
      "text/html": [
       "<div>\n",
       "<style scoped>\n",
       "    .dataframe tbody tr th:only-of-type {\n",
       "        vertical-align: middle;\n",
       "    }\n",
       "\n",
       "    .dataframe tbody tr th {\n",
       "        vertical-align: top;\n",
       "    }\n",
       "\n",
       "    .dataframe thead th {\n",
       "        text-align: right;\n",
       "    }\n",
       "</style>\n",
       "<table border=\"1\" class=\"dataframe\">\n",
       "  <thead>\n",
       "    <tr style=\"text-align: right;\">\n",
       "      <th></th>\n",
       "      <th>variable</th>\n",
       "      <th>value</th>\n",
       "    </tr>\n",
       "  </thead>\n",
       "  <tbody>\n",
       "    <tr>\n",
       "      <th>0</th>\n",
       "      <td>ATL</td>\n",
       "      <td>0.0</td>\n",
       "    </tr>\n",
       "    <tr>\n",
       "      <th>1</th>\n",
       "      <td>ATL</td>\n",
       "      <td>5000.0</td>\n",
       "    </tr>\n",
       "    <tr>\n",
       "      <th>2</th>\n",
       "      <td>ATL</td>\n",
       "      <td>3000.0</td>\n",
       "    </tr>\n",
       "    <tr>\n",
       "      <th>3</th>\n",
       "      <td>BOS</td>\n",
       "      <td>0.0</td>\n",
       "    </tr>\n",
       "    <tr>\n",
       "      <th>4</th>\n",
       "      <td>BOS</td>\n",
       "      <td>10000.0</td>\n",
       "    </tr>\n",
       "    <tr>\n",
       "      <th>5</th>\n",
       "      <td>BOS</td>\n",
       "      <td>0.0</td>\n",
       "    </tr>\n",
       "    <tr>\n",
       "      <th>6</th>\n",
       "      <td>CHI</td>\n",
       "      <td>10000.0</td>\n",
       "    </tr>\n",
       "    <tr>\n",
       "      <th>7</th>\n",
       "      <td>CHI</td>\n",
       "      <td>0.0</td>\n",
       "    </tr>\n",
       "    <tr>\n",
       "      <th>8</th>\n",
       "      <td>CHI</td>\n",
       "      <td>2000.0</td>\n",
       "    </tr>\n",
       "    <tr>\n",
       "      <th>9</th>\n",
       "      <td>DEN</td>\n",
       "      <td>0.0</td>\n",
       "    </tr>\n",
       "    <tr>\n",
       "      <th>10</th>\n",
       "      <td>DEN</td>\n",
       "      <td>0.0</td>\n",
       "    </tr>\n",
       "    <tr>\n",
       "      <th>11</th>\n",
       "      <td>DEN</td>\n",
       "      <td>9000.0</td>\n",
       "    </tr>\n",
       "  </tbody>\n",
       "</table>\n",
       "</div>"
      ],
      "text/plain": [
       "   variable    value\n",
       "0       ATL      0.0\n",
       "1       ATL   5000.0\n",
       "2       ATL   3000.0\n",
       "3       BOS      0.0\n",
       "4       BOS  10000.0\n",
       "5       BOS      0.0\n",
       "6       CHI  10000.0\n",
       "7       CHI      0.0\n",
       "8       CHI   2000.0\n",
       "9       DEN      0.0\n",
       "10      DEN      0.0\n",
       "11      DEN   9000.0"
      ]
     },
     "execution_count": 23,
     "metadata": {},
     "output_type": "execute_result"
    }
   ],
   "source": [
    "df = pd.melt(DV_solution)\n",
    "df"
   ]
  },
  {
   "cell_type": "code",
   "execution_count": 24,
   "metadata": {},
   "outputs": [
    {
     "data": {
      "text/plain": [
       "Index(['MIN', 'PIT', 'TUC'], dtype='object')"
      ]
     },
     "execution_count": 24,
     "metadata": {},
     "output_type": "execute_result"
    }
   ],
   "source": [
    "DV_solution.index"
   ]
  },
  {
   "cell_type": "code",
   "execution_count": 26,
   "metadata": {},
   "outputs": [
    {
     "data": {
      "text/plain": [
       "['MIN', 'MIN', 'MIN', 'PIT', 'PIT', 'PIT', 'TUC', 'TUC', 'TUC']"
      ]
     },
     "execution_count": 26,
     "metadata": {},
     "output_type": "execute_result"
    }
   ],
   "source": [
    "[idx for idx in DV_solution.index for i in range(3)]"
   ]
  },
  {
   "cell_type": "code",
   "execution_count": 25,
   "metadata": {
    "tags": []
   },
   "outputs": [
    {
     "data": {
      "text/plain": [
       "['MIN', 'PIT', 'TUC', 'MIN', 'PIT', 'TUC', 'MIN', 'PIT', 'TUC']"
      ]
     },
     "execution_count": 25,
     "metadata": {},
     "output_type": "execute_result"
    }
   ],
   "source": [
    "[idx for idx in DV_solution.index]*3"
   ]
  },
  {
   "cell_type": "code",
   "execution_count": 27,
   "metadata": {},
   "outputs": [
    {
     "data": {
      "text/html": [
       "<div>\n",
       "<style scoped>\n",
       "    .dataframe tbody tr th:only-of-type {\n",
       "        vertical-align: middle;\n",
       "    }\n",
       "\n",
       "    .dataframe tbody tr th {\n",
       "        vertical-align: top;\n",
       "    }\n",
       "\n",
       "    .dataframe thead th {\n",
       "        text-align: right;\n",
       "    }\n",
       "</style>\n",
       "<table border=\"1\" class=\"dataframe\">\n",
       "  <thead>\n",
       "    <tr style=\"text-align: right;\">\n",
       "      <th></th>\n",
       "      <th>variable</th>\n",
       "      <th>value</th>\n",
       "      <th>plant</th>\n",
       "    </tr>\n",
       "  </thead>\n",
       "  <tbody>\n",
       "    <tr>\n",
       "      <th>0</th>\n",
       "      <td>ATL</td>\n",
       "      <td>0.0</td>\n",
       "      <td>MIN</td>\n",
       "    </tr>\n",
       "    <tr>\n",
       "      <th>1</th>\n",
       "      <td>ATL</td>\n",
       "      <td>5000.0</td>\n",
       "      <td>PIT</td>\n",
       "    </tr>\n",
       "    <tr>\n",
       "      <th>2</th>\n",
       "      <td>ATL</td>\n",
       "      <td>3000.0</td>\n",
       "      <td>TUC</td>\n",
       "    </tr>\n",
       "    <tr>\n",
       "      <th>3</th>\n",
       "      <td>BOS</td>\n",
       "      <td>0.0</td>\n",
       "      <td>MIN</td>\n",
       "    </tr>\n",
       "    <tr>\n",
       "      <th>4</th>\n",
       "      <td>BOS</td>\n",
       "      <td>10000.0</td>\n",
       "      <td>PIT</td>\n",
       "    </tr>\n",
       "    <tr>\n",
       "      <th>5</th>\n",
       "      <td>BOS</td>\n",
       "      <td>0.0</td>\n",
       "      <td>TUC</td>\n",
       "    </tr>\n",
       "    <tr>\n",
       "      <th>6</th>\n",
       "      <td>CHI</td>\n",
       "      <td>10000.0</td>\n",
       "      <td>MIN</td>\n",
       "    </tr>\n",
       "    <tr>\n",
       "      <th>7</th>\n",
       "      <td>CHI</td>\n",
       "      <td>0.0</td>\n",
       "      <td>PIT</td>\n",
       "    </tr>\n",
       "    <tr>\n",
       "      <th>8</th>\n",
       "      <td>CHI</td>\n",
       "      <td>2000.0</td>\n",
       "      <td>TUC</td>\n",
       "    </tr>\n",
       "    <tr>\n",
       "      <th>9</th>\n",
       "      <td>DEN</td>\n",
       "      <td>0.0</td>\n",
       "      <td>MIN</td>\n",
       "    </tr>\n",
       "    <tr>\n",
       "      <th>10</th>\n",
       "      <td>DEN</td>\n",
       "      <td>0.0</td>\n",
       "      <td>PIT</td>\n",
       "    </tr>\n",
       "    <tr>\n",
       "      <th>11</th>\n",
       "      <td>DEN</td>\n",
       "      <td>9000.0</td>\n",
       "      <td>TUC</td>\n",
       "    </tr>\n",
       "  </tbody>\n",
       "</table>\n",
       "</div>"
      ],
      "text/plain": [
       "   variable    value plant\n",
       "0       ATL      0.0   MIN\n",
       "1       ATL   5000.0   PIT\n",
       "2       ATL   3000.0   TUC\n",
       "3       BOS      0.0   MIN\n",
       "4       BOS  10000.0   PIT\n",
       "5       BOS      0.0   TUC\n",
       "6       CHI  10000.0   MIN\n",
       "7       CHI      0.0   PIT\n",
       "8       CHI   2000.0   TUC\n",
       "9       DEN      0.0   MIN\n",
       "10      DEN      0.0   PIT\n",
       "11      DEN   9000.0   TUC"
      ]
     },
     "execution_count": 27,
     "metadata": {},
     "output_type": "execute_result"
    }
   ],
   "source": [
    "df['plant'] = [idx for idx in DV_solution.index]*4\n",
    "df"
   ]
  },
  {
   "cell_type": "code",
   "execution_count": null,
   "metadata": {},
   "outputs": [],
   "source": [
    "[idx for idx in DV_solution.index for i in range(4)]"
   ]
  },
  {
   "cell_type": "markdown",
   "metadata": {},
   "source": [
    "Here we create a plot of the Decision Variables solution."
   ]
  },
  {
   "cell_type": "code",
   "execution_count": 30,
   "metadata": {},
   "outputs": [
    {
     "data": {
      "image/png": "[encoded data removed]",
      "text/plain": [
       "<Figure size 576x360 with 1 Axes>"
      ]
     },
     "metadata": {
      "needs_background": "light"
     },
     "output_type": "display_data"
    }
   ],
   "source": [
    "plt.figure(figsize = (8, 5))\n",
    "sns.barplot(x = 'plant', y = 'value', hue = 'variable', data = df)\n",
    "plt.grid()\n",
    "plt.legend(title = \"Warehouse\")\n",
    "plt.show()"
   ]
  },
  {
   "cell_type": "markdown",
   "metadata": {},
   "source": [
    "We can use similar syntax to pull out all the constraints final lhs values and see the slack."
   ]
  },
  {
   "cell_type": "code",
   "execution_count": 31,
   "metadata": {},
   "outputs": [
    {
     "name": "stdout",
     "output_type": "stream",
     "text": [
      "con_MIN 10000.0\n",
      "con_PIT 15000.0\n",
      "con_TUC 14000.0\n",
      "con_ATL 8000.0\n",
      "con_BOS 10000.0\n",
      "con_CHI 12000.0\n",
      "con_DEN 9000.0\n"
     ]
    }
   ],
   "source": [
    "for con in model.component_objects(pe.Constraint):\n",
    "    print(con, con.body())"
   ]
  },
  {
   "cell_type": "code",
   "execution_count": 32,
   "metadata": {},
   "outputs": [
    {
     "name": "stdout",
     "output_type": "stream",
     "text": [
      "con_MIN 0.0\n",
      "con_PIT 0.0\n",
      "con_TUC 1000.0\n",
      "con_ATL 0.0\n",
      "con_BOS 0.0\n",
      "con_CHI 0.0\n",
      "con_DEN 0.0\n"
     ]
    }
   ],
   "source": [
    "for con in model.component_objects(pe.Constraint):\n",
    "    print(con, con.slack())"
   ]
  },
  {
   "cell_type": "markdown",
   "metadata": {},
   "source": [
    "##### [Back to Top](#Top)"
   ]
  },
  {
   "cell_type": "markdown",
   "metadata": {},
   "source": [
    "# 5. Sensitivity Analysis<a id=5></a>"
   ]
  },
  {
   "cell_type": "markdown",
   "metadata": {},
   "source": [
    "In this section, we are going to have to write a bit of code to do a little more advanced sensitivity analysis. Make sure you can follow the model set up up above for sure for now, and then see what you can follow below."
   ]
  },
  {
   "cell_type": "markdown",
   "metadata": {},
   "source": [
    "In the original problem, one of the highest costs is for Tucson to Atlanta and Tuscon to Boston at .65 and .68. Let's try to manually change the cost for these paths (represented by `cost.loc['TUC','ATL']` and `cost.loc['TUC','BOS']` below) to a range of values between .55 amd .68. Once we update the cost, we just re-solve the model and save the results to the following lists: `DV_list_ta` holds the Decision Variables, `obj_list_ta` holds the objective function values.\n",
    "\n",
    "But first, let's make things easy on ourselves and create a function to run the model. We'll call it `run_model`. FYI, don't make functions until you are sure that all the code works outside of the function!"
   ]
  },
  {
   "cell_type": "code",
   "execution_count": 36,
   "metadata": {},
   "outputs": [],
   "source": [
    "def run_model():\n",
    "    #Function to run the model \n",
    "    \n",
    "    #This just runs the model as we defined it above\n",
    "    model = pe.ConcreteModel()\n",
    "    #Decision Variables\n",
    "    DV_indexes = ['ATL', 'BOS', 'CHI', 'DEN']\n",
    "    model.MIN = pe.Var(DV_indexes, domain = pe.NonNegativeReals)\n",
    "    model.PIT = pe.Var(DV_indexes, domain = pe.NonNegativeReals)\n",
    "    model.TUC = pe.Var(DV_indexes, domain = pe.NonNegativeReals)\n",
    "    #Objective Function\n",
    "    model.obj = pe.Objective(expr = sum([cost.loc['MIN', index]*model.MIN[index] for index in DV_indexes] +\n",
    "                             [cost.loc['PIT', index]*model.PIT[index] for index in DV_indexes] +\n",
    "                             [cost.loc['TUC', index]*model.TUC[index] for index in DV_indexes]),\n",
    "                             sense = pe.minimize)\n",
    "    #Capacity Constraints\n",
    "    model.con_MIN = pe.Constraint(expr = sum(model.MIN[index] for index in DV_indexes) \n",
    "                                  <= capacity.loc['MIN','Capacity'])\n",
    "    model.con_PIT = pe.Constraint(expr = sum(model.PIT[index] for index in DV_indexes)\n",
    "                                  <= capacity.loc['PIT','Capacity'])\n",
    "    model.con_TUC = pe.Constraint(expr = sum(model.TUC[index] for index in DV_indexes)\n",
    "                                  <= capacity.loc['TUC','Capacity'])   \n",
    "    #Demand Constraints\n",
    "    model.con_ATL = pe.Constraint(expr = model.MIN['ATL'] + model.PIT['ATL']+ \n",
    "                                  model.TUC['ATL'] >= demand.loc['ATL','Requirement'])\n",
    "    model.con_BOS = pe.Constraint(expr = model.MIN['BOS'] + model.PIT['BOS']+ \n",
    "                                  model.TUC['BOS'] >= demand.loc['BOS','Requirement'])\n",
    "    model.con_CHI = pe.Constraint(expr = model.MIN['CHI'] + model.PIT['CHI']+ \n",
    "                                  model.TUC['CHI'] >= demand.loc['CHI','Requirement'])\n",
    "    model.con_DEN = pe.Constraint(expr = model.MIN['DEN'] + model.PIT['DEN']+ \n",
    "                                  model.TUC['DEN'] >= demand.loc['DEN','Requirement'])\n",
    "    opt = pe.SolverFactory('glpk')\n",
    "    opt.solve(model, tee=False) #solve model and supress output\n",
    "    \n",
    "    #Once we solve the model we return the model object so we can get the optimal obj function value\n",
    "    return model"
   ]
  },
  {
   "cell_type": "markdown",
   "metadata": {},
   "source": [
    "## 5.1 TUC-ATL<a id=5.1></a>"
   ]
  },
  {
   "cell_type": "markdown",
   "metadata": {},
   "source": [
    "Here is the original cost table just to remind us."
   ]
  },
  {
   "cell_type": "code",
   "execution_count": 33,
   "metadata": {},
   "outputs": [
    {
     "data": {
      "text/html": [
       "<div>\n",
       "<style scoped>\n",
       "    .dataframe tbody tr th:only-of-type {\n",
       "        vertical-align: middle;\n",
       "    }\n",
       "\n",
       "    .dataframe tbody tr th {\n",
       "        vertical-align: top;\n",
       "    }\n",
       "\n",
       "    .dataframe thead th {\n",
       "        text-align: right;\n",
       "    }\n",
       "</style>\n",
       "<table border=\"1\" class=\"dataframe\">\n",
       "  <thead>\n",
       "    <tr style=\"text-align: right;\">\n",
       "      <th></th>\n",
       "      <th>ATL</th>\n",
       "      <th>BOS</th>\n",
       "      <th>CHI</th>\n",
       "      <th>DEN</th>\n",
       "    </tr>\n",
       "  </thead>\n",
       "  <tbody>\n",
       "    <tr>\n",
       "      <th>MIN</th>\n",
       "      <td>0.60</td>\n",
       "      <td>0.56</td>\n",
       "      <td>0.22</td>\n",
       "      <td>0.40</td>\n",
       "    </tr>\n",
       "    <tr>\n",
       "      <th>PIT</th>\n",
       "      <td>0.36</td>\n",
       "      <td>0.30</td>\n",
       "      <td>0.28</td>\n",
       "      <td>0.58</td>\n",
       "    </tr>\n",
       "    <tr>\n",
       "      <th>TUC</th>\n",
       "      <td>0.65</td>\n",
       "      <td>0.68</td>\n",
       "      <td>0.55</td>\n",
       "      <td>0.42</td>\n",
       "    </tr>\n",
       "  </tbody>\n",
       "</table>\n",
       "</div>"
      ],
      "text/plain": [
       "      ATL   BOS   CHI   DEN\n",
       "MIN  0.60  0.56  0.22  0.40\n",
       "PIT  0.36  0.30  0.28  0.58\n",
       "TUC  0.65  0.68  0.55  0.42"
      ]
     },
     "execution_count": 33,
     "metadata": {},
     "output_type": "execute_result"
    }
   ],
   "source": [
    "cost"
   ]
  },
  {
   "cell_type": "markdown",
   "metadata": {},
   "source": [
    "First we'll loop through all the costs from shipping from Tucson to Atlanta, re-solve the model, and capture the objective function optimal values. Let's think about why we are using these costs. Refer back to the sensitivity report in Excel and look at the allowable increase/decrease for these variables. "
   ]
  },
  {
   "cell_type": "code",
   "execution_count": 37,
   "metadata": {},
   "outputs": [
    {
     "data": {
      "text/plain": [
       "[0.6,\n",
       " 0.61,\n",
       " 0.62,\n",
       " 0.63,\n",
       " 0.64,\n",
       " 0.65,\n",
       " 0.66,\n",
       " 0.67,\n",
       " 0.68,\n",
       " 0.69,\n",
       " 0.7,\n",
       " 0.71,\n",
       " 0.72,\n",
       " 0.73,\n",
       " 0.74,\n",
       " 0.75,\n",
       " 0.76,\n",
       " 0.77,\n",
       " 0.78,\n",
       " 0.79]"
      ]
     },
     "execution_count": 37,
     "metadata": {},
     "output_type": "execute_result"
    }
   ],
   "source": [
    "tuc_atl_costs = [(i + 60)/100 for i in list(range(0, 20))]\n",
    "tuc_atl_costs"
   ]
  },
  {
   "cell_type": "code",
   "execution_count": 38,
   "metadata": {},
   "outputs": [
    {
     "data": {
      "text/plain": [
       "[13620.0,\n",
       " 13670.0,\n",
       " 13720.0,\n",
       " 13770.0,\n",
       " 13800.0,\n",
       " 13830.0,\n",
       " 13860.0,\n",
       " 13890.0,\n",
       " 13920.0,\n",
       " 13950.0,\n",
       " 13980.0,\n",
       " 14010.0,\n",
       " 14040.0,\n",
       " 14070.0,\n",
       " 14100.0,\n",
       " 14100.0,\n",
       " 14100.0,\n",
       " 14100.0,\n",
       " 14100.0,\n",
       " 14100.0]"
      ]
     },
     "execution_count": 38,
     "metadata": {},
     "output_type": "execute_result"
    }
   ],
   "source": [
    "obj_list_ta = [] #store results here\n",
    "for val in tuc_atl_costs:\n",
    "    cost.loc['TUC', 'ATL'] = val\n",
    "    model = run_model()\n",
    "    obj_list_ta.append(model.obj.expr())\n",
    "obj_list_ta"
   ]
  },
  {
   "cell_type": "markdown",
   "metadata": {},
   "source": [
    "Let's make it look nicer and easier to see what is going on by storing the results in a dataframe changing the index to be the costs."
   ]
  },
  {
   "cell_type": "code",
   "execution_count": 39,
   "metadata": {},
   "outputs": [
    {
     "data": {
      "text/html": [
       "<div>\n",
       "<style scoped>\n",
       "    .dataframe tbody tr th:only-of-type {\n",
       "        vertical-align: middle;\n",
       "    }\n",
       "\n",
       "    .dataframe tbody tr th {\n",
       "        vertical-align: top;\n",
       "    }\n",
       "\n",
       "    .dataframe thead th {\n",
       "        text-align: right;\n",
       "    }\n",
       "</style>\n",
       "<table border=\"1\" class=\"dataframe\">\n",
       "  <thead>\n",
       "    <tr style=\"text-align: right;\">\n",
       "      <th></th>\n",
       "      <th>cost</th>\n",
       "    </tr>\n",
       "  </thead>\n",
       "  <tbody>\n",
       "    <tr>\n",
       "      <th>0.60</th>\n",
       "      <td>13620.0</td>\n",
       "    </tr>\n",
       "    <tr>\n",
       "      <th>0.61</th>\n",
       "      <td>13670.0</td>\n",
       "    </tr>\n",
       "    <tr>\n",
       "      <th>0.62</th>\n",
       "      <td>13720.0</td>\n",
       "    </tr>\n",
       "    <tr>\n",
       "      <th>0.63</th>\n",
       "      <td>13770.0</td>\n",
       "    </tr>\n",
       "    <tr>\n",
       "      <th>0.64</th>\n",
       "      <td>13800.0</td>\n",
       "    </tr>\n",
       "    <tr>\n",
       "      <th>0.65</th>\n",
       "      <td>13830.0</td>\n",
       "    </tr>\n",
       "    <tr>\n",
       "      <th>0.66</th>\n",
       "      <td>13860.0</td>\n",
       "    </tr>\n",
       "    <tr>\n",
       "      <th>0.67</th>\n",
       "      <td>13890.0</td>\n",
       "    </tr>\n",
       "    <tr>\n",
       "      <th>0.68</th>\n",
       "      <td>13920.0</td>\n",
       "    </tr>\n",
       "    <tr>\n",
       "      <th>0.69</th>\n",
       "      <td>13950.0</td>\n",
       "    </tr>\n",
       "    <tr>\n",
       "      <th>0.70</th>\n",
       "      <td>13980.0</td>\n",
       "    </tr>\n",
       "    <tr>\n",
       "      <th>0.71</th>\n",
       "      <td>14010.0</td>\n",
       "    </tr>\n",
       "    <tr>\n",
       "      <th>0.72</th>\n",
       "      <td>14040.0</td>\n",
       "    </tr>\n",
       "    <tr>\n",
       "      <th>0.73</th>\n",
       "      <td>14070.0</td>\n",
       "    </tr>\n",
       "    <tr>\n",
       "      <th>0.74</th>\n",
       "      <td>14100.0</td>\n",
       "    </tr>\n",
       "    <tr>\n",
       "      <th>0.75</th>\n",
       "      <td>14100.0</td>\n",
       "    </tr>\n",
       "    <tr>\n",
       "      <th>0.76</th>\n",
       "      <td>14100.0</td>\n",
       "    </tr>\n",
       "    <tr>\n",
       "      <th>0.77</th>\n",
       "      <td>14100.0</td>\n",
       "    </tr>\n",
       "    <tr>\n",
       "      <th>0.78</th>\n",
       "      <td>14100.0</td>\n",
       "    </tr>\n",
       "    <tr>\n",
       "      <th>0.79</th>\n",
       "      <td>14100.0</td>\n",
       "    </tr>\n",
       "  </tbody>\n",
       "</table>\n",
       "</div>"
      ],
      "text/plain": [
       "         cost\n",
       "0.60  13620.0\n",
       "0.61  13670.0\n",
       "0.62  13720.0\n",
       "0.63  13770.0\n",
       "0.64  13800.0\n",
       "0.65  13830.0\n",
       "0.66  13860.0\n",
       "0.67  13890.0\n",
       "0.68  13920.0\n",
       "0.69  13950.0\n",
       "0.70  13980.0\n",
       "0.71  14010.0\n",
       "0.72  14040.0\n",
       "0.73  14070.0\n",
       "0.74  14100.0\n",
       "0.75  14100.0\n",
       "0.76  14100.0\n",
       "0.77  14100.0\n",
       "0.78  14100.0\n",
       "0.79  14100.0"
      ]
     },
     "execution_count": 39,
     "metadata": {},
     "output_type": "execute_result"
    }
   ],
   "source": [
    "obj_df_ta = pd.DataFrame(obj_list_ta, \n",
    "                         index = tuc_atl_costs, \n",
    "                         columns = ['cost'])\n",
    "obj_df_ta"
   ]
  },
  {
   "cell_type": "markdown",
   "metadata": {},
   "source": [
    "It might make sense to plot the results. The vertical line shows the original cost."
   ]
  },
  {
   "cell_type": "code",
   "execution_count": 40,
   "metadata": {},
   "outputs": [
    {
     "data": {
      "image/png": "[encoded data removed]",
      "text/plain": [
       "<Figure size 432x288 with 1 Axes>"
      ]
     },
     "metadata": {
      "needs_background": "light"
     },
     "output_type": "display_data"
    }
   ],
   "source": [
    "obj_df_ta.plot()\n",
    "plt.title('Change in Obj Function by Tucson to Atlanta Cost')\n",
    "plt.axvline(x = .65, color = 'blue')\n",
    "plt.ylabel('Optimal Cost')\n",
    "plt.xlabel(\"Cost Tuc Atl\")\n",
    "plt.show() "
   ]
  },
  {
   "cell_type": "markdown",
   "metadata": {},
   "source": [
    "Let's make the same plot using `seaborn` rather than base `pandas` plot. First, I'm going to show a new function for \"merging\" two (or more) lists, the zip function."
   ]
  },
  {
   "cell_type": "code",
   "execution_count": 42,
   "metadata": {},
   "outputs": [
    {
     "data": {
      "text/plain": [
       "{0.6: 13620.0,\n",
       " 0.61: 13670.0,\n",
       " 0.62: 13720.0,\n",
       " 0.63: 13770.0,\n",
       " 0.64: 13800.0,\n",
       " 0.65: 13830.0,\n",
       " 0.66: 13860.0,\n",
       " 0.67: 13890.0,\n",
       " 0.68: 13920.0,\n",
       " 0.69: 13950.0,\n",
       " 0.7: 13980.0,\n",
       " 0.71: 14010.0,\n",
       " 0.72: 14040.0,\n",
       " 0.73: 14070.0,\n",
       " 0.74: 14100.0,\n",
       " 0.75: 14100.0,\n",
       " 0.76: 14100.0,\n",
       " 0.77: 14100.0,\n",
       " 0.78: 14100.0,\n",
       " 0.79: 14100.0}"
      ]
     },
     "execution_count": 42,
     "metadata": {},
     "output_type": "execute_result"
    }
   ],
   "source": [
    "dict(zip(tuc_atl_costs, obj_list_ta))"
   ]
  },
  {
   "cell_type": "code",
   "execution_count": 43,
   "metadata": {},
   "outputs": [
    {
     "data": {
      "text/plain": [
       "[(0.6, 13620.0),\n",
       " (0.61, 13670.0),\n",
       " (0.62, 13720.0),\n",
       " (0.63, 13770.0),\n",
       " (0.64, 13800.0),\n",
       " (0.65, 13830.0),\n",
       " (0.66, 13860.0),\n",
       " (0.67, 13890.0),\n",
       " (0.68, 13920.0),\n",
       " (0.69, 13950.0),\n",
       " (0.7, 13980.0),\n",
       " (0.71, 14010.0),\n",
       " (0.72, 14040.0),\n",
       " (0.73, 14070.0),\n",
       " (0.74, 14100.0),\n",
       " (0.75, 14100.0),\n",
       " (0.76, 14100.0),\n",
       " (0.77, 14100.0),\n",
       " (0.78, 14100.0),\n",
       " (0.79, 14100.0)]"
      ]
     },
     "execution_count": 43,
     "metadata": {},
     "output_type": "execute_result"
    }
   ],
   "source": [
    "zip_list = list(zip(tuc_atl_costs, obj_list_ta))\n",
    "zip_list"
   ]
  },
  {
   "cell_type": "code",
   "execution_count": 44,
   "metadata": {},
   "outputs": [
    {
     "data": {
      "text/html": [
       "<div>\n",
       "<style scoped>\n",
       "    .dataframe tbody tr th:only-of-type {\n",
       "        vertical-align: middle;\n",
       "    }\n",
       "\n",
       "    .dataframe tbody tr th {\n",
       "        vertical-align: top;\n",
       "    }\n",
       "\n",
       "    .dataframe thead th {\n",
       "        text-align: right;\n",
       "    }\n",
       "</style>\n",
       "<table border=\"1\" class=\"dataframe\">\n",
       "  <thead>\n",
       "    <tr style=\"text-align: right;\">\n",
       "      <th></th>\n",
       "      <th>TUC2ATL</th>\n",
       "      <th>Cost</th>\n",
       "    </tr>\n",
       "  </thead>\n",
       "  <tbody>\n",
       "    <tr>\n",
       "      <th>0</th>\n",
       "      <td>0.60</td>\n",
       "      <td>13620.0</td>\n",
       "    </tr>\n",
       "    <tr>\n",
       "      <th>1</th>\n",
       "      <td>0.61</td>\n",
       "      <td>13670.0</td>\n",
       "    </tr>\n",
       "    <tr>\n",
       "      <th>2</th>\n",
       "      <td>0.62</td>\n",
       "      <td>13720.0</td>\n",
       "    </tr>\n",
       "    <tr>\n",
       "      <th>3</th>\n",
       "      <td>0.63</td>\n",
       "      <td>13770.0</td>\n",
       "    </tr>\n",
       "    <tr>\n",
       "      <th>4</th>\n",
       "      <td>0.64</td>\n",
       "      <td>13800.0</td>\n",
       "    </tr>\n",
       "    <tr>\n",
       "      <th>5</th>\n",
       "      <td>0.65</td>\n",
       "      <td>13830.0</td>\n",
       "    </tr>\n",
       "    <tr>\n",
       "      <th>6</th>\n",
       "      <td>0.66</td>\n",
       "      <td>13860.0</td>\n",
       "    </tr>\n",
       "    <tr>\n",
       "      <th>7</th>\n",
       "      <td>0.67</td>\n",
       "      <td>13890.0</td>\n",
       "    </tr>\n",
       "    <tr>\n",
       "      <th>8</th>\n",
       "      <td>0.68</td>\n",
       "      <td>13920.0</td>\n",
       "    </tr>\n",
       "    <tr>\n",
       "      <th>9</th>\n",
       "      <td>0.69</td>\n",
       "      <td>13950.0</td>\n",
       "    </tr>\n",
       "    <tr>\n",
       "      <th>10</th>\n",
       "      <td>0.70</td>\n",
       "      <td>13980.0</td>\n",
       "    </tr>\n",
       "    <tr>\n",
       "      <th>11</th>\n",
       "      <td>0.71</td>\n",
       "      <td>14010.0</td>\n",
       "    </tr>\n",
       "    <tr>\n",
       "      <th>12</th>\n",
       "      <td>0.72</td>\n",
       "      <td>14040.0</td>\n",
       "    </tr>\n",
       "    <tr>\n",
       "      <th>13</th>\n",
       "      <td>0.73</td>\n",
       "      <td>14070.0</td>\n",
       "    </tr>\n",
       "    <tr>\n",
       "      <th>14</th>\n",
       "      <td>0.74</td>\n",
       "      <td>14100.0</td>\n",
       "    </tr>\n",
       "    <tr>\n",
       "      <th>15</th>\n",
       "      <td>0.75</td>\n",
       "      <td>14100.0</td>\n",
       "    </tr>\n",
       "    <tr>\n",
       "      <th>16</th>\n",
       "      <td>0.76</td>\n",
       "      <td>14100.0</td>\n",
       "    </tr>\n",
       "    <tr>\n",
       "      <th>17</th>\n",
       "      <td>0.77</td>\n",
       "      <td>14100.0</td>\n",
       "    </tr>\n",
       "    <tr>\n",
       "      <th>18</th>\n",
       "      <td>0.78</td>\n",
       "      <td>14100.0</td>\n",
       "    </tr>\n",
       "    <tr>\n",
       "      <th>19</th>\n",
       "      <td>0.79</td>\n",
       "      <td>14100.0</td>\n",
       "    </tr>\n",
       "  </tbody>\n",
       "</table>\n",
       "</div>"
      ],
      "text/plain": [
       "    TUC2ATL     Cost\n",
       "0      0.60  13620.0\n",
       "1      0.61  13670.0\n",
       "2      0.62  13720.0\n",
       "3      0.63  13770.0\n",
       "4      0.64  13800.0\n",
       "5      0.65  13830.0\n",
       "6      0.66  13860.0\n",
       "7      0.67  13890.0\n",
       "8      0.68  13920.0\n",
       "9      0.69  13950.0\n",
       "10     0.70  13980.0\n",
       "11     0.71  14010.0\n",
       "12     0.72  14040.0\n",
       "13     0.73  14070.0\n",
       "14     0.74  14100.0\n",
       "15     0.75  14100.0\n",
       "16     0.76  14100.0\n",
       "17     0.77  14100.0\n",
       "18     0.78  14100.0\n",
       "19     0.79  14100.0"
      ]
     },
     "execution_count": 44,
     "metadata": {},
     "output_type": "execute_result"
    }
   ],
   "source": [
    "df = pd.DataFrame(zip_list, columns = ['TUC2ATL', 'Cost'])\n",
    "df"
   ]
  },
  {
   "cell_type": "code",
   "execution_count": 47,
   "metadata": {},
   "outputs": [
    {
     "data": {
      "image/png": "[encoded data removed]",
      "text/plain": [
       "<Figure size 576x360 with 1 Axes>"
      ]
     },
     "metadata": {
      "needs_background": "light"
     },
     "output_type": "display_data"
    }
   ],
   "source": [
    "plt.figure(figsize = (8,5))\n",
    "sns.scatterplot(x = 'TUC2ATL', y = 'Cost', data = df)\n",
    "sns.lineplot(x = 'TUC2ATL', y = 'Cost', data = df)\n",
    "plt.grid()\n",
    "plt.axvline(x = .65, color = \"red\")\n",
    "plt.show()"
   ]
  },
  {
   "cell_type": "markdown",
   "metadata": {},
   "source": [
    "So what about the Decision variables? There are 12 for each model solution, we need to capture them a slightly different way. We'll put each solution in a list and then make a list of lists."
   ]
  },
  {
   "cell_type": "code",
   "execution_count": 48,
   "metadata": {},
   "outputs": [
    {
     "name": "stdout",
     "output_type": "stream",
     "text": [
      "[[0.0, 0.0, 10000.0, 0.0, 3000.0, 10000.0, 2000.0, 0.0, 5000.0, 0.0, 0.0, 9000.0], [0.0, 0.0, 10000.0, 0.0, 3000.0, 10000.0, 2000.0, 0.0, 5000.0, 0.0, 0.0, 9000.0], [0.0, 0.0, 10000.0, 0.0, 3000.0, 10000.0, 2000.0, 0.0, 5000.0, 0.0, 0.0, 9000.0], [0.0, 0.0, 10000.0, 0.0, 3000.0, 10000.0, 2000.0, 0.0, 5000.0, 0.0, 0.0, 9000.0], [0.0, 0.0, 10000.0, 0.0, 5000.0, 10000.0, 0.0, 0.0, 3000.0, 0.0, 2000.0, 9000.0], [0.0, 0.0, 10000.0, 0.0, 5000.0, 10000.0, 0.0, 0.0, 3000.0, 0.0, 2000.0, 9000.0], [0.0, 0.0, 10000.0, 0.0, 5000.0, 10000.0, 0.0, 0.0, 3000.0, 0.0, 2000.0, 9000.0], [0.0, 0.0, 10000.0, 0.0, 5000.0, 10000.0, 0.0, 0.0, 3000.0, 0.0, 2000.0, 9000.0], [0.0, 0.0, 10000.0, 0.0, 5000.0, 10000.0, 0.0, 0.0, 3000.0, 0.0, 2000.0, 9000.0], [0.0, 0.0, 10000.0, 0.0, 5000.0, 10000.0, 0.0, 0.0, 3000.0, 0.0, 2000.0, 9000.0], [0.0, 0.0, 10000.0, 0.0, 5000.0, 10000.0, 0.0, 0.0, 3000.0, 0.0, 2000.0, 9000.0], [0.0, 0.0, 10000.0, 0.0, 5000.0, 10000.0, 0.0, 0.0, 3000.0, 0.0, 2000.0, 9000.0], [0.0, 0.0, 10000.0, 0.0, 5000.0, 10000.0, 0.0, 0.0, 3000.0, 0.0, 2000.0, 9000.0], [0.0, 0.0, 10000.0, 0.0, 5000.0, 10000.0, 0.0, 0.0, 3000.0, 0.0, 2000.0, 9000.0], [0.0, 0.0, 10000.0, 0.0, 8000.0, 7000.0, 0.0, 0.0, 0.0, 3000.0, 2000.0, 9000.0], [0.0, 0.0, 10000.0, 0.0, 8000.0, 7000.0, 0.0, 0.0, 0.0, 3000.0, 2000.0, 9000.0], [0.0, 0.0, 10000.0, 0.0, 8000.0, 7000.0, 0.0, 0.0, 0.0, 3000.0, 2000.0, 9000.0], [0.0, 0.0, 10000.0, 0.0, 8000.0, 7000.0, 0.0, 0.0, 0.0, 3000.0, 2000.0, 9000.0], [0.0, 0.0, 10000.0, 0.0, 8000.0, 7000.0, 0.0, 0.0, 0.0, 3000.0, 2000.0, 9000.0], [0.0, 0.0, 10000.0, 0.0, 8000.0, 7000.0, 0.0, 0.0, 0.0, 3000.0, 2000.0, 9000.0]]\n"
     ]
    }
   ],
   "source": [
    "DV_list_ta = []\n",
    "for val in tuc_atl_costs:\n",
    "    DV_curr_list_ta = []\n",
    "    cost.loc['TUC', 'ATL'] = val\n",
    "    model = run_model()\n",
    "    for DV in model.component_objects(pe.Var): #each origin\n",
    "        for c in DV: #each destination\n",
    "            DV_curr_list_ta.append(DV[c].value)\n",
    "    DV_list_ta.append(DV_curr_list_ta)\n",
    "print(DV_list_ta)"
   ]
  },
  {
   "cell_type": "markdown",
   "metadata": {},
   "source": [
    "Again, let's format this so it is easy to read."
   ]
  },
  {
   "cell_type": "code",
   "execution_count": 49,
   "metadata": {},
   "outputs": [
    {
     "data": {
      "text/html": [
       "<div>\n",
       "<style scoped>\n",
       "    .dataframe tbody tr th:only-of-type {\n",
       "        vertical-align: middle;\n",
       "    }\n",
       "\n",
       "    .dataframe tbody tr th {\n",
       "        vertical-align: top;\n",
       "    }\n",
       "\n",
       "    .dataframe thead th {\n",
       "        text-align: right;\n",
       "    }\n",
       "</style>\n",
       "<table border=\"1\" class=\"dataframe\">\n",
       "  <thead>\n",
       "    <tr style=\"text-align: right;\">\n",
       "      <th></th>\n",
       "      <th>M-A</th>\n",
       "      <th>M-B</th>\n",
       "      <th>M-C</th>\n",
       "      <th>M-D</th>\n",
       "      <th>P-A</th>\n",
       "      <th>P-B</th>\n",
       "      <th>P-C</th>\n",
       "      <th>P-D</th>\n",
       "      <th>T-A</th>\n",
       "      <th>T-B</th>\n",
       "      <th>T-C</th>\n",
       "      <th>T-D</th>\n",
       "      <th>Costs</th>\n",
       "    </tr>\n",
       "  </thead>\n",
       "  <tbody>\n",
       "    <tr>\n",
       "      <th>0</th>\n",
       "      <td>0.0</td>\n",
       "      <td>0.0</td>\n",
       "      <td>10000.0</td>\n",
       "      <td>0.0</td>\n",
       "      <td>3000.0</td>\n",
       "      <td>10000.0</td>\n",
       "      <td>2000.0</td>\n",
       "      <td>0.0</td>\n",
       "      <td>5000.0</td>\n",
       "      <td>0.0</td>\n",
       "      <td>0.0</td>\n",
       "      <td>9000.0</td>\n",
       "      <td>0.60</td>\n",
       "    </tr>\n",
       "    <tr>\n",
       "      <th>1</th>\n",
       "      <td>0.0</td>\n",
       "      <td>0.0</td>\n",
       "      <td>10000.0</td>\n",
       "      <td>0.0</td>\n",
       "      <td>3000.0</td>\n",
       "      <td>10000.0</td>\n",
       "      <td>2000.0</td>\n",
       "      <td>0.0</td>\n",
       "      <td>5000.0</td>\n",
       "      <td>0.0</td>\n",
       "      <td>0.0</td>\n",
       "      <td>9000.0</td>\n",
       "      <td>0.61</td>\n",
       "    </tr>\n",
       "    <tr>\n",
       "      <th>2</th>\n",
       "      <td>0.0</td>\n",
       "      <td>0.0</td>\n",
       "      <td>10000.0</td>\n",
       "      <td>0.0</td>\n",
       "      <td>3000.0</td>\n",
       "      <td>10000.0</td>\n",
       "      <td>2000.0</td>\n",
       "      <td>0.0</td>\n",
       "      <td>5000.0</td>\n",
       "      <td>0.0</td>\n",
       "      <td>0.0</td>\n",
       "      <td>9000.0</td>\n",
       "      <td>0.62</td>\n",
       "    </tr>\n",
       "    <tr>\n",
       "      <th>3</th>\n",
       "      <td>0.0</td>\n",
       "      <td>0.0</td>\n",
       "      <td>10000.0</td>\n",
       "      <td>0.0</td>\n",
       "      <td>3000.0</td>\n",
       "      <td>10000.0</td>\n",
       "      <td>2000.0</td>\n",
       "      <td>0.0</td>\n",
       "      <td>5000.0</td>\n",
       "      <td>0.0</td>\n",
       "      <td>0.0</td>\n",
       "      <td>9000.0</td>\n",
       "      <td>0.63</td>\n",
       "    </tr>\n",
       "    <tr>\n",
       "      <th>4</th>\n",
       "      <td>0.0</td>\n",
       "      <td>0.0</td>\n",
       "      <td>10000.0</td>\n",
       "      <td>0.0</td>\n",
       "      <td>5000.0</td>\n",
       "      <td>10000.0</td>\n",
       "      <td>0.0</td>\n",
       "      <td>0.0</td>\n",
       "      <td>3000.0</td>\n",
       "      <td>0.0</td>\n",
       "      <td>2000.0</td>\n",
       "      <td>9000.0</td>\n",
       "      <td>0.64</td>\n",
       "    </tr>\n",
       "    <tr>\n",
       "      <th>5</th>\n",
       "      <td>0.0</td>\n",
       "      <td>0.0</td>\n",
       "      <td>10000.0</td>\n",
       "      <td>0.0</td>\n",
       "      <td>5000.0</td>\n",
       "      <td>10000.0</td>\n",
       "      <td>0.0</td>\n",
       "      <td>0.0</td>\n",
       "      <td>3000.0</td>\n",
       "      <td>0.0</td>\n",
       "      <td>2000.0</td>\n",
       "      <td>9000.0</td>\n",
       "      <td>0.65</td>\n",
       "    </tr>\n",
       "    <tr>\n",
       "      <th>6</th>\n",
       "      <td>0.0</td>\n",
       "      <td>0.0</td>\n",
       "      <td>10000.0</td>\n",
       "      <td>0.0</td>\n",
       "      <td>5000.0</td>\n",
       "      <td>10000.0</td>\n",
       "      <td>0.0</td>\n",
       "      <td>0.0</td>\n",
       "      <td>3000.0</td>\n",
       "      <td>0.0</td>\n",
       "      <td>2000.0</td>\n",
       "      <td>9000.0</td>\n",
       "      <td>0.66</td>\n",
       "    </tr>\n",
       "    <tr>\n",
       "      <th>7</th>\n",
       "      <td>0.0</td>\n",
       "      <td>0.0</td>\n",
       "      <td>10000.0</td>\n",
       "      <td>0.0</td>\n",
       "      <td>5000.0</td>\n",
       "      <td>10000.0</td>\n",
       "      <td>0.0</td>\n",
       "      <td>0.0</td>\n",
       "      <td>3000.0</td>\n",
       "      <td>0.0</td>\n",
       "      <td>2000.0</td>\n",
       "      <td>9000.0</td>\n",
       "      <td>0.67</td>\n",
       "    </tr>\n",
       "    <tr>\n",
       "      <th>8</th>\n",
       "      <td>0.0</td>\n",
       "      <td>0.0</td>\n",
       "      <td>10000.0</td>\n",
       "      <td>0.0</td>\n",
       "      <td>5000.0</td>\n",
       "      <td>10000.0</td>\n",
       "      <td>0.0</td>\n",
       "      <td>0.0</td>\n",
       "      <td>3000.0</td>\n",
       "      <td>0.0</td>\n",
       "      <td>2000.0</td>\n",
       "      <td>9000.0</td>\n",
       "      <td>0.68</td>\n",
       "    </tr>\n",
       "    <tr>\n",
       "      <th>9</th>\n",
       "      <td>0.0</td>\n",
       "      <td>0.0</td>\n",
       "      <td>10000.0</td>\n",
       "      <td>0.0</td>\n",
       "      <td>5000.0</td>\n",
       "      <td>10000.0</td>\n",
       "      <td>0.0</td>\n",
       "      <td>0.0</td>\n",
       "      <td>3000.0</td>\n",
       "      <td>0.0</td>\n",
       "      <td>2000.0</td>\n",
       "      <td>9000.0</td>\n",
       "      <td>0.69</td>\n",
       "    </tr>\n",
       "    <tr>\n",
       "      <th>10</th>\n",
       "      <td>0.0</td>\n",
       "      <td>0.0</td>\n",
       "      <td>10000.0</td>\n",
       "      <td>0.0</td>\n",
       "      <td>5000.0</td>\n",
       "      <td>10000.0</td>\n",
       "      <td>0.0</td>\n",
       "      <td>0.0</td>\n",
       "      <td>3000.0</td>\n",
       "      <td>0.0</td>\n",
       "      <td>2000.0</td>\n",
       "      <td>9000.0</td>\n",
       "      <td>0.70</td>\n",
       "    </tr>\n",
       "    <tr>\n",
       "      <th>11</th>\n",
       "      <td>0.0</td>\n",
       "      <td>0.0</td>\n",
       "      <td>10000.0</td>\n",
       "      <td>0.0</td>\n",
       "      <td>5000.0</td>\n",
       "      <td>10000.0</td>\n",
       "      <td>0.0</td>\n",
       "      <td>0.0</td>\n",
       "      <td>3000.0</td>\n",
       "      <td>0.0</td>\n",
       "      <td>2000.0</td>\n",
       "      <td>9000.0</td>\n",
       "      <td>0.71</td>\n",
       "    </tr>\n",
       "    <tr>\n",
       "      <th>12</th>\n",
       "      <td>0.0</td>\n",
       "      <td>0.0</td>\n",
       "      <td>10000.0</td>\n",
       "      <td>0.0</td>\n",
       "      <td>5000.0</td>\n",
       "      <td>10000.0</td>\n",
       "      <td>0.0</td>\n",
       "      <td>0.0</td>\n",
       "      <td>3000.0</td>\n",
       "      <td>0.0</td>\n",
       "      <td>2000.0</td>\n",
       "      <td>9000.0</td>\n",
       "      <td>0.72</td>\n",
       "    </tr>\n",
       "    <tr>\n",
       "      <th>13</th>\n",
       "      <td>0.0</td>\n",
       "      <td>0.0</td>\n",
       "      <td>10000.0</td>\n",
       "      <td>0.0</td>\n",
       "      <td>5000.0</td>\n",
       "      <td>10000.0</td>\n",
       "      <td>0.0</td>\n",
       "      <td>0.0</td>\n",
       "      <td>3000.0</td>\n",
       "      <td>0.0</td>\n",
       "      <td>2000.0</td>\n",
       "      <td>9000.0</td>\n",
       "      <td>0.73</td>\n",
       "    </tr>\n",
       "    <tr>\n",
       "      <th>14</th>\n",
       "      <td>0.0</td>\n",
       "      <td>0.0</td>\n",
       "      <td>10000.0</td>\n",
       "      <td>0.0</td>\n",
       "      <td>8000.0</td>\n",
       "      <td>7000.0</td>\n",
       "      <td>0.0</td>\n",
       "      <td>0.0</td>\n",
       "      <td>0.0</td>\n",
       "      <td>3000.0</td>\n",
       "      <td>2000.0</td>\n",
       "      <td>9000.0</td>\n",
       "      <td>0.74</td>\n",
       "    </tr>\n",
       "    <tr>\n",
       "      <th>15</th>\n",
       "      <td>0.0</td>\n",
       "      <td>0.0</td>\n",
       "      <td>10000.0</td>\n",
       "      <td>0.0</td>\n",
       "      <td>8000.0</td>\n",
       "      <td>7000.0</td>\n",
       "      <td>0.0</td>\n",
       "      <td>0.0</td>\n",
       "      <td>0.0</td>\n",
       "      <td>3000.0</td>\n",
       "      <td>2000.0</td>\n",
       "      <td>9000.0</td>\n",
       "      <td>0.75</td>\n",
       "    </tr>\n",
       "    <tr>\n",
       "      <th>16</th>\n",
       "      <td>0.0</td>\n",
       "      <td>0.0</td>\n",
       "      <td>10000.0</td>\n",
       "      <td>0.0</td>\n",
       "      <td>8000.0</td>\n",
       "      <td>7000.0</td>\n",
       "      <td>0.0</td>\n",
       "      <td>0.0</td>\n",
       "      <td>0.0</td>\n",
       "      <td>3000.0</td>\n",
       "      <td>2000.0</td>\n",
       "      <td>9000.0</td>\n",
       "      <td>0.76</td>\n",
       "    </tr>\n",
       "    <tr>\n",
       "      <th>17</th>\n",
       "      <td>0.0</td>\n",
       "      <td>0.0</td>\n",
       "      <td>10000.0</td>\n",
       "      <td>0.0</td>\n",
       "      <td>8000.0</td>\n",
       "      <td>7000.0</td>\n",
       "      <td>0.0</td>\n",
       "      <td>0.0</td>\n",
       "      <td>0.0</td>\n",
       "      <td>3000.0</td>\n",
       "      <td>2000.0</td>\n",
       "      <td>9000.0</td>\n",
       "      <td>0.77</td>\n",
       "    </tr>\n",
       "    <tr>\n",
       "      <th>18</th>\n",
       "      <td>0.0</td>\n",
       "      <td>0.0</td>\n",
       "      <td>10000.0</td>\n",
       "      <td>0.0</td>\n",
       "      <td>8000.0</td>\n",
       "      <td>7000.0</td>\n",
       "      <td>0.0</td>\n",
       "      <td>0.0</td>\n",
       "      <td>0.0</td>\n",
       "      <td>3000.0</td>\n",
       "      <td>2000.0</td>\n",
       "      <td>9000.0</td>\n",
       "      <td>0.78</td>\n",
       "    </tr>\n",
       "    <tr>\n",
       "      <th>19</th>\n",
       "      <td>0.0</td>\n",
       "      <td>0.0</td>\n",
       "      <td>10000.0</td>\n",
       "      <td>0.0</td>\n",
       "      <td>8000.0</td>\n",
       "      <td>7000.0</td>\n",
       "      <td>0.0</td>\n",
       "      <td>0.0</td>\n",
       "      <td>0.0</td>\n",
       "      <td>3000.0</td>\n",
       "      <td>2000.0</td>\n",
       "      <td>9000.0</td>\n",
       "      <td>0.79</td>\n",
       "    </tr>\n",
       "  </tbody>\n",
       "</table>\n",
       "</div>"
      ],
      "text/plain": [
       "    M-A  M-B      M-C  M-D     P-A      P-B     P-C  P-D     T-A     T-B  \\\n",
       "0   0.0  0.0  10000.0  0.0  3000.0  10000.0  2000.0  0.0  5000.0     0.0   \n",
       "1   0.0  0.0  10000.0  0.0  3000.0  10000.0  2000.0  0.0  5000.0     0.0   \n",
       "2   0.0  0.0  10000.0  0.0  3000.0  10000.0  2000.0  0.0  5000.0     0.0   \n",
       "3   0.0  0.0  10000.0  0.0  3000.0  10000.0  2000.0  0.0  5000.0     0.0   \n",
       "4   0.0  0.0  10000.0  0.0  5000.0  10000.0     0.0  0.0  3000.0     0.0   \n",
       "5   0.0  0.0  10000.0  0.0  5000.0  10000.0     0.0  0.0  3000.0     0.0   \n",
       "6   0.0  0.0  10000.0  0.0  5000.0  10000.0     0.0  0.0  3000.0     0.0   \n",
       "7   0.0  0.0  10000.0  0.0  5000.0  10000.0     0.0  0.0  3000.0     0.0   \n",
       "8   0.0  0.0  10000.0  0.0  5000.0  10000.0     0.0  0.0  3000.0     0.0   \n",
       "9   0.0  0.0  10000.0  0.0  5000.0  10000.0     0.0  0.0  3000.0     0.0   \n",
       "10  0.0  0.0  10000.0  0.0  5000.0  10000.0     0.0  0.0  3000.0     0.0   \n",
       "11  0.0  0.0  10000.0  0.0  5000.0  10000.0     0.0  0.0  3000.0     0.0   \n",
       "12  0.0  0.0  10000.0  0.0  5000.0  10000.0     0.0  0.0  3000.0     0.0   \n",
       "13  0.0  0.0  10000.0  0.0  5000.0  10000.0     0.0  0.0  3000.0     0.0   \n",
       "14  0.0  0.0  10000.0  0.0  8000.0   7000.0     0.0  0.0     0.0  3000.0   \n",
       "15  0.0  0.0  10000.0  0.0  8000.0   7000.0     0.0  0.0     0.0  3000.0   \n",
       "16  0.0  0.0  10000.0  0.0  8000.0   7000.0     0.0  0.0     0.0  3000.0   \n",
       "17  0.0  0.0  10000.0  0.0  8000.0   7000.0     0.0  0.0     0.0  3000.0   \n",
       "18  0.0  0.0  10000.0  0.0  8000.0   7000.0     0.0  0.0     0.0  3000.0   \n",
       "19  0.0  0.0  10000.0  0.0  8000.0   7000.0     0.0  0.0     0.0  3000.0   \n",
       "\n",
       "       T-C     T-D  Costs  \n",
       "0      0.0  9000.0   0.60  \n",
       "1      0.0  9000.0   0.61  \n",
       "2      0.0  9000.0   0.62  \n",
       "3      0.0  9000.0   0.63  \n",
       "4   2000.0  9000.0   0.64  \n",
       "5   2000.0  9000.0   0.65  \n",
       "6   2000.0  9000.0   0.66  \n",
       "7   2000.0  9000.0   0.67  \n",
       "8   2000.0  9000.0   0.68  \n",
       "9   2000.0  9000.0   0.69  \n",
       "10  2000.0  9000.0   0.70  \n",
       "11  2000.0  9000.0   0.71  \n",
       "12  2000.0  9000.0   0.72  \n",
       "13  2000.0  9000.0   0.73  \n",
       "14  2000.0  9000.0   0.74  \n",
       "15  2000.0  9000.0   0.75  \n",
       "16  2000.0  9000.0   0.76  \n",
       "17  2000.0  9000.0   0.77  \n",
       "18  2000.0  9000.0   0.78  \n",
       "19  2000.0  9000.0   0.79  "
      ]
     },
     "execution_count": 49,
     "metadata": {},
     "output_type": "execute_result"
    }
   ],
   "source": [
    "DV_col_names = ['M-A', 'M-B', 'M-C', 'M-D', 'P-A', 'P-B', 'P-C', 'P-D', 'T-A', 'T-B', 'T-C', 'T-D']\n",
    "DV_df_ta = pd.DataFrame(DV_list_ta,\n",
    "                        columns = DV_col_names)\n",
    "DV_df_ta['Costs'] = tuc_atl_costs\n",
    "DV_df_ta"
   ]
  },
  {
   "cell_type": "markdown",
   "metadata": {},
   "source": [
    "We'll finish looking at this data by creating a line plot to monitor the changes in the optimal DV over the different Tucson-Atlanta cost changes. So - this kinda works but we have too\n",
    "many decision variables it is hard to follow the colors."
   ]
  },
  {
   "cell_type": "code",
   "execution_count": 50,
   "metadata": {},
   "outputs": [
    {
     "data": {
      "text/html": [
       "<div>\n",
       "<style scoped>\n",
       "    .dataframe tbody tr th:only-of-type {\n",
       "        vertical-align: middle;\n",
       "    }\n",
       "\n",
       "    .dataframe tbody tr th {\n",
       "        vertical-align: top;\n",
       "    }\n",
       "\n",
       "    .dataframe thead th {\n",
       "        text-align: right;\n",
       "    }\n",
       "</style>\n",
       "<table border=\"1\" class=\"dataframe\">\n",
       "  <thead>\n",
       "    <tr style=\"text-align: right;\">\n",
       "      <th></th>\n",
       "      <th>Costs</th>\n",
       "      <th>variable</th>\n",
       "      <th>value</th>\n",
       "    </tr>\n",
       "  </thead>\n",
       "  <tbody>\n",
       "    <tr>\n",
       "      <th>0</th>\n",
       "      <td>0.60</td>\n",
       "      <td>M-A</td>\n",
       "      <td>0.0</td>\n",
       "    </tr>\n",
       "    <tr>\n",
       "      <th>1</th>\n",
       "      <td>0.61</td>\n",
       "      <td>M-A</td>\n",
       "      <td>0.0</td>\n",
       "    </tr>\n",
       "    <tr>\n",
       "      <th>2</th>\n",
       "      <td>0.62</td>\n",
       "      <td>M-A</td>\n",
       "      <td>0.0</td>\n",
       "    </tr>\n",
       "    <tr>\n",
       "      <th>3</th>\n",
       "      <td>0.63</td>\n",
       "      <td>M-A</td>\n",
       "      <td>0.0</td>\n",
       "    </tr>\n",
       "    <tr>\n",
       "      <th>4</th>\n",
       "      <td>0.64</td>\n",
       "      <td>M-A</td>\n",
       "      <td>0.0</td>\n",
       "    </tr>\n",
       "    <tr>\n",
       "      <th>...</th>\n",
       "      <td>...</td>\n",
       "      <td>...</td>\n",
       "      <td>...</td>\n",
       "    </tr>\n",
       "    <tr>\n",
       "      <th>235</th>\n",
       "      <td>0.75</td>\n",
       "      <td>T-D</td>\n",
       "      <td>9000.0</td>\n",
       "    </tr>\n",
       "    <tr>\n",
       "      <th>236</th>\n",
       "      <td>0.76</td>\n",
       "      <td>T-D</td>\n",
       "      <td>9000.0</td>\n",
       "    </tr>\n",
       "    <tr>\n",
       "      <th>237</th>\n",
       "      <td>0.77</td>\n",
       "      <td>T-D</td>\n",
       "      <td>9000.0</td>\n",
       "    </tr>\n",
       "    <tr>\n",
       "      <th>238</th>\n",
       "      <td>0.78</td>\n",
       "      <td>T-D</td>\n",
       "      <td>9000.0</td>\n",
       "    </tr>\n",
       "    <tr>\n",
       "      <th>239</th>\n",
       "      <td>0.79</td>\n",
       "      <td>T-D</td>\n",
       "      <td>9000.0</td>\n",
       "    </tr>\n",
       "  </tbody>\n",
       "</table>\n",
       "<p>240 rows × 3 columns</p>\n",
       "</div>"
      ],
      "text/plain": [
       "     Costs variable   value\n",
       "0     0.60      M-A     0.0\n",
       "1     0.61      M-A     0.0\n",
       "2     0.62      M-A     0.0\n",
       "3     0.63      M-A     0.0\n",
       "4     0.64      M-A     0.0\n",
       "..     ...      ...     ...\n",
       "235   0.75      T-D  9000.0\n",
       "236   0.76      T-D  9000.0\n",
       "237   0.77      T-D  9000.0\n",
       "238   0.78      T-D  9000.0\n",
       "239   0.79      T-D  9000.0\n",
       "\n",
       "[240 rows x 3 columns]"
      ]
     },
     "execution_count": 50,
     "metadata": {},
     "output_type": "execute_result"
    }
   ],
   "source": [
    "df = pd.melt(DV_df_ta, 'Costs')\n",
    "df"
   ]
  },
  {
   "cell_type": "code",
   "execution_count": 51,
   "metadata": {},
   "outputs": [
    {
     "data": {
      "image/png": "[encoded data removed]",
      "text/plain": [
       "<Figure size 576x360 with 1 Axes>"
      ]
     },
     "metadata": {
      "needs_background": "light"
     },
     "output_type": "display_data"
    }
   ],
   "source": [
    "plt.figure(figsize=(8, 5))\n",
    "sns.lineplot(x = 'Costs', y = 'value', hue = 'variable', palette = sns.color_palette(\"Paired\"),\n",
    "             data = df)\n",
    "plt.grid()\n",
    "plt.title('Change in Decision Variables by Tucson to Atlanta Cost')\n",
    "plt.ylabel('units sent along each route')\n",
    "plt.legend(title = \"route\")\n",
    "plt.axvline(x = .65, color = \"black\")\n",
    "plt.show()"
   ]
  },
  {
   "cell_type": "markdown",
   "metadata": {},
   "source": [
    "For our final version, let's create a plot for each Plant's Decision Variables. Remember we stored the (Plant, Warehouse) pairs for the Decision Variables in the list `DV_col_names`. I will pull out just the ones that are needed for the specific Plant. For example, here we see the Tucson pairs."
   ]
  },
  {
   "cell_type": "code",
   "execution_count": 52,
   "metadata": {},
   "outputs": [
    {
     "data": {
      "text/plain": [
       "0      M\n",
       "1      M\n",
       "2      M\n",
       "3      M\n",
       "4      M\n",
       "      ..\n",
       "235    T\n",
       "236    T\n",
       "237    T\n",
       "238    T\n",
       "239    T\n",
       "Name: variable, Length: 240, dtype: object"
      ]
     },
     "execution_count": 52,
     "metadata": {},
     "output_type": "execute_result"
    }
   ],
   "source": [
    "df['variable'].str[:1]"
   ]
  },
  {
   "cell_type": "code",
   "execution_count": 53,
   "metadata": {},
   "outputs": [
    {
     "data": {
      "text/html": [
       "<div>\n",
       "<style scoped>\n",
       "    .dataframe tbody tr th:only-of-type {\n",
       "        vertical-align: middle;\n",
       "    }\n",
       "\n",
       "    .dataframe tbody tr th {\n",
       "        vertical-align: top;\n",
       "    }\n",
       "\n",
       "    .dataframe thead th {\n",
       "        text-align: right;\n",
       "    }\n",
       "</style>\n",
       "<table border=\"1\" class=\"dataframe\">\n",
       "  <thead>\n",
       "    <tr style=\"text-align: right;\">\n",
       "      <th></th>\n",
       "      <th>Costs</th>\n",
       "      <th>variable</th>\n",
       "      <th>value</th>\n",
       "      <th>plants</th>\n",
       "    </tr>\n",
       "  </thead>\n",
       "  <tbody>\n",
       "    <tr>\n",
       "      <th>0</th>\n",
       "      <td>0.60</td>\n",
       "      <td>M-A</td>\n",
       "      <td>0.0</td>\n",
       "      <td>M</td>\n",
       "    </tr>\n",
       "    <tr>\n",
       "      <th>1</th>\n",
       "      <td>0.61</td>\n",
       "      <td>M-A</td>\n",
       "      <td>0.0</td>\n",
       "      <td>M</td>\n",
       "    </tr>\n",
       "    <tr>\n",
       "      <th>2</th>\n",
       "      <td>0.62</td>\n",
       "      <td>M-A</td>\n",
       "      <td>0.0</td>\n",
       "      <td>M</td>\n",
       "    </tr>\n",
       "    <tr>\n",
       "      <th>3</th>\n",
       "      <td>0.63</td>\n",
       "      <td>M-A</td>\n",
       "      <td>0.0</td>\n",
       "      <td>M</td>\n",
       "    </tr>\n",
       "    <tr>\n",
       "      <th>4</th>\n",
       "      <td>0.64</td>\n",
       "      <td>M-A</td>\n",
       "      <td>0.0</td>\n",
       "      <td>M</td>\n",
       "    </tr>\n",
       "    <tr>\n",
       "      <th>...</th>\n",
       "      <td>...</td>\n",
       "      <td>...</td>\n",
       "      <td>...</td>\n",
       "      <td>...</td>\n",
       "    </tr>\n",
       "    <tr>\n",
       "      <th>235</th>\n",
       "      <td>0.75</td>\n",
       "      <td>T-D</td>\n",
       "      <td>9000.0</td>\n",
       "      <td>T</td>\n",
       "    </tr>\n",
       "    <tr>\n",
       "      <th>236</th>\n",
       "      <td>0.76</td>\n",
       "      <td>T-D</td>\n",
       "      <td>9000.0</td>\n",
       "      <td>T</td>\n",
       "    </tr>\n",
       "    <tr>\n",
       "      <th>237</th>\n",
       "      <td>0.77</td>\n",
       "      <td>T-D</td>\n",
       "      <td>9000.0</td>\n",
       "      <td>T</td>\n",
       "    </tr>\n",
       "    <tr>\n",
       "      <th>238</th>\n",
       "      <td>0.78</td>\n",
       "      <td>T-D</td>\n",
       "      <td>9000.0</td>\n",
       "      <td>T</td>\n",
       "    </tr>\n",
       "    <tr>\n",
       "      <th>239</th>\n",
       "      <td>0.79</td>\n",
       "      <td>T-D</td>\n",
       "      <td>9000.0</td>\n",
       "      <td>T</td>\n",
       "    </tr>\n",
       "  </tbody>\n",
       "</table>\n",
       "<p>240 rows × 4 columns</p>\n",
       "</div>"
      ],
      "text/plain": [
       "     Costs variable   value plants\n",
       "0     0.60      M-A     0.0      M\n",
       "1     0.61      M-A     0.0      M\n",
       "2     0.62      M-A     0.0      M\n",
       "3     0.63      M-A     0.0      M\n",
       "4     0.64      M-A     0.0      M\n",
       "..     ...      ...     ...    ...\n",
       "235   0.75      T-D  9000.0      T\n",
       "236   0.76      T-D  9000.0      T\n",
       "237   0.77      T-D  9000.0      T\n",
       "238   0.78      T-D  9000.0      T\n",
       "239   0.79      T-D  9000.0      T\n",
       "\n",
       "[240 rows x 4 columns]"
      ]
     },
     "execution_count": 53,
     "metadata": {},
     "output_type": "execute_result"
    }
   ],
   "source": [
    "df['plants'] = df['variable'].str[:1]\n",
    "df"
   ]
  },
  {
   "cell_type": "code",
   "execution_count": 56,
   "metadata": {},
   "outputs": [
    {
     "data": {
      "image/png": "[encoded data removed]",
      "text/plain": [
       "<Figure size 596x648 with 3 Axes>"
      ]
     },
     "metadata": {
      "needs_background": "light"
     },
     "output_type": "display_data"
    }
   ],
   "source": [
    "sns.set_style({'axes.grid' : True, 'axes.edgecolor' : 'black'})\n",
    "facet_plot = sns.FacetGrid(data = df, row = 'plants', hue = 'variable', height = 3, aspect = 2.5)\n",
    "facet_plot.map(sns.lineplot, 'Costs', 'value').add_legend()\n",
    "facet_plot.fig.subplots_adjust(top = 0.9)\n",
    "facet_plot.fig.suptitle('Change in Decision Variables by Tucson to Atlanta Cost')\n",
    "plt.show()"
   ]
  },
  {
   "cell_type": "markdown",
   "metadata": {},
   "source": [
    "From this plot and the table of values, we can see that reducing the cost on the (T,A) Tucson to Atlanta route from the original .65, we see more shipments on this route for the lower costs at .63 or below and the change seems to come from (P,A) PIT-ALT route. We can fix the overlapping labels later - but I'm going to leave it for now."
   ]
  },
  {
   "cell_type": "code",
   "execution_count": null,
   "metadata": {},
   "outputs": [],
   "source": [
    "print('python')"
   ]
  }
 ],
 "metadata": {
  "kernelspec": {
   "display_name": "info-3440",
   "language": "python",
   "name": "info-3440"
  },
  "language_info": {
   "codemirror_mode": {
    "name": "ipython",
    "version": 3
   },
   "file_extension": ".py",
   "mimetype": "text/x-python",
   "name": "python",
   "nbconvert_exporter": "python",
   "pygments_lexer": "ipython3",
   "version": "3.8.12"
  }
 },
 "nbformat": 4,
 "nbformat_minor": 4
}
