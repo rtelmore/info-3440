{
 "cells": [
  {
   "cell_type": "markdown",
   "metadata": {},
   "source": [
    "# Table of Contents<a id=\"Top\"></a>\n",
    "\n",
    "1. [Problem Statement](#1)<br>\n",
    "2. [Sensitivity Analysis](#5)<br>\n",
    "    2.1 [TUC - BOS](#5.2)<br>"
   ]
  },
  {
   "cell_type": "markdown",
   "metadata": {},
   "source": [
    "# 1. Problem Statement<a id=1></a>"
   ]
  },
  {
   "cell_type": "markdown",
   "metadata": {},
   "source": [
    "In this problem, we will consider a sensitivity analysis related to Tucson to Boston. Specifically, let's examine how changes in the cost per unit coefficient changes certain aspects of this optimization problem. This will be similar to the work that we did in class related to the Tucson to Atlanta route."
   ]
  },
  {
   "cell_type": "markdown",
   "metadata": {},
   "source": [
    "If you have the figure `problem.png` in the same folder as this .ipynb, you can see the picture that uses this code: `![Table of Data](problem.png)`"
   ]
  },
  {
   "cell_type": "markdown",
   "metadata": {},
   "source": [
    "![Table of Data](problem.png)"
   ]
  },
  {
   "cell_type": "markdown",
   "metadata": {},
   "source": [
    "##### [Back to Top](#Top)"
   ]
  },
  {
   "cell_type": "markdown",
   "metadata": {},
   "source": [
    "# 2. Data<a id=2></a>"
   ]
  },
  {
   "cell_type": "code",
   "execution_count": null,
   "metadata": {},
   "outputs": [],
   "source": [
    "import pandas as pd \n",
    "import pyomo.environ as pe\n",
    "import matplotlib.pyplot as plt\n",
    "import seaborn as sns"
   ]
  },
  {
   "cell_type": "markdown",
   "metadata": {},
   "source": [
    "### Read and convert data"
   ]
  },
  {
   "cell_type": "code",
   "execution_count": null,
   "metadata": {},
   "outputs": [],
   "source": [
    "xlsx_file = pd.ExcelFile('w05-c02-transportation.xlsx')\n",
    "xlsx_file.sheet_names"
   ]
  },
  {
   "cell_type": "markdown",
   "metadata": {},
   "source": [
    "Show the tab and shift-tab tricks. "
   ]
  },
  {
   "cell_type": "code",
   "execution_count": null,
   "metadata": {},
   "outputs": [],
   "source": [
    "cost = pd.read_excel(xlsx_file, sheet_name = 'coef', index_col = 0)\n",
    "cost"
   ]
  },
  {
   "cell_type": "code",
   "execution_count": null,
   "metadata": {},
   "outputs": [],
   "source": [
    "demand = pd.read_excel(xlsx_file, sheet_name = 'rhs', index_col = 0, usecols = [0,1])\n",
    "capacity = pd.read_excel(xlsx_file, sheet_name = 'rhs', index_col = 0, \n",
    "                         usecols = [3,4], nrows = 3)"
   ]
  },
  {
   "cell_type": "code",
   "execution_count": null,
   "metadata": {},
   "outputs": [],
   "source": [
    "demand"
   ]
  },
  {
   "cell_type": "code",
   "execution_count": null,
   "metadata": {},
   "outputs": [],
   "source": [
    "capacity"
   ]
  },
  {
   "cell_type": "markdown",
   "metadata": {},
   "source": [
    "##### [Back to Top](#Top)"
   ]
  },
  {
   "cell_type": "markdown",
   "metadata": {},
   "source": [
    "# 3. Model Definition<a id=3><a>"
   ]
  },
  {
   "cell_type": "code",
   "execution_count": null,
   "metadata": {},
   "outputs": [],
   "source": [
    "model = pe.ConcreteModel()"
   ]
  },
  {
   "cell_type": "markdown",
   "metadata": {},
   "source": [
    "### Define Decision Variables"
   ]
  },
  {
   "cell_type": "markdown",
   "metadata": {},
   "source": [
    "We will create three plant variables with individual indexes for the four warehouses. "
   ]
  },
  {
   "cell_type": "code",
   "execution_count": null,
   "metadata": {},
   "outputs": [],
   "source": [
    "DV_indexes = ['ATL', 'BOS', 'CHI', 'DEN']\n",
    "model.MIN = pe.Var(DV_indexes, domain = pe.NonNegativeReals)\n",
    "model.PIT = pe.Var(DV_indexes, domain = pe.NonNegativeReals)\n",
    "model.TUC = pe.Var(DV_indexes, domain = pe.NonNegativeReals)\n",
    "model.pprint()"
   ]
  },
  {
   "cell_type": "markdown",
   "metadata": {},
   "source": [
    "### Define Objective Function"
   ]
  },
  {
   "cell_type": "markdown",
   "metadata": {},
   "source": [
    "Here we need to create a formula for all 12 decision variables. We loop through the warehouse indexes for each plant."
   ]
  },
  {
   "cell_type": "code",
   "execution_count": null,
   "metadata": {},
   "outputs": [],
   "source": [
    "model.obj = pe.Objective(expr = sum([cost.loc['MIN', index]*model.MIN[index] for index in DV_indexes] +\n",
    "                         [cost.loc['PIT', index]*model.PIT[index] for index in DV_indexes] +\n",
    "                         [cost.loc['TUC', index]*model.TUC[index] for index in DV_indexes]),\n",
    "                         sense = pe.minimize)"
   ]
  },
  {
   "cell_type": "code",
   "execution_count": null,
   "metadata": {},
   "outputs": [],
   "source": [
    "model.obj.pprint()"
   ]
  },
  {
   "cell_type": "markdown",
   "metadata": {},
   "source": [
    "### Define Constraints"
   ]
  },
  {
   "cell_type": "markdown",
   "metadata": {},
   "source": [
    "We finish defining the model by defining both the capacity and demand constraints."
   ]
  },
  {
   "cell_type": "code",
   "execution_count": null,
   "metadata": {},
   "outputs": [],
   "source": [
    "#Capacity Constraints\n",
    "model.con_MIN = pe.Constraint(expr = sum(model.MIN[index] for index in DV_indexes) \n",
    "                              <= capacity.loc['MIN','Capacity'])\n",
    "model.con_PIT = pe.Constraint(expr = sum(model.PIT[index] for index in DV_indexes)\n",
    "                              <= capacity.loc['PIT','Capacity'])\n",
    "model.con_TUC = pe.Constraint(expr = sum(model.TUC[index] for index in DV_indexes)\n",
    "                              <= capacity.loc['TUC','Capacity'])   \n",
    "#Demand Constraints\n",
    "model.con_ATL = pe.Constraint(expr = model.MIN['ATL'] + model.PIT['ATL']+ \n",
    "                              model.TUC['ATL'] >= demand.loc['ATL','Requirement'])\n",
    "model.con_BOS = pe.Constraint(expr = model.MIN['BOS'] + model.PIT['BOS']+ \n",
    "                              model.TUC['BOS'] >= demand.loc['BOS','Requirement'])\n",
    "model.con_CHI = pe.Constraint(expr = model.MIN['CHI'] + model.PIT['CHI']+ \n",
    "                              model.TUC['CHI'] >= demand.loc['CHI','Requirement'])\n",
    "model.con_DEN = pe.Constraint(expr = model.MIN['DEN'] + model.PIT['DEN']+ \n",
    "                              model.TUC['DEN'] >= demand.loc['DEN','Requirement'])"
   ]
  },
  {
   "cell_type": "code",
   "execution_count": null,
   "metadata": {},
   "outputs": [],
   "source": [
    "model.con_MIN.pprint()"
   ]
  },
  {
   "cell_type": "markdown",
   "metadata": {},
   "source": [
    "##### [Back to Top](#Top)"
   ]
  },
  {
   "cell_type": "markdown",
   "metadata": {},
   "source": [
    "# 4. Model Solution<a id=4></a>"
   ]
  },
  {
   "cell_type": "code",
   "execution_count": null,
   "metadata": {},
   "outputs": [],
   "source": [
    "opt = pe.SolverFactory('glpk')\n",
    "result = opt.solve(model)\n",
    "print(result.solver.status, result.solver.termination_condition)"
   ]
  },
  {
   "cell_type": "markdown",
   "metadata": {},
   "source": [
    "And here we show the final values for the model shown in the constraints as `Body`.\n",
    "Note we can see the final values for our demand and capacity constraints. All of our lhs values are at the bounds so are binding constraints except for capacity constraint 3 which had a final value of 14,000 but the capacity is 15,000 so it had a slack of 1,000 units."
   ]
  },
  {
   "cell_type": "code",
   "execution_count": null,
   "metadata": {},
   "outputs": [],
   "source": [
    "model.display()"
   ]
  },
  {
   "cell_type": "markdown",
   "metadata": {},
   "source": [
    "The above shows us all the information all at once. Let's pull out the optimal minimum cost and the final value of the decision variables."
   ]
  },
  {
   "cell_type": "markdown",
   "metadata": {},
   "source": [
    "#### Optimal Objective Value"
   ]
  },
  {
   "cell_type": "code",
   "execution_count": null,
   "metadata": {},
   "outputs": [],
   "source": [
    "obj_val = model.obj.expr()\n",
    "print(f'optimal objective value minimum cost = ${obj_val:.2f}')"
   ]
  },
  {
   "cell_type": "markdown",
   "metadata": {},
   "source": [
    "#### Optimal Decision Variables"
   ]
  },
  {
   "cell_type": "markdown",
   "metadata": {},
   "source": [
    "In order to capture the results, we have to use new code to reference the 3 variable names - `model.component_objects(pe.Var)` and each set of indexes. We can use looping to pull out the values. "
   ]
  },
  {
   "cell_type": "code",
   "execution_count": null,
   "metadata": {},
   "outputs": [],
   "source": [
    "for DV in model.component_objects(pe.Var):\n",
    "    print(DV)\n",
    "    for var in DV:\n",
    "        print(\" \", var, DV[var].value)"
   ]
  },
  {
   "cell_type": "markdown",
   "metadata": {},
   "source": [
    "Let's do create a `pd.DataFrame` to store the results of our solution. "
   ]
  },
  {
   "cell_type": "code",
   "execution_count": null,
   "metadata": {},
   "outputs": [],
   "source": [
    "DV_solution = pd.DataFrame()\n",
    "for DV in model.component_objects(pe.Var):\n",
    "    for var in DV:\n",
    "        DV_solution.loc[DV.name, var] = DV[var].value\n",
    "DV_solution"
   ]
  },
  {
   "cell_type": "markdown",
   "metadata": {},
   "source": [
    "Here we create a plot of the Decision Variables solution."
   ]
  },
  {
   "cell_type": "markdown",
   "metadata": {},
   "source": [
    "# 5. Sensitivity Analysis<a id=5></a>"
   ]
  },
  {
   "cell_type": "markdown",
   "metadata": {},
   "source": [
    "Define a new function `run_model()` to obtain values."
   ]
  },
  {
   "cell_type": "code",
   "execution_count": null,
   "metadata": {},
   "outputs": [],
   "source": [
    "def run_model():\n",
    "    #Once we solve the model we return the model object so we can get the optimal obj function value\n",
    "    return model"
   ]
  },
  {
   "cell_type": "markdown",
   "metadata": {},
   "source": [
    "## 5.1 TUC-BOS<a id=5.1></a>"
   ]
  },
  {
   "cell_type": "markdown",
   "metadata": {},
   "source": [
    "Here is the original cost table just to remind us."
   ]
  },
  {
   "cell_type": "code",
   "execution_count": null,
   "metadata": {},
   "outputs": [],
   "source": [
    "cost"
   ]
  },
  {
   "cell_type": "markdown",
   "metadata": {},
   "source": [
    "First we'll loop through all the costs from shipping from Tucson to Boston, re-solve the model, and capture the objective function optimal values. Create a sequence from 0.5 to 0.7 in increments of 0.1."
   ]
  },
  {
   "cell_type": "code",
   "execution_count": null,
   "metadata": {},
   "outputs": [],
   "source": [
    "tuc_bos_costs = []\n",
    "tuc_bos_costs"
   ]
  },
  {
   "cell_type": "code",
   "execution_count": null,
   "metadata": {},
   "outputs": [],
   "source": [
    "obj_list_tb = []\n",
    "for val in tuc_bos_costs:\n",
    "    #This single line updates the cost table\n",
    "    #This reruns the model using our function\n",
    "obj_list_tb"
   ]
  },
  {
   "cell_type": "markdown",
   "metadata": {},
   "source": [
    "Let's make it look nicer and easier to see what is going on by storing the results in a dataframe changing the index to be the costs."
   ]
  },
  {
   "cell_type": "code",
   "execution_count": null,
   "metadata": {},
   "outputs": [],
   "source": [
    "obj_df_tb = pd.DataFrame(obj_list_tb, \n",
    "                         index = tuc_bos_costs, \n",
    "                         columns = ['cost'])\n",
    "obj_df_tb"
   ]
  },
  {
   "cell_type": "markdown",
   "metadata": {},
   "source": [
    "Plot the results using Seaborn"
   ]
  },
  {
   "cell_type": "code",
   "execution_count": null,
   "metadata": {},
   "outputs": [],
   "source": [
    "zip_list = \n",
    "zip_list"
   ]
  },
  {
   "cell_type": "code",
   "execution_count": null,
   "metadata": {},
   "outputs": [],
   "source": [
    "df = pd.DataFrame(zip_list, columns = ['TUC2BOS', 'Cost'])\n",
    "df"
   ]
  },
  {
   "cell_type": "code",
   "execution_count": null,
   "metadata": {},
   "outputs": [],
   "source": [
    "plt.figure(figsize=(8,5))\n",
    "plt.show()"
   ]
  },
  {
   "cell_type": "markdown",
   "metadata": {},
   "source": [
    "# Create the line plots"
   ]
  },
  {
   "cell_type": "markdown",
   "metadata": {},
   "source": [
    "So what about the Decision variables? There are 12 for each model solution, we need to capture them a slightly different way. We'll put each solution in a list and then make a list of lists."
   ]
  },
  {
   "cell_type": "code",
   "execution_count": null,
   "metadata": {},
   "outputs": [],
   "source": [
    "DV_list_tb=[]\n",
    "for val in tuc_bos_costs:\n",
    "    \n",
    "print(DV_list_tb)"
   ]
  },
  {
   "cell_type": "markdown",
   "metadata": {},
   "source": [
    "Again, let's format this so it is easy to read."
   ]
  },
  {
   "cell_type": "code",
   "execution_count": null,
   "metadata": {},
   "outputs": [],
   "source": [
    "DV_col_names=['M,A','M,B','M,C','M,D','P,A','P,B','P,C','P,D', 'T,A','T,B','T,C','T,D']\n",
    "DV_df_tb"
   ]
  },
  {
   "cell_type": "markdown",
   "metadata": {},
   "source": [
    "We'll finish looking at this data by creating a line plot to monitor the changes in the optimal DV over the different Tucson-Boston cost changes. So - this kinda works but we have too\n",
    "many decision variables it is hard to follow the colors."
   ]
  },
  {
   "cell_type": "code",
   "execution_count": null,
   "metadata": {},
   "outputs": [],
   "source": [
    "plt.figure(figsize=(8,5))\n",
    "lt.show()"
   ]
  },
  {
   "cell_type": "markdown",
   "metadata": {},
   "source": [
    "For our final version, let's create a plot for each Plant's Decision Variables. Remember we stored the Plant,Warehouse pairs for the Decision Variables in the list `DV_col_names`. Create the line plots showing the change in objective function for changes in the shipment costs associated with the Tucson to Boston route that we defined above. Make a plot showing all lines on the same figure and another showing the change in costs facetted.  "
   ]
  },
  {
   "cell_type": "code",
   "execution_count": null,
   "metadata": {},
   "outputs": [],
   "source": [
    "df = pd.melt(DV_df_tb, 'Costs')\n",
    "df"
   ]
  },
  {
   "cell_type": "code",
   "execution_count": null,
   "metadata": {},
   "outputs": [],
   "source": [
    "plt.figure(figsize=(8,5))\n",
    "plt.show()"
   ]
  },
  {
   "cell_type": "code",
   "execution_count": null,
   "metadata": {},
   "outputs": [],
   "source": [
    "df['plants'] = df['variable'].str[:1]\n",
    "df"
   ]
  },
  {
   "cell_type": "code",
   "execution_count": null,
   "metadata": {},
   "outputs": [],
   "source": [
    "sns.set_style({'axes.grid' : True,'axes.edgecolor':'black'})\n",
    "plt.show()"
   ]
  },
  {
   "cell_type": "code",
   "execution_count": null,
   "metadata": {},
   "outputs": [],
   "source": []
  }
 ],
 "metadata": {
  "kernelspec": {
   "display_name": "info-3440",
   "language": "python",
   "name": "info-3440"
  },
  "language_info": {
   "codemirror_mode": {
    "name": "ipython",
    "version": 3
   },
   "file_extension": ".py",
   "mimetype": "text/x-python",
   "name": "python",
   "nbconvert_exporter": "python",
   "pygments_lexer": "ipython3",
   "version": "3.8.12"
  }
 },
 "nbformat": 4,
 "nbformat_minor": 4
}
