{
 "cells": [
  {
   "cell_type": "markdown",
   "metadata": {},
   "source": [
    "# Week Seven Class Two: Fixed Cost Example 7.2"
   ]
  },
  {
   "cell_type": "markdown",
   "metadata": {},
   "source": [
    "# Table of Contents<a id=\"Top\"></a>\n",
    "\n",
    "1. [Problem Statement](#1)<br>\n",
    "2. [Data](#2) <br>\n",
    "3. [Model Definition](#3)<br>\n",
    "4. [Model Solution](#4)<br>"
   ]
  },
  {
   "cell_type": "markdown",
   "metadata": {},
   "source": [
    "## 1. Problem Statement"
   ]
  },
  {
   "cell_type": "markdown",
   "metadata": {},
   "source": [
    "Here we will solve the problem from example 7.2 in the textbook showing the hours required for 3 machines, the 3 potential product families to invest, a fixed sales cost, and a demand ceiling for each product, and a variable profit per unit. The data are in `w07-c02-linking-cons.xlsx`."
   ]
  },
  {
   "cell_type": "markdown",
   "metadata": {},
   "source": [
    "##### [Back to Top](#Top)"
   ]
  },
  {
   "cell_type": "markdown",
   "metadata": {},
   "source": [
    "## 2. Data"
   ]
  },
  {
   "cell_type": "code",
   "execution_count": 1,
   "metadata": {},
   "outputs": [],
   "source": [
    "import pandas as pd\n",
    "import pyomo.environ as pe\n",
    "import matplotlib.pyplot as plt\n",
    "import seaborn as sns"
   ]
  },
  {
   "cell_type": "code",
   "execution_count": 2,
   "metadata": {},
   "outputs": [
    {
     "data": {
      "text/html": [
       "<div>\n",
       "<style scoped>\n",
       "    .dataframe tbody tr th:only-of-type {\n",
       "        vertical-align: middle;\n",
       "    }\n",
       "\n",
       "    .dataframe tbody tr th {\n",
       "        vertical-align: top;\n",
       "    }\n",
       "\n",
       "    .dataframe thead th {\n",
       "        text-align: right;\n",
       "    }\n",
       "</style>\n",
       "<table border=\"1\" class=\"dataframe\">\n",
       "  <thead>\n",
       "    <tr style=\"text-align: right;\">\n",
       "      <th></th>\n",
       "      <th>Data</th>\n",
       "      <th>Unnamed: 1</th>\n",
       "      <th>Unnamed: 2</th>\n",
       "      <th>Unnamed: 3</th>\n",
       "      <th>Unnamed: 4</th>\n",
       "      <th>Unnamed: 5</th>\n",
       "      <th>Unnamed: 6</th>\n",
       "      <th>Unnamed: 7</th>\n",
       "    </tr>\n",
       "  </thead>\n",
       "  <tbody>\n",
       "    <tr>\n",
       "      <th>0</th>\n",
       "      <td>NaN</td>\n",
       "      <td>NaN</td>\n",
       "      <td>NaN</td>\n",
       "      <td>NaN</td>\n",
       "      <td>NaN</td>\n",
       "      <td>NaN</td>\n",
       "      <td>NaN</td>\n",
       "      <td>NaN</td>\n",
       "    </tr>\n",
       "    <tr>\n",
       "      <th>1</th>\n",
       "      <td>NaN</td>\n",
       "      <td>Hours Required/1000 Units</td>\n",
       "      <td>F1</td>\n",
       "      <td>F2</td>\n",
       "      <td>F3</td>\n",
       "      <td>Hours Available</td>\n",
       "      <td>NaN</td>\n",
       "      <td>NaN</td>\n",
       "    </tr>\n",
       "    <tr>\n",
       "      <th>2</th>\n",
       "      <td>NaN</td>\n",
       "      <td>Dept A</td>\n",
       "      <td>3</td>\n",
       "      <td>4</td>\n",
       "      <td>8</td>\n",
       "      <td>2000</td>\n",
       "      <td>NaN</td>\n",
       "      <td>NaN</td>\n",
       "    </tr>\n",
       "    <tr>\n",
       "      <th>3</th>\n",
       "      <td>NaN</td>\n",
       "      <td>Dept B</td>\n",
       "      <td>3</td>\n",
       "      <td>5</td>\n",
       "      <td>6</td>\n",
       "      <td>2000</td>\n",
       "      <td>NaN</td>\n",
       "      <td>NaN</td>\n",
       "    </tr>\n",
       "    <tr>\n",
       "      <th>4</th>\n",
       "      <td>NaN</td>\n",
       "      <td>Dept C</td>\n",
       "      <td>2</td>\n",
       "      <td>3</td>\n",
       "      <td>9</td>\n",
       "      <td>2000</td>\n",
       "      <td>NaN</td>\n",
       "      <td>NaN</td>\n",
       "    </tr>\n",
       "    <tr>\n",
       "      <th>5</th>\n",
       "      <td>NaN</td>\n",
       "      <td>Demand ceiling (000s)</td>\n",
       "      <td>300</td>\n",
       "      <td>200</td>\n",
       "      <td>50</td>\n",
       "      <td>NaN</td>\n",
       "      <td>NaN</td>\n",
       "      <td>NaN</td>\n",
       "    </tr>\n",
       "    <tr>\n",
       "      <th>6</th>\n",
       "      <td>NaN</td>\n",
       "      <td>Profit/unit ($)</td>\n",
       "      <td>1.2</td>\n",
       "      <td>1.8</td>\n",
       "      <td>2.2</td>\n",
       "      <td>NaN</td>\n",
       "      <td>NaN</td>\n",
       "      <td>NaN</td>\n",
       "    </tr>\n",
       "    <tr>\n",
       "      <th>7</th>\n",
       "      <td>NaN</td>\n",
       "      <td>Sales cost ($000)</td>\n",
       "      <td>60</td>\n",
       "      <td>200</td>\n",
       "      <td>100</td>\n",
       "      <td>NaN</td>\n",
       "      <td>NaN</td>\n",
       "      <td>NaN</td>\n",
       "    </tr>\n",
       "    <tr>\n",
       "      <th>8</th>\n",
       "      <td>NaN</td>\n",
       "      <td>NaN</td>\n",
       "      <td>NaN</td>\n",
       "      <td>NaN</td>\n",
       "      <td>NaN</td>\n",
       "      <td>NaN</td>\n",
       "      <td>NaN</td>\n",
       "      <td>NaN</td>\n",
       "    </tr>\n",
       "    <tr>\n",
       "      <th>9</th>\n",
       "      <td>Decisions</td>\n",
       "      <td>NaN</td>\n",
       "      <td>F1</td>\n",
       "      <td>F2</td>\n",
       "      <td>F3</td>\n",
       "      <td>NaN</td>\n",
       "      <td>NaN</td>\n",
       "      <td>NaN</td>\n",
       "    </tr>\n",
       "    <tr>\n",
       "      <th>10</th>\n",
       "      <td>NaN</td>\n",
       "      <td>Production quantities</td>\n",
       "      <td>1</td>\n",
       "      <td>1</td>\n",
       "      <td>1</td>\n",
       "      <td>NaN</td>\n",
       "      <td>NaN</td>\n",
       "      <td>NaN</td>\n",
       "    </tr>\n",
       "    <tr>\n",
       "      <th>11</th>\n",
       "      <td>NaN</td>\n",
       "      <td>y -Include product family? (0/1)</td>\n",
       "      <td>1</td>\n",
       "      <td>1</td>\n",
       "      <td>1</td>\n",
       "      <td>NaN</td>\n",
       "      <td>NaN</td>\n",
       "      <td>NaN</td>\n",
       "    </tr>\n",
       "    <tr>\n",
       "      <th>12</th>\n",
       "      <td>NaN</td>\n",
       "      <td>NaN</td>\n",
       "      <td>NaN</td>\n",
       "      <td>NaN</td>\n",
       "      <td>NaN</td>\n",
       "      <td>NaN</td>\n",
       "      <td>NaN</td>\n",
       "      <td>NaN</td>\n",
       "    </tr>\n",
       "    <tr>\n",
       "      <th>13</th>\n",
       "      <td>NaN</td>\n",
       "      <td>NaN</td>\n",
       "      <td>NaN</td>\n",
       "      <td>NaN</td>\n",
       "      <td>NaN</td>\n",
       "      <td>NaN</td>\n",
       "      <td>NaN</td>\n",
       "      <td>NaN</td>\n",
       "    </tr>\n",
       "    <tr>\n",
       "      <th>14</th>\n",
       "      <td>Objective</td>\n",
       "      <td>Maximize profit</td>\n",
       "      <td>Fixed</td>\n",
       "      <td>NaN</td>\n",
       "      <td>NaN</td>\n",
       "      <td>NaN</td>\n",
       "      <td>NaN</td>\n",
       "      <td>NaN</td>\n",
       "    </tr>\n",
       "    <tr>\n",
       "      <th>15</th>\n",
       "      <td>NaN</td>\n",
       "      <td>NaN</td>\n",
       "      <td>Variable</td>\n",
       "      <td>NaN</td>\n",
       "      <td>NaN</td>\n",
       "      <td>NaN</td>\n",
       "      <td>NaN</td>\n",
       "      <td>NaN</td>\n",
       "    </tr>\n",
       "    <tr>\n",
       "      <th>16</th>\n",
       "      <td>NaN</td>\n",
       "      <td>NaN</td>\n",
       "      <td>Total</td>\n",
       "      <td>NaN</td>\n",
       "      <td>NaN</td>\n",
       "      <td>NaN</td>\n",
       "      <td>NaN</td>\n",
       "      <td>NaN</td>\n",
       "    </tr>\n",
       "    <tr>\n",
       "      <th>17</th>\n",
       "      <td>NaN</td>\n",
       "      <td>NaN</td>\n",
       "      <td>NaN</td>\n",
       "      <td>NaN</td>\n",
       "      <td>NaN</td>\n",
       "      <td>NaN</td>\n",
       "      <td>NaN</td>\n",
       "      <td>NaN</td>\n",
       "    </tr>\n",
       "    <tr>\n",
       "      <th>18</th>\n",
       "      <td>NaN</td>\n",
       "      <td>NaN</td>\n",
       "      <td>NaN</td>\n",
       "      <td>NaN</td>\n",
       "      <td>NaN</td>\n",
       "      <td>NaN</td>\n",
       "      <td>NaN</td>\n",
       "      <td>NaN</td>\n",
       "    </tr>\n",
       "    <tr>\n",
       "      <th>19</th>\n",
       "      <td>Constraints</td>\n",
       "      <td>NaN</td>\n",
       "      <td>F1</td>\n",
       "      <td>F2</td>\n",
       "      <td>F3</td>\n",
       "      <td>LHS</td>\n",
       "      <td>Eq/InEq</td>\n",
       "      <td>RHS</td>\n",
       "    </tr>\n",
       "    <tr>\n",
       "      <th>20</th>\n",
       "      <td>NaN</td>\n",
       "      <td>Dept A</td>\n",
       "      <td>3</td>\n",
       "      <td>4</td>\n",
       "      <td>8</td>\n",
       "      <td>NaN</td>\n",
       "      <td>&lt;=</td>\n",
       "      <td>2000</td>\n",
       "    </tr>\n",
       "    <tr>\n",
       "      <th>21</th>\n",
       "      <td>NaN</td>\n",
       "      <td>Dept B</td>\n",
       "      <td>3</td>\n",
       "      <td>5</td>\n",
       "      <td>6</td>\n",
       "      <td>NaN</td>\n",
       "      <td>&lt;=</td>\n",
       "      <td>2000</td>\n",
       "    </tr>\n",
       "    <tr>\n",
       "      <th>22</th>\n",
       "      <td>NaN</td>\n",
       "      <td>Dept C</td>\n",
       "      <td>2</td>\n",
       "      <td>3</td>\n",
       "      <td>9</td>\n",
       "      <td>NaN</td>\n",
       "      <td>&lt;=</td>\n",
       "      <td>2000</td>\n",
       "    </tr>\n",
       "    <tr>\n",
       "      <th>23</th>\n",
       "      <td>NaN</td>\n",
       "      <td>Linking F1:  x1 &lt;=My1</td>\n",
       "      <td>1</td>\n",
       "      <td>NaN</td>\n",
       "      <td>NaN</td>\n",
       "      <td>NaN</td>\n",
       "      <td>&lt;=</td>\n",
       "      <td>NaN</td>\n",
       "    </tr>\n",
       "    <tr>\n",
       "      <th>24</th>\n",
       "      <td>NaN</td>\n",
       "      <td>Linking F2:   x2 &lt;=My2</td>\n",
       "      <td>NaN</td>\n",
       "      <td>1</td>\n",
       "      <td>NaN</td>\n",
       "      <td>NaN</td>\n",
       "      <td>&lt;=</td>\n",
       "      <td>NaN</td>\n",
       "    </tr>\n",
       "    <tr>\n",
       "      <th>25</th>\n",
       "      <td>NaN</td>\n",
       "      <td>Linking F3:  x3 &lt;=My3</td>\n",
       "      <td>NaN</td>\n",
       "      <td>NaN</td>\n",
       "      <td>1</td>\n",
       "      <td>NaN</td>\n",
       "      <td>&lt;=</td>\n",
       "      <td>NaN</td>\n",
       "    </tr>\n",
       "  </tbody>\n",
       "</table>\n",
       "</div>"
      ],
      "text/plain": [
       "           Data                        Unnamed: 1 Unnamed: 2 Unnamed: 3  \\\n",
       "0           NaN                               NaN        NaN        NaN   \n",
       "1           NaN         Hours Required/1000 Units         F1         F2   \n",
       "2           NaN                            Dept A          3          4   \n",
       "3           NaN                            Dept B          3          5   \n",
       "4           NaN                            Dept C          2          3   \n",
       "5           NaN             Demand ceiling (000s)        300        200   \n",
       "6           NaN                   Profit/unit ($)        1.2        1.8   \n",
       "7           NaN                 Sales cost ($000)         60        200   \n",
       "8           NaN                               NaN        NaN        NaN   \n",
       "9     Decisions                               NaN         F1         F2   \n",
       "10          NaN             Production quantities          1          1   \n",
       "11          NaN  y -Include product family? (0/1)          1          1   \n",
       "12          NaN                               NaN        NaN        NaN   \n",
       "13          NaN                               NaN        NaN        NaN   \n",
       "14    Objective                   Maximize profit      Fixed        NaN   \n",
       "15          NaN                               NaN   Variable        NaN   \n",
       "16          NaN                               NaN      Total        NaN   \n",
       "17          NaN                               NaN        NaN        NaN   \n",
       "18          NaN                               NaN        NaN        NaN   \n",
       "19  Constraints                               NaN         F1         F2   \n",
       "20          NaN                            Dept A          3          4   \n",
       "21          NaN                            Dept B          3          5   \n",
       "22          NaN                            Dept C          2          3   \n",
       "23          NaN             Linking F1:  x1 <=My1          1        NaN   \n",
       "24          NaN            Linking F2:   x2 <=My2        NaN          1   \n",
       "25          NaN             Linking F3:  x3 <=My3        NaN        NaN   \n",
       "\n",
       "   Unnamed: 4       Unnamed: 5 Unnamed: 6 Unnamed: 7  \n",
       "0         NaN              NaN        NaN        NaN  \n",
       "1          F3  Hours Available        NaN        NaN  \n",
       "2           8             2000        NaN        NaN  \n",
       "3           6             2000        NaN        NaN  \n",
       "4           9             2000        NaN        NaN  \n",
       "5          50              NaN        NaN        NaN  \n",
       "6         2.2              NaN        NaN        NaN  \n",
       "7         100              NaN        NaN        NaN  \n",
       "8         NaN              NaN        NaN        NaN  \n",
       "9          F3              NaN        NaN        NaN  \n",
       "10          1              NaN        NaN        NaN  \n",
       "11          1              NaN        NaN        NaN  \n",
       "12        NaN              NaN        NaN        NaN  \n",
       "13        NaN              NaN        NaN        NaN  \n",
       "14        NaN              NaN        NaN        NaN  \n",
       "15        NaN              NaN        NaN        NaN  \n",
       "16        NaN              NaN        NaN        NaN  \n",
       "17        NaN              NaN        NaN        NaN  \n",
       "18        NaN              NaN        NaN        NaN  \n",
       "19         F3              LHS    Eq/InEq        RHS  \n",
       "20          8              NaN         <=       2000  \n",
       "21          6              NaN         <=       2000  \n",
       "22          9              NaN         <=       2000  \n",
       "23        NaN              NaN         <=        NaN  \n",
       "24        NaN              NaN         <=        NaN  \n",
       "25          1              NaN         <=        NaN  "
      ]
     },
     "execution_count": 2,
     "metadata": {},
     "output_type": "execute_result"
    }
   ],
   "source": [
    "raw_data = pd.read_excel('w07-c02-linking-cons.xlsx', sheet_name = 'Example 7.2')\n",
    "raw_data"
   ]
  },
  {
   "cell_type": "markdown",
   "metadata": {},
   "source": [
    "First we will capture the coefficients which will the the price per unit, the sales fixed cost, and the hours for each department needed for each product family."
   ]
  },
  {
   "cell_type": "code",
   "execution_count": 3,
   "metadata": {},
   "outputs": [
    {
     "data": {
      "text/html": [
       "<div>\n",
       "<style scoped>\n",
       "    .dataframe tbody tr th:only-of-type {\n",
       "        vertical-align: middle;\n",
       "    }\n",
       "\n",
       "    .dataframe tbody tr th {\n",
       "        vertical-align: top;\n",
       "    }\n",
       "\n",
       "    .dataframe thead th {\n",
       "        text-align: right;\n",
       "    }\n",
       "</style>\n",
       "<table border=\"1\" class=\"dataframe\">\n",
       "  <thead>\n",
       "    <tr style=\"text-align: right;\">\n",
       "      <th></th>\n",
       "      <th>F1</th>\n",
       "      <th>F2</th>\n",
       "      <th>F3</th>\n",
       "    </tr>\n",
       "  </thead>\n",
       "  <tbody>\n",
       "    <tr>\n",
       "      <th>price</th>\n",
       "      <td>1.2</td>\n",
       "      <td>1.8</td>\n",
       "      <td>2.2</td>\n",
       "    </tr>\n",
       "    <tr>\n",
       "      <th>cost</th>\n",
       "      <td>60</td>\n",
       "      <td>200</td>\n",
       "      <td>100</td>\n",
       "    </tr>\n",
       "    <tr>\n",
       "      <th>DeptA</th>\n",
       "      <td>3</td>\n",
       "      <td>4</td>\n",
       "      <td>8</td>\n",
       "    </tr>\n",
       "    <tr>\n",
       "      <th>DeptB</th>\n",
       "      <td>3</td>\n",
       "      <td>5</td>\n",
       "      <td>6</td>\n",
       "    </tr>\n",
       "    <tr>\n",
       "      <th>DeptC</th>\n",
       "      <td>2</td>\n",
       "      <td>3</td>\n",
       "      <td>9</td>\n",
       "    </tr>\n",
       "  </tbody>\n",
       "</table>\n",
       "</div>"
      ],
      "text/plain": [
       "        F1   F2   F3\n",
       "price  1.2  1.8  2.2\n",
       "cost    60  200  100\n",
       "DeptA    3    4    8\n",
       "DeptB    3    5    6\n",
       "DeptC    2    3    9"
      ]
     },
     "execution_count": 3,
     "metadata": {},
     "output_type": "execute_result"
    }
   ],
   "source": [
    "DV_indexes = ['F1', 'F2', 'F3']\n",
    "coef = pd.DataFrame(raw_data.iloc[[6, 7, 2, 3, 4], [2, 3, 4]])\n",
    "coef.index = ['price', 'cost', 'DeptA', 'DeptB', 'DeptC']\n",
    "coef.columns = DV_indexes\n",
    "coef"
   ]
  },
  {
   "cell_type": "markdown",
   "metadata": {},
   "source": [
    "The next tables will give us our max values for our constraints - we have hours capacity for each department and we have a set demand for each product family."
   ]
  },
  {
   "cell_type": "code",
   "execution_count": 4,
   "metadata": {},
   "outputs": [
    {
     "data": {
      "text/html": [
       "<div>\n",
       "<style scoped>\n",
       "    .dataframe tbody tr th:only-of-type {\n",
       "        vertical-align: middle;\n",
       "    }\n",
       "\n",
       "    .dataframe tbody tr th {\n",
       "        vertical-align: top;\n",
       "    }\n",
       "\n",
       "    .dataframe thead th {\n",
       "        text-align: right;\n",
       "    }\n",
       "</style>\n",
       "<table border=\"1\" class=\"dataframe\">\n",
       "  <thead>\n",
       "    <tr style=\"text-align: right;\">\n",
       "      <th></th>\n",
       "      <th>hours</th>\n",
       "    </tr>\n",
       "  </thead>\n",
       "  <tbody>\n",
       "    <tr>\n",
       "      <th>DeptA</th>\n",
       "      <td>2000</td>\n",
       "    </tr>\n",
       "    <tr>\n",
       "      <th>DeptB</th>\n",
       "      <td>2000</td>\n",
       "    </tr>\n",
       "    <tr>\n",
       "      <th>DeptC</th>\n",
       "      <td>2000</td>\n",
       "    </tr>\n",
       "  </tbody>\n",
       "</table>\n",
       "</div>"
      ],
      "text/plain": [
       "      hours\n",
       "DeptA  2000\n",
       "DeptB  2000\n",
       "DeptC  2000"
      ]
     },
     "execution_count": 4,
     "metadata": {},
     "output_type": "execute_result"
    }
   ],
   "source": [
    "hours = pd.DataFrame(raw_data.iloc[2:5, 5])\n",
    "hours.columns = ['hours']\n",
    "hours.index = coef.index[2:]\n",
    "hours"
   ]
  },
  {
   "cell_type": "code",
   "execution_count": 5,
   "metadata": {},
   "outputs": [
    {
     "data": {
      "text/html": [
       "<div>\n",
       "<style scoped>\n",
       "    .dataframe tbody tr th:only-of-type {\n",
       "        vertical-align: middle;\n",
       "    }\n",
       "\n",
       "    .dataframe tbody tr th {\n",
       "        vertical-align: top;\n",
       "    }\n",
       "\n",
       "    .dataframe thead th {\n",
       "        text-align: right;\n",
       "    }\n",
       "</style>\n",
       "<table border=\"1\" class=\"dataframe\">\n",
       "  <thead>\n",
       "    <tr style=\"text-align: right;\">\n",
       "      <th></th>\n",
       "      <th>demand</th>\n",
       "    </tr>\n",
       "  </thead>\n",
       "  <tbody>\n",
       "    <tr>\n",
       "      <th>F1</th>\n",
       "      <td>300.0</td>\n",
       "    </tr>\n",
       "    <tr>\n",
       "      <th>F2</th>\n",
       "      <td>200.0</td>\n",
       "    </tr>\n",
       "    <tr>\n",
       "      <th>F3</th>\n",
       "      <td>50.0</td>\n",
       "    </tr>\n",
       "  </tbody>\n",
       "</table>\n",
       "</div>"
      ],
      "text/plain": [
       "    demand\n",
       "F1   300.0\n",
       "F2   200.0\n",
       "F3    50.0"
      ]
     },
     "execution_count": 5,
     "metadata": {},
     "output_type": "execute_result"
    }
   ],
   "source": [
    "demand = pd.DataFrame()\n",
    "demand.loc['F1','demand'] = raw_data.iloc[5, 2]\n",
    "demand.loc['F2','demand'] = raw_data.iloc[5, 3]\n",
    "demand.loc['F3','demand'] = raw_data.iloc[5, 4]\n",
    "\n",
    "demand"
   ]
  },
  {
   "cell_type": "markdown",
   "metadata": {},
   "source": [
    "##### [Back to Top](#Top)"
   ]
  },
  {
   "cell_type": "markdown",
   "metadata": {},
   "source": [
    "## 3. Model Definition"
   ]
  },
  {
   "cell_type": "markdown",
   "metadata": {},
   "source": [
    "Now let's solve the model."
   ]
  },
  {
   "cell_type": "code",
   "execution_count": 6,
   "metadata": {},
   "outputs": [],
   "source": [
    "model = pe.ConcreteModel()"
   ]
  },
  {
   "cell_type": "markdown",
   "metadata": {},
   "source": [
    "### Define Decision Variables"
   ]
  },
  {
   "cell_type": "markdown",
   "metadata": {},
   "source": [
    "__NOTE:__ for this model you have 2 sets of decision variables: (1) `F` variables will cover the 3 product families and (2) `y` are binary utilization variables used to create the fixed cost linking constraints."
   ]
  },
  {
   "cell_type": "code",
   "execution_count": 7,
   "metadata": {},
   "outputs": [
    {
     "name": "stdout",
     "output_type": "stream",
     "text": [
      "x : Size=3, Index=x_index\n",
      "    Key : Lower : Value : Upper : Fixed : Stale : Domain\n",
      "     F1 :     0 :  None :  None : False :  True : NonNegativeReals\n",
      "     F2 :     0 :  None :  None : False :  True : NonNegativeReals\n",
      "     F3 :     0 :  None :  None : False :  True : NonNegativeReals\n",
      "y : Size=3, Index=y_index\n",
      "    Key : Lower : Value : Upper : Fixed : Stale : Domain\n",
      "     F1 :     0 :  None :     1 : False :  True : Binary\n",
      "     F2 :     0 :  None :     1 : False :  True : Binary\n",
      "     F3 :     0 :  None :     1 : False :  True : Binary\n"
     ]
    }
   ],
   "source": [
    "model.x = pe.Var(DV_indexes, domain = pe.NonNegativeReals)\n",
    "model.y = pe.Var(DV_indexes, domain = pe.Binary)\n",
    "model.x.pprint()\n",
    "model.y.pprint()"
   ]
  },
  {
   "cell_type": "markdown",
   "metadata": {},
   "source": [
    "### Define objective function"
   ]
  },
  {
   "cell_type": "markdown",
   "metadata": {},
   "source": [
    "Note that this will be the total profit which is calculated from the fixed price and variable sales costs. Make sure you see how these are calculated in the Excel sheet before you try to implement here."
   ]
  },
  {
   "cell_type": "code",
   "execution_count": 8,
   "metadata": {},
   "outputs": [
    {
     "name": "stdout",
     "output_type": "stream",
     "text": [
      "obj : Size=1, Index=None, Active=True\n",
      "    Key  : Active : Sense    : Expression\n",
      "    None :   True : maximize : 1.2*x[F1] + 1.8*x[F2] + 2.2*x[F3] - (60*y[F1] + 200*y[F2] + 100*y[F3])\n"
     ]
    }
   ],
   "source": [
    "#obj funct max price * x - cost * y\n",
    "model.obj = pe.Objective(expr = sum([coef.loc['price', index]*model.x[index] for index in DV_indexes])\n",
    "                         - sum([coef.loc['cost', index]*model.y[index] for index in DV_indexes]),\n",
    "                         sense = pe.maximize)\n",
    "model.obj.pprint()"
   ]
  },
  {
   "cell_type": "markdown",
   "metadata": {},
   "source": [
    "### Define Constraints"
   ]
  },
  {
   "cell_type": "code",
   "execution_count": 9,
   "metadata": {},
   "outputs": [],
   "source": [
    "#Hours Capacity Constraints\n",
    "model.DeptA = pe.Constraint(expr = sum([coef.loc['DeptA', index]*model.x[index] \n",
    "                                       for index in DV_indexes]) <= hours.loc['DeptA', 'hours'])\n",
    "model.DeptB = pe.Constraint(expr = sum([coef.loc['DeptB', index]*model.x[index] \n",
    "                                       for index in DV_indexes]) <= hours.loc['DeptB', 'hours'])\n",
    "model.DeptC = pe.Constraint(expr = sum([coef.loc['DeptC', index]*model.x[index] \n",
    "                                       for index in DV_indexes]) <= hours.loc['DeptC', 'hours'])\n",
    "#Demand and Linking Constraints\n",
    "model.LinkF1 = pe.Constraint(expr=model.x['F1'] <= demand.loc['F1', 'demand'] * model.y['F1'])\n",
    "model.LinkF2 = pe.Constraint(expr=model.x['F2'] <= demand.loc['F2', 'demand'] * model.y['F2'])\n",
    "model.LinkF3 = pe.Constraint(expr=model.x['F3'] <= demand.loc['F3', 'demand'] * model.y['F3'])"
   ]
  },
  {
   "cell_type": "code",
   "execution_count": 10,
   "metadata": {},
   "outputs": [
    {
     "name": "stdout",
     "output_type": "stream",
     "text": [
      "DeptA : Size=1, Index=None, Active=True\n",
      "    Key  : Lower : Body                        : Upper  : Active\n",
      "    None :  -Inf : 3*x[F1] + 4*x[F2] + 8*x[F3] : 2000.0 :   True\n",
      "DeptA None\n",
      "DeptB : Size=1, Index=None, Active=True\n",
      "    Key  : Lower : Body                        : Upper  : Active\n",
      "    None :  -Inf : 3*x[F1] + 5*x[F2] + 6*x[F3] : 2000.0 :   True\n",
      "DeptB None\n",
      "DeptC : Size=1, Index=None, Active=True\n",
      "    Key  : Lower : Body                        : Upper  : Active\n",
      "    None :  -Inf : 2*x[F1] + 3*x[F2] + 9*x[F3] : 2000.0 :   True\n",
      "DeptC None\n",
      "LinkF1 : Size=1, Index=None, Active=True\n",
      "    Key  : Lower : Body                : Upper : Active\n",
      "    None :  -Inf : x[F1] - 300.0*y[F1] :   0.0 :   True\n",
      "LinkF1 None\n",
      "LinkF2 : Size=1, Index=None, Active=True\n",
      "    Key  : Lower : Body                : Upper : Active\n",
      "    None :  -Inf : x[F2] - 200.0*y[F2] :   0.0 :   True\n",
      "LinkF2 None\n",
      "LinkF3 : Size=1, Index=None, Active=True\n",
      "    Key  : Lower : Body               : Upper : Active\n",
      "    None :  -Inf : x[F3] - 50.0*y[F3] :   0.0 :   True\n",
      "LinkF3 None\n"
     ]
    }
   ],
   "source": [
    "for con in model.component_objects(pe.Constraint):\n",
    "    print(con,con.pprint())"
   ]
  },
  {
   "cell_type": "markdown",
   "metadata": {},
   "source": [
    "##### [Back to Top](#Top)"
   ]
  },
  {
   "cell_type": "markdown",
   "metadata": {},
   "source": [
    "## 4. Model Solution"
   ]
  },
  {
   "cell_type": "code",
   "execution_count": 11,
   "metadata": {},
   "outputs": [
    {
     "name": "stdout",
     "output_type": "stream",
     "text": [
      "ok optimal\n"
     ]
    }
   ],
   "source": [
    "opt = pe.SolverFactory('glpk')\n",
    "result = opt.solve(model)\n",
    "print(result.solver.status, result.solver.termination_condition)"
   ]
  },
  {
   "cell_type": "markdown",
   "metadata": {},
   "source": [
    "### Optimal Objective Value"
   ]
  },
  {
   "cell_type": "code",
   "execution_count": 12,
   "metadata": {},
   "outputs": [
    {
     "name": "stdout",
     "output_type": "stream",
     "text": [
      "optimal objective value maximum profit = $460.00\n"
     ]
    }
   ],
   "source": [
    "obj_val = model.obj.expr()\n",
    "print(f'optimal objective value maximum profit = ${obj_val:.2f}')"
   ]
  },
  {
   "cell_type": "markdown",
   "metadata": {},
   "source": [
    "### Optimal Decision Variables"
   ]
  },
  {
   "cell_type": "code",
   "execution_count": 13,
   "metadata": {},
   "outputs": [
    {
     "data": {
      "text/html": [
       "<div>\n",
       "<style scoped>\n",
       "    .dataframe tbody tr th:only-of-type {\n",
       "        vertical-align: middle;\n",
       "    }\n",
       "\n",
       "    .dataframe tbody tr th {\n",
       "        vertical-align: top;\n",
       "    }\n",
       "\n",
       "    .dataframe thead th {\n",
       "        text-align: right;\n",
       "    }\n",
       "</style>\n",
       "<table border=\"1\" class=\"dataframe\">\n",
       "  <thead>\n",
       "    <tr style=\"text-align: right;\">\n",
       "      <th></th>\n",
       "      <th>F1</th>\n",
       "      <th>F2</th>\n",
       "      <th>F3</th>\n",
       "    </tr>\n",
       "  </thead>\n",
       "  <tbody>\n",
       "    <tr>\n",
       "      <th>x</th>\n",
       "      <td>300.0</td>\n",
       "      <td>200.0</td>\n",
       "      <td>0.0</td>\n",
       "    </tr>\n",
       "    <tr>\n",
       "      <th>y</th>\n",
       "      <td>1.0</td>\n",
       "      <td>1.0</td>\n",
       "      <td>0.0</td>\n",
       "    </tr>\n",
       "  </tbody>\n",
       "</table>\n",
       "</div>"
      ],
      "text/plain": [
       "      F1     F2   F3\n",
       "x  300.0  200.0  0.0\n",
       "y    1.0    1.0  0.0"
      ]
     },
     "execution_count": 13,
     "metadata": {},
     "output_type": "execute_result"
    }
   ],
   "source": [
    "DV_solution = pd.DataFrame()\n",
    "for DV in model.component_objects(pe.Var):\n",
    "    for var in DV:\n",
    "        DV_solution.loc[DV.name, var] = DV[var].value\n",
    "DV_solution"
   ]
  }
 ],
 "metadata": {
  "kernelspec": {
   "display_name": "info-3440",
   "language": "python",
   "name": "info-3440"
  },
  "language_info": {
   "codemirror_mode": {
    "name": "ipython",
    "version": 3
   },
   "file_extension": ".py",
   "mimetype": "text/x-python",
   "name": "python",
   "nbconvert_exporter": "python",
   "pygments_lexer": "ipython3",
   "version": "3.8.12"
  }
 },
 "nbformat": 4,
 "nbformat_minor": 4
}
